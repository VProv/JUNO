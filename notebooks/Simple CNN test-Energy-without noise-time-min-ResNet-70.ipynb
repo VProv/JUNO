{
 "cells": [
  {
   "cell_type": "code",
   "execution_count": 1,
   "metadata": {},
   "outputs": [],
   "source": [
    "# Preprocessing\n",
    "import pandas as pd\n",
    "import tables\n",
    "import time\n",
    "import numpy as np\n",
    "import gc\n",
    "from tqdm import tqdm_notebook\n",
    "from data_processing import get_data_2dprojection\n",
    "import os\n",
    "from sklearn.model_selection import train_test_split\n",
    "import tensorflow as tf"
   ]
  },
  {
   "cell_type": "code",
   "execution_count": 2,
   "metadata": {},
   "outputs": [],
   "source": [
    "os.environ[\"CUDA_DEVICE_ORDER\"]=\"PCI_BUS_ID\"\n",
    "os.environ[\"CUDA_VISIBLE_DEVICES\"]=\"1\""
   ]
  },
  {
   "cell_type": "code",
   "execution_count": 3,
   "metadata": {},
   "outputs": [],
   "source": [
    "from tensorflow.python.client import device_lib\n",
    "sess = tf.Session(config=tf.ConfigProto(log_device_placement=True))"
   ]
  },
  {
   "cell_type": "code",
   "execution_count": 4,
   "metadata": {},
   "outputs": [
    {
     "data": {
      "text/plain": [
       "[name: \"/device:CPU:0\"\n",
       " device_type: \"CPU\"\n",
       " memory_limit: 268435456\n",
       " locality {\n",
       " }\n",
       " incarnation: 15359983512893291425, name: \"/device:GPU:0\"\n",
       " device_type: \"GPU\"\n",
       " memory_limit: 8466068276\n",
       " locality {\n",
       "   bus_id: 1\n",
       "   links {\n",
       "   }\n",
       " }\n",
       " incarnation: 6413444848261054512\n",
       " physical_device_desc: \"device: 0, name: Tesla K80, pci bus id: 28a6:00:00.0, compute capability: 3.7\"]"
      ]
     },
     "execution_count": 4,
     "metadata": {},
     "output_type": "execute_result"
    }
   ],
   "source": [
    "device_lib.list_local_devices()"
   ]
  },
  {
   "cell_type": "code",
   "execution_count": 5,
   "metadata": {},
   "outputs": [
    {
     "data": {
      "text/plain": [
       "'1.10.0'"
      ]
     },
     "execution_count": 5,
     "metadata": {},
     "output_type": "execute_result"
    }
   ],
   "source": [
    "tf.__version__"
   ]
  },
  {
   "cell_type": "code",
   "execution_count": 6,
   "metadata": {},
   "outputs": [
    {
     "name": "stderr",
     "output_type": "stream",
     "text": [
      "Using TensorFlow backend.\n"
     ]
    },
    {
     "data": {
      "text/plain": [
       "['/job:localhost/replica:0/task:0/device:GPU:0']"
      ]
     },
     "execution_count": 6,
     "metadata": {},
     "output_type": "execute_result"
    }
   ],
   "source": [
    "import keras\n",
    "import keras.layers as L\n",
    "from keras.models import Sequential\n",
    "from keras import backend as K\n",
    "K.tensorflow_backend._get_available_gpus()"
   ]
  },
  {
   "cell_type": "code",
   "execution_count": 7,
   "metadata": {},
   "outputs": [],
   "source": [
    "from keras import layers\n",
    "from keras import models\n",
    "\n",
    "\n",
    "#\n",
    "# image dimensions\n",
    "#\n",
    "\n",
    "img_height = 150\n",
    "img_width = 150\n",
    "img_channels = 2\n",
    "\n",
    "#\n",
    "# network params\n",
    "#\n",
    "\n",
    "cardinality = 1\n",
    "\n",
    "\n",
    "def residual_network_tail(x):\n",
    "    \"\"\"\n",
    "    ResNeXt by default. For ResNet set `cardinality` = 1 above.\n",
    "    \n",
    "    \"\"\"\n",
    "    def add_common_layers(y):\n",
    "        y = layers.BatchNormalization()(y)\n",
    "        y = layers.LeakyReLU()(y)\n",
    "\n",
    "        return y\n",
    "\n",
    "    def grouped_convolution(y, nb_channels, _strides):\n",
    "        # when `cardinality` == 1 this is just a standard convolution\n",
    "        if cardinality == 1:\n",
    "            return layers.Conv2D(nb_channels, kernel_size=(3, 3), strides=_strides, padding='same')(y)\n",
    "        \n",
    "        assert not nb_channels % cardinality\n",
    "        _d = nb_channels // cardinality\n",
    "\n",
    "        # in a grouped convolution layer, input and output channels are divided into `cardinality` groups,\n",
    "        # and convolutions are separately performed within each group\n",
    "        groups = []\n",
    "        for j in range(cardinality):\n",
    "            group = layers.Lambda(lambda z: z[:, :, :, j * _d:j * _d + _d])(y)\n",
    "            groups.append(layers.Conv2D(_d, kernel_size=(3, 3), strides=_strides, padding='same')(group))\n",
    "            \n",
    "        # the grouped convolutional layer concatenates them as the outputs of the layer\n",
    "        y = layers.concatenate(groups)\n",
    "\n",
    "        return y\n",
    "\n",
    "    def residual_block(y, nb_channels_in, nb_channels_out, _strides=(1, 1), _project_shortcut=False):\n",
    "        \"\"\"\n",
    "        Our network consists of a stack of residual blocks. These blocks have the same topology,\n",
    "        and are subject to two simple rules:\n",
    "        - If producing spatial maps of the same size, the blocks share the same hyper-parameters (width and filter sizes).\n",
    "        - Each time the spatial map is down-sampled by a factor of 2, the width of the blocks is multiplied by a factor of 2.\n",
    "        \"\"\"\n",
    "        shortcut = y\n",
    "\n",
    "        # we modify the residual building block as a bottleneck design to make the network more economical\n",
    "        y = layers.Conv2D(nb_channels_in, kernel_size=(1, 1), strides=(1, 1), padding='same')(y)\n",
    "        y = add_common_layers(y)\n",
    "\n",
    "        # ResNeXt (identical to ResNet when `cardinality` == 1)\n",
    "        y = grouped_convolution(y, nb_channels_in, _strides=_strides)\n",
    "        y = add_common_layers(y)\n",
    "\n",
    "        y = layers.Conv2D(nb_channels_out, kernel_size=(1, 1), strides=(1, 1), padding='same')(y)\n",
    "        # batch normalization is employed after aggregating the transformations and before adding to the shortcut\n",
    "        y = layers.BatchNormalization()(y)\n",
    "\n",
    "        # identity shortcuts used directly when the input and output are of the same dimensions\n",
    "        if _project_shortcut or _strides != (1, 1):\n",
    "            # when the dimensions increase projection shortcut is used to match dimensions (done by 1×1 convolutions)\n",
    "            # when the shortcuts go across feature maps of two sizes, they are performed with a stride of 2\n",
    "            shortcut = layers.Conv2D(nb_channels_out, kernel_size=(1, 1), strides=_strides, padding='same')(shortcut)\n",
    "            shortcut = layers.BatchNormalization()(shortcut)\n",
    "\n",
    "        y = layers.add([shortcut, y])\n",
    "\n",
    "        # relu is performed right after each batch normalization,\n",
    "        # expect for the output of the block where relu is performed after the adding to the shortcut\n",
    "        y = layers.LeakyReLU()(y)\n",
    "\n",
    "        return y\n",
    "\n",
    "    # conv1\n",
    "    x = layers.Conv2D(64, kernel_size=(7, 7), strides=(2, 2), padding='same')(x)\n",
    "    x = add_common_layers(x)\n",
    "\n",
    "    # conv2\n",
    "    x = layers.MaxPool2D(pool_size=(3, 3), strides=(2, 2), padding='same')(x)\n",
    "    for i in range(3):\n",
    "        project_shortcut = True if i == 0 else False\n",
    "        x = residual_block(x, 128, 256, _project_shortcut=project_shortcut)\n",
    "\n",
    "    # conv3\n",
    "    for i in range(4):\n",
    "        # down-sampling is performed by conv3_1, conv4_1, and conv5_1 with a stride of 2\n",
    "        strides = (2, 2) if i == 0 else (1, 1)\n",
    "        x = residual_block(x, 256, 512, _strides=strides)\n",
    "\n",
    "    # conv4\n",
    "    for i in range(6):\n",
    "        strides = (2, 2) if i == 0 else (1, 1)\n",
    "        x = residual_block(x, 512, 1024, _strides=strides)\n",
    "\n",
    "    # conv5\n",
    "    #for i in range(3):\n",
    "    #    strides = (2, 2) if i == 0 else (1, 1)\n",
    "    #    x = residual_block(x, 1024, 2048, _strides=strides)\n",
    "\n",
    "    return x"
   ]
  },
  {
   "cell_type": "code",
   "execution_count": 9,
   "metadata": {},
   "outputs": [],
   "source": [
    "LTRAIN = '/mnt/iprovilkov/data_dir/npdata/'\n",
    "rg = np.arange(0,100000,15000)\n",
    "MAXR=17200"
   ]
  },
  {
   "cell_type": "code",
   "execution_count": 11,
   "metadata": {},
   "outputs": [],
   "source": [
    "#DATA_DIR = '/storage/home/vprov/JUNO/JUNO_students/data/'\n",
    "#TRAIN_DIR = '/srv/hd5/data/vprov/data/phase_1/train/'\n",
    "TRAIN_DIR = '~/data/data_dir/'\n",
    "tr_lpmt_hits = pd.read_hdf(TRAIN_DIR + 'lpmt_hits.h5', mode='r')\n",
    "tr_spmt_hits = pd.read_hdf(TRAIN_DIR + 'spmt_hits.h5', mode='r')\n",
    "tr_pos = pd.read_csv(TRAIN_DIR + 'lpmt_pos.csv') \n",
    "tr_spmt_pos = pd.read_csv(TRAIN_DIR + 'spmt_pos.csv') \n",
    "tr_true_info = pd.read_csv(TRAIN_DIR + 'true_info.csv')"
   ]
  },
  {
   "cell_type": "code",
   "execution_count": 13,
   "metadata": {},
   "outputs": [
    {
     "name": "stdout",
     "output_type": "stream",
     "text": [
      "Make projection\n",
      "Starting cycle...\n"
     ]
    },
    {
     "data": {
      "application/vnd.jupyter.widget-view+json": {
       "model_id": "2711bbbc14644d7fa51e883753a91baa",
       "version_major": 2,
       "version_minor": 0
      },
      "text/plain": [
       "HBox(children=(IntProgress(value=1, bar_style='info', max=1), HTML(value='')))"
      ]
     },
     "metadata": {},
     "output_type": "display_data"
    },
    {
     "name": "stdout",
     "output_type": "stream",
     "text": [
      "\n",
      "Make projection\n",
      "Starting cycle...\n"
     ]
    },
    {
     "data": {
      "application/vnd.jupyter.widget-view+json": {
       "model_id": "833e21ef0f3c4f2cb01fa97e500bdbc0",
       "version_major": 2,
       "version_minor": 0
      },
      "text/plain": [
       "HBox(children=(IntProgress(value=1, bar_style='info', max=1), HTML(value='')))"
      ]
     },
     "metadata": {},
     "output_type": "display_data"
    },
    {
     "name": "stdout",
     "output_type": "stream",
     "text": [
      "\n",
      "Make projection\n",
      "Starting cycle...\n"
     ]
    },
    {
     "data": {
      "application/vnd.jupyter.widget-view+json": {
       "model_id": "1922fc4d075b467daf4baa93b06d3ae2",
       "version_major": 2,
       "version_minor": 0
      },
      "text/plain": [
       "HBox(children=(IntProgress(value=1, bar_style='info', max=1), HTML(value='')))"
      ]
     },
     "metadata": {},
     "output_type": "display_data"
    },
    {
     "name": "stdout",
     "output_type": "stream",
     "text": [
      "\n",
      "Make projection\n",
      "Starting cycle...\n"
     ]
    },
    {
     "data": {
      "application/vnd.jupyter.widget-view+json": {
       "model_id": "d55ca644c4194596966f88df83088b47",
       "version_major": 2,
       "version_minor": 0
      },
      "text/plain": [
       "HBox(children=(IntProgress(value=1, bar_style='info', max=1), HTML(value='')))"
      ]
     },
     "metadata": {},
     "output_type": "display_data"
    },
    {
     "name": "stdout",
     "output_type": "stream",
     "text": [
      "\n",
      "Make projection\n",
      "Starting cycle...\n"
     ]
    },
    {
     "data": {
      "application/vnd.jupyter.widget-view+json": {
       "model_id": "fd7de065a06f46b1afa605061fabb970",
       "version_major": 2,
       "version_minor": 0
      },
      "text/plain": [
       "HBox(children=(IntProgress(value=1, bar_style='info', max=1), HTML(value='')))"
      ]
     },
     "metadata": {},
     "output_type": "display_data"
    },
    {
     "name": "stdout",
     "output_type": "stream",
     "text": [
      "\n",
      "Make projection\n",
      "Starting cycle...\n"
     ]
    },
    {
     "data": {
      "application/vnd.jupyter.widget-view+json": {
       "model_id": "c67ae0ddda104e8397027a6262348ce8",
       "version_major": 2,
       "version_minor": 0
      },
      "text/plain": [
       "HBox(children=(IntProgress(value=1, bar_style='info', max=1), HTML(value='')))"
      ]
     },
     "metadata": {},
     "output_type": "display_data"
    },
    {
     "name": "stdout",
     "output_type": "stream",
     "text": [
      "\n"
     ]
    }
   ],
   "source": [
    "for start, end  in zip(rg[:-1], rg[1:]):\n",
    "    data_lpmt, event_to_id = get_data_2dprojection(tr_lpmt_hits[(tr_lpmt_hits['event'] >= start) & (tr_lpmt_hits['event'] < end)\n",
    "                                                                & (tr_lpmt_hits['isDN'] == False)], \n",
    "                                                tr_spmt_hits[(tr_spmt_hits['event'] >= start) & (tr_spmt_hits['event'] < end) \n",
    "                                                            & (tr_spmt_hits['isDN'] == False)], \n",
    "                                                tr_pos, \n",
    "                                                tr_true_info[(tr_true_info.R<=MAXR) \n",
    "                                                             & (tr_true_info['evtID'] >= start) \n",
    "                                                             & (tr_true_info['evtID'] < end)],\n",
    "                                                edge_size=70,\n",
    "                                                use_spmt=False,\n",
    "                                                time='min')\n",
    "    np.save(LTRAIN + '1_' + str(start) + 'without_noise' + '_time_70', data_lpmt)"
   ]
  },
  {
   "cell_type": "code",
   "execution_count": null,
   "metadata": {},
   "outputs": [],
   "source": []
  },
  {
   "cell_type": "code",
   "execution_count": 51,
   "metadata": {},
   "outputs": [],
   "source": [
    "import matplotlib.pyplot as plt"
   ]
  },
  {
   "cell_type": "code",
   "execution_count": 19,
   "metadata": {},
   "outputs": [
    {
     "data": {
      "text/plain": [
       "<matplotlib.image.AxesImage at 0x7f7a6050c080>"
      ]
     },
     "execution_count": 19,
     "metadata": {},
     "output_type": "execute_result"
    },
    {
     "data": {
      "image/png": "[encoded data removed]",
      "text/plain": [
       "<Figure size 432x288 with 1 Axes>"
      ]
     },
     "metadata": {
      "needs_background": "light"
     },
     "output_type": "display_data"
    }
   ],
   "source": [
    "plt.imshow(data_lpmt[0][:,:,1])"
   ]
  },
  {
   "cell_type": "code",
   "execution_count": null,
   "metadata": {},
   "outputs": [],
   "source": []
  },
  {
   "cell_type": "code",
   "execution_count": 52,
   "metadata": {},
   "outputs": [],
   "source": [
    "from keras.layers import GlobalAveragePooling2D, Dense\n",
    "from keras.models import Model\n",
    "import keras.layers as L\n",
    "from keras.regularizers import l2\n",
    "from keras.optimizers import Adam\n",
    "from keras.engine.input_layer import Input"
   ]
  },
  {
   "cell_type": "code",
   "execution_count": 53,
   "metadata": {},
   "outputs": [],
   "source": [
    "EDGE_SIZE = 70"
   ]
  },
  {
   "cell_type": "code",
   "execution_count": 54,
   "metadata": {},
   "outputs": [],
   "source": [
    "inputs = Input(shape=(EDGE_SIZE+1,EDGE_SIZE+1,2))\n",
    "base_model = residual_network_tail(inputs)"
   ]
  },
  {
   "cell_type": "code",
   "execution_count": 55,
   "metadata": {},
   "outputs": [],
   "source": [
    "regularizer = l2(1e-2)"
   ]
  },
  {
   "cell_type": "code",
   "execution_count": 57,
   "metadata": {},
   "outputs": [],
   "source": [
    "x = GlobalAveragePooling2D()(base_model)\n",
    "# let's add a fully-connected layer\n",
    "x = L.Dropout(0.5)(x)\n",
    "x = Dense(1024, activation='elu', kernel_regularizer=regularizer)(x)\n",
    "x = L.Dropout(0.5)(x)\n",
    "x = Dense(1024, activation='elu', kernel_regularizer=regularizer)(x)\n",
    "# and a logistic layer -- let's say we have 200 classes\n",
    "predictions = Dense(1, kernel_regularizer=regularizer)(x)"
   ]
  },
  {
   "cell_type": "code",
   "execution_count": 58,
   "metadata": {},
   "outputs": [],
   "source": [
    "model = Model(inputs=inputs, outputs=predictions)"
   ]
  },
  {
   "cell_type": "code",
   "execution_count": 59,
   "metadata": {},
   "outputs": [
    {
     "data": {
      "text/plain": [
       "True"
      ]
     },
     "execution_count": 59,
     "metadata": {},
     "output_type": "execute_result"
    }
   ],
   "source": [
    "model.layers[70].trainable"
   ]
  },
  {
   "cell_type": "code",
   "execution_count": 61,
   "metadata": {},
   "outputs": [],
   "source": [
    "model.compile(optimizer=Adam(lr=4e-4, decay=5e-5), loss='mean_squared_error')"
   ]
  },
  {
   "cell_type": "code",
   "execution_count": 62,
   "metadata": {},
   "outputs": [
    {
     "name": "stdout",
     "output_type": "stream",
     "text": [
      "__________________________________________________________________________________________________\n",
      "Layer (type)                    Output Shape         Param #     Connected to                     \n",
      "==================================================================================================\n",
      "input_2 (InputLayer)            (None, 71, 71, 2)    0                                            \n",
      "__________________________________________________________________________________________________\n",
      "conv2d_44 (Conv2D)              (None, 36, 36, 64)   6336        input_2[0][0]                    \n",
      "__________________________________________________________________________________________________\n",
      "batch_normalization_44 (BatchNo (None, 36, 36, 64)   256         conv2d_44[0][0]                  \n",
      "__________________________________________________________________________________________________\n",
      "leaky_re_lu_41 (LeakyReLU)      (None, 36, 36, 64)   0           batch_normalization_44[0][0]     \n",
      "__________________________________________________________________________________________________\n",
      "max_pooling2d_2 (MaxPooling2D)  (None, 18, 18, 64)   0           leaky_re_lu_41[0][0]             \n",
      "__________________________________________________________________________________________________\n",
      "conv2d_45 (Conv2D)              (None, 18, 18, 128)  8320        max_pooling2d_2[0][0]            \n",
      "__________________________________________________________________________________________________\n",
      "batch_normalization_45 (BatchNo (None, 18, 18, 128)  512         conv2d_45[0][0]                  \n",
      "__________________________________________________________________________________________________\n",
      "leaky_re_lu_42 (LeakyReLU)      (None, 18, 18, 128)  0           batch_normalization_45[0][0]     \n",
      "__________________________________________________________________________________________________\n",
      "conv2d_46 (Conv2D)              (None, 18, 18, 128)  147584      leaky_re_lu_42[0][0]             \n",
      "__________________________________________________________________________________________________\n",
      "batch_normalization_46 (BatchNo (None, 18, 18, 128)  512         conv2d_46[0][0]                  \n",
      "__________________________________________________________________________________________________\n",
      "leaky_re_lu_43 (LeakyReLU)      (None, 18, 18, 128)  0           batch_normalization_46[0][0]     \n",
      "__________________________________________________________________________________________________\n",
      "conv2d_48 (Conv2D)              (None, 18, 18, 256)  16640       max_pooling2d_2[0][0]            \n",
      "__________________________________________________________________________________________________\n",
      "conv2d_47 (Conv2D)              (None, 18, 18, 256)  33024       leaky_re_lu_43[0][0]             \n",
      "__________________________________________________________________________________________________\n",
      "batch_normalization_48 (BatchNo (None, 18, 18, 256)  1024        conv2d_48[0][0]                  \n",
      "__________________________________________________________________________________________________\n",
      "batch_normalization_47 (BatchNo (None, 18, 18, 256)  1024        conv2d_47[0][0]                  \n",
      "__________________________________________________________________________________________________\n",
      "add_14 (Add)                    (None, 18, 18, 256)  0           batch_normalization_48[0][0]     \n",
      "                                                                 batch_normalization_47[0][0]     \n",
      "__________________________________________________________________________________________________\n",
      "leaky_re_lu_44 (LeakyReLU)      (None, 18, 18, 256)  0           add_14[0][0]                     \n",
      "__________________________________________________________________________________________________\n",
      "conv2d_49 (Conv2D)              (None, 18, 18, 128)  32896       leaky_re_lu_44[0][0]             \n",
      "__________________________________________________________________________________________________\n",
      "batch_normalization_49 (BatchNo (None, 18, 18, 128)  512         conv2d_49[0][0]                  \n",
      "__________________________________________________________________________________________________\n",
      "leaky_re_lu_45 (LeakyReLU)      (None, 18, 18, 128)  0           batch_normalization_49[0][0]     \n",
      "__________________________________________________________________________________________________\n",
      "conv2d_50 (Conv2D)              (None, 18, 18, 128)  147584      leaky_re_lu_45[0][0]             \n",
      "__________________________________________________________________________________________________\n",
      "batch_normalization_50 (BatchNo (None, 18, 18, 128)  512         conv2d_50[0][0]                  \n",
      "__________________________________________________________________________________________________\n",
      "leaky_re_lu_46 (LeakyReLU)      (None, 18, 18, 128)  0           batch_normalization_50[0][0]     \n",
      "__________________________________________________________________________________________________\n",
      "conv2d_51 (Conv2D)              (None, 18, 18, 256)  33024       leaky_re_lu_46[0][0]             \n",
      "__________________________________________________________________________________________________\n",
      "batch_normalization_51 (BatchNo (None, 18, 18, 256)  1024        conv2d_51[0][0]                  \n",
      "__________________________________________________________________________________________________\n",
      "add_15 (Add)                    (None, 18, 18, 256)  0           leaky_re_lu_44[0][0]             \n",
      "                                                                 batch_normalization_51[0][0]     \n",
      "__________________________________________________________________________________________________\n",
      "leaky_re_lu_47 (LeakyReLU)      (None, 18, 18, 256)  0           add_15[0][0]                     \n",
      "__________________________________________________________________________________________________\n",
      "conv2d_52 (Conv2D)              (None, 18, 18, 128)  32896       leaky_re_lu_47[0][0]             \n",
      "__________________________________________________________________________________________________\n",
      "batch_normalization_52 (BatchNo (None, 18, 18, 128)  512         conv2d_52[0][0]                  \n",
      "__________________________________________________________________________________________________\n",
      "leaky_re_lu_48 (LeakyReLU)      (None, 18, 18, 128)  0           batch_normalization_52[0][0]     \n",
      "__________________________________________________________________________________________________\n",
      "conv2d_53 (Conv2D)              (None, 18, 18, 128)  147584      leaky_re_lu_48[0][0]             \n",
      "__________________________________________________________________________________________________\n",
      "batch_normalization_53 (BatchNo (None, 18, 18, 128)  512         conv2d_53[0][0]                  \n",
      "__________________________________________________________________________________________________\n",
      "leaky_re_lu_49 (LeakyReLU)      (None, 18, 18, 128)  0           batch_normalization_53[0][0]     \n",
      "__________________________________________________________________________________________________\n",
      "conv2d_54 (Conv2D)              (None, 18, 18, 256)  33024       leaky_re_lu_49[0][0]             \n",
      "__________________________________________________________________________________________________\n",
      "batch_normalization_54 (BatchNo (None, 18, 18, 256)  1024        conv2d_54[0][0]                  \n",
      "__________________________________________________________________________________________________\n",
      "add_16 (Add)                    (None, 18, 18, 256)  0           leaky_re_lu_47[0][0]             \n",
      "                                                                 batch_normalization_54[0][0]     \n",
      "__________________________________________________________________________________________________\n",
      "leaky_re_lu_50 (LeakyReLU)      (None, 18, 18, 256)  0           add_16[0][0]                     \n",
      "__________________________________________________________________________________________________\n",
      "conv2d_55 (Conv2D)              (None, 18, 18, 256)  65792       leaky_re_lu_50[0][0]             \n",
      "__________________________________________________________________________________________________\n",
      "batch_normalization_55 (BatchNo (None, 18, 18, 256)  1024        conv2d_55[0][0]                  \n",
      "__________________________________________________________________________________________________\n",
      "leaky_re_lu_51 (LeakyReLU)      (None, 18, 18, 256)  0           batch_normalization_55[0][0]     \n",
      "__________________________________________________________________________________________________\n",
      "conv2d_56 (Conv2D)              (None, 9, 9, 256)    590080      leaky_re_lu_51[0][0]             \n",
      "__________________________________________________________________________________________________\n",
      "batch_normalization_56 (BatchNo (None, 9, 9, 256)    1024        conv2d_56[0][0]                  \n",
      "__________________________________________________________________________________________________\n",
      "leaky_re_lu_52 (LeakyReLU)      (None, 9, 9, 256)    0           batch_normalization_56[0][0]     \n",
      "__________________________________________________________________________________________________\n",
      "conv2d_58 (Conv2D)              (None, 9, 9, 512)    131584      leaky_re_lu_50[0][0]             \n",
      "__________________________________________________________________________________________________\n",
      "conv2d_57 (Conv2D)              (None, 9, 9, 512)    131584      leaky_re_lu_52[0][0]             \n",
      "__________________________________________________________________________________________________\n",
      "batch_normalization_58 (BatchNo (None, 9, 9, 512)    2048        conv2d_58[0][0]                  \n",
      "__________________________________________________________________________________________________\n",
      "batch_normalization_57 (BatchNo (None, 9, 9, 512)    2048        conv2d_57[0][0]                  \n",
      "__________________________________________________________________________________________________\n",
      "add_17 (Add)                    (None, 9, 9, 512)    0           batch_normalization_58[0][0]     \n",
      "                                                                 batch_normalization_57[0][0]     \n",
      "__________________________________________________________________________________________________\n",
      "leaky_re_lu_53 (LeakyReLU)      (None, 9, 9, 512)    0           add_17[0][0]                     \n",
      "__________________________________________________________________________________________________\n",
      "conv2d_59 (Conv2D)              (None, 9, 9, 256)    131328      leaky_re_lu_53[0][0]             \n",
      "__________________________________________________________________________________________________\n",
      "batch_normalization_59 (BatchNo (None, 9, 9, 256)    1024        conv2d_59[0][0]                  \n",
      "__________________________________________________________________________________________________\n",
      "leaky_re_lu_54 (LeakyReLU)      (None, 9, 9, 256)    0           batch_normalization_59[0][0]     \n",
      "__________________________________________________________________________________________________\n",
      "conv2d_60 (Conv2D)              (None, 9, 9, 256)    590080      leaky_re_lu_54[0][0]             \n",
      "__________________________________________________________________________________________________\n",
      "batch_normalization_60 (BatchNo (None, 9, 9, 256)    1024        conv2d_60[0][0]                  \n",
      "__________________________________________________________________________________________________\n",
      "leaky_re_lu_55 (LeakyReLU)      (None, 9, 9, 256)    0           batch_normalization_60[0][0]     \n",
      "__________________________________________________________________________________________________\n",
      "conv2d_61 (Conv2D)              (None, 9, 9, 512)    131584      leaky_re_lu_55[0][0]             \n",
      "__________________________________________________________________________________________________\n",
      "batch_normalization_61 (BatchNo (None, 9, 9, 512)    2048        conv2d_61[0][0]                  \n",
      "__________________________________________________________________________________________________\n",
      "add_18 (Add)                    (None, 9, 9, 512)    0           leaky_re_lu_53[0][0]             \n",
      "                                                                 batch_normalization_61[0][0]     \n",
      "__________________________________________________________________________________________________\n",
      "leaky_re_lu_56 (LeakyReLU)      (None, 9, 9, 512)    0           add_18[0][0]                     \n",
      "__________________________________________________________________________________________________\n",
      "conv2d_62 (Conv2D)              (None, 9, 9, 256)    131328      leaky_re_lu_56[0][0]             \n",
      "__________________________________________________________________________________________________\n",
      "batch_normalization_62 (BatchNo (None, 9, 9, 256)    1024        conv2d_62[0][0]                  \n",
      "__________________________________________________________________________________________________\n",
      "leaky_re_lu_57 (LeakyReLU)      (None, 9, 9, 256)    0           batch_normalization_62[0][0]     \n",
      "__________________________________________________________________________________________________\n",
      "conv2d_63 (Conv2D)              (None, 9, 9, 256)    590080      leaky_re_lu_57[0][0]             \n",
      "__________________________________________________________________________________________________\n",
      "batch_normalization_63 (BatchNo (None, 9, 9, 256)    1024        conv2d_63[0][0]                  \n",
      "__________________________________________________________________________________________________\n",
      "leaky_re_lu_58 (LeakyReLU)      (None, 9, 9, 256)    0           batch_normalization_63[0][0]     \n",
      "__________________________________________________________________________________________________\n",
      "conv2d_64 (Conv2D)              (None, 9, 9, 512)    131584      leaky_re_lu_58[0][0]             \n",
      "__________________________________________________________________________________________________\n",
      "batch_normalization_64 (BatchNo (None, 9, 9, 512)    2048        conv2d_64[0][0]                  \n",
      "__________________________________________________________________________________________________\n",
      "add_19 (Add)                    (None, 9, 9, 512)    0           leaky_re_lu_56[0][0]             \n",
      "                                                                 batch_normalization_64[0][0]     \n",
      "__________________________________________________________________________________________________\n",
      "leaky_re_lu_59 (LeakyReLU)      (None, 9, 9, 512)    0           add_19[0][0]                     \n",
      "__________________________________________________________________________________________________\n",
      "conv2d_65 (Conv2D)              (None, 9, 9, 256)    131328      leaky_re_lu_59[0][0]             \n",
      "__________________________________________________________________________________________________\n",
      "batch_normalization_65 (BatchNo (None, 9, 9, 256)    1024        conv2d_65[0][0]                  \n",
      "__________________________________________________________________________________________________\n",
      "leaky_re_lu_60 (LeakyReLU)      (None, 9, 9, 256)    0           batch_normalization_65[0][0]     \n",
      "__________________________________________________________________________________________________\n",
      "conv2d_66 (Conv2D)              (None, 9, 9, 256)    590080      leaky_re_lu_60[0][0]             \n",
      "__________________________________________________________________________________________________\n",
      "batch_normalization_66 (BatchNo (None, 9, 9, 256)    1024        conv2d_66[0][0]                  \n",
      "__________________________________________________________________________________________________\n",
      "leaky_re_lu_61 (LeakyReLU)      (None, 9, 9, 256)    0           batch_normalization_66[0][0]     \n",
      "__________________________________________________________________________________________________\n",
      "conv2d_67 (Conv2D)              (None, 9, 9, 512)    131584      leaky_re_lu_61[0][0]             \n",
      "__________________________________________________________________________________________________\n",
      "batch_normalization_67 (BatchNo (None, 9, 9, 512)    2048        conv2d_67[0][0]                  \n",
      "__________________________________________________________________________________________________\n",
      "add_20 (Add)                    (None, 9, 9, 512)    0           leaky_re_lu_59[0][0]             \n",
      "                                                                 batch_normalization_67[0][0]     \n",
      "__________________________________________________________________________________________________\n",
      "leaky_re_lu_62 (LeakyReLU)      (None, 9, 9, 512)    0           add_20[0][0]                     \n",
      "__________________________________________________________________________________________________\n",
      "conv2d_68 (Conv2D)              (None, 9, 9, 512)    262656      leaky_re_lu_62[0][0]             \n",
      "__________________________________________________________________________________________________\n",
      "batch_normalization_68 (BatchNo (None, 9, 9, 512)    2048        conv2d_68[0][0]                  \n",
      "__________________________________________________________________________________________________\n",
      "leaky_re_lu_63 (LeakyReLU)      (None, 9, 9, 512)    0           batch_normalization_68[0][0]     \n",
      "__________________________________________________________________________________________________\n",
      "conv2d_69 (Conv2D)              (None, 5, 5, 512)    2359808     leaky_re_lu_63[0][0]             \n",
      "__________________________________________________________________________________________________\n",
      "batch_normalization_69 (BatchNo (None, 5, 5, 512)    2048        conv2d_69[0][0]                  \n",
      "__________________________________________________________________________________________________\n",
      "leaky_re_lu_64 (LeakyReLU)      (None, 5, 5, 512)    0           batch_normalization_69[0][0]     \n",
      "__________________________________________________________________________________________________\n",
      "conv2d_71 (Conv2D)              (None, 5, 5, 1024)   525312      leaky_re_lu_62[0][0]             \n",
      "__________________________________________________________________________________________________\n",
      "conv2d_70 (Conv2D)              (None, 5, 5, 1024)   525312      leaky_re_lu_64[0][0]             \n",
      "__________________________________________________________________________________________________\n",
      "batch_normalization_71 (BatchNo (None, 5, 5, 1024)   4096        conv2d_71[0][0]                  \n",
      "__________________________________________________________________________________________________\n",
      "batch_normalization_70 (BatchNo (None, 5, 5, 1024)   4096        conv2d_70[0][0]                  \n",
      "__________________________________________________________________________________________________\n",
      "add_21 (Add)                    (None, 5, 5, 1024)   0           batch_normalization_71[0][0]     \n",
      "                                                                 batch_normalization_70[0][0]     \n",
      "__________________________________________________________________________________________________\n",
      "leaky_re_lu_65 (LeakyReLU)      (None, 5, 5, 1024)   0           add_21[0][0]                     \n",
      "__________________________________________________________________________________________________\n",
      "conv2d_72 (Conv2D)              (None, 5, 5, 512)    524800      leaky_re_lu_65[0][0]             \n",
      "__________________________________________________________________________________________________\n",
      "batch_normalization_72 (BatchNo (None, 5, 5, 512)    2048        conv2d_72[0][0]                  \n",
      "__________________________________________________________________________________________________\n",
      "leaky_re_lu_66 (LeakyReLU)      (None, 5, 5, 512)    0           batch_normalization_72[0][0]     \n",
      "__________________________________________________________________________________________________\n",
      "conv2d_73 (Conv2D)              (None, 5, 5, 512)    2359808     leaky_re_lu_66[0][0]             \n",
      "__________________________________________________________________________________________________\n",
      "batch_normalization_73 (BatchNo (None, 5, 5, 512)    2048        conv2d_73[0][0]                  \n",
      "__________________________________________________________________________________________________\n",
      "leaky_re_lu_67 (LeakyReLU)      (None, 5, 5, 512)    0           batch_normalization_73[0][0]     \n",
      "__________________________________________________________________________________________________\n",
      "conv2d_74 (Conv2D)              (None, 5, 5, 1024)   525312      leaky_re_lu_67[0][0]             \n",
      "__________________________________________________________________________________________________\n",
      "batch_normalization_74 (BatchNo (None, 5, 5, 1024)   4096        conv2d_74[0][0]                  \n",
      "__________________________________________________________________________________________________\n",
      "add_22 (Add)                    (None, 5, 5, 1024)   0           leaky_re_lu_65[0][0]             \n",
      "                                                                 batch_normalization_74[0][0]     \n",
      "__________________________________________________________________________________________________\n",
      "leaky_re_lu_68 (LeakyReLU)      (None, 5, 5, 1024)   0           add_22[0][0]                     \n",
      "__________________________________________________________________________________________________\n",
      "conv2d_75 (Conv2D)              (None, 5, 5, 512)    524800      leaky_re_lu_68[0][0]             \n",
      "__________________________________________________________________________________________________\n",
      "batch_normalization_75 (BatchNo (None, 5, 5, 512)    2048        conv2d_75[0][0]                  \n",
      "__________________________________________________________________________________________________\n",
      "leaky_re_lu_69 (LeakyReLU)      (None, 5, 5, 512)    0           batch_normalization_75[0][0]     \n",
      "__________________________________________________________________________________________________\n",
      "conv2d_76 (Conv2D)              (None, 5, 5, 512)    2359808     leaky_re_lu_69[0][0]             \n",
      "__________________________________________________________________________________________________\n",
      "batch_normalization_76 (BatchNo (None, 5, 5, 512)    2048        conv2d_76[0][0]                  \n",
      "__________________________________________________________________________________________________\n",
      "leaky_re_lu_70 (LeakyReLU)      (None, 5, 5, 512)    0           batch_normalization_76[0][0]     \n",
      "__________________________________________________________________________________________________\n",
      "conv2d_77 (Conv2D)              (None, 5, 5, 1024)   525312      leaky_re_lu_70[0][0]             \n",
      "__________________________________________________________________________________________________\n",
      "batch_normalization_77 (BatchNo (None, 5, 5, 1024)   4096        conv2d_77[0][0]                  \n",
      "__________________________________________________________________________________________________\n",
      "add_23 (Add)                    (None, 5, 5, 1024)   0           leaky_re_lu_68[0][0]             \n",
      "                                                                 batch_normalization_77[0][0]     \n",
      "__________________________________________________________________________________________________\n",
      "leaky_re_lu_71 (LeakyReLU)      (None, 5, 5, 1024)   0           add_23[0][0]                     \n",
      "__________________________________________________________________________________________________\n",
      "conv2d_78 (Conv2D)              (None, 5, 5, 512)    524800      leaky_re_lu_71[0][0]             \n",
      "__________________________________________________________________________________________________\n",
      "batch_normalization_78 (BatchNo (None, 5, 5, 512)    2048        conv2d_78[0][0]                  \n",
      "__________________________________________________________________________________________________\n",
      "leaky_re_lu_72 (LeakyReLU)      (None, 5, 5, 512)    0           batch_normalization_78[0][0]     \n",
      "__________________________________________________________________________________________________\n",
      "conv2d_79 (Conv2D)              (None, 5, 5, 512)    2359808     leaky_re_lu_72[0][0]             \n",
      "__________________________________________________________________________________________________\n",
      "batch_normalization_79 (BatchNo (None, 5, 5, 512)    2048        conv2d_79[0][0]                  \n",
      "__________________________________________________________________________________________________\n",
      "leaky_re_lu_73 (LeakyReLU)      (None, 5, 5, 512)    0           batch_normalization_79[0][0]     \n",
      "__________________________________________________________________________________________________\n",
      "conv2d_80 (Conv2D)              (None, 5, 5, 1024)   525312      leaky_re_lu_73[0][0]             \n",
      "__________________________________________________________________________________________________\n",
      "batch_normalization_80 (BatchNo (None, 5, 5, 1024)   4096        conv2d_80[0][0]                  \n",
      "__________________________________________________________________________________________________\n",
      "add_24 (Add)                    (None, 5, 5, 1024)   0           leaky_re_lu_71[0][0]             \n",
      "                                                                 batch_normalization_80[0][0]     \n",
      "__________________________________________________________________________________________________\n",
      "leaky_re_lu_74 (LeakyReLU)      (None, 5, 5, 1024)   0           add_24[0][0]                     \n",
      "__________________________________________________________________________________________________\n",
      "conv2d_81 (Conv2D)              (None, 5, 5, 512)    524800      leaky_re_lu_74[0][0]             \n",
      "__________________________________________________________________________________________________\n",
      "batch_normalization_81 (BatchNo (None, 5, 5, 512)    2048        conv2d_81[0][0]                  \n",
      "__________________________________________________________________________________________________\n",
      "leaky_re_lu_75 (LeakyReLU)      (None, 5, 5, 512)    0           batch_normalization_81[0][0]     \n",
      "__________________________________________________________________________________________________\n",
      "conv2d_82 (Conv2D)              (None, 5, 5, 512)    2359808     leaky_re_lu_75[0][0]             \n",
      "__________________________________________________________________________________________________\n",
      "batch_normalization_82 (BatchNo (None, 5, 5, 512)    2048        conv2d_82[0][0]                  \n",
      "__________________________________________________________________________________________________\n",
      "leaky_re_lu_76 (LeakyReLU)      (None, 5, 5, 512)    0           batch_normalization_82[0][0]     \n",
      "__________________________________________________________________________________________________\n",
      "conv2d_83 (Conv2D)              (None, 5, 5, 1024)   525312      leaky_re_lu_76[0][0]             \n",
      "__________________________________________________________________________________________________\n",
      "batch_normalization_83 (BatchNo (None, 5, 5, 1024)   4096        conv2d_83[0][0]                  \n",
      "__________________________________________________________________________________________________\n",
      "add_25 (Add)                    (None, 5, 5, 1024)   0           leaky_re_lu_74[0][0]             \n",
      "                                                                 batch_normalization_83[0][0]     \n",
      "__________________________________________________________________________________________________\n",
      "leaky_re_lu_77 (LeakyReLU)      (None, 5, 5, 1024)   0           add_25[0][0]                     \n",
      "__________________________________________________________________________________________________\n",
      "conv2d_84 (Conv2D)              (None, 5, 5, 512)    524800      leaky_re_lu_77[0][0]             \n",
      "__________________________________________________________________________________________________\n",
      "batch_normalization_84 (BatchNo (None, 5, 5, 512)    2048        conv2d_84[0][0]                  \n",
      "__________________________________________________________________________________________________\n",
      "leaky_re_lu_78 (LeakyReLU)      (None, 5, 5, 512)    0           batch_normalization_84[0][0]     \n",
      "__________________________________________________________________________________________________\n",
      "conv2d_85 (Conv2D)              (None, 5, 5, 512)    2359808     leaky_re_lu_78[0][0]             \n",
      "__________________________________________________________________________________________________\n",
      "batch_normalization_85 (BatchNo (None, 5, 5, 512)    2048        conv2d_85[0][0]                  \n",
      "__________________________________________________________________________________________________\n",
      "leaky_re_lu_79 (LeakyReLU)      (None, 5, 5, 512)    0           batch_normalization_85[0][0]     \n",
      "__________________________________________________________________________________________________\n",
      "conv2d_86 (Conv2D)              (None, 5, 5, 1024)   525312      leaky_re_lu_79[0][0]             \n",
      "__________________________________________________________________________________________________\n",
      "batch_normalization_86 (BatchNo (None, 5, 5, 1024)   4096        conv2d_86[0][0]                  \n",
      "__________________________________________________________________________________________________\n",
      "add_26 (Add)                    (None, 5, 5, 1024)   0           leaky_re_lu_77[0][0]             \n",
      "                                                                 batch_normalization_86[0][0]     \n",
      "__________________________________________________________________________________________________\n",
      "leaky_re_lu_80 (LeakyReLU)      (None, 5, 5, 1024)   0           add_26[0][0]                     \n",
      "__________________________________________________________________________________________________\n",
      "global_average_pooling2d_3 (Glo (None, 1024)         0           leaky_re_lu_80[0][0]             \n",
      "__________________________________________________________________________________________________\n",
      "dropout_5 (Dropout)             (None, 1024)         0           global_average_pooling2d_3[0][0] \n",
      "__________________________________________________________________________________________________\n",
      "dense_7 (Dense)                 (None, 1024)         1049600     dropout_5[0][0]                  \n",
      "__________________________________________________________________________________________________\n",
      "dropout_6 (Dropout)             (None, 1024)         0           dense_7[0][0]                    \n",
      "__________________________________________________________________________________________________\n",
      "dense_8 (Dense)                 (None, 1024)         1049600     dropout_6[0][0]                  \n",
      "__________________________________________________________________________________________________\n",
      "dense_9 (Dense)                 (None, 1)            1025        dense_8[0][0]                    \n",
      "==================================================================================================\n",
      "Total params: 27,018,945\n",
      "Trainable params: 26,979,393\n",
      "Non-trainable params: 39,552\n",
      "__________________________________________________________________________________________________\n"
     ]
    }
   ],
   "source": [
    "model.build(input_shape=(None, EDGE_SIZE+1,EDGE_SIZE+1,2))\n",
    "model.summary()"
   ]
  },
  {
   "cell_type": "code",
   "execution_count": 63,
   "metadata": {},
   "outputs": [],
   "source": [
    "#X_train, X_test, y_train, y_test = train_test_split(data_lpmt, y_val, test_size=0.2, random_state=45)"
   ]
  },
  {
   "cell_type": "code",
   "execution_count": 64,
   "metadata": {},
   "outputs": [],
   "source": [
    "logdir = 'log_2904E_without_time_min_resnet.csv'"
   ]
  },
  {
   "cell_type": "code",
   "execution_count": 66,
   "metadata": {
    "scrolled": true
   },
   "outputs": [],
   "source": [
    "!rm log_2904E_without_time_min_resnet.csv"
   ]
  },
  {
   "cell_type": "code",
   "execution_count": 67,
   "metadata": {},
   "outputs": [],
   "source": [
    "from keras.callbacks import CSVLogger\n",
    "\n",
    "csv_logger = CSVLogger(logdir, append=True, separator=';')"
   ]
  },
  {
   "cell_type": "code",
   "execution_count": 68,
   "metadata": {},
   "outputs": [],
   "source": [
    "from keras.callbacks import ReduceLROnPlateau\n",
    "reduce_lr = ReduceLROnPlateau(monitor='val_loss', factor=0.2,\n",
    "                              patience=5, min_lr=0.000001)"
   ]
  },
  {
   "cell_type": "code",
   "execution_count": 69,
   "metadata": {},
   "outputs": [],
   "source": [
    "#out = model.fit(X_train, y_train, batch_size=32, \n",
    "#                epochs=30, \n",
    "#                callbacks=[csv_logger, reduce_lr], \n",
    "#                validation_data=(X_test, y_test))"
   ]
  },
  {
   "cell_type": "code",
   "execution_count": 70,
   "metadata": {},
   "outputs": [],
   "source": [
    "TRAIN_DIR = '~/data/data_dir/'\n",
    "tr_true_info = pd.read_csv(TRAIN_DIR + 'true_info.csv')"
   ]
  },
  {
   "cell_type": "code",
   "execution_count": 73,
   "metadata": {},
   "outputs": [],
   "source": [
    "epochs = [5,5,5,3,3,3,1,1,1,1,1,1,1]"
   ]
  },
  {
   "cell_type": "code",
   "execution_count": null,
   "metadata": {
    "scrolled": true
   },
   "outputs": [
    {
     "name": "stdout",
     "output_type": "stream",
     "text": [
      "ITERATION:  0\n",
      "Train on 11020 samples, validate on 2756 samples\n",
      "Epoch 1/5\n",
      "11020/11020 [==============================] - 147s 13ms/step - loss: 22.1922 - val_loss: 29.9313\n",
      "Epoch 2/5\n",
      "11020/11020 [==============================] - 134s 12ms/step - loss: 16.9725 - val_loss: 15.0836\n",
      "Epoch 3/5\n",
      "11020/11020 [==============================] - 135s 12ms/step - loss: 13.5112 - val_loss: 11.9831\n",
      "Epoch 4/5\n",
      "11020/11020 [==============================] - 137s 12ms/step - loss: 10.5301 - val_loss: 9.1921\n",
      "Epoch 5/5\n",
      "11020/11020 [==============================] - 136s 12ms/step - loss: 8.0192 - val_loss: 7.1031\n",
      "ITERATION:  0\n",
      "Train on 10988 samples, validate on 2747 samples\n",
      "Epoch 1/5\n",
      "10988/10988 [==============================] - 136s 12ms/step - loss: 5.9660 - val_loss: 5.8100\n",
      "Epoch 2/5\n",
      "10988/10988 [==============================] - 136s 12ms/step - loss: 4.3199 - val_loss: 3.7235\n",
      "Epoch 3/5\n",
      "10988/10988 [==============================] - 137s 12ms/step - loss: 3.0840 - val_loss: 2.5786\n",
      "Epoch 4/5\n",
      "10988/10988 [==============================] - 135s 12ms/step - loss: 2.1690 - val_loss: 1.7170\n",
      "Epoch 5/5\n",
      "10988/10988 [==============================] - 135s 12ms/step - loss: 1.5466 - val_loss: 1.1856\n",
      "ITERATION:  0\n",
      "Train on 11041 samples, validate on 2761 samples\n",
      "Epoch 1/5\n",
      "11041/11041 [==============================] - 138s 12ms/step - loss: 1.0687 - val_loss: 0.8109\n",
      "Epoch 2/5\n",
      "11041/11041 [==============================] - 137s 12ms/step - loss: 0.7391 - val_loss: 1.0536\n",
      "Epoch 3/5\n",
      "11041/11041 [==============================] - 136s 12ms/step - loss: 0.5682 - val_loss: 0.3413\n",
      "Epoch 4/5\n",
      "11041/11041 [==============================] - 137s 12ms/step - loss: 0.4259 - val_loss: 0.4955\n",
      "Epoch 5/5\n",
      "11041/11041 [==============================] - 137s 12ms/step - loss: 0.4266 - val_loss: 1.1773\n",
      "ITERATION:  0\n",
      "Train on 11036 samples, validate on 2760 samples\n",
      "Epoch 1/5\n",
      "11036/11036 [==============================] - 137s 12ms/step - loss: 0.3661 - val_loss: 0.1671\n",
      "Epoch 2/5\n",
      "11036/11036 [==============================] - 136s 12ms/step - loss: 0.2666 - val_loss: 0.2103\n",
      "Epoch 3/5\n",
      "11036/11036 [==============================] - 137s 12ms/step - loss: 0.2045 - val_loss: 0.1740\n",
      "Epoch 4/5\n",
      "11036/11036 [==============================] - 137s 12ms/step - loss: 0.1954 - val_loss: 0.3008\n",
      "Epoch 5/5\n",
      "11036/11036 [==============================] - 137s 12ms/step - loss: 0.2079 - val_loss: 0.1080\n",
      "ITERATION:  0\n",
      "Train on 11064 samples, validate on 2767 samples\n",
      "Epoch 1/5\n",
      "11064/11064 [==============================] - 137s 12ms/step - loss: 0.1872 - val_loss: 0.1385\n",
      "Epoch 2/5\n",
      "11064/11064 [==============================] - 136s 12ms/step - loss: 0.2155 - val_loss: 0.1173\n",
      "Epoch 3/5\n",
      "11064/11064 [==============================] - 136s 12ms/step - loss: 0.1860 - val_loss: 0.3372\n",
      "Epoch 4/5\n",
      "11064/11064 [==============================] - 138s 12ms/step - loss: 0.2442 - val_loss: 0.2373\n",
      "Epoch 5/5\n",
      "11064/11064 [==============================] - 137s 12ms/step - loss: 0.2109 - val_loss: 0.1124\n",
      "ITERATION:  0\n",
      "Train on 10959 samples, validate on 2740 samples\n",
      "Epoch 1/5\n",
      "10959/10959 [==============================] - 136s 12ms/step - loss: 0.1833 - val_loss: 0.0893\n",
      "Epoch 2/5\n",
      "10959/10959 [==============================] - 136s 12ms/step - loss: 0.1777 - val_loss: 0.7624\n",
      "Epoch 3/5\n",
      "10959/10959 [==============================] - 135s 12ms/step - loss: 0.1960 - val_loss: 0.0889\n",
      "Epoch 4/5\n",
      "10959/10959 [==============================] - 135s 12ms/step - loss: 0.1493 - val_loss: 0.1353\n",
      "Epoch 5/5\n",
      "10959/10959 [==============================] - 135s 12ms/step - loss: 0.1516 - val_loss: 0.0968\n",
      "ITERATION:  1\n",
      "Train on 11020 samples, validate on 2756 samples\n",
      "Epoch 1/5\n",
      "11008/11020 [============================>.] - ETA: 0s - loss: 0.1794"
     ]
    }
   ],
   "source": [
    "import gc\n",
    "for i in range(len(epochs)):\n",
    "    for start, end in zip(rg[:-1], rg[1:]):\n",
    "        print(\"ITERATION: \", i)\n",
    "        data_lpmt = np.load(LTRAIN + '1_' + str(start) +'without_noise_time_70.npy')\n",
    "        ys = tr_true_info[(tr_true_info['evtID'] >= start) \n",
    "                            & (tr_true_info['evtID'] < end)]\n",
    "        mask = (ys.R <= MAXR)\n",
    "        data_lpmt = data_lpmt[mask]\n",
    "        y_val = ys[mask][['E']].values\n",
    "        \n",
    "        X_train, X_test, y_train, y_test = train_test_split(data_lpmt, y_val, test_size=0.2, random_state=45)\n",
    "        out = model.fit(X_train, y_train, batch_size=32, \n",
    "                epochs=epochs[i],\n",
    "                callbacks=[csv_logger, reduce_lr],\n",
    "                validation_data=(X_test, y_test),\n",
    "                shuffle=True)\n",
    "    gc.collect()"
   ]
  },
  {
   "cell_type": "code",
   "execution_count": 49,
   "metadata": {},
   "outputs": [],
   "source": [
    "reduce_lr = keras.callbacks.LearningRateScheduler(lambda it: 1e-5, verbose=0)"
   ]
  },
  {
   "cell_type": "code",
   "execution_count": 81,
   "metadata": {
    "scrolled": true
   },
   "outputs": [
    {
     "name": "stdout",
     "output_type": "stream",
     "text": [
      "ITERATION:  0\n",
      "Train on 11020 samples, validate on 2756 samples\n",
      "Epoch 1/1\n",
      "11020/11020 [==============================] - 128s 12ms/step - loss: 0.0523 - val_loss: 0.0309\n",
      "ITERATION:  0\n",
      "Train on 10988 samples, validate on 2747 samples\n",
      "Epoch 1/1\n",
      "10988/10988 [==============================] - 132s 12ms/step - loss: 0.0577 - val_loss: 0.0276\n",
      "ITERATION:  0\n",
      "Train on 11041 samples, validate on 2761 samples\n",
      "Epoch 1/1\n",
      "11041/11041 [==============================] - 135s 12ms/step - loss: 0.0497 - val_loss: 0.0352\n",
      "ITERATION:  0\n",
      "Train on 11036 samples, validate on 2760 samples\n",
      "Epoch 1/1\n",
      "11036/11036 [==============================] - 137s 12ms/step - loss: 0.0504 - val_loss: 0.0311\n",
      "ITERATION:  0\n",
      "Train on 11064 samples, validate on 2767 samples\n",
      "Epoch 1/1\n",
      "11064/11064 [==============================] - 138s 12ms/step - loss: 0.0471 - val_loss: 0.0315\n",
      "ITERATION:  0\n",
      "Train on 10959 samples, validate on 2740 samples\n",
      "Epoch 1/1\n",
      "10959/10959 [==============================] - 138s 13ms/step - loss: 0.0516 - val_loss: 0.0291\n",
      "ITERATION:  1\n",
      "Train on 11020 samples, validate on 2756 samples\n",
      "Epoch 1/1\n",
      "11020/11020 [==============================] - 137s 12ms/step - loss: 0.0540 - val_loss: 0.0293\n",
      "ITERATION:  1\n",
      "Train on 10988 samples, validate on 2747 samples\n",
      "Epoch 1/1\n",
      "10988/10988 [==============================] - 137s 12ms/step - loss: 0.0571 - val_loss: 0.0282\n",
      "ITERATION:  1\n",
      "Train on 11041 samples, validate on 2761 samples\n",
      "Epoch 1/1\n",
      "11041/11041 [==============================] - 139s 13ms/step - loss: 0.0517 - val_loss: 0.0348\n",
      "ITERATION:  1\n",
      "Train on 11036 samples, validate on 2760 samples\n",
      "Epoch 1/1\n",
      "11036/11036 [==============================] - 139s 13ms/step - loss: 0.0466 - val_loss: 0.0331\n",
      "ITERATION:  1\n",
      "Train on 11064 samples, validate on 2767 samples\n",
      "Epoch 1/1\n",
      "11064/11064 [==============================] - 138s 12ms/step - loss: 0.0454 - val_loss: 0.0314\n",
      "ITERATION:  1\n",
      "Train on 10959 samples, validate on 2740 samples\n",
      "Epoch 1/1\n",
      "10959/10959 [==============================] - 138s 13ms/step - loss: 0.0522 - val_loss: 0.0313\n",
      "ITERATION:  2\n",
      "Train on 11020 samples, validate on 2756 samples\n",
      "Epoch 1/1\n",
      "11020/11020 [==============================] - 139s 13ms/step - loss: 0.0515 - val_loss: 0.0336\n",
      "ITERATION:  2\n",
      "Train on 10988 samples, validate on 2747 samples\n",
      "Epoch 1/1\n",
      "10988/10988 [==============================] - 138s 13ms/step - loss: 0.0549 - val_loss: 0.0283\n",
      "ITERATION:  2\n",
      "Train on 11041 samples, validate on 2761 samples\n",
      "Epoch 1/1\n",
      "11041/11041 [==============================] - 140s 13ms/step - loss: 0.0518 - val_loss: 0.0309\n",
      "ITERATION:  2\n",
      "Train on 11036 samples, validate on 2760 samples\n",
      "Epoch 1/1\n",
      "11036/11036 [==============================] - 139s 13ms/step - loss: 0.0471 - val_loss: 0.0302\n",
      "ITERATION:  2\n",
      "Train on 11064 samples, validate on 2767 samples\n",
      "Epoch 1/1\n",
      "11064/11064 [==============================] - 140s 13ms/step - loss: 0.0453 - val_loss: 0.0309\n",
      "ITERATION:  2\n",
      "Train on 10959 samples, validate on 2740 samples\n",
      "Epoch 1/1\n",
      "10959/10959 [==============================] - 138s 13ms/step - loss: 0.0498 - val_loss: 0.0306\n",
      "ITERATION:  3\n",
      "Train on 11020 samples, validate on 2756 samples\n",
      "Epoch 1/1\n",
      "11020/11020 [==============================] - 139s 13ms/step - loss: 0.0518 - val_loss: 0.0283\n",
      "ITERATION:  3\n",
      "Train on 10988 samples, validate on 2747 samples\n",
      "Epoch 1/1\n",
      "10988/10988 [==============================] - 139s 13ms/step - loss: 0.0594 - val_loss: 0.0293\n",
      "ITERATION:  3\n",
      "Train on 11041 samples, validate on 2761 samples\n",
      "Epoch 1/1\n",
      "11041/11041 [==============================] - 140s 13ms/step - loss: 0.0489 - val_loss: 0.0325\n",
      "ITERATION:  3\n",
      "Train on 11036 samples, validate on 2760 samples\n",
      "Epoch 1/1\n",
      "11036/11036 [==============================] - 141s 13ms/step - loss: 0.0477 - val_loss: 0.0320\n",
      "ITERATION:  3\n",
      "Train on 11064 samples, validate on 2767 samples\n",
      "Epoch 1/1\n",
      "11064/11064 [==============================] - 141s 13ms/step - loss: 0.0469 - val_loss: 0.0315\n",
      "ITERATION:  3\n",
      "Train on 10959 samples, validate on 2740 samples\n",
      "Epoch 1/1\n",
      "10959/10959 [==============================] - 138s 13ms/step - loss: 0.0511 - val_loss: 0.0289\n",
      "ITERATION:  4\n",
      "Train on 11020 samples, validate on 2756 samples\n",
      "Epoch 1/1\n",
      "11020/11020 [==============================] - 139s 13ms/step - loss: 0.0517 - val_loss: 0.0282\n",
      "ITERATION:  4\n",
      "Train on 10988 samples, validate on 2747 samples\n",
      "Epoch 1/1\n",
      "10988/10988 [==============================] - 141s 13ms/step - loss: 0.0552 - val_loss: 0.0292\n",
      "ITERATION:  4\n",
      "Train on 11041 samples, validate on 2761 samples\n",
      "Epoch 1/1\n",
      "11041/11041 [==============================] - 141s 13ms/step - loss: 0.0533 - val_loss: 0.0282\n",
      "ITERATION:  4\n",
      "Train on 11036 samples, validate on 2760 samples\n",
      "Epoch 1/1\n",
      "11036/11036 [==============================] - 141s 13ms/step - loss: 0.0457 - val_loss: 0.0292\n",
      "ITERATION:  4\n",
      "Train on 11064 samples, validate on 2767 samples\n",
      "Epoch 1/1\n",
      "11064/11064 [==============================] - 141s 13ms/step - loss: 0.0442 - val_loss: 0.0302\n",
      "ITERATION:  4\n",
      "Train on 10959 samples, validate on 2740 samples\n",
      "Epoch 1/1\n",
      "10959/10959 [==============================] - 137s 12ms/step - loss: 0.0512 - val_loss: 0.0297\n"
     ]
    }
   ],
   "source": [
    "import gc\n",
    "for i in range(len(epochs)):\n",
    "    for start, end in zip(rg[:-1], rg[1:]):\n",
    "        print(\"ITERATION: \", i)\n",
    "        data_lpmt = np.load(LTRAIN + '1_' + str(start) +'without_noise_time_70.npy')\n",
    "        ys = tr_true_info[(tr_true_info['evtID'] >= start)\n",
    "                            & (tr_true_info['evtID'] < end)]\n",
    "        mask = (ys.R <= MAXR)\n",
    "        data_lpmt = data_lpmt[mask]\n",
    "        y_val = ys[mask][['E']].values\n",
    "        \n",
    "        X_train, X_test, y_train, y_test = train_test_split(data_lpmt, y_val, test_size=0.2, random_state=45)\n",
    "        out = model.fit(X_train, y_train, batch_size=32, \n",
    "                epochs=1,\n",
    "                callbacks=[csv_logger, reduce_lr],\n",
    "                validation_data=(X_test, y_test),\n",
    "                shuffle=True)\n",
    "    gc.collect()"
   ]
  },
  {
   "cell_type": "code",
   "execution_count": 38,
   "metadata": {},
   "outputs": [],
   "source": [
    "import pandas as pd\n",
    "import matplotlib.pyplot as plt"
   ]
  },
  {
   "cell_type": "code",
   "execution_count": 39,
   "metadata": {},
   "outputs": [],
   "source": [
    "cs = pd.read_csv(logdir, sep=';')"
   ]
  },
  {
   "cell_type": "code",
   "execution_count": 40,
   "metadata": {},
   "outputs": [
    {
     "data": {
      "text/plain": [
       "(0, 0.3)"
      ]
     },
     "execution_count": 40,
     "metadata": {},
     "output_type": "execute_result"
    },
    {
     "data": {
      "image/png": "[encoded data removed]",
      "text/plain": [
       "<Figure size 432x288 with 1 Axes>"
      ]
     },
     "metadata": {
      "needs_background": "light"
     },
     "output_type": "display_data"
    }
   ],
   "source": [
    "plt.scatter(np.arange(0, cs.shape[0]), cs['val_loss'].values)\n",
    "plt.ylim(0,0.3)"
   ]
  },
  {
   "cell_type": "code",
   "execution_count": 41,
   "metadata": {},
   "outputs": [
    {
     "data": {
      "text/plain": [
       "(0, 0.5)"
      ]
     },
     "execution_count": 41,
     "metadata": {},
     "output_type": "execute_result"
    },
    {
     "data": {
      "image/png": "[encoded data removed]",
      "text/plain": [
       "<Figure size 432x288 with 1 Axes>"
      ]
     },
     "metadata": {
      "needs_background": "light"
     },
     "output_type": "display_data"
    }
   ],
   "source": [
    "plt.scatter(np.arange(0, cs.shape[0]), cs['loss'].values)\n",
    "plt.ylim(0,0.5)"
   ]
  },
  {
   "cell_type": "code",
   "execution_count": 86,
   "metadata": {},
   "outputs": [],
   "source": [
    "#cs.plot(x='epoch',y='val_loss')\n",
    "#plt.ylim((0, 100000))"
   ]
  },
  {
   "cell_type": "code",
   "execution_count": 42,
   "metadata": {
    "scrolled": true
   },
   "outputs": [],
   "source": [
    "model.save_weights('ResNet70.h5')"
   ]
  },
  {
   "cell_type": "code",
   "execution_count": 18,
   "metadata": {},
   "outputs": [],
   "source": [
    "model.load_weights('2_04_E_wn_time.h5')"
   ]
  },
  {
   "cell_type": "code",
   "execution_count": 43,
   "metadata": {},
   "outputs": [
    {
     "name": "stdout",
     "output_type": "stream",
     "text": [
      "+\n"
     ]
    }
   ],
   "source": [
    "print(\"+\")"
   ]
  },
  {
   "cell_type": "code",
   "execution_count": 44,
   "metadata": {},
   "outputs": [],
   "source": [
    "with open(\"ResNet70.json\", \"w\") as json_file:\n",
    "    json_file.write(model.to_json())"
   ]
  },
  {
   "cell_type": "code",
   "execution_count": 45,
   "metadata": {},
   "outputs": [],
   "source": [
    "from sklearn.metrics.pairwise import paired_euclidean_distances\n",
    "from sklearn.metrics import mean_squared_error"
   ]
  },
  {
   "cell_type": "code",
   "execution_count": 46,
   "metadata": {},
   "outputs": [],
   "source": [
    "# in mm\n",
    "#test_results = paired_euclidean_distances(model.predict(X_test), y_test)"
   ]
  },
  {
   "cell_type": "code",
   "execution_count": 47,
   "metadata": {},
   "outputs": [],
   "source": [
    "preds = np.maximum(model.predict(X_test), 0)\n",
    "test_resultsE = mean_squared_error(preds[:,0], y_test[:,0])\n",
    "#test_resultsR = mean_squared_error(preds[:,1], y_test[:,1])"
   ]
  },
  {
   "cell_type": "code",
   "execution_count": 48,
   "metadata": {},
   "outputs": [
    {
     "data": {
      "text/plain": [
       "0.06166417211994886"
      ]
     },
     "execution_count": 48,
     "metadata": {},
     "output_type": "execute_result"
    }
   ],
   "source": [
    "test_resultsE.mean()"
   ]
  },
  {
   "cell_type": "code",
   "execution_count": 90,
   "metadata": {},
   "outputs": [
    {
     "data": {
      "text/plain": [
       "(-0.05, 0.05)"
      ]
     },
     "execution_count": 90,
     "metadata": {},
     "output_type": "execute_result"
    },
    {
     "data": {
      "image/png": "[encoded data removed]",
      "text/plain": [
       "<Figure size 432x288 with 1 Axes>"
      ]
     },
     "metadata": {
      "needs_background": "light"
     },
     "output_type": "display_data"
    }
   ],
   "source": [
    "plt.hist((preds[:,0] - y_test[:,0])/y_test[:,0], bins=200)\n",
    "plt.xlim((-0.05,0.05))"
   ]
  },
  {
   "cell_type": "code",
   "execution_count": 77,
   "metadata": {},
   "outputs": [],
   "source": [
    "%run root_reader.py"
   ]
  },
  {
   "cell_type": "code",
   "execution_count": 91,
   "metadata": {},
   "outputs": [],
   "source": [
    "from tqdm import tqdm"
   ]
  },
  {
   "cell_type": "code",
   "execution_count": 92,
   "metadata": {},
   "outputs": [],
   "source": [
    "root_data_path = '/mnt/iprovilkov/data_dir/0MeV_lpmt_hits.h5'"
   ]
  },
  {
   "cell_type": "code",
   "execution_count": 93,
   "metadata": {},
   "outputs": [],
   "source": [
    "def test_sigmas(model, test_dir='/mnt/iprovilkov/data_dir/', test_column='E', MAXR=MAXR, \n",
    "                time=False, recompute=False):\n",
    "    sigmas = {}\n",
    "    MSEs = {}\n",
    "    predictions = {}\n",
    "    CONST = 1.022\n",
    "    for energy in tqdm(range(10)):\n",
    "        try:\n",
    "            if recompute:\n",
    "                raise Exception(\"Recompute\")\n",
    "            if time:\n",
    "                data_lpmt = np.load(test_dir + str(energy) + 'data_lpmt_time_70.npy')\n",
    "            else:\n",
    "                data_lpmt = np.load(test_dir + str(energy) + 'data_lpmt_70.npy')\n",
    "            true_info = pd.read_csv(TRAIN_DIR + str(energy)+'MeV_'+'true_info.csv')\n",
    "        except: \n",
    "            print(\"Compute...\")\n",
    "            lpmt_hits = pd.read_hdf(test_dir + str(energy)+'MeV_'+ 'lpmt_hits.h5', mode='r') \n",
    "            spmt_hits = pd.read_hdf(test_dir + str(energy)+'MeV_'+'spmt_hits.h5', mode='r')\n",
    "            lpmt_hits = lpmt_hits[lpmt_hits.isDN==False]\n",
    "            spmt_hits = spmt_hits[spmt_hits.isDN==False]\n",
    "            pos = pd.read_csv(TRAIN_DIR + str(energy)+'MeV_'+'lpmt_pos.csv') \n",
    "            spmt_pos = pd.read_csv(TRAIN_DIR + str(energy)+'MeV_'+'spmt_pos.csv') \n",
    "            true_info = pd.read_csv(TRAIN_DIR + str(energy)+'MeV_'+'true_info.csv')\n",
    "            if time:\n",
    "                data_lpmt, event_to_id = get_data_2dprojection(lpmt_hits, \n",
    "                                    spmt_hits, \n",
    "                                    pos, \n",
    "                                    true_info,\n",
    "                                                               edge_size = 70,\n",
    "                                    use_spmt=True,\n",
    "                                    time='min')\n",
    "                np.save(test_dir+str(energy)+'data_lpmt_time', data_lpmt)\n",
    "            else:\n",
    "                data_lpmt, event_to_id = get_data_2dprojection(lpmt_hits, \n",
    "                                    spmt_hits, \n",
    "                                    pos, \n",
    "                                    true_info,\n",
    "                                                               edge_size = 70,\n",
    "                                    use_spmt=True)\n",
    "                np.save(test_dir+str(energy)+'data_lpmt_70', data_lpmt)\n",
    "        mask = (true_info.R<=MAXR)\n",
    "        data_lpmt = data_lpmt[mask]\n",
    "        true_info = true_info[mask]\n",
    "        preds = np.maximum(model.predict(data_lpmt), 0)\n",
    "        y_test = true_info[test_column]\n",
    "        print(y_test.mean())\n",
    "        predictions[energy] = preds\n",
    "        MSEs[energy] = mean_squared_error(preds, y_test)\n",
    "        # in percents\n",
    "        sigmas[energy] = np.std(preds - y_test.mean()) / (energy + CONST)\n",
    "    print(\"+\")\n",
    "    return sigmas, MSEs, predictions"
   ]
  },
  {
   "cell_type": "code",
   "execution_count": 94,
   "metadata": {
    "scrolled": true
   },
   "outputs": [
    {
     "name": "stderr",
     "output_type": "stream",
     "text": [
      " 10%|█         | 1/10 [00:05<00:51,  5.73s/it]"
     ]
    },
    {
     "name": "stdout",
     "output_type": "stream",
     "text": [
      "0.5109988999999999\n"
     ]
    },
    {
     "name": "stderr",
     "output_type": "stream",
     "text": [
      "\r",
      " 20%|██        | 2/10 [00:12<00:49,  6.13s/it]"
     ]
    },
    {
     "name": "stdout",
     "output_type": "stream",
     "text": [
      "1.5109988697622994\n"
     ]
    },
    {
     "name": "stderr",
     "output_type": "stream",
     "text": [
      "\r",
      " 30%|███       | 3/10 [00:20<00:45,  6.56s/it]"
     ]
    },
    {
     "name": "stdout",
     "output_type": "stream",
     "text": [
      "2.5109990065502177\n"
     ]
    },
    {
     "name": "stderr",
     "output_type": "stream",
     "text": [
      "\r",
      " 40%|████      | 4/10 [00:29<00:43,  7.27s/it]"
     ]
    },
    {
     "name": "stdout",
     "output_type": "stream",
     "text": [
      "3.5109988987951803\n"
     ]
    },
    {
     "name": "stderr",
     "output_type": "stream",
     "text": [
      "\r",
      " 50%|█████     | 5/10 [00:38<00:38,  7.73s/it]"
     ]
    },
    {
     "name": "stdout",
     "output_type": "stream",
     "text": [
      "4.510998806956522\n"
     ]
    },
    {
     "name": "stderr",
     "output_type": "stream",
     "text": [
      "\r",
      " 60%|██████    | 6/10 [00:46<00:31,  7.99s/it]"
     ]
    },
    {
     "name": "stdout",
     "output_type": "stream",
     "text": [
      "5.510998686870312\n"
     ]
    },
    {
     "name": "stderr",
     "output_type": "stream",
     "text": [
      "\r",
      " 70%|███████   | 7/10 [00:54<00:23,  7.87s/it]"
     ]
    },
    {
     "name": "stdout",
     "output_type": "stream",
     "text": [
      "6.510998666593649\n"
     ]
    },
    {
     "name": "stderr",
     "output_type": "stream",
     "text": [
      "\r",
      " 80%|████████  | 8/10 [01:01<00:15,  7.71s/it]"
     ]
    },
    {
     "name": "stdout",
     "output_type": "stream",
     "text": [
      "7.510998798899285\n"
     ]
    },
    {
     "name": "stderr",
     "output_type": "stream",
     "text": [
      "\r",
      " 90%|█████████ | 9/10 [01:08<00:07,  7.54s/it]"
     ]
    },
    {
     "name": "stdout",
     "output_type": "stream",
     "text": [
      "8.510999212171052\n"
     ]
    },
    {
     "name": "stderr",
     "output_type": "stream",
     "text": [
      "\r",
      "100%|██████████| 10/10 [01:16<00:00,  7.45s/it]"
     ]
    },
    {
     "name": "stdout",
     "output_type": "stream",
     "text": [
      "9.510998837121212\n",
      "+\n"
     ]
    },
    {
     "name": "stderr",
     "output_type": "stream",
     "text": [
      "\n"
     ]
    }
   ],
   "source": [
    "sigmas, MSEs, predictions = test_sigmas(model, time=True, recompute=False)"
   ]
  },
  {
   "cell_type": "code",
   "execution_count": 96,
   "metadata": {},
   "outputs": [
    {
     "data": {
      "text/plain": [
       "({0: 0.037163364793923036,\n",
       "  1: 0.025533723739794758,\n",
       "  2: 0.019894986802343497,\n",
       "  3: 0.021812371253848727,\n",
       "  4: 0.015804200640526105,\n",
       "  5: 0.014740303134015531,\n",
       "  6: 0.017648635469790844,\n",
       "  7: 0.01301565533770911,\n",
       "  8: 0.012680327441734106,\n",
       "  9: 0.013379843630873498},\n",
       " {0: 0.017202375713634876,\n",
       "  1: 0.004614147252031656,\n",
       "  2: 0.0036881720690961034,\n",
       "  3: 0.008880604812317613,\n",
       "  4: 0.009456578285544713,\n",
       "  5: 0.012079708215017457,\n",
       "  6: 0.021987777108686837,\n",
       "  7: 0.017841089818711686,\n",
       "  8: 0.020029285715083424,\n",
       "  9: 0.03214037453128818})"
      ]
     },
     "execution_count": 96,
     "metadata": {},
     "output_type": "execute_result"
    }
   ],
   "source": [
    "sigmas, MSEs"
   ]
  },
  {
   "cell_type": "code",
   "execution_count": 77,
   "metadata": {},
   "outputs": [
    {
     "data": {
      "text/plain": [
       "({0: 0.03574577519221782,\n",
       "  1: 0.02523249661887081,\n",
       "  2: 0.01995606331893105,\n",
       "  3: 0.02182584417097489,\n",
       "  4: 0.015767612385113653,\n",
       "  5: 0.01471381534258419,\n",
       "  6: 0.017705963135648404,\n",
       "  7: 0.01300192535354502,\n",
       "  8: 0.012642709524714479,\n",
       "  9: 0.013560269305244984},\n",
       " {0: 0.014009560962716586,\n",
       "  1: 0.003995020872398612,\n",
       "  2: 0.003779239030646516,\n",
       "  3: 0.008931147205499,\n",
       "  4: 0.009170935407985222,\n",
       "  5: 0.011414065487719269,\n",
       "  6: 0.021208103680256826,\n",
       "  7: 0.017330066233361845,\n",
       "  8: 0.020287351327648192,\n",
       "  9: 0.031331244276456886})"
      ]
     },
     "execution_count": 77,
     "metadata": {},
     "output_type": "execute_result"
    }
   ],
   "source": [
    "sigmas, MSEs"
   ]
  },
  {
   "cell_type": "code",
   "execution_count": 49,
   "metadata": {},
   "outputs": [
    {
     "data": {
      "text/plain": [
       "{0: 0.038474174890732814,\n",
       " 1: 0.026154273827988597,\n",
       " 2: 0.02210689825699236,\n",
       " 3: 0.023699502174917113,\n",
       " 4: 0.016853081270880265,\n",
       " 5: 0.015424544066537142,\n",
       " 6: 0.018125263604300206,\n",
       " 7: 0.012623399265743912,\n",
       " 8: 0.012157339131163536,\n",
       " 9: 0.01369413145286455}"
      ]
     },
     "execution_count": 49,
     "metadata": {},
     "output_type": "execute_result"
    }
   ],
   "source": [
    "sigmas"
   ]
  },
  {
   "cell_type": "code",
   "execution_count": 78,
   "metadata": {},
   "outputs": [],
   "source": [
    "a = 2.8\n",
    "b=0.59\n",
    "c=0\n"
   ]
  },
  {
   "cell_type": "code",
   "execution_count": 97,
   "metadata": {},
   "outputs": [
    {
     "data": {
      "text/plain": [
       "<matplotlib.legend.Legend at 0x7fe869e09b38>"
      ]
     },
     "execution_count": 97,
     "metadata": {},
     "output_type": "execute_result"
    },
    {
     "data": {
      "image/png": "[encoded data removed]",
      "text/plain": [
       "<Figure size 720x720 with 1 Axes>"
      ]
     },
     "metadata": {
      "needs_background": "light"
     },
     "output_type": "display_data"
    }
   ],
   "source": [
    "# Plot sigmas\n",
    "Evis = np.array([en + 1.022  for en in range(10)])\n",
    "Perc_sigmas = [sigmas[en] for en in range(10)]\n",
    "perc_3_sqrt_E = [0.03 / np.sqrt(en) for en in Evis]\n",
    "fig = plt.figure(figsize=(10,10))\n",
    "plt.scatter(Evis, Perc_sigmas, label='Our sigma')\n",
    "plt.scatter(Evis, perc_3_sqrt_E, label=r'$\\frac{0.03}{\\sqrt{E}}$')\n",
    "plt.scatter(Evis, 0.01*np.sqrt((a/np.sqrt(Evis))**2 + b**2 + (c/Evis)**2), label=r'$abc$')\n",
    "plt.ylabel(\"std in per cent\")\n",
    "plt.xlabel(\"E visual\")\n",
    "plt.legend(fontsize=15)"
   ]
  },
  {
   "cell_type": "code",
   "execution_count": 153,
   "metadata": {},
   "outputs": [
    {
     "data": {
      "text/plain": [
       "array([2.83184266, 2.05558974, 1.71534498, 1.51571071, 1.38174926,\n",
       "       1.28452056, 1.21020289, 1.15126556, 1.10321662, 1.06319283])"
      ]
     },
     "execution_count": 153,
     "metadata": {},
     "output_type": "execute_result"
    }
   ],
   "source": [
    "np.sqrt((a/np.sqrt(Evis))**2 + b**2 + (c/Evis)**2)"
   ]
  },
  {
   "cell_type": "code",
   "execution_count": 128,
   "metadata": {},
   "outputs": [],
   "source": [
    "true_info = pd.read_csv(TRAIN_DIR + str(1)+'MeV_'+'true_info.csv')"
   ]
  },
  {
   "cell_type": "code",
   "execution_count": 86,
   "metadata": {},
   "outputs": [
    {
     "data": {
      "text/plain": [
       "{0: 0.32402012211672154,\n",
       " 1: 0.283077267854172,\n",
       " 2: 0.26076454010359984,\n",
       " 3: 0.24662389940641563,\n",
       " 4: 0.22839128695606983,\n",
       " 5: 0.21886375239789502,\n",
       " 6: 0.20932755816665902,\n",
       " 7: 0.19612737804283614,\n",
       " 8: 0.1803405524640515,\n",
       " 9: 0.15392615773066362}"
      ]
     },
     "execution_count": 86,
     "metadata": {},
     "output_type": "execute_result"
    }
   ],
   "source": [
    "MSEs"
   ]
  },
  {
   "cell_type": "code",
   "execution_count": 89,
   "metadata": {},
   "outputs": [
    {
     "data": {
      "text/plain": [
       "(13699, 151, 151, 1)"
      ]
     },
     "execution_count": 89,
     "metadata": {},
     "output_type": "execute_result"
    }
   ],
   "source": [
    "data_lpmt.shape"
   ]
  },
  {
   "cell_type": "code",
   "execution_count": 93,
   "metadata": {},
   "outputs": [
    {
     "data": {
      "text/plain": [
       "169.0"
      ]
     },
     "execution_count": 93,
     "metadata": {},
     "output_type": "execute_result"
    }
   ],
   "source": [
    "data_lpmt"
   ]
  },
  {
   "cell_type": "code",
   "execution_count": 121,
   "metadata": {},
   "outputs": [
    {
     "data": {
      "text/plain": [
       "<matplotlib.image.AxesImage at 0x7f654cb39358>"
      ]
     },
     "execution_count": 121,
     "metadata": {},
     "output_type": "execute_result"
    },
    {
     "data": {
      "image/png": "[encoded data removed]",
      "text/plain": [
       "<Figure size 720x720 with 1 Axes>"
      ]
     },
     "metadata": {
      "needs_background": "light"
     },
     "output_type": "display_data"
    }
   ],
   "source": [
    "fig = plt.figure(figsize=(10,10))\n",
    "plt.imshow(data_lpmt[49][::2,:,0])"
   ]
  },
  {
   "cell_type": "code",
   "execution_count": 167,
   "metadata": {},
   "outputs": [],
   "source": [
    "ev_min = tr_spmt_hits[tr_spmt_hits.isDN==False][['event', 'hitTime']].groupby('event').min()"
   ]
  },
  {
   "cell_type": "code",
   "execution_count": 168,
   "metadata": {},
   "outputs": [],
   "source": [
    "event2min = {id_: min_ for id_, min_ in zip(ev_min.index, ev_min.hitTime)}"
   ]
  },
  {
   "cell_type": "code",
   "execution_count": 170,
   "metadata": {},
   "outputs": [
    {
     "data": {
      "text/html": [
       "<div>\n",
       "<style scoped>\n",
       "    .dataframe tbody tr th:only-of-type {\n",
       "        vertical-align: middle;\n",
       "    }\n",
       "\n",
       "    .dataframe tbody tr th {\n",
       "        vertical-align: top;\n",
       "    }\n",
       "\n",
       "    .dataframe thead th {\n",
       "        text-align: right;\n",
       "    }\n",
       "</style>\n",
       "<table border=\"1\" class=\"dataframe\">\n",
       "  <thead>\n",
       "    <tr style=\"text-align: right;\">\n",
       "      <th></th>\n",
       "      <th>hitTime</th>\n",
       "    </tr>\n",
       "    <tr>\n",
       "      <th>event</th>\n",
       "      <th></th>\n",
       "    </tr>\n",
       "  </thead>\n",
       "  <tbody>\n",
       "    <tr>\n",
       "      <th>0</th>\n",
       "      <td>24.623285</td>\n",
       "    </tr>\n",
       "    <tr>\n",
       "      <th>1</th>\n",
       "      <td>26.568943</td>\n",
       "    </tr>\n",
       "    <tr>\n",
       "      <th>2</th>\n",
       "      <td>23.950851</td>\n",
       "    </tr>\n",
       "  </tbody>\n",
       "</table>\n",
       "</div>"
      ],
      "text/plain": [
       "         hitTime\n",
       "event           \n",
       "0      24.623285\n",
       "1      26.568943\n",
       "2      23.950851"
      ]
     },
     "execution_count": 170,
     "metadata": {},
     "output_type": "execute_result"
    }
   ],
   "source": [
    "ev_min[:3]"
   ]
  },
  {
   "cell_type": "code",
   "execution_count": 94,
   "metadata": {},
   "outputs": [],
   "source": [
    "import matplotlib.pyplot as plt\n",
    "import seaborn as sns\n",
    "from scipy import stats"
   ]
  },
  {
   "cell_type": "code",
   "execution_count": 95,
   "metadata": {},
   "outputs": [
    {
     "name": "stdout",
     "output_type": "stream",
     "text": [
      "1.5109988697622994\n"
     ]
    }
   ],
   "source": [
    "test_dir='/mnt/iprovilkov/data_dir/'\n",
    "test_column='E'\n",
    "energy = 1\n",
    "CONST = 1.022\n",
    "data_lpmt = np.load(test_dir + str(1) + 'data_lpmt_time.npy')\n",
    "true_info = pd.read_csv(TRAIN_DIR + str(1)+'MeV_'+'true_info.csv')\n",
    "mask = (true_info.R<=MAXR)\n",
    "data_lpmt = data_lpmt[mask]\n",
    "true_info = true_info[mask]\n",
    "preds = np.maximum(model.predict(data_lpmt), 0)\n",
    "y_test = true_info[test_column]\n",
    "print(y_test.mean())"
   ]
  },
  {
   "cell_type": "code",
   "execution_count": 97,
   "metadata": {},
   "outputs": [],
   "source": [
    "diff = (preds - y_test.mean()) / (energy + CONST)"
   ]
  },
  {
   "cell_type": "code",
   "execution_count": 104,
   "metadata": {},
   "outputs": [],
   "source": [
    "mean_diff = (y_test.mean() - preds.mean()) "
   ]
  },
  {
   "cell_type": "code",
   "execution_count": 105,
   "metadata": {},
   "outputs": [],
   "source": [
    "diff_2 = (preds + mean_diff - y_test.mean()) / (energy + CONST)"
   ]
  },
  {
   "cell_type": "code",
   "execution_count": 112,
   "metadata": {},
   "outputs": [
    {
     "data": {
      "text/plain": [
       "0.030855266"
      ]
     },
     "execution_count": 112,
     "metadata": {},
     "output_type": "execute_result"
    }
   ],
   "source": [
    "np.std(diff_2)"
   ]
  },
  {
   "cell_type": "code",
   "execution_count": 113,
   "metadata": {},
   "outputs": [
    {
     "data": {
      "text/plain": [
       "0.030855266"
      ]
     },
     "execution_count": 113,
     "metadata": {},
     "output_type": "execute_result"
    }
   ],
   "source": [
    "np.std(diff)"
   ]
  },
  {
   "cell_type": "code",
   "execution_count": 107,
   "metadata": {},
   "outputs": [
    {
     "data": {
      "text/plain": [
       "Text(0.5, 0, 'Energy error, mEv')"
      ]
     },
     "execution_count": 107,
     "metadata": {},
     "output_type": "execute_result"
    },
    {
     "data": {
      "image/png": "[encoded data removed]",
      "text/plain": [
       "<Figure size 432x288 with 1 Axes>"
      ]
     },
     "metadata": {
      "needs_background": "light"
     },
     "output_type": "display_data"
    }
   ],
   "source": [
    "sns.distplot(diff_2, kde=False, fit=stats.norm, bins=300)\n",
    "plt.xlim((-0.3,0.3))\n",
    "plt.xlabel(\"Energy error, mEv\")"
   ]
  },
  {
   "cell_type": "code",
   "execution_count": 109,
   "metadata": {},
   "outputs": [],
   "source": [
    "import scipy.stats as sps"
   ]
  },
  {
   "cell_type": "code",
   "execution_count": 115,
   "metadata": {},
   "outputs": [],
   "source": [
    "norm = sps.norm"
   ]
  },
  {
   "cell_type": "code",
   "execution_count": 122,
   "metadata": {},
   "outputs": [
    {
     "data": {
      "text/plain": [
       "(-0.014148425, 0.030855266)"
      ]
     },
     "execution_count": 122,
     "metadata": {},
     "output_type": "execute_result"
    }
   ],
   "source": [
    "norm.fit(diff)"
   ]
  },
  {
   "cell_type": "code",
   "execution_count": null,
   "metadata": {},
   "outputs": [],
   "source": []
  },
  {
   "cell_type": "code",
   "execution_count": null,
   "metadata": {},
   "outputs": [],
   "source": []
  },
  {
   "cell_type": "code",
   "execution_count": null,
   "metadata": {},
   "outputs": [],
   "source": []
  },
  {
   "cell_type": "code",
   "execution_count": null,
   "metadata": {},
   "outputs": [],
   "source": []
  },
  {
   "cell_type": "code",
   "execution_count": 98,
   "metadata": {},
   "outputs": [],
   "source": [
    "# Make a submission\n",
    "TEST_DIR = '/srv/hd5/data/vprov/data/phase_1/test/'\n",
    "te_lpmt_hits = pd.read_hdf(TEST_DIR + 'test_l_hits.h5', mode='r')\n",
    "te_spmt_hits = pd.read_hdf(TEST_DIR + 'test_s_hits.h5', mode='r')"
   ]
  },
  {
   "cell_type": "code",
   "execution_count": 99,
   "metadata": {},
   "outputs": [
    {
     "data": {
      "text/plain": [
       "5000"
      ]
     },
     "execution_count": 99,
     "metadata": {},
     "output_type": "execute_result"
    }
   ],
   "source": [
    "len(te_lpmt_hits['event'].unique())"
   ]
  },
  {
   "cell_type": "code",
   "execution_count": 101,
   "metadata": {},
   "outputs": [
    {
     "name": "stdout",
     "output_type": "stream",
     "text": [
      "Make projection\n",
      "Starting cycle...\n"
     ]
    },
    {
     "data": {
      "application/vnd.jupyter.widget-view+json": {
       "model_id": "b39ee2c8a9c94e6da12dcdfef09ba21e",
       "version_major": 2,
       "version_minor": 0
      },
      "text/plain": [
       "HBox(children=(IntProgress(value=1, bar_style='info', max=1), HTML(value='')))"
      ]
     },
     "metadata": {},
     "output_type": "display_data"
    },
    {
     "name": "stdout",
     "output_type": "stream",
     "text": [
      "\n"
     ]
    }
   ],
   "source": [
    "te_data_lpmt, te_event_to_id = get_data_2dprojection(te_lpmt_hits, \n",
    "                                                              te_spmt_hits, \n",
    "                                                              tr_pos, \n",
    "                                                              tr_true_info,\n",
    "                                                              use_spmt=True, time=True)"
   ]
  },
  {
   "cell_type": "code",
   "execution_count": 102,
   "metadata": {},
   "outputs": [
    {
     "data": {
      "text/plain": [
       "(5000, 151, 151, 3)"
      ]
     },
     "execution_count": 102,
     "metadata": {},
     "output_type": "execute_result"
    }
   ],
   "source": [
    "te_data_lpmt.shape"
   ]
  },
  {
   "cell_type": "code",
   "execution_count": 91,
   "metadata": {},
   "outputs": [],
   "source": [
    "#te_data_lpmt = te_data_lpmt.reshape((*te_data_lpmt.shape, 1))"
   ]
  },
  {
   "cell_type": "code",
   "execution_count": 103,
   "metadata": {},
   "outputs": [],
   "source": [
    "test_answer = model.predict(te_data_lpmt)"
   ]
  },
  {
   "cell_type": "code",
   "execution_count": 104,
   "metadata": {},
   "outputs": [],
   "source": [
    "test_answer = np.maximum(test_answer, 0)"
   ]
  },
  {
   "cell_type": "code",
   "execution_count": 105,
   "metadata": {},
   "outputs": [
    {
     "data": {
      "text/plain": [
       "array([[3.1486816],\n",
       "       [6.8654876],\n",
       "       [2.4813795]], dtype=float32)"
      ]
     },
     "execution_count": 105,
     "metadata": {},
     "output_type": "execute_result"
    }
   ],
   "source": [
    "test_answer[:3]"
   ]
  },
  {
   "cell_type": "code",
   "execution_count": 111,
   "metadata": {},
   "outputs": [],
   "source": [
    "forR = pd.read_csv('./submissions/03_02_mix.csv')"
   ]
  },
  {
   "cell_type": "code",
   "execution_count": 112,
   "metadata": {},
   "outputs": [
    {
     "data": {
      "text/html": [
       "<div>\n",
       "<style scoped>\n",
       "    .dataframe tbody tr th:only-of-type {\n",
       "        vertical-align: middle;\n",
       "    }\n",
       "\n",
       "    .dataframe tbody tr th {\n",
       "        vertical-align: top;\n",
       "    }\n",
       "\n",
       "    .dataframe thead th {\n",
       "        text-align: right;\n",
       "    }\n",
       "</style>\n",
       "<table border=\"1\" class=\"dataframe\">\n",
       "  <thead>\n",
       "    <tr style=\"text-align: right;\">\n",
       "      <th></th>\n",
       "      <th>E</th>\n",
       "      <th>R</th>\n",
       "      <th>evtID</th>\n",
       "    </tr>\n",
       "  </thead>\n",
       "  <tbody>\n",
       "    <tr>\n",
       "      <th>0</th>\n",
       "      <td>13554.038</td>\n",
       "      <td>13554.038</td>\n",
       "      <td>16000</td>\n",
       "    </tr>\n",
       "    <tr>\n",
       "      <th>1</th>\n",
       "      <td>15458.701</td>\n",
       "      <td>15458.701</td>\n",
       "      <td>16001</td>\n",
       "    </tr>\n",
       "    <tr>\n",
       "      <th>2</th>\n",
       "      <td>8600.067</td>\n",
       "      <td>8600.067</td>\n",
       "      <td>16002</td>\n",
       "    </tr>\n",
       "  </tbody>\n",
       "</table>\n",
       "</div>"
      ],
      "text/plain": [
       "           E          R  evtID\n",
       "0  13554.038  13554.038  16000\n",
       "1  15458.701  15458.701  16001\n",
       "2   8600.067   8600.067  16002"
      ]
     },
     "execution_count": 112,
     "metadata": {},
     "output_type": "execute_result"
    }
   ],
   "source": [
    "forR[:3]"
   ]
  },
  {
   "cell_type": "code",
   "execution_count": 113,
   "metadata": {},
   "outputs": [],
   "source": [
    "x = te_lpmt_hits[\"event\"].unique()\n",
    "pred = pd.DataFrame({\n",
    "            \"evtID\": x,\n",
    "            \"R\": forR['R'],\n",
    "            \"E\": test_answer[:,0]\n",
    "    })"
   ]
  },
  {
   "cell_type": "code",
   "execution_count": 114,
   "metadata": {},
   "outputs": [
    {
     "data": {
      "text/html": [
       "<div>\n",
       "<style scoped>\n",
       "    .dataframe tbody tr th:only-of-type {\n",
       "        vertical-align: middle;\n",
       "    }\n",
       "\n",
       "    .dataframe tbody tr th {\n",
       "        vertical-align: top;\n",
       "    }\n",
       "\n",
       "    .dataframe thead th {\n",
       "        text-align: right;\n",
       "    }\n",
       "</style>\n",
       "<table border=\"1\" class=\"dataframe\">\n",
       "  <thead>\n",
       "    <tr style=\"text-align: right;\">\n",
       "      <th></th>\n",
       "      <th>E</th>\n",
       "      <th>R</th>\n",
       "      <th>evtID</th>\n",
       "    </tr>\n",
       "  </thead>\n",
       "  <tbody>\n",
       "    <tr>\n",
       "      <th>0</th>\n",
       "      <td>3.148682</td>\n",
       "      <td>13554.038</td>\n",
       "      <td>16000</td>\n",
       "    </tr>\n",
       "    <tr>\n",
       "      <th>1</th>\n",
       "      <td>6.865488</td>\n",
       "      <td>15458.701</td>\n",
       "      <td>16001</td>\n",
       "    </tr>\n",
       "    <tr>\n",
       "      <th>2</th>\n",
       "      <td>2.481380</td>\n",
       "      <td>8600.067</td>\n",
       "      <td>16002</td>\n",
       "    </tr>\n",
       "  </tbody>\n",
       "</table>\n",
       "</div>"
      ],
      "text/plain": [
       "          E          R  evtID\n",
       "0  3.148682  13554.038  16000\n",
       "1  6.865488  15458.701  16001\n",
       "2  2.481380   8600.067  16002"
      ]
     },
     "execution_count": 114,
     "metadata": {},
     "output_type": "execute_result"
    }
   ],
   "source": [
    "pred[:3]"
   ]
  },
  {
   "cell_type": "code",
   "execution_count": 115,
   "metadata": {},
   "outputs": [],
   "source": [
    "pred.to_csv('./submissions/03_02_mix.csv', index=None)"
   ]
  },
  {
   "cell_type": "code",
   "execution_count": 109,
   "metadata": {},
   "outputs": [
    {
     "data": {
      "text/plain": [
       "0.10578900484730176"
      ]
     },
     "execution_count": 109,
     "metadata": {},
     "output_type": "execute_result"
    }
   ],
   "source": [
    "test_resultsE"
   ]
  },
  {
   "cell_type": "code",
   "execution_count": 112,
   "metadata": {},
   "outputs": [
    {
     "data": {
      "text/plain": [
       "array([ 0.07827002,  0.16265111,  0.09557195, ...,  0.29406197,\n",
       "        0.4023328 , -0.02289935])"
      ]
     },
     "execution_count": 112,
     "metadata": {},
     "output_type": "execute_result"
    }
   ],
   "source": [
    "np.maximum(preds[:,0], 0) - y_test[:,0]"
   ]
  },
  {
   "cell_type": "code",
   "execution_count": 119,
   "metadata": {},
   "outputs": [
    {
     "data": {
      "text/plain": [
       "Text(0.5,0,'Energy error, mEv')"
      ]
     },
     "execution_count": 119,
     "metadata": {},
     "output_type": "execute_result"
    },
    {
     "data": {
      "image/png": "[encoded data removed]",
      "text/plain": [
       "<Figure size 432x288 with 1 Axes>"
      ]
     },
     "metadata": {},
     "output_type": "display_data"
    }
   ],
   "source": [
    "sns.distplot(np.maximum(preds[:,0], 0) - y_test[:,0], kde=False, fit=stats.norm, bins=300)\n",
    "plt.xlim((-2,2))\n",
    "plt.xlabel(\"Energy error, mEv\")"
   ]
  },
  {
   "cell_type": "code",
   "execution_count": 122,
   "metadata": {},
   "outputs": [
    {
     "data": {
      "text/plain": [
       "0.012328221320621629"
      ]
     },
     "execution_count": 122,
     "metadata": {},
     "output_type": "execute_result"
    }
   ],
   "source": [
    "(preds-y_test).mean() / y_test.mean()"
   ]
  },
  {
   "cell_type": "code",
   "execution_count": 49,
   "metadata": {},
   "outputs": [
    {
     "data": {
      "text/plain": [
       "40.478805095559686"
      ]
     },
     "execution_count": 49,
     "metadata": {},
     "output_type": "execute_result"
    }
   ],
   "source": [
    "test_results.mean() / 10"
   ]
  },
  {
   "cell_type": "code",
   "execution_count": 53,
   "metadata": {},
   "outputs": [],
   "source": [
    "results = model.predict(X_test)"
   ]
  },
  {
   "cell_type": "code",
   "execution_count": 54,
   "metadata": {},
   "outputs": [],
   "source": [
    "xs = results[:,0] - y_test[:,0]"
   ]
  },
  {
   "cell_type": "code",
   "execution_count": 57,
   "metadata": {},
   "outputs": [
    {
     "data": {
      "text/plain": [
       "(-1000, 1000)"
      ]
     },
     "execution_count": 57,
     "metadata": {},
     "output_type": "execute_result"
    },
    {
     "data": {
      "image/png": "[encoded data removed]",
      "text/plain": [
       "<Figure size 432x288 with 1 Axes>"
      ]
     },
     "metadata": {},
     "output_type": "display_data"
    }
   ],
   "source": [
    "sns.distplot(xs, kde=False, fit=stats.norm, bins=100)\n",
    "plt.xlim(-1000,1000)"
   ]
  },
  {
   "cell_type": "code",
   "execution_count": 59,
   "metadata": {},
   "outputs": [
    {
     "data": {
      "text/plain": [
       "21.422522304369796"
      ]
     },
     "execution_count": 59,
     "metadata": {},
     "output_type": "execute_result"
    }
   ],
   "source": [
    "abs(xs).mean()/10"
   ]
  },
  {
   "cell_type": "code",
   "execution_count": null,
   "metadata": {},
   "outputs": [],
   "source": [
    "#json_file = open('model.json', 'r')\n",
    "#loaded_model_json = json_file.read()\n",
    "#json_file.close()\n",
    "#loaded_model = model_from_json(loaded_model_json)\n",
    "## load weights into new model\n",
    "#loaded_model.load_weights(\"model.h5\")\n",
    "#print(\"Loaded model from disk\")\n",
    "# \n",
    "## evaluate loaded model on test data\n",
    "#loaded_model.compile(loss='binary_crossentropy', optimizer='rmsprop', metrics=['accuracy'])\n",
    "#score = loaded_model.evaluate(X, Y, verbose=0)"
   ]
  },
  {
   "cell_type": "code",
   "execution_count": null,
   "metadata": {},
   "outputs": [],
   "source": [
    "# Adversarial example с нормальным текстом\n",
    "# Кэширование перевода\n",
    "# Bert в телефоне"
   ]
  }
 ],
 "metadata": {
  "kernelspec": {
   "display_name": "Python 3",
   "language": "python",
   "name": "python3"
  },
  "language_info": {
   "codemirror_mode": {
    "name": "ipython",
    "version": 3
   },
   "file_extension": ".py",
   "mimetype": "text/x-python",
   "name": "python",
   "nbconvert_exporter": "python",
   "pygments_lexer": "ipython3",
   "version": "3.5.6"
  }
 },
 "nbformat": 4,
 "nbformat_minor": 2
}
