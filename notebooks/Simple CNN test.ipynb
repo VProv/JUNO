{
 "cells": [
  {
   "cell_type": "code",
   "execution_count": 1,
   "metadata": {},
   "outputs": [],
   "source": [
    "import numpy as np\n",
    "import os"
   ]
  },
  {
   "cell_type": "code",
   "execution_count": 2,
   "metadata": {},
   "outputs": [],
   "source": [
    "import tensorflow as tf"
   ]
  },
  {
   "cell_type": "code",
   "execution_count": 3,
   "metadata": {},
   "outputs": [],
   "source": [
    "os.environ[\"CUDA_DEVICE_ORDER\"]=\"PCI_BUS_ID\"\n",
    "os.environ[\"CUDA_VISIBLE_DEVICES\"]=\"2\""
   ]
  },
  {
   "cell_type": "code",
   "execution_count": 4,
   "metadata": {},
   "outputs": [],
   "source": [
    "#gpu_fraction = 0.1\n",
    "#gpu_options = tf.GPUOptions(per_process_gpu_memory_fraction=gpu_fraction)\n",
    "#sess = tf.Session(config=tf.ConfigProto(gpu_options=gpu_options))"
   ]
  },
  {
   "cell_type": "code",
   "execution_count": 5,
   "metadata": {},
   "outputs": [],
   "source": [
    "import tensorflow as tf\n",
    "sess = tf.Session(config=tf.ConfigProto(log_device_placement=True))"
   ]
  },
  {
   "cell_type": "code",
   "execution_count": 6,
   "metadata": {},
   "outputs": [],
   "source": [
    "y_val = np.load('/srv/hd5/data/vprov/y_val.np.npy')\n",
    "data_lpmt = np.load('/srv/hd5/data/vprov/lpmt_proj.np.npy')"
   ]
  },
  {
   "cell_type": "code",
   "execution_count": 7,
   "metadata": {},
   "outputs": [],
   "source": [
    "data_lpmt = data_lpmt.reshape((*data_lpmt.shape, 1))"
   ]
  },
  {
   "cell_type": "code",
   "execution_count": 8,
   "metadata": {},
   "outputs": [
    {
     "name": "stderr",
     "output_type": "stream",
     "text": [
      "Using TensorFlow backend.\n"
     ]
    }
   ],
   "source": [
    "import keras\n",
    "import keras.layers as L\n",
    "from keras.models import Sequential"
   ]
  },
  {
   "cell_type": "code",
   "execution_count": 9,
   "metadata": {},
   "outputs": [
    {
     "data": {
      "text/plain": [
       "['/job:localhost/replica:0/task:0/device:GPU:0']"
      ]
     },
     "execution_count": 9,
     "metadata": {},
     "output_type": "execute_result"
    }
   ],
   "source": [
    "from keras import backend as K\n",
    "K.tensorflow_backend._get_available_gpus()"
   ]
  },
  {
   "cell_type": "code",
   "execution_count": 10,
   "metadata": {},
   "outputs": [
    {
     "data": {
      "text/plain": [
       "[name: \"/device:CPU:0\"\n",
       " device_type: \"CPU\"\n",
       " memory_limit: 268435456\n",
       " locality {\n",
       " }\n",
       " incarnation: 7342820708004838026, name: \"/device:GPU:0\"\n",
       " device_type: \"GPU\"\n",
       " memory_limit: 9885951591\n",
       " locality {\n",
       "   bus_id: 2\n",
       "   numa_node: 1\n",
       "   links {\n",
       "   }\n",
       " }\n",
       " incarnation: 10459996421049617109\n",
       " physical_device_desc: \"device: 0, name: Tesla K40m, pci bus id: 0000:83:00.0, compute capability: 3.5\"]"
      ]
     },
     "execution_count": 10,
     "metadata": {},
     "output_type": "execute_result"
    }
   ],
   "source": [
    "from tensorflow.python.client import device_lib\n",
    "device_lib.list_local_devices()"
   ]
  },
  {
   "cell_type": "code",
   "execution_count": 11,
   "metadata": {},
   "outputs": [],
   "source": [
    "model = Sequential()\n",
    "model.add(L.Conv2D(filters=128, kernel_size=(3,3),activation='relu'))\n",
    "model.add(L.MaxPool2D())\n",
    "model.add(L.Conv2D(filters=128, kernel_size=(3,3),activation='relu'))\n",
    "model.add(L.MaxPool2D())\n",
    "model.add(L.Conv2D(filters=128, kernel_size=(3,3),activation='relu'))\n",
    "model.add(L.MaxPool2D())\n",
    "model.add(L.Conv2D(filters=128, kernel_size=(3,3),activation='relu'))\n",
    "model.add(L.MaxPool2D())\n",
    "model.add(L.Conv2D(filters=256, kernel_size=(3,3),activation='relu'))\n",
    "model.add(L.Flatten())\n",
    "model.add(L.Dense(256, activation='relu'))\n",
    "model.add(L.Dense(128, activation='relu'))\n",
    "model.add(L.Dense(3))"
   ]
  },
  {
   "cell_type": "code",
   "execution_count": 12,
   "metadata": {},
   "outputs": [],
   "source": [
    "model.compile(loss='mean_squared_error', optimizer='adam')"
   ]
  },
  {
   "cell_type": "code",
   "execution_count": 13,
   "metadata": {},
   "outputs": [
    {
     "name": "stdout",
     "output_type": "stream",
     "text": [
      "_________________________________________________________________\n",
      "Layer (type)                 Output Shape              Param #   \n",
      "=================================================================\n",
      "conv2d_1 (Conv2D)            (None, 149, 149, 128)     1280      \n",
      "_________________________________________________________________\n",
      "max_pooling2d_1 (MaxPooling2 (None, 74, 74, 128)       0         \n",
      "_________________________________________________________________\n",
      "conv2d_2 (Conv2D)            (None, 72, 72, 128)       147584    \n",
      "_________________________________________________________________\n",
      "max_pooling2d_2 (MaxPooling2 (None, 36, 36, 128)       0         \n",
      "_________________________________________________________________\n",
      "conv2d_3 (Conv2D)            (None, 34, 34, 128)       147584    \n",
      "_________________________________________________________________\n",
      "max_pooling2d_3 (MaxPooling2 (None, 17, 17, 128)       0         \n",
      "_________________________________________________________________\n",
      "conv2d_4 (Conv2D)            (None, 15, 15, 128)       147584    \n",
      "_________________________________________________________________\n",
      "max_pooling2d_4 (MaxPooling2 (None, 7, 7, 128)         0         \n",
      "_________________________________________________________________\n",
      "conv2d_5 (Conv2D)            (None, 5, 5, 256)         295168    \n",
      "_________________________________________________________________\n",
      "flatten_1 (Flatten)          (None, 6400)              0         \n",
      "_________________________________________________________________\n",
      "dense_1 (Dense)              (None, 256)               1638656   \n",
      "_________________________________________________________________\n",
      "dense_2 (Dense)              (None, 128)               32896     \n",
      "_________________________________________________________________\n",
      "dense_3 (Dense)              (None, 3)                 387       \n",
      "=================================================================\n",
      "Total params: 2,411,139\n",
      "Trainable params: 2,411,139\n",
      "Non-trainable params: 0\n",
      "_________________________________________________________________\n"
     ]
    }
   ],
   "source": [
    "model.build(input_shape=(None, 151,151,1))\n",
    "model.summary()"
   ]
  },
  {
   "cell_type": "code",
   "execution_count": 14,
   "metadata": {},
   "outputs": [
    {
     "name": "stdout",
     "output_type": "stream",
     "text": [
      "Epoch 1/10\n",
      "10000/10000 [==============================] - 47s 5ms/step - loss: 10868712.9808\n",
      "Epoch 2/10\n",
      "10000/10000 [==============================] - 44s 4ms/step - loss: 2195968.0498\n",
      "Epoch 3/10\n",
      "10000/10000 [==============================] - 44s 4ms/step - loss: 1282199.5698\n",
      "Epoch 4/10\n",
      "10000/10000 [==============================] - 44s 4ms/step - loss: 922904.7975\n",
      "Epoch 5/10\n",
      "10000/10000 [==============================] - 44s 4ms/step - loss: 597748.4038\n",
      "Epoch 6/10\n",
      "10000/10000 [==============================] - 44s 4ms/step - loss: 469088.9893\n",
      "Epoch 7/10\n",
      "10000/10000 [==============================] - 44s 4ms/step - loss: 402184.7794\n",
      "Epoch 8/10\n",
      "10000/10000 [==============================] - 44s 4ms/step - loss: 339331.1719\n",
      "Epoch 9/10\n",
      "10000/10000 [==============================] - 43s 4ms/step - loss: 291601.6190\n",
      "Epoch 10/10\n",
      "10000/10000 [==============================] - 44s 4ms/step - loss: 273941.7331\n"
     ]
    },
    {
     "data": {
      "text/plain": [
       "<keras.callbacks.History at 0x7f169405edd8>"
      ]
     },
     "execution_count": 14,
     "metadata": {},
     "output_type": "execute_result"
    }
   ],
   "source": [
    "model.fit(data_lpmt[:30000], y_val[:30000], batch_size=32, epochs=10)"
   ]
  },
  {
   "cell_type": "code",
   "execution_count": 15,
   "metadata": {},
   "outputs": [
    {
     "name": "stdout",
     "output_type": "stream",
     "text": [
      "Train on 10000 samples, validate on 1000 samples\n",
      "Epoch 1/100\n",
      "10000/10000 [==============================] - 46s 5ms/step - loss: 277009.9170 - val_loss: 358774.1773\n",
      "Epoch 2/100\n",
      "10000/10000 [==============================] - 45s 5ms/step - loss: 235342.5064 - val_loss: 158385.2583\n",
      "Epoch 3/100\n",
      "10000/10000 [==============================] - 45s 5ms/step - loss: 237433.5944 - val_loss: 217008.4484\n",
      "Epoch 4/100\n",
      "10000/10000 [==============================] - 45s 5ms/step - loss: 266821.6987 - val_loss: 145001.6776\n",
      "Epoch 5/100\n",
      "10000/10000 [==============================] - 45s 5ms/step - loss: 222008.6091 - val_loss: 209102.5775\n",
      "Epoch 6/100\n",
      "10000/10000 [==============================] - 45s 5ms/step - loss: 181750.0857 - val_loss: 157785.3810\n",
      "Epoch 7/100\n",
      "10000/10000 [==============================] - 45s 5ms/step - loss: 168908.7380 - val_loss: 188557.0017\n",
      "Epoch 8/100\n",
      "10000/10000 [==============================] - 45s 5ms/step - loss: 171007.6056 - val_loss: 140238.0722\n",
      "Epoch 9/100\n",
      "10000/10000 [==============================] - 45s 5ms/step - loss: 184628.6120 - val_loss: 131391.5140\n",
      "Epoch 10/100\n",
      "10000/10000 [==============================] - 45s 5ms/step - loss: 156235.6511 - val_loss: 141708.4287\n",
      "Epoch 11/100\n",
      "10000/10000 [==============================] - 45s 5ms/step - loss: 198609.4631 - val_loss: 158452.5600\n",
      "Epoch 12/100\n",
      "10000/10000 [==============================] - 45s 5ms/step - loss: 137479.6463 - val_loss: 143606.2774\n",
      "Epoch 13/100\n",
      "10000/10000 [==============================] - 45s 5ms/step - loss: 121109.2686 - val_loss: 171965.6951\n",
      "Epoch 14/100\n",
      "10000/10000 [==============================] - 45s 5ms/step - loss: 149608.6423 - val_loss: 149447.3365\n",
      "Epoch 15/100\n",
      "10000/10000 [==============================] - 45s 5ms/step - loss: 128065.4866 - val_loss: 444599.6875\n",
      "Epoch 16/100\n",
      "10000/10000 [==============================] - 45s 5ms/step - loss: 173190.0923 - val_loss: 145275.0041\n",
      "Epoch 17/100\n",
      "10000/10000 [==============================] - 45s 5ms/step - loss: 113875.8583 - val_loss: 91791.8144\n",
      "Epoch 18/100\n",
      "10000/10000 [==============================] - 45s 5ms/step - loss: 124135.3396 - val_loss: 118276.8941\n",
      "Epoch 19/100\n",
      "10000/10000 [==============================] - 45s 5ms/step - loss: 134506.9165 - val_loss: 73502.9234\n",
      "Epoch 20/100\n",
      "10000/10000 [==============================] - 45s 5ms/step - loss: 122221.0381 - val_loss: 105216.5029\n",
      "Epoch 21/100\n",
      "10000/10000 [==============================] - 45s 5ms/step - loss: 110677.4895 - val_loss: 164609.4120\n",
      "Epoch 22/100\n",
      "10000/10000 [==============================] - 45s 5ms/step - loss: 121984.8406 - val_loss: 123831.3512\n",
      "Epoch 23/100\n",
      "10000/10000 [==============================] - 45s 5ms/step - loss: 130187.4057 - val_loss: 95928.4772\n",
      "Epoch 24/100\n",
      "10000/10000 [==============================] - 45s 5ms/step - loss: 106671.5363 - val_loss: 90528.9700\n",
      "Epoch 25/100\n",
      "10000/10000 [==============================] - 45s 5ms/step - loss: 90844.2913 - val_loss: 83399.7523\n",
      "Epoch 26/100\n",
      "10000/10000 [==============================] - 45s 5ms/step - loss: 85599.1314 - val_loss: 69627.0085\n",
      "Epoch 27/100\n",
      "10000/10000 [==============================] - 45s 5ms/step - loss: 158044.9193 - val_loss: 108493.8865\n",
      "Epoch 28/100\n",
      "10000/10000 [==============================] - 45s 5ms/step - loss: 83437.3409 - val_loss: 53078.0505\n",
      "Epoch 29/100\n",
      "10000/10000 [==============================] - 45s 5ms/step - loss: 84708.1152 - val_loss: 68444.8301\n",
      "Epoch 30/100\n",
      "10000/10000 [==============================] - 45s 5ms/step - loss: 76796.4023 - val_loss: 82418.7711\n",
      "Epoch 31/100\n",
      "10000/10000 [==============================] - 45s 5ms/step - loss: 92127.7305 - val_loss: 93678.6639\n",
      "Epoch 32/100\n",
      "10000/10000 [==============================] - 45s 5ms/step - loss: 87874.8017 - val_loss: 154464.3808\n",
      "Epoch 33/100\n",
      "10000/10000 [==============================] - 45s 5ms/step - loss: 76536.5424 - val_loss: 166004.4965\n",
      "Epoch 34/100\n",
      "10000/10000 [==============================] - 45s 5ms/step - loss: 90406.6951 - val_loss: 73383.5955\n",
      "Epoch 35/100\n",
      "10000/10000 [==============================] - 45s 5ms/step - loss: 84992.3715 - val_loss: 81098.8814\n",
      "Epoch 36/100\n",
      "10000/10000 [==============================] - 45s 5ms/step - loss: 66436.8451 - val_loss: 109620.5513\n",
      "Epoch 37/100\n",
      "10000/10000 [==============================] - 45s 5ms/step - loss: 71757.8567 - val_loss: 120164.4958\n",
      "Epoch 38/100\n",
      "10000/10000 [==============================] - 45s 5ms/step - loss: 65977.3806 - val_loss: 76037.5573\n",
      "Epoch 39/100\n",
      "10000/10000 [==============================] - 45s 5ms/step - loss: 79312.1994 - val_loss: 61622.1089\n",
      "Epoch 40/100\n",
      "10000/10000 [==============================] - 45s 5ms/step - loss: 76683.2445 - val_loss: 76458.7145\n",
      "Epoch 41/100\n",
      "10000/10000 [==============================] - 45s 5ms/step - loss: 68455.2567 - val_loss: 52938.1729\n",
      "Epoch 42/100\n",
      "10000/10000 [==============================] - 45s 5ms/step - loss: 57571.1668 - val_loss: 71394.8046\n",
      "Epoch 43/100\n",
      "10000/10000 [==============================] - 45s 5ms/step - loss: 64768.7951 - val_loss: 49866.7360\n",
      "Epoch 44/100\n",
      "10000/10000 [==============================] - 45s 5ms/step - loss: 76804.1240 - val_loss: 76777.4481\n",
      "Epoch 45/100\n",
      "10000/10000 [==============================] - 45s 5ms/step - loss: 55262.7212 - val_loss: 73485.9334\n",
      "Epoch 46/100\n",
      "10000/10000 [==============================] - 45s 5ms/step - loss: 65057.0113 - val_loss: 42444.2901\n",
      "Epoch 47/100\n",
      "10000/10000 [==============================] - 45s 5ms/step - loss: 55364.3182 - val_loss: 62593.5292\n",
      "Epoch 48/100\n",
      "10000/10000 [==============================] - 45s 4ms/step - loss: 66069.4614 - val_loss: 45062.7668\n",
      "Epoch 49/100\n",
      "10000/10000 [==============================] - 45s 5ms/step - loss: 45819.7760 - val_loss: 43764.4740\n",
      "Epoch 50/100\n",
      "10000/10000 [==============================] - 45s 5ms/step - loss: 55955.7759 - val_loss: 48953.8941\n",
      "Epoch 51/100\n",
      "10000/10000 [==============================] - 45s 5ms/step - loss: 48581.1904 - val_loss: 50672.2813\n",
      "Epoch 52/100\n",
      "10000/10000 [==============================] - 45s 5ms/step - loss: 53817.5198 - val_loss: 33027.6321\n",
      "Epoch 53/100\n",
      "10000/10000 [==============================] - 45s 4ms/step - loss: 47506.7469 - val_loss: 55583.1674\n",
      "Epoch 54/100\n",
      "10000/10000 [==============================] - 45s 5ms/step - loss: 48422.5710 - val_loss: 52399.1968\n",
      "Epoch 55/100\n",
      "10000/10000 [==============================] - 45s 5ms/step - loss: 49360.8507 - val_loss: 48476.9802\n",
      "Epoch 56/100\n",
      "10000/10000 [==============================] - 45s 5ms/step - loss: 48088.7346 - val_loss: 30830.3778\n",
      "Epoch 57/100\n",
      "10000/10000 [==============================] - 45s 5ms/step - loss: 44888.7455 - val_loss: 106961.7502\n",
      "Epoch 58/100\n",
      "10000/10000 [==============================] - 45s 4ms/step - loss: 61920.1509 - val_loss: 43583.1252\n",
      "Epoch 59/100\n",
      "10000/10000 [==============================] - 45s 5ms/step - loss: 45724.8712 - val_loss: 33194.6179\n",
      "Epoch 60/100\n",
      "10000/10000 [==============================] - 45s 5ms/step - loss: 44824.8735 - val_loss: 50261.8592\n",
      "Epoch 61/100\n",
      "10000/10000 [==============================] - 45s 5ms/step - loss: 43980.8934 - val_loss: 42384.3991\n",
      "Epoch 62/100\n",
      "10000/10000 [==============================] - 45s 5ms/step - loss: 40539.2237 - val_loss: 69090.4057\n",
      "Epoch 63/100\n",
      "10000/10000 [==============================] - 45s 4ms/step - loss: 48486.0815 - val_loss: 46078.3735\n",
      "Epoch 64/100\n",
      "10000/10000 [==============================] - 45s 4ms/step - loss: 31689.3422 - val_loss: 46756.6942\n",
      "Epoch 65/100\n",
      "10000/10000 [==============================] - 45s 4ms/step - loss: 41224.8928 - val_loss: 35545.3388\n",
      "Epoch 66/100\n",
      "10000/10000 [==============================] - 45s 5ms/step - loss: 36438.9756 - val_loss: 35055.6347\n",
      "Epoch 67/100\n",
      "10000/10000 [==============================] - 45s 4ms/step - loss: 56510.7242 - val_loss: 35816.8566\n",
      "Epoch 68/100\n",
      "10000/10000 [==============================] - 45s 4ms/step - loss: 34488.2553 - val_loss: 34354.7461\n",
      "Epoch 69/100\n",
      "10000/10000 [==============================] - 45s 4ms/step - loss: 27476.5469 - val_loss: 41317.3551\n",
      "Epoch 70/100\n",
      "10000/10000 [==============================] - 45s 4ms/step - loss: 46888.2713 - val_loss: 30452.1320\n",
      "Epoch 71/100\n",
      "10000/10000 [==============================] - 45s 4ms/step - loss: 32705.5355 - val_loss: 25054.3666\n",
      "Epoch 72/100\n",
      "10000/10000 [==============================] - 45s 4ms/step - loss: 36285.0294 - val_loss: 47730.5488\n",
      "Epoch 73/100\n",
      "10000/10000 [==============================] - 45s 4ms/step - loss: 34564.7876 - val_loss: 43971.2137\n",
      "Epoch 74/100\n",
      "10000/10000 [==============================] - 45s 4ms/step - loss: 30206.2504 - val_loss: 33479.1233\n",
      "Epoch 75/100\n",
      "10000/10000 [==============================] - 45s 4ms/step - loss: 33476.9912 - val_loss: 36195.5983\n",
      "Epoch 76/100\n",
      "10000/10000 [==============================] - 45s 4ms/step - loss: 34281.7250 - val_loss: 27361.3543\n",
      "Epoch 77/100\n",
      "10000/10000 [==============================] - 45s 4ms/step - loss: 30110.1251 - val_loss: 25763.7112\n",
      "Epoch 78/100\n",
      "10000/10000 [==============================] - 45s 4ms/step - loss: 23468.0246 - val_loss: 27388.8010\n",
      "Epoch 79/100\n",
      "10000/10000 [==============================] - 45s 5ms/step - loss: 32809.9110 - val_loss: 25526.9548\n",
      "Epoch 80/100\n",
      "10000/10000 [==============================] - 45s 4ms/step - loss: 33412.6269 - val_loss: 33142.2015\n",
      "Epoch 81/100\n",
      "10000/10000 [==============================] - 45s 4ms/step - loss: 26755.0805 - val_loss: 18784.9234\n",
      "Epoch 82/100\n",
      "10000/10000 [==============================] - 45s 4ms/step - loss: 31320.2951 - val_loss: 59659.5071\n",
      "Epoch 83/100\n",
      "10000/10000 [==============================] - 45s 4ms/step - loss: 36302.2123 - val_loss: 35621.4350\n",
      "Epoch 84/100\n",
      "10000/10000 [==============================] - 45s 4ms/step - loss: 30675.1127 - val_loss: 37186.9238\n",
      "Epoch 85/100\n",
      "10000/10000 [==============================] - 45s 4ms/step - loss: 26677.7723 - val_loss: 24793.3332\n",
      "Epoch 86/100\n",
      "10000/10000 [==============================] - 45s 4ms/step - loss: 24874.2079 - val_loss: 21813.0081\n",
      "Epoch 87/100\n",
      "10000/10000 [==============================] - 45s 4ms/step - loss: 24342.8842 - val_loss: 14450.8523\n",
      "Epoch 88/100\n",
      "10000/10000 [==============================] - 45s 4ms/step - loss: 29597.3501 - val_loss: 21502.1908\n",
      "Epoch 89/100\n",
      "10000/10000 [==============================] - 45s 4ms/step - loss: 22491.9450 - val_loss: 26237.6759\n",
      "Epoch 90/100\n",
      "10000/10000 [==============================] - 45s 5ms/step - loss: 24682.8537 - val_loss: 40943.3533\n",
      "Epoch 91/100\n",
      "10000/10000 [==============================] - 45s 4ms/step - loss: 31632.0212 - val_loss: 30008.8203\n",
      "Epoch 92/100\n",
      "10000/10000 [==============================] - 45s 4ms/step - loss: 25289.3335 - val_loss: 12677.7538\n",
      "Epoch 93/100\n",
      "10000/10000 [==============================] - 45s 5ms/step - loss: 19778.9885 - val_loss: 15901.5066\n",
      "Epoch 94/100\n",
      "10000/10000 [==============================] - 45s 4ms/step - loss: 33829.5945 - val_loss: 29796.8867\n",
      "Epoch 95/100\n",
      "10000/10000 [==============================] - 45s 4ms/step - loss: 23746.4181 - val_loss: 26968.7575\n",
      "Epoch 96/100\n",
      "10000/10000 [==============================] - 45s 4ms/step - loss: 25267.8728 - val_loss: 39707.1239\n",
      "Epoch 97/100\n",
      "10000/10000 [==============================] - 45s 4ms/step - loss: 28110.5862 - val_loss: 12834.7567\n",
      "Epoch 98/100\n",
      "10000/10000 [==============================] - 45s 4ms/step - loss: 20127.8344 - val_loss: 18554.8307\n",
      "Epoch 99/100\n",
      "10000/10000 [==============================] - 45s 4ms/step - loss: 26665.9106 - val_loss: 22844.6241\n",
      "Epoch 100/100\n",
      "10000/10000 [==============================] - 45s 4ms/step - loss: 19748.9801 - val_loss: 21758.6698\n"
     ]
    },
    {
     "data": {
      "text/plain": [
       "<keras.callbacks.History at 0x7f16941bf780>"
      ]
     },
     "execution_count": 15,
     "metadata": {},
     "output_type": "execute_result"
    }
   ],
   "source": [
    "model.fit(data_lpmt[:30000], y_val[:30000], \n",
    "          batch_size=32, epochs=100, \n",
    "          validation_data=(data_lpmt[:1000], y_val[:1000]))"
   ]
  },
  {
   "cell_type": "code",
   "execution_count": 31,
   "metadata": {},
   "outputs": [],
   "source": [
    "model.save_weights('10.02.2019.h5')"
   ]
  },
  {
   "cell_type": "code",
   "execution_count": 33,
   "metadata": {},
   "outputs": [],
   "source": [
    "with open(\"model10.02.json\", \"w\") as json_file:\n",
    "    json_file.write(model.to_json())"
   ]
  },
  {
   "cell_type": "code",
   "execution_count": 34,
   "metadata": {},
   "outputs": [],
   "source": [
    "from sklearn.metrics.pairwise import paired_euclidean_distances"
   ]
  },
  {
   "cell_type": "code",
   "execution_count": 35,
   "metadata": {},
   "outputs": [],
   "source": [
    "# in mm\n",
    "test_results = paired_euclidean_distances(model.predict(data_lpmt[:1000]), y_val[:1000])"
   ]
  },
  {
   "cell_type": "code",
   "execution_count": 36,
   "metadata": {},
   "outputs": [],
   "source": [
    "import matplotlib.pyplot as plt\n",
    "import seaborn as sns\n",
    "from scipy import stats"
   ]
  },
  {
   "cell_type": "code",
   "execution_count": 40,
   "metadata": {},
   "outputs": [
    {
     "data": {
      "text/plain": [
       "(0, 500)"
      ]
     },
     "execution_count": 40,
     "metadata": {},
     "output_type": "execute_result"
    },
    {
     "data": {
      "image/png": "[encoded data removed]",
      "text/plain": [
       "<Figure size 432x288 with 1 Axes>"
      ]
     },
     "metadata": {},
     "output_type": "display_data"
    }
   ],
   "source": [
    "sns.distplot(test_results, kde=False, fit=stats.norm, bins=100)\n",
    "plt.xlim(0,500)"
   ]
  },
  {
   "cell_type": "code",
   "execution_count": 42,
   "metadata": {},
   "outputs": [
    {
     "data": {
      "text/plain": [
       "22.590859191155875"
      ]
     },
     "execution_count": 42,
     "metadata": {},
     "output_type": "execute_result"
    }
   ],
   "source": [
    "test_results.mean()/10"
   ]
  },
  {
   "cell_type": "code",
   "execution_count": 46,
   "metadata": {},
   "outputs": [],
   "source": [
    "results = model.predict(data_lpmt[:1000])"
   ]
  },
  {
   "cell_type": "code",
   "execution_count": 48,
   "metadata": {},
   "outputs": [],
   "source": [
    "xs = results[:,0] - y_val[:1000][:,0]"
   ]
  },
  {
   "cell_type": "code",
   "execution_count": 49,
   "metadata": {},
   "outputs": [
    {
     "data": {
      "text/plain": [
       "<matplotlib.axes._subplots.AxesSubplot at 0x7f14cb2fb710>"
      ]
     },
     "execution_count": 49,
     "metadata": {},
     "output_type": "execute_result"
    },
    {
     "data": {
      "image/png": "[encoded data removed]",
      "text/plain": [
       "<Figure size 432x288 with 1 Axes>"
      ]
     },
     "metadata": {},
     "output_type": "display_data"
    }
   ],
   "source": [
    "sns.distplot(xs, kde=False, fit=stats.norm, bins=100)"
   ]
  },
  {
   "cell_type": "code",
   "execution_count": null,
   "metadata": {},
   "outputs": [],
   "source": [
    "#json_file = open('model.json', 'r')\n",
    "#loaded_model_json = json_file.read()\n",
    "#json_file.close()\n",
    "#loaded_model = model_from_json(loaded_model_json)\n",
    "## load weights into new model\n",
    "#loaded_model.load_weights(\"model.h5\")\n",
    "#print(\"Loaded model from disk\")\n",
    "# \n",
    "## evaluate loaded model on test data\n",
    "#loaded_model.compile(loss='binary_crossentropy', optimizer='rmsprop', metrics=['accuracy'])\n",
    "#score = loaded_model.evaluate(X, Y, verbose=0)"
   ]
  },
  {
   "cell_type": "code",
   "execution_count": 1,
   "metadata": {},
   "outputs": [],
   "source": [
    "import pandas as pd"
   ]
  },
  {
   "cell_type": "code",
   "execution_count": 4,
   "metadata": {},
   "outputs": [],
   "source": [
    "cs = pd.read_csv('log.csv', sep=';')"
   ]
  },
  {
   "cell_type": "code",
   "execution_count": 5,
   "metadata": {},
   "outputs": [
    {
     "data": {
      "text/html": [
       "<div>\n",
       "<style scoped>\n",
       "    .dataframe tbody tr th:only-of-type {\n",
       "        vertical-align: middle;\n",
       "    }\n",
       "\n",
       "    .dataframe tbody tr th {\n",
       "        vertical-align: top;\n",
       "    }\n",
       "\n",
       "    .dataframe thead th {\n",
       "        text-align: right;\n",
       "    }\n",
       "</style>\n",
       "<table border=\"1\" class=\"dataframe\">\n",
       "  <thead>\n",
       "    <tr style=\"text-align: right;\">\n",
       "      <th></th>\n",
       "      <th>epoch</th>\n",
       "      <th>loss</th>\n",
       "      <th>val_loss</th>\n",
       "    </tr>\n",
       "  </thead>\n",
       "  <tbody>\n",
       "    <tr>\n",
       "      <th>0</th>\n",
       "      <td>0</td>\n",
       "      <td>1.203077e+07</td>\n",
       "      <td>3.274920e+06</td>\n",
       "    </tr>\n",
       "    <tr>\n",
       "      <th>1</th>\n",
       "      <td>1</td>\n",
       "      <td>2.112775e+06</td>\n",
       "      <td>1.432360e+06</td>\n",
       "    </tr>\n",
       "    <tr>\n",
       "      <th>2</th>\n",
       "      <td>2</td>\n",
       "      <td>1.261646e+06</td>\n",
       "      <td>8.182227e+05</td>\n",
       "    </tr>\n",
       "    <tr>\n",
       "      <th>3</th>\n",
       "      <td>3</td>\n",
       "      <td>1.023242e+06</td>\n",
       "      <td>6.560844e+05</td>\n",
       "    </tr>\n",
       "    <tr>\n",
       "      <th>4</th>\n",
       "      <td>4</td>\n",
       "      <td>6.078493e+05</td>\n",
       "      <td>4.354411e+05</td>\n",
       "    </tr>\n",
       "    <tr>\n",
       "      <th>5</th>\n",
       "      <td>5</td>\n",
       "      <td>4.597292e+05</td>\n",
       "      <td>5.477911e+05</td>\n",
       "    </tr>\n",
       "    <tr>\n",
       "      <th>6</th>\n",
       "      <td>6</td>\n",
       "      <td>4.074644e+05</td>\n",
       "      <td>3.733454e+05</td>\n",
       "    </tr>\n",
       "    <tr>\n",
       "      <th>7</th>\n",
       "      <td>7</td>\n",
       "      <td>3.290443e+05</td>\n",
       "      <td>4.369745e+05</td>\n",
       "    </tr>\n",
       "    <tr>\n",
       "      <th>8</th>\n",
       "      <td>8</td>\n",
       "      <td>3.593889e+05</td>\n",
       "      <td>2.517203e+05</td>\n",
       "    </tr>\n",
       "  </tbody>\n",
       "</table>\n",
       "</div>"
      ],
      "text/plain": [
       "   epoch          loss      val_loss\n",
       "0      0  1.203077e+07  3.274920e+06\n",
       "1      1  2.112775e+06  1.432360e+06\n",
       "2      2  1.261646e+06  8.182227e+05\n",
       "3      3  1.023242e+06  6.560844e+05\n",
       "4      4  6.078493e+05  4.354411e+05\n",
       "5      5  4.597292e+05  5.477911e+05\n",
       "6      6  4.074644e+05  3.733454e+05\n",
       "7      7  3.290443e+05  4.369745e+05\n",
       "8      8  3.593889e+05  2.517203e+05"
      ]
     },
     "execution_count": 5,
     "metadata": {},
     "output_type": "execute_result"
    }
   ],
   "source": [
    "cs"
   ]
  },
  {
   "cell_type": "code",
   "execution_count": null,
   "metadata": {},
   "outputs": [],
   "source": []
  }
 ],
 "metadata": {
  "kernelspec": {
   "display_name": "Python 3",
   "language": "python",
   "name": "python3"
  },
  "language_info": {
   "codemirror_mode": {
    "name": "ipython",
    "version": 3
   },
   "file_extension": ".py",
   "mimetype": "text/x-python",
   "name": "python",
   "nbconvert_exporter": "python",
   "pygments_lexer": "ipython3",
   "version": "3.5.2"
  }
 },
 "nbformat": 4,
 "nbformat_minor": 2
}
