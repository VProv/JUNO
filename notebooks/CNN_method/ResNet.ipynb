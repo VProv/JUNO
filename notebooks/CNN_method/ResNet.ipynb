{
 "cells": [
  {
   "cell_type": "code",
   "execution_count": 104,
   "metadata": {},
   "outputs": [],
   "source": [
    "# Preprocessing\n",
    "import pandas as pd\n",
    "import tables\n",
    "import time\n",
    "import numpy as np\n",
    "import gc\n",
    "from tqdm import tqdm_notebook\n",
    "import os\n",
    "from sklearn.model_selection import train_test_split\n",
    "import tensorflow as tf\n",
    "import sys\n",
    "import matplotlib.pyplot as plt\n",
    "from data_utils.data_generator import DataGenerator\n",
    "sys.path.append('/home/iprovilkov/data/JUNO/notebooks/')"
   ]
  },
  {
   "cell_type": "code",
   "execution_count": 37,
   "metadata": {},
   "outputs": [],
   "source": [
    "from data_utils.data_processing import get_data_2dprojection"
   ]
  },
  {
   "cell_type": "code",
   "execution_count": 3,
   "metadata": {},
   "outputs": [],
   "source": [
    "os.environ[\"CUDA_DEVICE_ORDER\"]=\"PCI_BUS_ID\"\n",
    "os.environ[\"CUDA_VISIBLE_DEVICES\"]=\"3\""
   ]
  },
  {
   "cell_type": "code",
   "execution_count": 4,
   "metadata": {},
   "outputs": [],
   "source": [
    "from tensorflow.python.client import device_lib\n",
    "sess = tf.Session(config=tf.ConfigProto(log_device_placement=True))"
   ]
  },
  {
   "cell_type": "code",
   "execution_count": 5,
   "metadata": {},
   "outputs": [
    {
     "data": {
      "text/plain": [
       "[name: \"/device:CPU:0\"\n",
       " device_type: \"CPU\"\n",
       " memory_limit: 268435456\n",
       " locality {\n",
       " }\n",
       " incarnation: 16209489301377702579, name: \"/device:GPU:0\"\n",
       " device_type: \"GPU\"\n",
       " memory_limit: 11280557671\n",
       " locality {\n",
       "   bus_id: 1\n",
       "   links {\n",
       "   }\n",
       " }\n",
       " incarnation: 18007889932333195317\n",
       " physical_device_desc: \"device: 0, name: Tesla K80, pci bus id: e8d8:00:00.0, compute capability: 3.7\"]"
      ]
     },
     "execution_count": 5,
     "metadata": {},
     "output_type": "execute_result"
    }
   ],
   "source": [
    "device_lib.list_local_devices()"
   ]
  },
  {
   "cell_type": "code",
   "execution_count": 6,
   "metadata": {},
   "outputs": [
    {
     "name": "stderr",
     "output_type": "stream",
     "text": [
      "Using TensorFlow backend.\n"
     ]
    },
    {
     "data": {
      "text/plain": [
       "['/job:localhost/replica:0/task:0/device:GPU:0']"
      ]
     },
     "execution_count": 6,
     "metadata": {},
     "output_type": "execute_result"
    }
   ],
   "source": [
    "import keras\n",
    "import keras.layers as L\n",
    "from keras.models import Sequential\n",
    "from keras import backend as K\n",
    "K.tensorflow_backend._get_available_gpus()"
   ]
  },
  {
   "cell_type": "code",
   "execution_count": 7,
   "metadata": {},
   "outputs": [],
   "source": [
    "from keras import layers\n",
    "from keras import models\n",
    "\n",
    "\n",
    "#\n",
    "# image dimensions\n",
    "#\n",
    "\n",
    "img_height = 150\n",
    "img_width = 150\n",
    "img_channels = 2\n",
    "\n",
    "#\n",
    "# network params\n",
    "#\n",
    "\n",
    "cardinality = 1\n",
    "\n",
    "\n",
    "def residual_network_tail(x):\n",
    "    \"\"\"\n",
    "    ResNeXt by default. For ResNet set `cardinality` = 1 above.\n",
    "    \n",
    "    \"\"\"\n",
    "    def add_common_layers(y):\n",
    "        y = layers.BatchNormalization()(y)\n",
    "        y = layers.LeakyReLU()(y)\n",
    "\n",
    "        return y\n",
    "\n",
    "    def grouped_convolution(y, nb_channels, _strides):\n",
    "        # when `cardinality` == 1 this is just a standard convolution\n",
    "        if cardinality == 1:\n",
    "            return layers.Conv2D(nb_channels, kernel_size=(3, 3), strides=_strides, padding='same')(y)\n",
    "        \n",
    "        assert not nb_channels % cardinality\n",
    "        _d = nb_channels // cardinality\n",
    "\n",
    "        # in a grouped convolution layer, input and output channels are divided into `cardinality` groups,\n",
    "        # and convolutions are separately performed within each group\n",
    "        groups = []\n",
    "        for j in range(cardinality):\n",
    "            group = layers.Lambda(lambda z: z[:, :, :, j * _d:j * _d + _d])(y)\n",
    "            groups.append(layers.Conv2D(_d, kernel_size=(3, 3), strides=_strides, padding='same')(group))\n",
    "            \n",
    "        # the grouped convolutional layer concatenates them as the outputs of the layer\n",
    "        y = layers.concatenate(groups)\n",
    "\n",
    "        return y\n",
    "\n",
    "    def residual_block(y, nb_channels_in, nb_channels_out, _strides=(1, 1), _project_shortcut=False):\n",
    "        \"\"\"\n",
    "        Our network consists of a stack of residual blocks. These blocks have the same topology,\n",
    "        and are subject to two simple rules:\n",
    "        - If producing spatial maps of the same size, the blocks share the same hyper-parameters (width and filter sizes).\n",
    "        - Each time the spatial map is down-sampled by a factor of 2, the width of the blocks is multiplied by a factor of 2.\n",
    "        \"\"\"\n",
    "        shortcut = y\n",
    "\n",
    "        # we modify the residual building block as a bottleneck design to make the network more economical\n",
    "        y = layers.Conv2D(nb_channels_in, kernel_size=(1, 1), strides=(1, 1), padding='same')(y)\n",
    "        y = add_common_layers(y)\n",
    "\n",
    "        # ResNeXt (identical to ResNet when `cardinality` == 1)\n",
    "        y = grouped_convolution(y, nb_channels_in, _strides=_strides)\n",
    "        y = add_common_layers(y)\n",
    "\n",
    "        y = layers.Conv2D(nb_channels_out, kernel_size=(1, 1), strides=(1, 1), padding='same')(y)\n",
    "        # batch normalization is employed after aggregating the transformations and before adding to the shortcut\n",
    "        y = layers.BatchNormalization()(y)\n",
    "\n",
    "        # identity shortcuts used directly when the input and output are of the same dimensions\n",
    "        if _project_shortcut or _strides != (1, 1):\n",
    "            # when the dimensions increase projection shortcut is used to match dimensions (done by 1×1 convolutions)\n",
    "            # when the shortcuts go across feature maps of two sizes, they are performed with a stride of 2\n",
    "            shortcut = layers.Conv2D(nb_channels_out, kernel_size=(1, 1), strides=_strides, padding='same')(shortcut)\n",
    "            shortcut = layers.BatchNormalization()(shortcut)\n",
    "\n",
    "        y = layers.add([shortcut, y])\n",
    "\n",
    "        # relu is performed right after each batch normalization,\n",
    "        # expect for the output of the block where relu is performed after the adding to the shortcut\n",
    "        y = layers.LeakyReLU()(y)\n",
    "\n",
    "        return y\n",
    "\n",
    "    # conv1\n",
    "    x = layers.Conv2D(64, kernel_size=(7, 7), strides=(2, 2), padding='same')(x)\n",
    "    x = add_common_layers(x)\n",
    "\n",
    "    # conv2\n",
    "    x = layers.MaxPool2D(pool_size=(3, 3), strides=(2, 2), padding='same')(x)\n",
    "    for i in range(3):\n",
    "        project_shortcut = True if i == 0 else False\n",
    "        x = residual_block(x, 128, 256, _project_shortcut=project_shortcut)\n",
    "\n",
    "    # conv3\n",
    "    for i in range(4):\n",
    "        # down-sampling is performed by conv3_1, conv4_1, and conv5_1 with a stride of 2\n",
    "        strides = (2, 2) if i == 0 else (1, 1)\n",
    "        x = residual_block(x, 256, 512, _strides=strides)\n",
    "\n",
    "    # conv4\n",
    "    for i in range(6):\n",
    "        strides = (2, 2) if i == 0 else (1, 1)\n",
    "        x = residual_block(x, 512, 1024, _strides=strides)\n",
    "\n",
    "    # conv5\n",
    "    #for i in range(3):\n",
    "    #    strides = (2, 2) if i == 0 else (1, 1)\n",
    "    #    x = residual_block(x, 1024, 2048, _strides=strides)\n",
    "\n",
    "    return x"
   ]
  },
  {
   "cell_type": "code",
   "execution_count": 8,
   "metadata": {},
   "outputs": [],
   "source": [
    "LTRAIN = '/mnt/iprovilkov/data_dir/npdata/'\n",
    "rg = np.arange(0,100000,20000)\n",
    "MAXR=17200"
   ]
  },
  {
   "cell_type": "code",
   "execution_count": 9,
   "metadata": {},
   "outputs": [],
   "source": [
    "#DATA_DIR = '/storage/home/vprov/JUNO/JUNO_students/data/'\n",
    "#TRAIN_DIR = '/srv/hd5/data/vprov/data/phase_1/train/'\n",
    "TRAIN_DIR = '~/data/data_dir/'\n",
    "tr_lpmt_hits = pd.read_hdf(TRAIN_DIR + 'lpmt_hits.h5', mode='r')\n",
    "tr_spmt_hits = pd.read_hdf(TRAIN_DIR + 'spmt_hits.h5', mode='r')\n",
    "tr_pos = pd.read_csv(TRAIN_DIR + 'lpmt_pos.csv') \n",
    "tr_spmt_pos = pd.read_csv(TRAIN_DIR + 'spmt_pos.csv')\n",
    "tr_true_info = pd.read_csv(TRAIN_DIR + 'true_info.csv')"
   ]
  },
  {
   "cell_type": "code",
   "execution_count": null,
   "metadata": {},
   "outputs": [],
   "source": []
  },
  {
   "cell_type": "code",
   "execution_count": 34,
   "metadata": {},
   "outputs": [],
   "source": [
    "import pandas as pd\n",
    "import numpy as np\n",
    "from pyproj import Proj, transform\n",
    "from tqdm import tqdm_notebook\n",
    "\n",
    "\n",
    "def lat(x,y,z):\n",
    "    return np.arcsin(z/np.sqrt(x**2 + y**2 + z**2))\n",
    "\n",
    "def lon(x,y,z):\n",
    "    return np.arctan2(y,x)\n",
    "\n",
    "\n",
    "def get_data_2dprojection(lpmt_hits, spmt_hits, pos, true_info, edge_size0=226, edge_size1=111, use_spmt=False, time=None, proj='sin'):\n",
    "    \"\"\"\n",
    "    Transfer data into 2d projection (moll) with 1 channel\n",
    "    Params:\n",
    "    ..., \n",
    "    edge_size : int - projection image size, \n",
    "    use_spmt : bool\n",
    "    \n",
    "    Returns:\n",
    "    data_lpmt: pd.DataFrame\n",
    "    event_to_id: dict\n",
    "    \"\"\"\n",
    "    channels = 1\n",
    "    if time == 'min':\n",
    "        channels = 2\n",
    "    \n",
    "    latt  = np.array(list(map(lambda el: lat(el[0],el[1],el[2]), zip(pos['pmt_x'], pos['pmt_y'], pos['pmt_z']))))\n",
    "    lontt = np.array(list(map(lambda el: lon(el[0],el[1],el[2]), zip(pos['pmt_x'], pos['pmt_y'], pos['pmt_z']))))\n",
    "    \n",
    "    if proj == 'sin':\n",
    "        proj0min = -np.pi\n",
    "        proj0max = np.pi\n",
    "        proj1min = -np.pi/2\n",
    "        proj1max = np.pi/2\n",
    "\n",
    "        proj0 = lontt * np.cos(latt)\n",
    "        proj1 = latt\n",
    "    \n",
    "    pos['proj0'] = np.round((proj0 - proj0min) / (proj0max - proj0min) * (edge_size0-1)).astype(int)\n",
    "    pos['proj1'] = np.round((proj1 - proj1min) / (proj1max - proj1min) * (edge_size1-1)).astype(int)\n",
    "        \n",
    "    merged_hits = pd.merge(lpmt_hits, pos, left_on='pmtID', right_on='pmt_id')\n",
    "   \n",
    "    n = len(lpmt_hits['event'].unique())\n",
    "    data_lpmt = np.zeros((n, edge_size0, edge_size1, channels), dtype='float32')\n",
    "    \n",
    "    event_to_id = {x:y for y, x in enumerate(sorted(merged_hits['event'].unique()))}\n",
    "    \n",
    "    print(\"Starting cycle...\")\n",
    "    if time is None:\n",
    "        for event, mol0i, mol1i in tqdm_notebook(zip(merged_hits['event'], merged_hits['proj0'], merged_hits['proj1'])):\n",
    "            data_lpmt[event_to_id[event]][mol0i, mol1i] += 1\n",
    "    elif time == 'min':\n",
    "        EPS = 1e-7\n",
    "        data_lpmt[:,:,:,1] = -EPS\n",
    "        # Calculate min time for each event\n",
    "        ev_min = merged_hits[['event', 'hitTime']].groupby('event').min()\n",
    "        event2min = {id_: min_ for id_, min_ in zip(ev_min.index, ev_min.hitTime)}\n",
    "        \n",
    "        for event, mol0i, mol1i, time in tqdm_notebook(zip(merged_hits['event'], merged_hits['proj0'], merged_hits['proj1'], merged_hits['hitTime'])):\n",
    "            event_id = event_to_id[event]\n",
    "            data_lpmt[event_id][mol0i, mol1i][0] += 1\n",
    "            event_min = event2min[event]\n",
    "            cur_min = data_lpmt[event_id][mol0i, mol1i][1]\n",
    "            if cur_min < 0 or cur_min > (time - event_min):\n",
    "                data_lpmt[event_id][mol0i, mol1i][1] = time - event_min\n",
    "    \"\"\"\n",
    "    elif time == 'minmax':\n",
    "        # Add max and min for each cell\n",
    "        for event, mol0i, mol1i, time in tqdm_notebook(zip(merged_hits['event'], merged_hits['mol0i'], merged_hits['mol1i'], merged_hits['hitTime'])):\n",
    "            data_lpmt[event_to_id[event]][mol0i, mol1i][0] += 1\n",
    "            cur_min = data_lpmt[event_to_id[event]][mol0i, mol1i][1]\n",
    "            cur_max = data_lpmt[event_to_id[event]][mol0i, mol1i][2]\n",
    "            if cur_min == 0:\n",
    "                data_lpmt[event_to_id[event]][mol0i, mol1i][1] = time\n",
    "            if cur_max == 0:\n",
    "                data_lpmt[event_to_id[event]][mol0i, mol1i][2] = time\n",
    "            if cur_min > time:\n",
    "                data_lpmt[event_to_id[event]][mol0i, mol1i][1] = time\n",
    "            if cur_max < time:\n",
    "                data_lpmt[event_to_id[event]][mol0i, mol1i][2] = time\n",
    "    \"\"\"\n",
    "    \n",
    "    return data_lpmt, event_to_id"
   ]
  },
  {
   "cell_type": "code",
   "execution_count": null,
   "metadata": {},
   "outputs": [],
   "source": []
  },
  {
   "cell_type": "code",
   "execution_count": null,
   "metadata": {},
   "outputs": [
    {
     "name": "stdout",
     "output_type": "stream",
     "text": [
      "Starting cycle...\n"
     ]
    },
    {
     "data": {
      "application/vnd.jupyter.widget-view+json": {
       "model_id": "7b72c6918d824b2c8832b53347aa07c9",
       "version_major": 2,
       "version_minor": 0
      },
      "text/plain": [
       "HBox(children=(IntProgress(value=1, bar_style='info', max=1), HTML(value='')))"
      ]
     },
     "metadata": {},
     "output_type": "display_data"
    },
    {
     "name": "stdout",
     "output_type": "stream",
     "text": [
      "\n",
      "Starting cycle...\n"
     ]
    },
    {
     "data": {
      "application/vnd.jupyter.widget-view+json": {
       "model_id": "e59b77b70b784f70b06db21520e360ca",
       "version_major": 2,
       "version_minor": 0
      },
      "text/plain": [
       "HBox(children=(IntProgress(value=1, bar_style='info', max=1), HTML(value='')))"
      ]
     },
     "metadata": {},
     "output_type": "display_data"
    }
   ],
   "source": [
    "for start, end  in zip(rg[:-1], rg[1:]):\n",
    "    data_lpmt, event_to_id = get_data_2dprojection(tr_lpmt_hits[(tr_lpmt_hits['event'] >= start) & (tr_lpmt_hits['event'] < end)\n",
    "                                                                & (tr_lpmt_hits['isDN'] == False)], \n",
    "                                                None, \n",
    "                                                tr_pos, \n",
    "                                                tr_true_info[(tr_true_info.R<=MAXR) \n",
    "                                                             & (tr_true_info['evtID'] >= start) \n",
    "                                                             & (tr_true_info['evtID'] < end)],\n",
    "                                                edge_size0=226,\n",
    "                                                edge_size1=112,\n",
    "                                                use_spmt=False,\n",
    "                                                time='min',\n",
    "                                                )\n",
    "    np.save(LTRAIN + '_' + str(start) + 'without_noise' + '_sin', data_lpmt)"
   ]
  },
  {
   "cell_type": "code",
   "execution_count": 130,
   "metadata": {},
   "outputs": [
    {
     "data": {
      "text/plain": [
       "<matplotlib.image.AxesImage at 0x7f3f97644898>"
      ]
     },
     "execution_count": 130,
     "metadata": {},
     "output_type": "execute_result"
    },
    {
     "data": {
      "image/png": "[encoded data removed]",
      "text/plain": [
       "<Figure size 1080x1080 with 1 Axes>"
      ]
     },
     "metadata": {
      "needs_background": "light"
     },
     "output_type": "display_data"
    }
   ],
   "source": [
    "fig = plt.figure(figsize=(15,15))\n",
    "plt.imshow(data_lpmt[3][:,:,1])"
   ]
  },
  {
   "cell_type": "code",
   "execution_count": 48,
   "metadata": {},
   "outputs": [],
   "source": [
    "from keras.layers import GlobalAveragePooling2D, Dense\n",
    "from keras.models import Model\n",
    "import keras.layers as L\n",
    "from keras.regularizers import l2\n",
    "from keras.optimizers import Adam\n",
    "from keras.engine.input_layer import Input"
   ]
  },
  {
   "cell_type": "code",
   "execution_count": 54,
   "metadata": {},
   "outputs": [],
   "source": [
    "edge_size0 = 226\n",
    "edge_size1 = 112\n",
    "inputs = Input(shape=(edge_size0,edge_size1,2))\n",
    "base_model = residual_network_tail(inputs)"
   ]
  },
  {
   "cell_type": "code",
   "execution_count": 60,
   "metadata": {},
   "outputs": [],
   "source": [
    "x = L.MaxPool2D()(base_model)\n",
    "x = L.Flatten()(x)\n",
    "# let's add a fully-connected layer\n",
    "#x = L.Dropout(0.)(x)\n",
    "x = Dense(1024, activation='elu')(x)\n",
    "#x = L.Dropout(0.5)(x)\n",
    "x = Dense(512, activation='elu')(x)\n",
    "predictions = Dense(1)(x)"
   ]
  },
  {
   "cell_type": "code",
   "execution_count": 61,
   "metadata": {},
   "outputs": [],
   "source": [
    "model = Model(inputs=inputs, outputs=predictions)"
   ]
  },
  {
   "cell_type": "code",
   "execution_count": 62,
   "metadata": {},
   "outputs": [
    {
     "data": {
      "text/plain": [
       "True"
      ]
     },
     "execution_count": 62,
     "metadata": {},
     "output_type": "execute_result"
    }
   ],
   "source": [
    "model.layers[70].trainable"
   ]
  },
  {
   "cell_type": "code",
   "execution_count": 63,
   "metadata": {},
   "outputs": [],
   "source": [
    "model.compile(optimizer=Adam(lr=4e-4, decay=5e-5), loss='mean_squared_error')"
   ]
  },
  {
   "cell_type": "code",
   "execution_count": 64,
   "metadata": {},
   "outputs": [
    {
     "name": "stdout",
     "output_type": "stream",
     "text": [
      "__________________________________________________________________________________________________\n",
      "Layer (type)                    Output Shape         Param #     Connected to                     \n",
      "==================================================================================================\n",
      "input_2 (InputLayer)            (None, 226, 112, 2)  0                                            \n",
      "__________________________________________________________________________________________________\n",
      "conv2d_44 (Conv2D)              (None, 113, 56, 64)  6336        input_2[0][0]                    \n",
      "__________________________________________________________________________________________________\n",
      "batch_normalization_44 (BatchNo (None, 113, 56, 64)  256         conv2d_44[0][0]                  \n",
      "__________________________________________________________________________________________________\n",
      "leaky_re_lu_41 (LeakyReLU)      (None, 113, 56, 64)  0           batch_normalization_44[0][0]     \n",
      "__________________________________________________________________________________________________\n",
      "max_pooling2d_2 (MaxPooling2D)  (None, 57, 28, 64)   0           leaky_re_lu_41[0][0]             \n",
      "__________________________________________________________________________________________________\n",
      "conv2d_45 (Conv2D)              (None, 57, 28, 128)  8320        max_pooling2d_2[0][0]            \n",
      "__________________________________________________________________________________________________\n",
      "batch_normalization_45 (BatchNo (None, 57, 28, 128)  512         conv2d_45[0][0]                  \n",
      "__________________________________________________________________________________________________\n",
      "leaky_re_lu_42 (LeakyReLU)      (None, 57, 28, 128)  0           batch_normalization_45[0][0]     \n",
      "__________________________________________________________________________________________________\n",
      "conv2d_46 (Conv2D)              (None, 57, 28, 128)  147584      leaky_re_lu_42[0][0]             \n",
      "__________________________________________________________________________________________________\n",
      "batch_normalization_46 (BatchNo (None, 57, 28, 128)  512         conv2d_46[0][0]                  \n",
      "__________________________________________________________________________________________________\n",
      "leaky_re_lu_43 (LeakyReLU)      (None, 57, 28, 128)  0           batch_normalization_46[0][0]     \n",
      "__________________________________________________________________________________________________\n",
      "conv2d_48 (Conv2D)              (None, 57, 28, 256)  16640       max_pooling2d_2[0][0]            \n",
      "__________________________________________________________________________________________________\n",
      "conv2d_47 (Conv2D)              (None, 57, 28, 256)  33024       leaky_re_lu_43[0][0]             \n",
      "__________________________________________________________________________________________________\n",
      "batch_normalization_48 (BatchNo (None, 57, 28, 256)  1024        conv2d_48[0][0]                  \n",
      "__________________________________________________________________________________________________\n",
      "batch_normalization_47 (BatchNo (None, 57, 28, 256)  1024        conv2d_47[0][0]                  \n",
      "__________________________________________________________________________________________________\n",
      "add_14 (Add)                    (None, 57, 28, 256)  0           batch_normalization_48[0][0]     \n",
      "                                                                 batch_normalization_47[0][0]     \n",
      "__________________________________________________________________________________________________\n",
      "leaky_re_lu_44 (LeakyReLU)      (None, 57, 28, 256)  0           add_14[0][0]                     \n",
      "__________________________________________________________________________________________________\n",
      "conv2d_49 (Conv2D)              (None, 57, 28, 128)  32896       leaky_re_lu_44[0][0]             \n",
      "__________________________________________________________________________________________________\n",
      "batch_normalization_49 (BatchNo (None, 57, 28, 128)  512         conv2d_49[0][0]                  \n",
      "__________________________________________________________________________________________________\n",
      "leaky_re_lu_45 (LeakyReLU)      (None, 57, 28, 128)  0           batch_normalization_49[0][0]     \n",
      "__________________________________________________________________________________________________\n",
      "conv2d_50 (Conv2D)              (None, 57, 28, 128)  147584      leaky_re_lu_45[0][0]             \n",
      "__________________________________________________________________________________________________\n",
      "batch_normalization_50 (BatchNo (None, 57, 28, 128)  512         conv2d_50[0][0]                  \n",
      "__________________________________________________________________________________________________\n",
      "leaky_re_lu_46 (LeakyReLU)      (None, 57, 28, 128)  0           batch_normalization_50[0][0]     \n",
      "__________________________________________________________________________________________________\n",
      "conv2d_51 (Conv2D)              (None, 57, 28, 256)  33024       leaky_re_lu_46[0][0]             \n",
      "__________________________________________________________________________________________________\n",
      "batch_normalization_51 (BatchNo (None, 57, 28, 256)  1024        conv2d_51[0][0]                  \n",
      "__________________________________________________________________________________________________\n",
      "add_15 (Add)                    (None, 57, 28, 256)  0           leaky_re_lu_44[0][0]             \n",
      "                                                                 batch_normalization_51[0][0]     \n",
      "__________________________________________________________________________________________________\n",
      "leaky_re_lu_47 (LeakyReLU)      (None, 57, 28, 256)  0           add_15[0][0]                     \n",
      "__________________________________________________________________________________________________\n",
      "conv2d_52 (Conv2D)              (None, 57, 28, 128)  32896       leaky_re_lu_47[0][0]             \n",
      "__________________________________________________________________________________________________\n",
      "batch_normalization_52 (BatchNo (None, 57, 28, 128)  512         conv2d_52[0][0]                  \n",
      "__________________________________________________________________________________________________\n",
      "leaky_re_lu_48 (LeakyReLU)      (None, 57, 28, 128)  0           batch_normalization_52[0][0]     \n",
      "__________________________________________________________________________________________________\n",
      "conv2d_53 (Conv2D)              (None, 57, 28, 128)  147584      leaky_re_lu_48[0][0]             \n",
      "__________________________________________________________________________________________________\n",
      "batch_normalization_53 (BatchNo (None, 57, 28, 128)  512         conv2d_53[0][0]                  \n",
      "__________________________________________________________________________________________________\n",
      "leaky_re_lu_49 (LeakyReLU)      (None, 57, 28, 128)  0           batch_normalization_53[0][0]     \n",
      "__________________________________________________________________________________________________\n",
      "conv2d_54 (Conv2D)              (None, 57, 28, 256)  33024       leaky_re_lu_49[0][0]             \n",
      "__________________________________________________________________________________________________\n",
      "batch_normalization_54 (BatchNo (None, 57, 28, 256)  1024        conv2d_54[0][0]                  \n",
      "__________________________________________________________________________________________________\n",
      "add_16 (Add)                    (None, 57, 28, 256)  0           leaky_re_lu_47[0][0]             \n",
      "                                                                 batch_normalization_54[0][0]     \n",
      "__________________________________________________________________________________________________\n",
      "leaky_re_lu_50 (LeakyReLU)      (None, 57, 28, 256)  0           add_16[0][0]                     \n",
      "__________________________________________________________________________________________________\n",
      "conv2d_55 (Conv2D)              (None, 57, 28, 256)  65792       leaky_re_lu_50[0][0]             \n",
      "__________________________________________________________________________________________________\n",
      "batch_normalization_55 (BatchNo (None, 57, 28, 256)  1024        conv2d_55[0][0]                  \n",
      "__________________________________________________________________________________________________\n",
      "leaky_re_lu_51 (LeakyReLU)      (None, 57, 28, 256)  0           batch_normalization_55[0][0]     \n",
      "__________________________________________________________________________________________________\n",
      "conv2d_56 (Conv2D)              (None, 29, 14, 256)  590080      leaky_re_lu_51[0][0]             \n",
      "__________________________________________________________________________________________________\n",
      "batch_normalization_56 (BatchNo (None, 29, 14, 256)  1024        conv2d_56[0][0]                  \n",
      "__________________________________________________________________________________________________\n",
      "leaky_re_lu_52 (LeakyReLU)      (None, 29, 14, 256)  0           batch_normalization_56[0][0]     \n",
      "__________________________________________________________________________________________________\n",
      "conv2d_58 (Conv2D)              (None, 29, 14, 512)  131584      leaky_re_lu_50[0][0]             \n",
      "__________________________________________________________________________________________________\n",
      "conv2d_57 (Conv2D)              (None, 29, 14, 512)  131584      leaky_re_lu_52[0][0]             \n",
      "__________________________________________________________________________________________________\n",
      "batch_normalization_58 (BatchNo (None, 29, 14, 512)  2048        conv2d_58[0][0]                  \n",
      "__________________________________________________________________________________________________\n",
      "batch_normalization_57 (BatchNo (None, 29, 14, 512)  2048        conv2d_57[0][0]                  \n",
      "__________________________________________________________________________________________________\n",
      "add_17 (Add)                    (None, 29, 14, 512)  0           batch_normalization_58[0][0]     \n",
      "                                                                 batch_normalization_57[0][0]     \n",
      "__________________________________________________________________________________________________\n",
      "leaky_re_lu_53 (LeakyReLU)      (None, 29, 14, 512)  0           add_17[0][0]                     \n",
      "__________________________________________________________________________________________________\n",
      "conv2d_59 (Conv2D)              (None, 29, 14, 256)  131328      leaky_re_lu_53[0][0]             \n",
      "__________________________________________________________________________________________________\n",
      "batch_normalization_59 (BatchNo (None, 29, 14, 256)  1024        conv2d_59[0][0]                  \n",
      "__________________________________________________________________________________________________\n",
      "leaky_re_lu_54 (LeakyReLU)      (None, 29, 14, 256)  0           batch_normalization_59[0][0]     \n",
      "__________________________________________________________________________________________________\n",
      "conv2d_60 (Conv2D)              (None, 29, 14, 256)  590080      leaky_re_lu_54[0][0]             \n",
      "__________________________________________________________________________________________________\n",
      "batch_normalization_60 (BatchNo (None, 29, 14, 256)  1024        conv2d_60[0][0]                  \n",
      "__________________________________________________________________________________________________\n",
      "leaky_re_lu_55 (LeakyReLU)      (None, 29, 14, 256)  0           batch_normalization_60[0][0]     \n",
      "__________________________________________________________________________________________________\n",
      "conv2d_61 (Conv2D)              (None, 29, 14, 512)  131584      leaky_re_lu_55[0][0]             \n",
      "__________________________________________________________________________________________________\n",
      "batch_normalization_61 (BatchNo (None, 29, 14, 512)  2048        conv2d_61[0][0]                  \n",
      "__________________________________________________________________________________________________\n",
      "add_18 (Add)                    (None, 29, 14, 512)  0           leaky_re_lu_53[0][0]             \n",
      "                                                                 batch_normalization_61[0][0]     \n",
      "__________________________________________________________________________________________________\n",
      "leaky_re_lu_56 (LeakyReLU)      (None, 29, 14, 512)  0           add_18[0][0]                     \n",
      "__________________________________________________________________________________________________\n",
      "conv2d_62 (Conv2D)              (None, 29, 14, 256)  131328      leaky_re_lu_56[0][0]             \n",
      "__________________________________________________________________________________________________\n",
      "batch_normalization_62 (BatchNo (None, 29, 14, 256)  1024        conv2d_62[0][0]                  \n",
      "__________________________________________________________________________________________________\n",
      "leaky_re_lu_57 (LeakyReLU)      (None, 29, 14, 256)  0           batch_normalization_62[0][0]     \n",
      "__________________________________________________________________________________________________\n",
      "conv2d_63 (Conv2D)              (None, 29, 14, 256)  590080      leaky_re_lu_57[0][0]             \n",
      "__________________________________________________________________________________________________\n",
      "batch_normalization_63 (BatchNo (None, 29, 14, 256)  1024        conv2d_63[0][0]                  \n",
      "__________________________________________________________________________________________________\n",
      "leaky_re_lu_58 (LeakyReLU)      (None, 29, 14, 256)  0           batch_normalization_63[0][0]     \n",
      "__________________________________________________________________________________________________\n",
      "conv2d_64 (Conv2D)              (None, 29, 14, 512)  131584      leaky_re_lu_58[0][0]             \n",
      "__________________________________________________________________________________________________\n",
      "batch_normalization_64 (BatchNo (None, 29, 14, 512)  2048        conv2d_64[0][0]                  \n",
      "__________________________________________________________________________________________________\n",
      "add_19 (Add)                    (None, 29, 14, 512)  0           leaky_re_lu_56[0][0]             \n",
      "                                                                 batch_normalization_64[0][0]     \n",
      "__________________________________________________________________________________________________\n",
      "leaky_re_lu_59 (LeakyReLU)      (None, 29, 14, 512)  0           add_19[0][0]                     \n",
      "__________________________________________________________________________________________________\n",
      "conv2d_65 (Conv2D)              (None, 29, 14, 256)  131328      leaky_re_lu_59[0][0]             \n",
      "__________________________________________________________________________________________________\n",
      "batch_normalization_65 (BatchNo (None, 29, 14, 256)  1024        conv2d_65[0][0]                  \n",
      "__________________________________________________________________________________________________\n",
      "leaky_re_lu_60 (LeakyReLU)      (None, 29, 14, 256)  0           batch_normalization_65[0][0]     \n",
      "__________________________________________________________________________________________________\n",
      "conv2d_66 (Conv2D)              (None, 29, 14, 256)  590080      leaky_re_lu_60[0][0]             \n",
      "__________________________________________________________________________________________________\n",
      "batch_normalization_66 (BatchNo (None, 29, 14, 256)  1024        conv2d_66[0][0]                  \n",
      "__________________________________________________________________________________________________\n",
      "leaky_re_lu_61 (LeakyReLU)      (None, 29, 14, 256)  0           batch_normalization_66[0][0]     \n",
      "__________________________________________________________________________________________________\n",
      "conv2d_67 (Conv2D)              (None, 29, 14, 512)  131584      leaky_re_lu_61[0][0]             \n",
      "__________________________________________________________________________________________________\n",
      "batch_normalization_67 (BatchNo (None, 29, 14, 512)  2048        conv2d_67[0][0]                  \n",
      "__________________________________________________________________________________________________\n",
      "add_20 (Add)                    (None, 29, 14, 512)  0           leaky_re_lu_59[0][0]             \n",
      "                                                                 batch_normalization_67[0][0]     \n",
      "__________________________________________________________________________________________________\n",
      "leaky_re_lu_62 (LeakyReLU)      (None, 29, 14, 512)  0           add_20[0][0]                     \n",
      "__________________________________________________________________________________________________\n",
      "conv2d_68 (Conv2D)              (None, 29, 14, 512)  262656      leaky_re_lu_62[0][0]             \n",
      "__________________________________________________________________________________________________\n",
      "batch_normalization_68 (BatchNo (None, 29, 14, 512)  2048        conv2d_68[0][0]                  \n",
      "__________________________________________________________________________________________________\n",
      "leaky_re_lu_63 (LeakyReLU)      (None, 29, 14, 512)  0           batch_normalization_68[0][0]     \n",
      "__________________________________________________________________________________________________\n",
      "conv2d_69 (Conv2D)              (None, 15, 7, 512)   2359808     leaky_re_lu_63[0][0]             \n",
      "__________________________________________________________________________________________________\n",
      "batch_normalization_69 (BatchNo (None, 15, 7, 512)   2048        conv2d_69[0][0]                  \n",
      "__________________________________________________________________________________________________\n",
      "leaky_re_lu_64 (LeakyReLU)      (None, 15, 7, 512)   0           batch_normalization_69[0][0]     \n",
      "__________________________________________________________________________________________________\n",
      "conv2d_71 (Conv2D)              (None, 15, 7, 1024)  525312      leaky_re_lu_62[0][0]             \n",
      "__________________________________________________________________________________________________\n",
      "conv2d_70 (Conv2D)              (None, 15, 7, 1024)  525312      leaky_re_lu_64[0][0]             \n",
      "__________________________________________________________________________________________________\n",
      "batch_normalization_71 (BatchNo (None, 15, 7, 1024)  4096        conv2d_71[0][0]                  \n",
      "__________________________________________________________________________________________________\n",
      "batch_normalization_70 (BatchNo (None, 15, 7, 1024)  4096        conv2d_70[0][0]                  \n",
      "__________________________________________________________________________________________________\n",
      "add_21 (Add)                    (None, 15, 7, 1024)  0           batch_normalization_71[0][0]     \n",
      "                                                                 batch_normalization_70[0][0]     \n",
      "__________________________________________________________________________________________________\n",
      "leaky_re_lu_65 (LeakyReLU)      (None, 15, 7, 1024)  0           add_21[0][0]                     \n",
      "__________________________________________________________________________________________________\n",
      "conv2d_72 (Conv2D)              (None, 15, 7, 512)   524800      leaky_re_lu_65[0][0]             \n",
      "__________________________________________________________________________________________________\n",
      "batch_normalization_72 (BatchNo (None, 15, 7, 512)   2048        conv2d_72[0][0]                  \n",
      "__________________________________________________________________________________________________\n",
      "leaky_re_lu_66 (LeakyReLU)      (None, 15, 7, 512)   0           batch_normalization_72[0][0]     \n",
      "__________________________________________________________________________________________________\n",
      "conv2d_73 (Conv2D)              (None, 15, 7, 512)   2359808     leaky_re_lu_66[0][0]             \n",
      "__________________________________________________________________________________________________\n",
      "batch_normalization_73 (BatchNo (None, 15, 7, 512)   2048        conv2d_73[0][0]                  \n",
      "__________________________________________________________________________________________________\n",
      "leaky_re_lu_67 (LeakyReLU)      (None, 15, 7, 512)   0           batch_normalization_73[0][0]     \n",
      "__________________________________________________________________________________________________\n",
      "conv2d_74 (Conv2D)              (None, 15, 7, 1024)  525312      leaky_re_lu_67[0][0]             \n",
      "__________________________________________________________________________________________________\n",
      "batch_normalization_74 (BatchNo (None, 15, 7, 1024)  4096        conv2d_74[0][0]                  \n",
      "__________________________________________________________________________________________________\n",
      "add_22 (Add)                    (None, 15, 7, 1024)  0           leaky_re_lu_65[0][0]             \n",
      "                                                                 batch_normalization_74[0][0]     \n",
      "__________________________________________________________________________________________________\n",
      "leaky_re_lu_68 (LeakyReLU)      (None, 15, 7, 1024)  0           add_22[0][0]                     \n",
      "__________________________________________________________________________________________________\n",
      "conv2d_75 (Conv2D)              (None, 15, 7, 512)   524800      leaky_re_lu_68[0][0]             \n",
      "__________________________________________________________________________________________________\n",
      "batch_normalization_75 (BatchNo (None, 15, 7, 512)   2048        conv2d_75[0][0]                  \n",
      "__________________________________________________________________________________________________\n",
      "leaky_re_lu_69 (LeakyReLU)      (None, 15, 7, 512)   0           batch_normalization_75[0][0]     \n",
      "__________________________________________________________________________________________________\n",
      "conv2d_76 (Conv2D)              (None, 15, 7, 512)   2359808     leaky_re_lu_69[0][0]             \n",
      "__________________________________________________________________________________________________\n",
      "batch_normalization_76 (BatchNo (None, 15, 7, 512)   2048        conv2d_76[0][0]                  \n",
      "__________________________________________________________________________________________________\n",
      "leaky_re_lu_70 (LeakyReLU)      (None, 15, 7, 512)   0           batch_normalization_76[0][0]     \n",
      "__________________________________________________________________________________________________\n",
      "conv2d_77 (Conv2D)              (None, 15, 7, 1024)  525312      leaky_re_lu_70[0][0]             \n",
      "__________________________________________________________________________________________________\n",
      "batch_normalization_77 (BatchNo (None, 15, 7, 1024)  4096        conv2d_77[0][0]                  \n",
      "__________________________________________________________________________________________________\n",
      "add_23 (Add)                    (None, 15, 7, 1024)  0           leaky_re_lu_68[0][0]             \n",
      "                                                                 batch_normalization_77[0][0]     \n",
      "__________________________________________________________________________________________________\n",
      "leaky_re_lu_71 (LeakyReLU)      (None, 15, 7, 1024)  0           add_23[0][0]                     \n",
      "__________________________________________________________________________________________________\n",
      "conv2d_78 (Conv2D)              (None, 15, 7, 512)   524800      leaky_re_lu_71[0][0]             \n",
      "__________________________________________________________________________________________________\n",
      "batch_normalization_78 (BatchNo (None, 15, 7, 512)   2048        conv2d_78[0][0]                  \n",
      "__________________________________________________________________________________________________\n",
      "leaky_re_lu_72 (LeakyReLU)      (None, 15, 7, 512)   0           batch_normalization_78[0][0]     \n",
      "__________________________________________________________________________________________________\n",
      "conv2d_79 (Conv2D)              (None, 15, 7, 512)   2359808     leaky_re_lu_72[0][0]             \n",
      "__________________________________________________________________________________________________\n",
      "batch_normalization_79 (BatchNo (None, 15, 7, 512)   2048        conv2d_79[0][0]                  \n",
      "__________________________________________________________________________________________________\n",
      "leaky_re_lu_73 (LeakyReLU)      (None, 15, 7, 512)   0           batch_normalization_79[0][0]     \n",
      "__________________________________________________________________________________________________\n",
      "conv2d_80 (Conv2D)              (None, 15, 7, 1024)  525312      leaky_re_lu_73[0][0]             \n",
      "__________________________________________________________________________________________________\n",
      "batch_normalization_80 (BatchNo (None, 15, 7, 1024)  4096        conv2d_80[0][0]                  \n",
      "__________________________________________________________________________________________________\n",
      "add_24 (Add)                    (None, 15, 7, 1024)  0           leaky_re_lu_71[0][0]             \n",
      "                                                                 batch_normalization_80[0][0]     \n",
      "__________________________________________________________________________________________________\n",
      "leaky_re_lu_74 (LeakyReLU)      (None, 15, 7, 1024)  0           add_24[0][0]                     \n",
      "__________________________________________________________________________________________________\n",
      "conv2d_81 (Conv2D)              (None, 15, 7, 512)   524800      leaky_re_lu_74[0][0]             \n",
      "__________________________________________________________________________________________________\n",
      "batch_normalization_81 (BatchNo (None, 15, 7, 512)   2048        conv2d_81[0][0]                  \n",
      "__________________________________________________________________________________________________\n",
      "leaky_re_lu_75 (LeakyReLU)      (None, 15, 7, 512)   0           batch_normalization_81[0][0]     \n",
      "__________________________________________________________________________________________________\n",
      "conv2d_82 (Conv2D)              (None, 15, 7, 512)   2359808     leaky_re_lu_75[0][0]             \n",
      "__________________________________________________________________________________________________\n",
      "batch_normalization_82 (BatchNo (None, 15, 7, 512)   2048        conv2d_82[0][0]                  \n",
      "__________________________________________________________________________________________________\n",
      "leaky_re_lu_76 (LeakyReLU)      (None, 15, 7, 512)   0           batch_normalization_82[0][0]     \n",
      "__________________________________________________________________________________________________\n",
      "conv2d_83 (Conv2D)              (None, 15, 7, 1024)  525312      leaky_re_lu_76[0][0]             \n",
      "__________________________________________________________________________________________________\n",
      "batch_normalization_83 (BatchNo (None, 15, 7, 1024)  4096        conv2d_83[0][0]                  \n",
      "__________________________________________________________________________________________________\n",
      "add_25 (Add)                    (None, 15, 7, 1024)  0           leaky_re_lu_74[0][0]             \n",
      "                                                                 batch_normalization_83[0][0]     \n",
      "__________________________________________________________________________________________________\n",
      "leaky_re_lu_77 (LeakyReLU)      (None, 15, 7, 1024)  0           add_25[0][0]                     \n",
      "__________________________________________________________________________________________________\n",
      "conv2d_84 (Conv2D)              (None, 15, 7, 512)   524800      leaky_re_lu_77[0][0]             \n",
      "__________________________________________________________________________________________________\n",
      "batch_normalization_84 (BatchNo (None, 15, 7, 512)   2048        conv2d_84[0][0]                  \n",
      "__________________________________________________________________________________________________\n",
      "leaky_re_lu_78 (LeakyReLU)      (None, 15, 7, 512)   0           batch_normalization_84[0][0]     \n",
      "__________________________________________________________________________________________________\n",
      "conv2d_85 (Conv2D)              (None, 15, 7, 512)   2359808     leaky_re_lu_78[0][0]             \n",
      "__________________________________________________________________________________________________\n",
      "batch_normalization_85 (BatchNo (None, 15, 7, 512)   2048        conv2d_85[0][0]                  \n",
      "__________________________________________________________________________________________________\n",
      "leaky_re_lu_79 (LeakyReLU)      (None, 15, 7, 512)   0           batch_normalization_85[0][0]     \n",
      "__________________________________________________________________________________________________\n",
      "conv2d_86 (Conv2D)              (None, 15, 7, 1024)  525312      leaky_re_lu_79[0][0]             \n",
      "__________________________________________________________________________________________________\n",
      "batch_normalization_86 (BatchNo (None, 15, 7, 1024)  4096        conv2d_86[0][0]                  \n",
      "__________________________________________________________________________________________________\n",
      "add_26 (Add)                    (None, 15, 7, 1024)  0           leaky_re_lu_77[0][0]             \n",
      "                                                                 batch_normalization_86[0][0]     \n",
      "__________________________________________________________________________________________________\n",
      "leaky_re_lu_80 (LeakyReLU)      (None, 15, 7, 1024)  0           add_26[0][0]                     \n",
      "__________________________________________________________________________________________________\n",
      "max_pooling2d_3 (MaxPooling2D)  (None, 7, 3, 1024)   0           leaky_re_lu_80[0][0]             \n",
      "__________________________________________________________________________________________________\n",
      "flatten_3 (Flatten)             (None, 21504)        0           max_pooling2d_3[0][0]            \n",
      "__________________________________________________________________________________________________\n",
      "dense_7 (Dense)                 (None, 1024)         22021120    flatten_3[0][0]                  \n",
      "__________________________________________________________________________________________________\n",
      "dense_8 (Dense)                 (None, 512)          524800      dense_7[0][0]                    \n",
      "__________________________________________________________________________________________________\n",
      "dense_9 (Dense)                 (None, 1)            513         dense_8[0][0]                    \n",
      "==================================================================================================\n",
      "Total params: 47,465,153\n",
      "Trainable params: 47,425,601\n",
      "Non-trainable params: 39,552\n",
      "__________________________________________________________________________________________________\n"
     ]
    }
   ],
   "source": [
    "model.build(input_shape=(None, edge_size0,edge_size1,2))\n",
    "model.summary()"
   ]
  },
  {
   "cell_type": "code",
   "execution_count": 65,
   "metadata": {},
   "outputs": [],
   "source": [
    "logdir = 'ResNet_sinus_E.csv'"
   ]
  },
  {
   "cell_type": "code",
   "execution_count": 66,
   "metadata": {},
   "outputs": [],
   "source": [
    "from keras.callbacks import CSVLogger\n",
    "csv_logger = CSVLogger(logdir, append=True, separator=';')"
   ]
  },
  {
   "cell_type": "code",
   "execution_count": 67,
   "metadata": {},
   "outputs": [],
   "source": [
    "from keras.callbacks import ReduceLROnPlateau\n",
    "reduce_lr = ReduceLROnPlateau(monitor='val_loss', factor=0.2,\n",
    "                              patience=5, min_lr=0.000001)"
   ]
  },
  {
   "cell_type": "code",
   "execution_count": 68,
   "metadata": {},
   "outputs": [],
   "source": [
    "TRAIN_DIR = '~/data/data_dir/'\n",
    "tr_true_info = pd.read_csv(TRAIN_DIR + 'true_info.csv')"
   ]
  },
  {
   "cell_type": "code",
   "execution_count": 69,
   "metadata": {},
   "outputs": [],
   "source": [
    "epochs = [5,5,5,3,3,3,1,1,1,1,1,1,1]"
   ]
  },
  {
   "cell_type": "code",
   "execution_count": 70,
   "metadata": {},
   "outputs": [
    {
     "data": {
      "text/plain": [
       "array([    0, 20000, 40000, 60000, 80000])"
      ]
     },
     "execution_count": 70,
     "metadata": {},
     "output_type": "execute_result"
    }
   ],
   "source": [
    "rg"
   ]
  },
  {
   "cell_type": "code",
   "execution_count": 72,
   "metadata": {},
   "outputs": [],
   "source": [
    "X_test = data_lpmt"
   ]
  },
  {
   "cell_type": "code",
   "execution_count": 73,
   "metadata": {},
   "outputs": [],
   "source": [
    "y_test = tr_true_info[(tr_true_info['evtID'] >= rg[-2]) \n",
    "                     & (tr_true_info['evtID'] < rg[-1])]\n",
    "mask = (y_test.R <= MAXR)\n",
    "X_test = X_test[mask]\n",
    "y_test = y_test[mask][['E']].values"
   ]
  },
  {
   "cell_type": "code",
   "execution_count": 91,
   "metadata": {},
   "outputs": [],
   "source": [
    "def scale(X):\n",
    "    X[:,:,:,1] /= 20 "
   ]
  },
  {
   "cell_type": "code",
   "execution_count": 106,
   "metadata": {},
   "outputs": [],
   "source": [
    "def scaler(X,y):\n",
    "    X[:,:,:,1] /= 20 "
   ]
  },
  {
   "cell_type": "code",
   "execution_count": 93,
   "metadata": {},
   "outputs": [],
   "source": [
    "scale(X_test)"
   ]
  },
  {
   "cell_type": "code",
   "execution_count": null,
   "metadata": {},
   "outputs": [
    {
     "name": "stdout",
     "output_type": "stream",
     "text": [
      "ITERATION:  0\n",
      "Train on 18361 samples, validate on 18402 samples\n",
      "Epoch 1/5\n",
      "18361/18361 [==============================] - 669s 36ms/step - loss: 1.0508 - val_loss: 0.6635\n",
      "Epoch 2/5\n",
      "18361/18361 [==============================] - 667s 36ms/step - loss: 0.9219 - val_loss: 0.6253\n",
      "Epoch 3/5\n",
      "18361/18361 [==============================] - 668s 36ms/step - loss: 0.4961 - val_loss: 0.8150\n",
      "Epoch 4/5\n",
      "18361/18361 [==============================] - 666s 36ms/step - loss: 0.4863 - val_loss: 0.1440\n",
      "Epoch 5/5\n",
      "18361/18361 [==============================] - 666s 36ms/step - loss: 0.2558 - val_loss: 0.1661\n",
      "ITERATION:  0\n",
      "Train on 18357 samples, validate on 18402 samples\n",
      "Epoch 1/5\n",
      "18357/18357 [==============================] - 668s 36ms/step - loss: 0.2500 - val_loss: 0.0854\n",
      "Epoch 2/5\n",
      "18357/18357 [==============================] - 666s 36ms/step - loss: 0.2180 - val_loss: 0.0755\n",
      "Epoch 3/5\n",
      "18357/18357 [==============================] - 667s 36ms/step - loss: 0.1532 - val_loss: 0.2849\n",
      "Epoch 4/5\n",
      "18357/18357 [==============================] - 666s 36ms/step - loss: 0.1718 - val_loss: 0.1477\n",
      "Epoch 5/5\n",
      "18357/18357 [==============================] - 667s 36ms/step - loss: 0.2371 - val_loss: 0.1794\n",
      "ITERATION:  0\n",
      "Train on 18391 samples, validate on 18402 samples\n",
      "Epoch 1/5\n",
      "18391/18391 [==============================] - 668s 36ms/step - loss: 0.1163 - val_loss: 0.0459\n",
      "Epoch 2/5\n",
      "18391/18391 [==============================] - 668s 36ms/step - loss: 0.0861 - val_loss: 0.0383\n",
      "Epoch 3/5\n",
      "18391/18391 [==============================] - 667s 36ms/step - loss: 0.0837 - val_loss: 0.0758\n",
      "Epoch 4/5\n",
      "18391/18391 [==============================] - 668s 36ms/step - loss: 0.1037 - val_loss: 0.0472\n",
      "Epoch 5/5\n",
      "18391/18391 [==============================] - 669s 36ms/step - loss: 0.1028 - val_loss: 0.1011\n",
      "ITERATION:  1\n",
      "Train on 18361 samples, validate on 18402 samples\n",
      "Epoch 1/5\n",
      "18361/18361 [==============================] - 667s 36ms/step - loss: 0.1449 - val_loss: 0.0590\n",
      "Epoch 2/5\n",
      "18361/18361 [==============================] - 668s 36ms/step - loss: 0.1178 - val_loss: 0.0473\n",
      "Epoch 3/5\n",
      "18361/18361 [==============================] - 667s 36ms/step - loss: 0.0819 - val_loss: 0.1356\n",
      "Epoch 4/5\n",
      "18361/18361 [==============================] - 667s 36ms/step - loss: 0.1256 - val_loss: 0.0888\n",
      "Epoch 5/5\n",
      "18361/18361 [==============================] - 666s 36ms/step - loss: 0.0519 - val_loss: 0.0329\n",
      "ITERATION:  1\n",
      "Train on 18357 samples, validate on 18402 samples\n",
      "Epoch 1/5\n",
      "18357/18357 [==============================] - 667s 36ms/step - loss: 0.0788 - val_loss: 0.1287\n",
      "Epoch 2/5\n",
      "18357/18357 [==============================] - 667s 36ms/step - loss: 0.0933 - val_loss: 0.2247\n",
      "Epoch 3/5\n",
      "18357/18357 [==============================] - 667s 36ms/step - loss: 0.0644 - val_loss: 0.0400\n",
      "Epoch 4/5\n",
      "18357/18357 [==============================] - 667s 36ms/step - loss: 0.0651 - val_loss: 0.0432\n",
      "Epoch 5/5\n",
      "18357/18357 [==============================] - 667s 36ms/step - loss: 0.0642 - val_loss: 0.0426\n",
      "ITERATION:  1\n",
      "Train on 18391 samples, validate on 18402 samples\n",
      "Epoch 1/5\n",
      "18391/18391 [==============================] - 668s 36ms/step - loss: 0.0527 - val_loss: 0.0343\n",
      "Epoch 2/5\n",
      "18391/18391 [==============================] - 668s 36ms/step - loss: 0.0571 - val_loss: 0.2742\n",
      "Epoch 3/5\n",
      "18391/18391 [==============================] - 666s 36ms/step - loss: 0.0471 - val_loss: 0.1268\n",
      "Epoch 4/5\n",
      "18391/18391 [==============================] - 666s 36ms/step - loss: 0.0584 - val_loss: 0.0463\n",
      "Epoch 5/5\n",
      "18391/18391 [==============================] - 666s 36ms/step - loss: 0.0388 - val_loss: 0.0739\n",
      "ITERATION:  2\n",
      "Train on 18361 samples, validate on 18402 samples\n",
      "Epoch 1/5\n",
      "18361/18361 [==============================] - 667s 36ms/step - loss: 0.0561 - val_loss: 0.0922\n",
      "Epoch 2/5\n",
      "18361/18361 [==============================] - 666s 36ms/step - loss: 0.0560 - val_loss: 0.0244\n",
      "Epoch 3/5\n",
      "18361/18361 [==============================] - 666s 36ms/step - loss: 0.0484 - val_loss: 0.0433\n",
      "Epoch 4/5\n",
      "18361/18361 [==============================] - 666s 36ms/step - loss: 0.0424 - val_loss: 0.0368\n",
      "Epoch 5/5\n",
      "18361/18361 [==============================] - 666s 36ms/step - loss: 0.0384 - val_loss: 0.0256\n",
      "ITERATION:  2\n",
      "Train on 18357 samples, validate on 18402 samples\n",
      "Epoch 1/5\n",
      "18357/18357 [==============================] - 665s 36ms/step - loss: 0.0449 - val_loss: 0.0415\n",
      "Epoch 2/5\n",
      "18357/18357 [==============================] - 667s 36ms/step - loss: 0.0393 - val_loss: 0.1150\n",
      "Epoch 3/5\n",
      "18357/18357 [==============================] - 668s 36ms/step - loss: 0.0425 - val_loss: 0.0225\n",
      "Epoch 4/5\n",
      "18357/18357 [==============================] - 667s 36ms/step - loss: 0.0324 - val_loss: 0.0283\n",
      "Epoch 5/5\n",
      "18357/18357 [==============================] - 668s 36ms/step - loss: 0.0339 - val_loss: 0.0593\n",
      "ITERATION:  2\n",
      "Train on 18391 samples, validate on 18402 samples\n",
      "Epoch 1/5\n",
      "18391/18391 [==============================] - 668s 36ms/step - loss: 0.0337 - val_loss: 0.0353\n",
      "Epoch 2/5\n",
      "18391/18391 [==============================] - 669s 36ms/step - loss: 0.0260 - val_loss: 0.0223\n",
      "Epoch 3/5\n",
      "18391/18391 [==============================] - 670s 36ms/step - loss: 0.0268 - val_loss: 0.0338\n",
      "Epoch 4/5\n",
      "18391/18391 [==============================] - 668s 36ms/step - loss: 0.0287 - val_loss: 0.0712\n",
      "Epoch 5/5\n",
      "18391/18391 [==============================] - 668s 36ms/step - loss: 0.0237 - val_loss: 0.0201\n",
      "ITERATION:  3\n",
      "Train on 18361 samples, validate on 18402 samples\n",
      "Epoch 1/3\n",
      "18361/18361 [==============================] - 668s 36ms/step - loss: 0.0358 - val_loss: 0.0569\n",
      "Epoch 2/3\n",
      "18361/18361 [==============================] - 667s 36ms/step - loss: 0.0360 - val_loss: 0.0242\n",
      "Epoch 3/3\n",
      "18361/18361 [==============================] - 667s 36ms/step - loss: 0.0245 - val_loss: 0.0358\n",
      "ITERATION:  3\n",
      "Train on 18357 samples, validate on 18402 samples\n",
      "Epoch 1/3\n",
      "18357/18357 [==============================] - 667s 36ms/step - loss: 0.0308 - val_loss: 0.0393\n",
      "Epoch 2/3\n",
      "18357/18357 [==============================] - 667s 36ms/step - loss: 0.0316 - val_loss: 0.0164\n",
      "Epoch 3/3\n",
      "18357/18357 [==============================] - 667s 36ms/step - loss: 0.0301 - val_loss: 0.0220\n",
      "ITERATION:  3\n",
      "Train on 18391 samples, validate on 18402 samples\n",
      "Epoch 1/3\n",
      "18391/18391 [==============================] - 668s 36ms/step - loss: 0.0243 - val_loss: 0.0254\n",
      "Epoch 2/3\n",
      "18391/18391 [==============================] - 668s 36ms/step - loss: 0.0204 - val_loss: 0.0310\n",
      "Epoch 3/3\n",
      "18391/18391 [==============================] - 668s 36ms/step - loss: 0.0196 - val_loss: 0.0230\n",
      "ITERATION:  4\n",
      "Train on 18361 samples, validate on 18402 samples\n",
      "Epoch 1/3\n",
      "12960/18361 [====================>.........] - ETA: 2:33 - loss: 0.0274"
     ]
    }
   ],
   "source": [
    "import gc\n",
    "for i in range(len(epochs)):\n",
    "    for start, end in zip(rg[:-2], rg[1:-1]):\n",
    "        print(\"ITERATION: \", i)\n",
    "        data_lpmt_cur = np.load(LTRAIN + '_' + str(start) +'without_noise_sin.npy')\n",
    "        ys = tr_true_info[(tr_true_info['evtID'] >= start) \n",
    "                            & (tr_true_info['evtID'] < end)]\n",
    "        mask = (ys.R <= MAXR)\n",
    "        data_lpmt_cur = data_lpmt_cur[mask]\n",
    "        y_cur = ys[mask][['E']].values\n",
    "        #Scale\n",
    "        scale(data_lpmt_cur)\n",
    "        \n",
    "        #X_train, X_test, y_train, y_test = train_test_split(data_lpmt, y_val, test_size=0.2, random_state=45)\n",
    "        out = model.fit(data_lpmt_cur, y_cur, batch_size=32, \n",
    "                epochs=epochs[i],\n",
    "                callbacks=[csv_logger, reduce_lr],\n",
    "                validation_data=(X_test, y_test),\n",
    "                shuffle=True)\n",
    "    gc.collect()"
   ]
  },
  {
   "cell_type": "code",
   "execution_count": 107,
   "metadata": {},
   "outputs": [],
   "source": [
    "training_generator = DataGenerator(24,rg=rg,\n",
    "                                   file_names=[LTRAIN + '_' + str(start) +'without_noise_sin.npy' for start in rg[:-2]],\n",
    "                                  y_true=tr_true_info,\n",
    "                                  target_names=['E'],\n",
    "                                  scaler=scaler)"
   ]
  },
  {
   "cell_type": "code",
   "execution_count": 108,
   "metadata": {
    "scrolled": true
   },
   "outputs": [
    {
     "name": "stdout",
     "output_type": "stream",
     "text": [
      "Epoch 1/40\n",
      "765/765 [==============================] - 746s 975ms/step - loss: 0.0123 - val_loss: 0.0230\n",
      "Epoch 2/40\n",
      "765/765 [==============================] - 740s 967ms/step - loss: 0.0104 - val_loss: 0.0222\n",
      "Epoch 3/40\n",
      "765/765 [==============================] - 741s 968ms/step - loss: 0.0108 - val_loss: 0.0199\n",
      "Epoch 4/40\n",
      "765/765 [==============================] - 740s 968ms/step - loss: 0.0098 - val_loss: 0.1173\n",
      "Epoch 5/40\n",
      "765/765 [==============================] - 740s 968ms/step - loss: 0.0147 - val_loss: 0.0249\n",
      "Epoch 6/40\n",
      "765/765 [==============================] - 741s 968ms/step - loss: 0.0083 - val_loss: 0.0239\n",
      "Epoch 7/40\n",
      "765/765 [==============================] - 741s 968ms/step - loss: 0.0095 - val_loss: 0.0220\n",
      "Epoch 8/40\n",
      "765/765 [==============================] - 741s 969ms/step - loss: 0.0090 - val_loss: 0.0169\n",
      "Epoch 9/40\n",
      "765/765 [==============================] - 741s 969ms/step - loss: 0.0093 - val_loss: 0.0210\n",
      "Epoch 10/40\n",
      "765/765 [==============================] - 741s 968ms/step - loss: 0.0086 - val_loss: 0.0174\n",
      "Epoch 11/40\n",
      "765/765 [==============================] - 742s 969ms/step - loss: 0.0087 - val_loss: 0.0181\n",
      "Epoch 12/40\n",
      "765/765 [==============================] - 742s 970ms/step - loss: 0.0078 - val_loss: 0.0198\n",
      "Epoch 13/40\n",
      "765/765 [==============================] - 742s 970ms/step - loss: 0.0085 - val_loss: 0.0175\n",
      "Epoch 14/40\n",
      "765/765 [==============================] - 742s 969ms/step - loss: 0.0044 - val_loss: 0.0202\n",
      "Epoch 15/40\n",
      "765/765 [==============================] - 741s 968ms/step - loss: 0.0035 - val_loss: 0.0151\n",
      "Epoch 16/40\n",
      "765/765 [==============================] - 741s 969ms/step - loss: 0.0036 - val_loss: 0.0150\n",
      "Epoch 17/40\n",
      "765/765 [==============================] - 737s 964ms/step - loss: 0.0036 - val_loss: 0.0157\n",
      "Epoch 18/40\n",
      "765/765 [==============================] - 737s 963ms/step - loss: 0.0033 - val_loss: 0.0205\n",
      "Epoch 19/40\n",
      "765/765 [==============================] - 737s 963ms/step - loss: 0.0034 - val_loss: 0.0168\n",
      "Epoch 20/40\n",
      "765/765 [==============================] - 737s 963ms/step - loss: 0.0032 - val_loss: 0.0238\n",
      "Epoch 21/40\n",
      "765/765 [==============================] - 737s 964ms/step - loss: 0.0033 - val_loss: 0.0168\n",
      "Epoch 22/40\n",
      "765/765 [==============================] - 738s 964ms/step - loss: 0.0025 - val_loss: 0.0161\n",
      "Epoch 23/40\n",
      "765/765 [==============================] - 740s 967ms/step - loss: 0.0023 - val_loss: 0.0162\n",
      "Epoch 24/40\n",
      "765/765 [==============================] - 740s 968ms/step - loss: 0.0022 - val_loss: 0.0155\n",
      "Epoch 25/40\n",
      "765/765 [==============================] - 741s 969ms/step - loss: 0.0023 - val_loss: 0.0152\n",
      "Epoch 26/40\n",
      "765/765 [==============================] - 741s 969ms/step - loss: 0.0023 - val_loss: 0.0163\n",
      "Epoch 27/40\n",
      "765/765 [==============================] - 742s 970ms/step - loss: 0.0021 - val_loss: 0.0157\n",
      "Epoch 28/40\n",
      "765/765 [==============================] - 742s 969ms/step - loss: 0.0021 - val_loss: 0.0157\n",
      "Epoch 29/40\n",
      "765/765 [==============================] - 742s 970ms/step - loss: 0.0021 - val_loss: 0.0158\n",
      "Epoch 30/40\n",
      "765/765 [==============================] - 742s 969ms/step - loss: 0.0020 - val_loss: 0.0154\n",
      "Epoch 31/40\n",
      "765/765 [==============================] - 742s 970ms/step - loss: 0.0021 - val_loss: 0.0157\n",
      "Epoch 32/40\n",
      "765/765 [==============================] - 742s 970ms/step - loss: 0.0021 - val_loss: 0.0160\n",
      "Epoch 33/40\n",
      "765/765 [==============================] - 742s 970ms/step - loss: 0.0020 - val_loss: 0.0158\n",
      "Epoch 34/40\n",
      "765/765 [==============================] - 742s 969ms/step - loss: 0.0021 - val_loss: 0.0157\n",
      "Epoch 35/40\n",
      "765/765 [==============================] - 742s 970ms/step - loss: 0.0022 - val_loss: 0.0160\n",
      "Epoch 36/40\n",
      "765/765 [==============================] - 742s 969ms/step - loss: 0.0021 - val_loss: 0.0156\n",
      "Epoch 37/40\n",
      "765/765 [==============================] - 741s 969ms/step - loss: 0.0021 - val_loss: 0.0159\n",
      "Epoch 38/40\n",
      "765/765 [==============================] - 741s 969ms/step - loss: 0.0021 - val_loss: 0.0155\n",
      "Epoch 39/40\n",
      "765/765 [==============================] - 741s 968ms/step - loss: 0.0020 - val_loss: 0.0158\n",
      "Epoch 40/40\n",
      "765/765 [==============================] - 741s 969ms/step - loss: 0.0020 - val_loss: 0.0162\n"
     ]
    },
    {
     "data": {
      "text/plain": [
       "<keras.callbacks.History at 0x7f3f971e5320>"
      ]
     },
     "execution_count": 108,
     "metadata": {},
     "output_type": "execute_result"
    }
   ],
   "source": [
    "model.fit_generator(generator=training_generator,\n",
    "                    validation_data=(X_test, y_test),\n",
    "                    use_multiprocessing=True,\n",
    "                    workers=6,\n",
    "                    callbacks=[csv_logger, reduce_lr],\n",
    "                   epochs=4*10)"
   ]
  },
  {
   "cell_type": "code",
   "execution_count": 111,
   "metadata": {},
   "outputs": [],
   "source": [
    "def test_sigmas(model, test_dir='/mnt/iprovilkov/data_dir/', test_column='E', MAXR=MAXR, \n",
    "                time=False, recompute=False):\n",
    "    sigmas = {}\n",
    "    MSEs = {}\n",
    "    predictions = {}\n",
    "    CONST = 1.022\n",
    "    for energy in tqdm(range(10)):\n",
    "        try:\n",
    "            if recompute:\n",
    "                raise Exception(\"Recompute\")\n",
    "            if time:\n",
    "                data_lpmt = np.load(test_dir + str(energy) + 'data_lpmt_without_noise_sin.npy')\n",
    "            else:\n",
    "                data_lpmt = np.load(test_dir + str(energy) + 'data_lpmt_without_noise_sin.npy')\n",
    "            true_info = pd.read_csv(TRAIN_DIR + str(energy)+'MeV_'+'true_info.csv')\n",
    "        except: \n",
    "            lpmt_hits = pd.read_hdf(test_dir + str(energy)+'MeV_'+ 'lpmt_hits.h5', mode='r') \n",
    "            spmt_hits = pd.read_hdf(test_dir + str(energy)+'MeV_'+'spmt_hits.h5', mode='r')\n",
    "            lpmt_hits = lpmt_hits[lpmt_hits.isDN==False]\n",
    "            spmt_hits = spmt_hits[spmt_hits.isDN==False]\n",
    "            pos = pd.read_csv(TRAIN_DIR + str(energy)+'MeV_'+'lpmt_pos.csv') \n",
    "            spmt_pos = pd.read_csv(TRAIN_DIR + str(energy)+'MeV_'+'spmt_pos.csv') \n",
    "            true_info = pd.read_csv(TRAIN_DIR + str(energy)+'MeV_'+'true_info.csv')\n",
    "            if time:\n",
    "                print(\"Compute...\")\n",
    "                data_lpmt, event_to_id = get_data_2dprojection(lpmt_hits,\n",
    "                                                None,\n",
    "                                                pos,\n",
    "                                                true_info,\n",
    "                                                edge_size0=226,\n",
    "                                                edge_size1=112,\n",
    "                                                use_spmt=False,\n",
    "                                                time='min',\n",
    "                                                )\n",
    "                np.save(test_dir+str(energy)+'data_lpmt_without_noise_sin', data_lpmt)\n",
    "            else:\n",
    "                pass\n",
    "            \n",
    "        mask = (true_info.R<=MAXR)\n",
    "        data_lpmt = data_lpmt[mask]\n",
    "        true_info = true_info[mask]\n",
    "        y_test = true_info[test_column]\n",
    "        scaler(data_lpmt, y_test)\n",
    "        preds = np.maximum(model.predict(data_lpmt), 0)\n",
    "        print(y_test.mean())\n",
    "        predictions[energy] = preds\n",
    "        MSEs[energy] = mean_squared_error(preds, y_test)\n",
    "        # in percents\n",
    "        sigmas[energy] = np.std(preds.reshape(-1) - y_test.values.reshape(-1)) / (energy + CONST)\n",
    "    print(\"+\")\n",
    "    return sigmas, MSEs, predictions"
   ]
  },
  {
   "cell_type": "code",
   "execution_count": 115,
   "metadata": {},
   "outputs": [],
   "source": [
    "from tqdm import tqdm\n",
    "from sklearn.metrics.pairwise import paired_euclidean_distances\n",
    "from sklearn.metrics import mean_squared_error"
   ]
  },
  {
   "cell_type": "code",
   "execution_count": 117,
   "metadata": {},
   "outputs": [
    {
     "data": {
      "text/plain": [
       "(0, 0.3)"
      ]
     },
     "execution_count": 117,
     "metadata": {},
     "output_type": "execute_result"
    },
    {
     "data": {
      "image/png": "[encoded data removed]",
      "text/plain": [
       "<Figure size 432x288 with 1 Axes>"
      ]
     },
     "metadata": {
      "needs_background": "light"
     },
     "output_type": "display_data"
    }
   ],
   "source": [
    "cs = pd.read_csv(logdir, sep=';')\n",
    "plt.scatter(np.arange(0, cs.shape[0]), cs['val_loss'].values)\n",
    "plt.ylim(0,0.3)"
   ]
  },
  {
   "cell_type": "code",
   "execution_count": 120,
   "metadata": {},
   "outputs": [
    {
     "data": {
      "text/plain": [
       "array([0.0020752 , 0.0021274 , 0.00201333, 0.00205793, 0.00218815,\n",
       "       0.00206221, 0.00207689, 0.00210772, 0.00202216, 0.00204633])"
      ]
     },
     "execution_count": 120,
     "metadata": {},
     "output_type": "execute_result"
    }
   ],
   "source": [
    "cs['loss'].values[-10:]"
   ]
  },
  {
   "cell_type": "code",
   "execution_count": 116,
   "metadata": {},
   "outputs": [
    {
     "name": "stderr",
     "output_type": "stream",
     "text": [
      "\n",
      "  0%|          | 0/10 [00:00<?, ?it/s]\u001b[A\n",
      " 10%|█         | 1/10 [00:14<02:13, 14.79s/it]\u001b[A"
     ]
    },
    {
     "name": "stdout",
     "output_type": "stream",
     "text": [
      "0.5109988999999999\n"
     ]
    },
    {
     "name": "stderr",
     "output_type": "stream",
     "text": [
      "\n",
      " 20%|██        | 2/10 [00:30<01:59, 14.96s/it]\u001b[A"
     ]
    },
    {
     "name": "stdout",
     "output_type": "stream",
     "text": [
      "1.5109988697622994\n"
     ]
    },
    {
     "name": "stderr",
     "output_type": "stream",
     "text": [
      "\n",
      " 30%|███       | 3/10 [00:45<01:45, 15.05s/it]\u001b[A"
     ]
    },
    {
     "name": "stdout",
     "output_type": "stream",
     "text": [
      "2.5109990065502177\n"
     ]
    },
    {
     "name": "stderr",
     "output_type": "stream",
     "text": [
      "\n",
      " 40%|████      | 4/10 [01:00<01:30, 15.00s/it]\u001b[A"
     ]
    },
    {
     "name": "stdout",
     "output_type": "stream",
     "text": [
      "3.5109988987951803\n"
     ]
    },
    {
     "name": "stderr",
     "output_type": "stream",
     "text": [
      "\n",
      " 50%|█████     | 5/10 [01:15<01:15, 15.15s/it]\u001b[A"
     ]
    },
    {
     "name": "stdout",
     "output_type": "stream",
     "text": [
      "4.510998806956522\n"
     ]
    },
    {
     "name": "stderr",
     "output_type": "stream",
     "text": [
      "\n",
      " 60%|██████    | 6/10 [01:31<01:01, 15.30s/it]\u001b[A"
     ]
    },
    {
     "name": "stdout",
     "output_type": "stream",
     "text": [
      "5.510998686870312\n"
     ]
    },
    {
     "name": "stderr",
     "output_type": "stream",
     "text": [
      "\n",
      " 70%|███████   | 7/10 [01:46<00:45, 15.18s/it]\u001b[A"
     ]
    },
    {
     "name": "stdout",
     "output_type": "stream",
     "text": [
      "6.510998666593649\n"
     ]
    },
    {
     "name": "stderr",
     "output_type": "stream",
     "text": [
      "\n",
      " 80%|████████  | 8/10 [02:01<00:30, 15.08s/it]\u001b[A"
     ]
    },
    {
     "name": "stdout",
     "output_type": "stream",
     "text": [
      "7.510998798899285\n"
     ]
    },
    {
     "name": "stderr",
     "output_type": "stream",
     "text": [
      "\n",
      " 90%|█████████ | 9/10 [02:16<00:15, 15.02s/it]\u001b[A"
     ]
    },
    {
     "name": "stdout",
     "output_type": "stream",
     "text": [
      "8.510999212171052\n"
     ]
    },
    {
     "name": "stderr",
     "output_type": "stream",
     "text": [
      "\n",
      "100%|██████████| 10/10 [02:31<00:00, 15.03s/it]\u001b[A"
     ]
    },
    {
     "name": "stdout",
     "output_type": "stream",
     "text": [
      "9.510998837121212\n",
      "+\n"
     ]
    }
   ],
   "source": [
    "sigmas, MSEs, predictions = test_sigmas(model, time=True, recompute=False)"
   ]
  },
  {
   "cell_type": "code",
   "execution_count": 118,
   "metadata": {},
   "outputs": [
    {
     "data": {
      "text/plain": [
       "({0: 0.036301578356133374,\n",
       "  1: 0.029217005690512762,\n",
       "  2: 0.023470900848904807,\n",
       "  3: 0.024737039369049155,\n",
       "  4: 0.018739623440782133,\n",
       "  5: 0.018146681950313208,\n",
       "  6: 0.021182187173356796,\n",
       "  7: 0.016301623506855045,\n",
       "  8: 0.015459551628696826,\n",
       "  9: 0.016528574950344543},\n",
       " {0: 0.00447003954165256,\n",
       "  1: 0.003636291469315232,\n",
       "  2: 0.005038682194198984,\n",
       "  3: 0.009947643309935915,\n",
       "  4: 0.009082961907623402,\n",
       "  5: 0.012202136059534038,\n",
       "  6: 0.023815511627247817,\n",
       "  7: 0.01883730285736746,\n",
       "  8: 0.02145273887658233,\n",
       "  9: 0.031054516007096893})"
      ]
     },
     "execution_count": 118,
     "metadata": {},
     "output_type": "execute_result"
    }
   ],
   "source": [
    "sigmas, MSEs"
   ]
  },
  {
   "cell_type": "code",
   "execution_count": null,
   "metadata": {},
   "outputs": [],
   "source": []
  },
  {
   "cell_type": "code",
   "execution_count": null,
   "metadata": {},
   "outputs": [],
   "source": []
  },
  {
   "cell_type": "code",
   "execution_count": null,
   "metadata": {},
   "outputs": [],
   "source": []
  },
  {
   "cell_type": "code",
   "execution_count": null,
   "metadata": {},
   "outputs": [],
   "source": []
  },
  {
   "cell_type": "code",
   "execution_count": null,
   "metadata": {},
   "outputs": [],
   "source": []
  },
  {
   "cell_type": "code",
   "execution_count": null,
   "metadata": {},
   "outputs": [],
   "source": []
  },
  {
   "cell_type": "code",
   "execution_count": null,
   "metadata": {},
   "outputs": [],
   "source": []
  }
 ],
 "metadata": {
  "kernelspec": {
   "display_name": "Python 3",
   "language": "python",
   "name": "python3"
  },
  "language_info": {
   "codemirror_mode": {
    "name": "ipython",
    "version": 3
   },
   "file_extension": ".py",
   "mimetype": "text/x-python",
   "name": "python",
   "nbconvert_exporter": "python",
   "pygments_lexer": "ipython3",
   "version": "3.5.6"
  }
 },
 "nbformat": 4,
 "nbformat_minor": 2
}
