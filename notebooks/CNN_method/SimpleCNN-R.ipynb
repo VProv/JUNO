{
 "cells": [
  {
   "cell_type": "code",
   "execution_count": 1,
   "metadata": {},
   "outputs": [],
   "source": [
    "# Preprocessing\n",
    "import pandas as pd\n",
    "import tables\n",
    "import time\n",
    "import numpy as np\n",
    "import gc\n",
    "from tqdm import tqdm_notebook\n",
    "import os\n",
    "from sklearn.model_selection import train_test_split\n",
    "import tensorflow as tf\n",
    "import sys\n",
    "import matplotlib.pyplot as plt\n",
    "sys.path.append('/home/iprovilkov/data/JUNO/notebooks/')"
   ]
  },
  {
   "cell_type": "code",
   "execution_count": 2,
   "metadata": {},
   "outputs": [
    {
     "name": "stderr",
     "output_type": "stream",
     "text": [
      "Using TensorFlow backend.\n"
     ]
    }
   ],
   "source": [
    "from data_utils.data_processing import get_data_2dprojection\n",
    "from data_utils.data_generator import DataGenerator"
   ]
  },
  {
   "cell_type": "code",
   "execution_count": 3,
   "metadata": {},
   "outputs": [],
   "source": [
    "os.environ[\"CUDA_DEVICE_ORDER\"]=\"PCI_BUS_ID\"\n",
    "os.environ[\"CUDA_VISIBLE_DEVICES\"]=\"0\""
   ]
  },
  {
   "cell_type": "code",
   "execution_count": 4,
   "metadata": {},
   "outputs": [],
   "source": [
    "LTRAIN = '/mnt/iprovilkov/data_dir/npdata/'\n",
    "rg = np.arange(0,100000,20000)\n",
    "MAXR = 17200"
   ]
  },
  {
   "cell_type": "code",
   "execution_count": 22,
   "metadata": {},
   "outputs": [
    {
     "data": {
      "text/plain": [
       "['/job:localhost/replica:0/task:0/device:GPU:0']"
      ]
     },
     "execution_count": 22,
     "metadata": {},
     "output_type": "execute_result"
    }
   ],
   "source": [
    "from tensorflow.python.client import device_lib\n",
    "sess = tf.Session(config=tf.ConfigProto(log_device_placement=True))\n",
    "import keras\n",
    "import keras.layers as L\n",
    "from keras.models import Sequential\n",
    "from keras import backend as K\n",
    "from keras.layers import GlobalAveragePooling2D, Dense\n",
    "from keras.models import Model\n",
    "import keras.layers as L\n",
    "from keras.regularizers import l2\n",
    "from keras.optimizers import Adam\n",
    "from keras.engine.input_layer import Input\n",
    "K.tensorflow_backend._get_available_gpus()"
   ]
  },
  {
   "cell_type": "code",
   "execution_count": 23,
   "metadata": {},
   "outputs": [],
   "source": [
    "model = Sequential()\n",
    "model.add(L.Conv2D(filters= 32, kernel_size=(3,3), activation='elu'))\n",
    "model.add(L.MaxPool2D())\n",
    "model.add(L.Conv2D(filters= 64, kernel_size=(3,3), activation='elu'))\n",
    "model.add(L.MaxPool2D())\n",
    "model.add(L.Conv2D(filters=128, kernel_size=(3,3), activation='elu'))\n",
    "model.add(L.MaxPool2D())\n",
    "model.add(L.Conv2D(filters=256, kernel_size=(3,3), activation='elu'))\n",
    "model.add(L.MaxPool2D())\n",
    "model.add(L.Conv2D(filters=256, kernel_size=(3,3), activation='elu'))\n",
    "#model.add(L.Dropout(0.3))\n",
    "model.add(L.Flatten())\n",
    "model.add(L.Dense(1024, activation='elu',kernel_initializer=keras.initializers.glorot_normal()))\n",
    "#model.add(L.Dropout(0.3))\n",
    "model.add(L.Dense(512, activation='elu',kernel_initializer=keras.initializers.glorot_normal()))\n",
    "model.add(L.Dense(256, activation='elu',kernel_initializer=keras.initializers.glorot_normal()))\n",
    "model.add(L.Dense(1))"
   ]
  },
  {
   "cell_type": "code",
   "execution_count": 24,
   "metadata": {},
   "outputs": [],
   "source": [
    "opt = Adam(decay=1e-4)"
   ]
  },
  {
   "cell_type": "code",
   "execution_count": 25,
   "metadata": {},
   "outputs": [],
   "source": [
    "edge_size0 = 226\n",
    "edge_size1 = 112\n",
    "inputs = Input(shape=(edge_size0,edge_size1,2))"
   ]
  },
  {
   "cell_type": "code",
   "execution_count": 27,
   "metadata": {},
   "outputs": [
    {
     "name": "stdout",
     "output_type": "stream",
     "text": [
      "_________________________________________________________________\n",
      "Layer (type)                 Output Shape              Param #   \n",
      "=================================================================\n",
      "conv2d_6 (Conv2D)            (None, 224, 110, 32)      608       \n",
      "_________________________________________________________________\n",
      "max_pooling2d_5 (MaxPooling2 (None, 112, 55, 32)       0         \n",
      "_________________________________________________________________\n",
      "conv2d_7 (Conv2D)            (None, 110, 53, 64)       18496     \n",
      "_________________________________________________________________\n",
      "max_pooling2d_6 (MaxPooling2 (None, 55, 26, 64)        0         \n",
      "_________________________________________________________________\n",
      "conv2d_8 (Conv2D)            (None, 53, 24, 128)       73856     \n",
      "_________________________________________________________________\n",
      "max_pooling2d_7 (MaxPooling2 (None, 26, 12, 128)       0         \n",
      "_________________________________________________________________\n",
      "conv2d_9 (Conv2D)            (None, 24, 10, 256)       295168    \n",
      "_________________________________________________________________\n",
      "max_pooling2d_8 (MaxPooling2 (None, 12, 5, 256)        0         \n",
      "_________________________________________________________________\n",
      "conv2d_10 (Conv2D)           (None, 10, 3, 256)        590080    \n",
      "_________________________________________________________________\n",
      "flatten_2 (Flatten)          (None, 7680)              0         \n",
      "_________________________________________________________________\n",
      "dense_5 (Dense)              (None, 1024)              7865344   \n",
      "_________________________________________________________________\n",
      "dense_6 (Dense)              (None, 512)               524800    \n",
      "_________________________________________________________________\n",
      "dense_7 (Dense)              (None, 256)               131328    \n",
      "_________________________________________________________________\n",
      "dense_8 (Dense)              (None, 1)                 257       \n",
      "=================================================================\n",
      "Total params: 9,499,937\n",
      "Trainable params: 9,499,937\n",
      "Non-trainable params: 0\n",
      "_________________________________________________________________\n"
     ]
    }
   ],
   "source": [
    "model.build(input_shape=(None, edge_size0,edge_size1,2))\n",
    "model.summary()"
   ]
  },
  {
   "cell_type": "code",
   "execution_count": 37,
   "metadata": {},
   "outputs": [],
   "source": [
    "model.compile(loss='mean_squared_error', optimizer=opt)"
   ]
  },
  {
   "cell_type": "code",
   "execution_count": 28,
   "metadata": {},
   "outputs": [],
   "source": [
    "logdir = 'Simple_CNN_R.csv'"
   ]
  },
  {
   "cell_type": "code",
   "execution_count": 29,
   "metadata": {},
   "outputs": [],
   "source": [
    "from keras.callbacks import CSVLogger, ReduceLROnPlateau\n",
    "csv_logger = CSVLogger(logdir, append=True, separator=';')\n",
    "reduce_lr = ReduceLROnPlateau(monitor='val_loss', factor=0.2,\n",
    "                              patience=5, min_lr=0.000001)"
   ]
  },
  {
   "cell_type": "code",
   "execution_count": 30,
   "metadata": {},
   "outputs": [],
   "source": [
    "TRAIN_DIR = '~/data/data_dir/'\n",
    "tr_true_info = pd.read_csv(TRAIN_DIR + 'true_info.csv')"
   ]
  },
  {
   "cell_type": "code",
   "execution_count": 39,
   "metadata": {},
   "outputs": [],
   "source": [
    "X_test = np.load(LTRAIN + '_' + str(rg[-2]) +'without_noise_sin.npy')"
   ]
  },
  {
   "cell_type": "code",
   "execution_count": 40,
   "metadata": {},
   "outputs": [],
   "source": [
    "y_test = tr_true_info[(tr_true_info['evtID'] >= rg[-2]) \n",
    "                     & (tr_true_info['evtID'] < rg[-1])]\n",
    "mask = (y_test.R <= MAXR)\n",
    "X_test = X_test[mask]\n",
    "y_test = y_test[mask][['R']].values"
   ]
  },
  {
   "cell_type": "code",
   "execution_count": 42,
   "metadata": {},
   "outputs": [],
   "source": [
    "def scaler(X,y):\n",
    "    X[:,:,:,1] /= 20 \n",
    "    y /= 10000"
   ]
  },
  {
   "cell_type": "code",
   "execution_count": 43,
   "metadata": {},
   "outputs": [],
   "source": [
    "scaler(X_test, y_test)"
   ]
  },
  {
   "cell_type": "code",
   "execution_count": 44,
   "metadata": {},
   "outputs": [],
   "source": [
    "training_generator = DataGenerator(16,rg=rg,\n",
    "                                file_names=[LTRAIN + '_' + str(start) +'without_noise_sin.npy' for start in rg[:-2]],\n",
    "                                  y_true=tr_true_info,\n",
    "                                  target_names=['R'],\n",
    "                                  scaler=scaler)"
   ]
  },
  {
   "cell_type": "code",
   "execution_count": 45,
   "metadata": {},
   "outputs": [
    {
     "name": "stdout",
     "output_type": "stream",
     "text": [
      "Epoch 1/60\n",
      "1145/1147 [============================>.] - ETA: 0s - loss: 217686.9851\n",
      "1147/1147 [==============================] - 76s 66ms/step - loss: 217307.4093 - val_loss: 0.2236\n",
      "Epoch 2/60\n",
      "1147/1147 [==============================] - 74s 65ms/step - loss: 14.4105 - val_loss: 0.4584\n",
      "Epoch 3/60\n",
      "1147/1147 [==============================] - 74s 65ms/step - loss: 4.5316 - val_loss: 0.1222\n",
      "Epoch 4/60\n",
      "1147/1147 [==============================] - 74s 64ms/step - loss: 6.1546 - val_loss: 0.5509\n",
      "Epoch 5/60\n",
      "1147/1147 [==============================] - 74s 65ms/step - loss: 2.4473 - val_loss: 0.2792\n",
      "Epoch 6/60\n",
      "1147/1147 [==============================] - 74s 64ms/step - loss: 1.2429 - val_loss: 0.8710\n",
      "Epoch 7/60\n",
      "1147/1147 [==============================] - 74s 65ms/step - loss: 0.9741 - val_loss: 0.4646\n",
      "Epoch 8/60\n",
      "1147/1147 [==============================] - 74s 65ms/step - loss: 0.7848 - val_loss: 0.5048\n",
      "Epoch 9/60\n",
      "1147/1147 [==============================] - 74s 65ms/step - loss: 0.0930 - val_loss: 0.1038\n",
      "Epoch 10/60\n",
      "1147/1147 [==============================] - 74s 65ms/step - loss: 0.1099 - val_loss: 0.0837\n",
      "Epoch 11/60\n",
      "1147/1147 [==============================] - 75s 65ms/step - loss: 0.1356 - val_loss: 0.1264\n",
      "Epoch 12/60\n",
      "1147/1147 [==============================] - 74s 65ms/step - loss: 0.1670 - val_loss: 0.0772\n",
      "Epoch 13/60\n",
      "1147/1147 [==============================] - 74s 65ms/step - loss: 0.1485 - val_loss: 0.1602\n",
      "Epoch 14/60\n",
      "1147/1147 [==============================] - 74s 65ms/step - loss: 0.1486 - val_loss: 0.0666\n",
      "Epoch 15/60\n",
      "1147/1147 [==============================] - 74s 65ms/step - loss: 0.1289 - val_loss: 0.0738\n",
      "Epoch 16/60\n",
      "1147/1147 [==============================] - 74s 65ms/step - loss: 0.1087 - val_loss: 0.2915\n",
      "Epoch 17/60\n",
      "1147/1147 [==============================] - 74s 65ms/step - loss: 0.1002 - val_loss: 0.1063\n",
      "Epoch 18/60\n",
      "1147/1147 [==============================] - 74s 65ms/step - loss: 0.0822 - val_loss: 0.0555\n",
      "Epoch 19/60\n",
      "1147/1147 [==============================] - 74s 65ms/step - loss: 0.0684 - val_loss: 0.0998\n",
      "Epoch 20/60\n",
      "1147/1147 [==============================] - 74s 64ms/step - loss: 0.0533 - val_loss: 0.0776\n",
      "Epoch 21/60\n",
      "1147/1147 [==============================] - 74s 64ms/step - loss: 0.0441 - val_loss: 0.0388\n",
      "Epoch 22/60\n",
      "1147/1147 [==============================] - 74s 65ms/step - loss: 0.0336 - val_loss: 0.0326\n",
      "Epoch 23/60\n",
      "1147/1147 [==============================] - 74s 65ms/step - loss: 0.0270 - val_loss: 0.0198\n",
      "Epoch 24/60\n",
      "1147/1147 [==============================] - 74s 65ms/step - loss: 0.0201 - val_loss: 0.0164\n",
      "Epoch 25/60\n",
      "1147/1147 [==============================] - 74s 65ms/step - loss: 0.0138 - val_loss: 0.0090\n",
      "Epoch 26/60\n",
      "1147/1147 [==============================] - 74s 65ms/step - loss: 0.0119 - val_loss: 0.0080\n",
      "Epoch 27/60\n",
      "1147/1147 [==============================] - 74s 65ms/step - loss: 0.0081 - val_loss: 0.0050\n",
      "Epoch 28/60\n",
      "1147/1147 [==============================] - 74s 65ms/step - loss: 0.0060 - val_loss: 0.0057\n",
      "Epoch 29/60\n",
      "1147/1147 [==============================] - 74s 65ms/step - loss: 0.0045 - val_loss: 0.0045\n",
      "Epoch 30/60\n",
      "1147/1147 [==============================] - 74s 64ms/step - loss: 0.0034 - val_loss: 0.0021\n",
      "Epoch 31/60\n",
      "1147/1147 [==============================] - 75s 65ms/step - loss: 0.0028 - val_loss: 0.0056\n",
      "Epoch 32/60\n",
      "1147/1147 [==============================] - 74s 65ms/step - loss: 0.0023 - val_loss: 0.0011\n",
      "Epoch 33/60\n",
      "1147/1147 [==============================] - 74s 65ms/step - loss: 0.0017 - val_loss: 9.8178e-04\n",
      "Epoch 34/60\n",
      "1147/1147 [==============================] - 74s 65ms/step - loss: 0.0014 - val_loss: 0.0011\n",
      "Epoch 35/60\n",
      "1147/1147 [==============================] - 74s 65ms/step - loss: 0.0013 - val_loss: 6.3674e-04\n",
      "Epoch 36/60\n",
      "1147/1147 [==============================] - 74s 65ms/step - loss: 0.0011 - val_loss: 0.0013\n",
      "Epoch 37/60\n",
      "1147/1147 [==============================] - 74s 65ms/step - loss: 0.0016 - val_loss: 6.4567e-04\n",
      "Epoch 38/60\n",
      "1147/1147 [==============================] - 74s 65ms/step - loss: 9.2265e-04 - val_loss: 8.3397e-04\n",
      "Epoch 39/60\n",
      "1147/1147 [==============================] - 74s 65ms/step - loss: 0.0010 - val_loss: 0.0011\n",
      "Epoch 40/60\n",
      "1147/1147 [==============================] - 74s 65ms/step - loss: 8.6144e-04 - val_loss: 5.9492e-04\n",
      "Epoch 41/60\n",
      "1147/1147 [==============================] - 76s 66ms/step - loss: 4.5113e-04 - val_loss: 4.3628e-04\n",
      "Epoch 42/60\n",
      "1147/1147 [==============================] - 74s 65ms/step - loss: 4.3851e-04 - val_loss: 3.8512e-04\n",
      "Epoch 43/60\n",
      "1147/1147 [==============================] - 75s 65ms/step - loss: 4.3111e-04 - val_loss: 3.7879e-04\n",
      "Epoch 44/60\n",
      "1147/1147 [==============================] - 74s 65ms/step - loss: 4.3955e-04 - val_loss: 3.9003e-04\n",
      "Epoch 45/60\n",
      "1147/1147 [==============================] - 74s 65ms/step - loss: 4.3948e-04 - val_loss: 4.3341e-04\n",
      "Epoch 46/60\n",
      "1147/1147 [==============================] - 74s 65ms/step - loss: 4.0318e-04 - val_loss: 3.7014e-04\n",
      "Epoch 47/60\n",
      "1147/1147 [==============================] - 74s 65ms/step - loss: 3.4259e-04 - val_loss: 3.6448e-04\n",
      "Epoch 48/60\n",
      "1147/1147 [==============================] - 74s 65ms/step - loss: 3.3670e-04 - val_loss: 3.4527e-04\n",
      "Epoch 49/60\n",
      "1147/1147 [==============================] - 74s 65ms/step - loss: 3.2973e-04 - val_loss: 3.2998e-04\n",
      "Epoch 50/60\n",
      "1147/1147 [==============================] - 74s 65ms/step - loss: 3.3853e-04 - val_loss: 3.3215e-04\n",
      "Epoch 51/60\n",
      "1147/1147 [==============================] - 75s 66ms/step - loss: 3.2996e-04 - val_loss: 3.4736e-04\n",
      "Epoch 52/60\n",
      "1147/1147 [==============================] - 74s 65ms/step - loss: 3.2523e-04 - val_loss: 3.2638e-04\n",
      "Epoch 53/60\n",
      "1147/1147 [==============================] - 75s 65ms/step - loss: 3.2827e-04 - val_loss: 3.3013e-04\n",
      "Epoch 54/60\n",
      "1147/1147 [==============================] - 74s 65ms/step - loss: 3.2360e-04 - val_loss: 3.4754e-04\n",
      "Epoch 55/60\n",
      "1147/1147 [==============================] - 74s 65ms/step - loss: 3.0835e-04 - val_loss: 3.1825e-04\n",
      "Epoch 56/60\n",
      "1147/1147 [==============================] - 74s 65ms/step - loss: 3.1347e-04 - val_loss: 3.1565e-04\n",
      "Epoch 57/60\n",
      "1147/1147 [==============================] - 74s 65ms/step - loss: 3.0874e-04 - val_loss: 3.1696e-04\n",
      "Epoch 58/60\n",
      "1147/1147 [==============================] - 74s 65ms/step - loss: 3.0662e-04 - val_loss: 3.1837e-04\n",
      "Epoch 59/60\n",
      "1147/1147 [==============================] - 74s 65ms/step - loss: 3.1204e-04 - val_loss: 3.1715e-04\n",
      "Epoch 60/60\n",
      "1147/1147 [==============================] - 74s 65ms/step - loss: 3.0686e-04 - val_loss: 3.1478e-04\n"
     ]
    },
    {
     "data": {
      "text/plain": [
       "<keras.callbacks.History at 0x7fcc2463b898>"
      ]
     },
     "execution_count": 45,
     "metadata": {},
     "output_type": "execute_result"
    }
   ],
   "source": [
    "model.fit_generator(generator=training_generator,\n",
    "                    validation_data=(X_test, y_test),\n",
    "                    use_multiprocessing=True,\n",
    "                    workers=6,\n",
    "                    callbacks=[csv_logger, reduce_lr],\n",
    "                   epochs=4*15)"
   ]
  },
  {
   "cell_type": "code",
   "execution_count": 119,
   "metadata": {
    "scrolled": true
   },
   "outputs": [
    {
     "name": "stdout",
     "output_type": "stream",
     "text": [
      "Epoch 1/20\n",
      "1146/1147 [============================>.] - ETA: 0s - loss: 2.9555e-04Epoch 1/20\n",
      "1147/1147 [==============================] - 77s 67ms/step - loss: 2.9536e-04 - val_loss: 3.0687e-04\n",
      "Epoch 2/20\n",
      "1147/1147 [==============================] - 75s 65ms/step - loss: 3.0074e-04 - val_loss: 3.0771e-04\n",
      "Epoch 3/20\n",
      "1147/1147 [==============================] - 75s 65ms/step - loss: 2.9808e-04 - val_loss: 3.0726e-04\n",
      "Epoch 4/20\n",
      "1147/1147 [==============================] - 75s 65ms/step - loss: 2.9510e-04 - val_loss: 3.0697e-04\n",
      "Epoch 5/20\n",
      "1147/1147 [==============================] - 75s 65ms/step - loss: 3.0022e-04 - val_loss: 3.0668e-04\n",
      "Epoch 6/20\n",
      "1147/1147 [==============================] - 75s 65ms/step - loss: 2.9778e-04 - val_loss: 3.0700e-04\n",
      "Epoch 7/20\n",
      "1147/1147 [==============================] - 75s 65ms/step - loss: 2.9483e-04 - val_loss: 3.0756e-04\n",
      "Epoch 8/20\n",
      "1147/1147 [==============================] - 75s 65ms/step - loss: 3.0013e-04 - val_loss: 3.0729e-04\n",
      "Epoch 9/20\n",
      "1147/1147 [==============================] - 75s 65ms/step - loss: 2.9762e-04 - val_loss: 3.0651e-04\n",
      "Epoch 10/20\n",
      "1147/1147 [==============================] - 75s 65ms/step - loss: 2.9451e-04 - val_loss: 3.0584e-04\n",
      "Epoch 11/20\n",
      "1147/1147 [==============================] - 75s 65ms/step - loss: 2.9992e-04 - val_loss: 3.0618e-04\n",
      "Epoch 12/20\n",
      "1147/1147 [==============================] - 75s 65ms/step - loss: 2.9674e-04 - val_loss: 3.0675e-04\n",
      "Epoch 13/20\n",
      "1147/1147 [==============================] - 75s 65ms/step - loss: 2.9426e-04 - val_loss: 3.0881e-04\n",
      "Epoch 14/20\n",
      "1147/1147 [==============================] - 75s 65ms/step - loss: 2.9937e-04 - val_loss: 3.0571e-04\n",
      "Epoch 15/20\n",
      "1147/1147 [==============================] - 75s 65ms/step - loss: 2.9626e-04 - val_loss: 3.0564e-04\n",
      "Epoch 16/20\n",
      "1147/1147 [==============================] - 75s 65ms/step - loss: 2.9423e-04 - val_loss: 3.0702e-04\n",
      "Epoch 17/20\n",
      "1147/1147 [==============================] - 75s 65ms/step - loss: 2.9951e-04 - val_loss: 3.0560e-04\n",
      "Epoch 18/20\n",
      "1147/1147 [==============================] - 75s 65ms/step - loss: 2.9628e-04 - val_loss: 3.0602e-04\n",
      "Epoch 19/20\n",
      "1147/1147 [==============================] - 75s 65ms/step - loss: 2.9420e-04 - val_loss: 3.0554e-04\n",
      "Epoch 20/20\n",
      "1147/1147 [==============================] - 75s 65ms/step - loss: 2.9885e-04 - val_loss: 3.0745e-04\n"
     ]
    },
    {
     "data": {
      "text/plain": [
       "<keras.callbacks.History at 0x7fcbd401c9b0>"
      ]
     },
     "execution_count": 119,
     "metadata": {},
     "output_type": "execute_result"
    }
   ],
   "source": [
    "model.fit_generator(generator=training_generator,\n",
    "                    validation_data=(X_test, y_test),\n",
    "                    use_multiprocessing=True,\n",
    "                    workers=6,\n",
    "                    callbacks=[csv_logger, reduce_lr],\n",
    "                   epochs=4*5)"
   ]
  },
  {
   "cell_type": "code",
   "execution_count": 46,
   "metadata": {},
   "outputs": [],
   "source": [
    "name = 'SimpleCNN-R'\n",
    "model.save_weights(name + '.h5')\n",
    "with open(name + \".json\", \"w\") as json_file:\n",
    "    json_file.write(model.to_json())"
   ]
  },
  {
   "cell_type": "code",
   "execution_count": 77,
   "metadata": {},
   "outputs": [
    {
     "data": {
      "text/plain": [
       "(0, 0.0005)"
      ]
     },
     "execution_count": 77,
     "metadata": {},
     "output_type": "execute_result"
    },
    {
     "data": {
      "image/png": "[encoded data removed]",
      "text/plain": [
       "<Figure size 432x288 with 1 Axes>"
      ]
     },
     "metadata": {
      "needs_background": "light"
     },
     "output_type": "display_data"
    }
   ],
   "source": [
    "cs = pd.read_csv(logdir, sep=';')\n",
    "cs = cs[-30:]\n",
    "plt.scatter(np.arange(0, cs.shape[0]), cs['val_loss'].values)\n",
    "plt.ylim(0,0.0005)"
   ]
  },
  {
   "cell_type": "code",
   "execution_count": null,
   "metadata": {},
   "outputs": [],
   "source": []
  },
  {
   "cell_type": "code",
   "execution_count": 48,
   "metadata": {},
   "outputs": [],
   "source": [
    "from sklearn.metrics.pairwise import paired_euclidean_distances\n",
    "from sklearn.metrics import mean_squared_error"
   ]
  },
  {
   "cell_type": "code",
   "execution_count": 49,
   "metadata": {},
   "outputs": [],
   "source": [
    "preds = np.maximum(model.predict(X_test), 0)\n",
    "test_resultsE = mean_squared_error(preds[:,0], y_test[:,0])"
   ]
  },
  {
   "cell_type": "code",
   "execution_count": 51,
   "metadata": {},
   "outputs": [
    {
     "data": {
      "text/plain": [
       "3.1477582585813946"
      ]
     },
     "execution_count": 51,
     "metadata": {},
     "output_type": "execute_result"
    }
   ],
   "source": [
    "test_resultsE.mean() * 10000"
   ]
  },
  {
   "cell_type": "code",
   "execution_count": 93,
   "metadata": {},
   "outputs": [
    {
     "data": {
      "text/plain": [
       "array([1.5115355 , 0.98990214, 1.6160734 , ..., 1.001525  , 0.9895013 ,\n",
       "       0.9731051 ], dtype=float32)"
      ]
     },
     "execution_count": 93,
     "metadata": {},
     "output_type": "execute_result"
    }
   ],
   "source": [
    "preds[:,0]"
   ]
  },
  {
   "cell_type": "code",
   "execution_count": 95,
   "metadata": {},
   "outputs": [
    {
     "data": {
      "text/plain": [
       "17.729056464008437"
      ]
     },
     "execution_count": 95,
     "metadata": {},
     "output_type": "execute_result"
    }
   ],
   "source": [
    "np.std(preds[:,0]-y_test[:,0]) * 1000"
   ]
  },
  {
   "cell_type": "code",
   "execution_count": 54,
   "metadata": {},
   "outputs": [],
   "source": [
    "from tqdm import tqdm"
   ]
  },
  {
   "cell_type": "code",
   "execution_count": 55,
   "metadata": {},
   "outputs": [],
   "source": [
    "root_data_path = '/mnt/iprovilkov/data_dir/0MeV_lpmt_hits.h5'"
   ]
  },
  {
   "cell_type": "code",
   "execution_count": 108,
   "metadata": {},
   "outputs": [],
   "source": [
    "def test_sigmas(model, test_dir='/mnt/iprovilkov/data_dir/', test_column='E', MAXR=MAXR, \n",
    "                time=False, recompute=False):\n",
    "    sigmas = {}\n",
    "    MSEs = {}\n",
    "    predictions = {}\n",
    "    CONST = 1.022\n",
    "    for energy in tqdm(range(10)):\n",
    "        try:\n",
    "            if recompute:\n",
    "                raise Exception(\"Recompute\")\n",
    "            if time:\n",
    "                data_lpmt = np.load(test_dir + str(energy) + 'data_lpmt_without_noise_sin.npy')\n",
    "            else:\n",
    "                data_lpmt = np.load(test_dir + str(energy) + 'data_lpmt_without_noise_sin.npy')\n",
    "            true_info = pd.read_csv(TRAIN_DIR + str(energy)+'MeV_'+'true_info.csv')\n",
    "        except: \n",
    "            lpmt_hits = pd.read_hdf(test_dir + str(energy)+'MeV_'+ 'lpmt_hits.h5', mode='r') \n",
    "            spmt_hits = pd.read_hdf(test_dir + str(energy)+'MeV_'+'spmt_hits.h5', mode='r')\n",
    "            lpmt_hits = lpmt_hits[lpmt_hits.isDN==False]\n",
    "            spmt_hits = spmt_hits[spmt_hits.isDN==False]\n",
    "            pos = pd.read_csv(TRAIN_DIR + str(energy)+'MeV_'+'lpmt_pos.csv') \n",
    "            spmt_pos = pd.read_csv(TRAIN_DIR + str(energy)+'MeV_'+'spmt_pos.csv') \n",
    "            true_info = pd.read_csv(TRAIN_DIR + str(energy)+'MeV_'+'true_info.csv')\n",
    "            if time:\n",
    "                print(\"Compute...\")\n",
    "                data_lpmt, event_to_id = get_data_2dprojection(lpmt_hits,\n",
    "                                                None,\n",
    "                                                pos,\n",
    "                                                true_info,\n",
    "                                                edge_size0=226,\n",
    "                                                edge_size1=112,\n",
    "                                                use_spmt=False,\n",
    "                                                time='min',\n",
    "                                                )\n",
    "                np.save(test_dir+str(energy)+'data_lpmt_without_noise_sin', data_lpmt)\n",
    "            else:\n",
    "                pass\n",
    "            \n",
    "        mask = (true_info.R<=MAXR)\n",
    "        data_lpmt = data_lpmt[mask]\n",
    "        true_info = true_info[mask]\n",
    "        y_test = true_info[test_column].values\n",
    "        \n",
    "        scaler(data_lpmt, y_test)\n",
    "        \n",
    "        preds = np.maximum(model.predict(data_lpmt), 0).reshape(-1)\n",
    "        print(y_test.mean())\n",
    "        predictions[energy] = preds\n",
    "        MSEs[energy] = mean_squared_error(preds, y_test)\n",
    "        # in percents\n",
    "        if test_column == 'E':\n",
    "            sigmas[energy] = np.std(preds - y_test) / (energy + CONST)\n",
    "        if test_column == 'R':\n",
    "            print(preds[:10])\n",
    "            print(y_test[:10])\n",
    "            sigmas[energy] = np.std(preds - y_test)\n",
    "    print(\"+\")\n",
    "    return sigmas, MSEs, predictions"
   ]
  },
  {
   "cell_type": "code",
   "execution_count": 109,
   "metadata": {
    "scrolled": true
   },
   "outputs": [
    {
     "name": "stderr",
     "output_type": "stream",
     "text": [
      " 10%|█         | 1/10 [00:02<00:19,  2.16s/it]"
     ]
    },
    {
     "name": "stdout",
     "output_type": "stream",
     "text": [
      "1.2992799344627193\n",
      "[1.3935548 1.4074533 1.4647882 1.6431276 1.6712353 1.5852664 1.3214929\n",
      " 1.5325754 1.22043   1.1547775]\n",
      "[1.3685387 1.3767972 1.4483374 1.6385209 1.6535102 1.6292973 1.3321352\n",
      " 1.4847134 1.2601948 1.2191814]\n"
     ]
    },
    {
     "name": "stderr",
     "output_type": "stream",
     "text": [
      "\r",
      " 20%|██        | 2/10 [00:04<00:16,  2.10s/it]"
     ]
    },
    {
     "name": "stdout",
     "output_type": "stream",
     "text": [
      "1.2795368531840796\n",
      "[1.383608  1.3556687 0.9317264 1.3945394 1.0375874 0.8511879 1.5909028\n",
      " 0.832404  0.6142629 1.4248064]\n",
      "[1.3685387  1.3410883  0.9433555  1.3953234  0.9949386  0.8924891\n",
      " 1.5597524  0.86869375 0.6877779  1.3697783 ]\n"
     ]
    },
    {
     "name": "stderr",
     "output_type": "stream",
     "text": [
      "\r",
      " 30%|███       | 3/10 [00:06<00:14,  2.05s/it]"
     ]
    },
    {
     "name": "stdout",
     "output_type": "stream",
     "text": [
      "1.2843427971888646\n",
      "[1.3719547  0.95666796 1.47265    1.1292018  1.502877   0.9756976\n",
      " 1.2822165  0.61436653 1.7023529  0.40906727]\n",
      "[1.3685387  0.9459184  1.4780856  1.1244336  1.5168536  0.9857545\n",
      " 1.3065209  0.57169985 1.7010791  0.37662598]\n"
     ]
    },
    {
     "name": "stderr",
     "output_type": "stream",
     "text": [
      "\r",
      " 40%|████      | 4/10 [00:08<00:12,  2.03s/it]"
     ]
    },
    {
     "name": "stdout",
     "output_type": "stream",
     "text": [
      "1.2948405061062433\n",
      "[1.3668954 1.5522988 1.5019159 1.2251354 1.5229979 1.5500379 1.2896637\n",
      " 1.3272849 1.2164596 1.5914813]\n",
      "[1.3685387 1.5327389 1.4982    1.2146219 1.5341161 1.5562079 1.3139039\n",
      " 1.3423874 1.20053   1.5854112]\n"
     ]
    },
    {
     "name": "stderr",
     "output_type": "stream",
     "text": [
      "\r",
      " 50%|█████     | 5/10 [00:10<00:10,  2.02s/it]"
     ]
    },
    {
     "name": "stdout",
     "output_type": "stream",
     "text": [
      "1.2828058873206523\n",
      "[1.3690339  1.4373864  1.1333548  1.4127519  1.0461732  1.0530869\n",
      " 1.3545331  0.83453625 1.1311456  1.5921683 ]\n",
      "[1.3685387  1.4200797  1.120073   1.4083442  1.0510377  1.050041\n",
      " 1.3247246  0.81587183 1.1431432  1.5828905 ]\n"
     ]
    },
    {
     "name": "stderr",
     "output_type": "stream",
     "text": [
      "\r",
      " 60%|██████    | 6/10 [00:12<00:08,  2.03s/it]"
     ]
    },
    {
     "name": "stdout",
     "output_type": "stream",
     "text": [
      "1.2889448278670954\n",
      "[1.3708719 0.86245   1.2250825 1.6640694 1.1652019 1.5676265 1.6043727\n",
      " 1.5984777 1.6712266 1.2018957]\n",
      "[1.3685387 0.8422246 1.2181572 1.6394582 1.1673857 1.5601306 1.6126187\n",
      " 1.6045935 1.6654432 1.2175233]\n"
     ]
    },
    {
     "name": "stderr",
     "output_type": "stream",
     "text": [
      "\r",
      " 70%|███████   | 7/10 [00:14<00:06,  2.00s/it]"
     ]
    },
    {
     "name": "stdout",
     "output_type": "stream",
     "text": [
      "1.274923923822563\n",
      "[1.3528475 1.1679771 1.2289362 1.1744931 1.3587434 1.3870258 1.7032127\n",
      " 1.0052104 1.2011447 1.2871721]\n",
      "[1.3685387 1.1922321 1.2114285 1.1516515 1.3680285 1.3979825 1.7108254\n",
      " 1.0130919 1.1991952 1.2682488]\n"
     ]
    },
    {
     "name": "stderr",
     "output_type": "stream",
     "text": [
      "\r",
      " 80%|████████  | 8/10 [00:15<00:03,  1.98s/it]"
     ]
    },
    {
     "name": "stdout",
     "output_type": "stream",
     "text": [
      "1.2876060249422123\n",
      "[1.377006  1.3102227 1.4640114 1.3285916 1.7018483 1.4486407 1.2115979\n",
      " 1.3707061 0.9144483 1.1849247]\n",
      "[1.3685387 1.2958754 1.461241  1.3395118 1.714644  1.442213  1.1942524\n",
      " 1.3709816 0.9141089 1.1901334]\n"
     ]
    },
    {
     "name": "stderr",
     "output_type": "stream",
     "text": [
      "\r",
      " 90%|█████████ | 9/10 [00:17<00:01,  1.99s/it]"
     ]
    },
    {
     "name": "stdout",
     "output_type": "stream",
     "text": [
      "1.281879364303728\n",
      "[1.3632951  1.4510741  1.5688528  1.3278478  0.94992435 1.3436459\n",
      " 0.4361966  0.9216401  1.0516486  0.9050406 ]\n",
      "[1.3685387  1.4392851  1.5712894  1.33038545 0.953068   1.3284986\n",
      " 0.4756147  0.9080496  1.0546205  0.9097196 ]\n"
     ]
    },
    {
     "name": "stderr",
     "output_type": "stream",
     "text": [
      "\r",
      "100%|██████████| 10/10 [00:20<00:00,  2.01s/it]"
     ]
    },
    {
     "name": "stdout",
     "output_type": "stream",
     "text": [
      "1.2875018456006495\n",
      "[1.3516517  1.1024039  1.5627137  0.31870076 1.168768   1.6823391\n",
      " 1.6721308  1.3024683  1.5280305  0.9663809 ]\n",
      "[1.3685387 1.112992  1.5775158 0.2958306 1.173266  1.6947965 1.6712424\n",
      " 1.304753  1.5077495 0.9472099]\n",
      "+\n"
     ]
    },
    {
     "name": "stderr",
     "output_type": "stream",
     "text": [
      "\n"
     ]
    }
   ],
   "source": [
    "sigmas, MSEs, predictions = test_sigmas(model, test_column='R', time=True, recompute=False)"
   ]
  },
  {
   "cell_type": "code",
   "execution_count": 120,
   "metadata": {},
   "outputs": [
    {
     "data": {
      "text/plain": [
       "17.11657548460994"
      ]
     },
     "execution_count": 120,
     "metadata": {},
     "output_type": "execute_result"
    }
   ],
   "source": [
    "sigmas[3] * 1000"
   ]
  },
  {
   "cell_type": "code",
   "execution_count": 122,
   "metadata": {},
   "outputs": [
    {
     "data": {
      "text/plain": [
       "({0: 0.035704540595533726,\n",
       "  1: 0.023853240699417327,\n",
       "  2: 0.01997321209923213,\n",
       "  3: 0.017116575484609937,\n",
       "  4: 0.01612598360762632,\n",
       "  5: 0.015302441635937553,\n",
       "  6: 0.01564519597586449,\n",
       "  7: 0.014921523666398168,\n",
       "  8: 0.014843100558073424,\n",
       "  9: 0.01527234414355844},\n",
       " {0: 0.001274872802555039,\n",
       "  1: 0.0005716101939442287,\n",
       "  2: 0.00040050669814238317,\n",
       "  3: 0.0002934479948763349,\n",
       "  4: 0.0002628126918799006,\n",
       "  5: 0.00023893426898796192,\n",
       "  6: 0.0002475579100093479,\n",
       "  7: 0.00022478328511739925,\n",
       "  8: 0.00022317544010215073,\n",
       "  9: 0.00023531307017163027})"
      ]
     },
     "execution_count": 122,
     "metadata": {},
     "output_type": "execute_result"
    }
   ],
   "source": [
    "sigmas, MSEs"
   ]
  },
  {
   "cell_type": "code",
   "execution_count": 78,
   "metadata": {},
   "outputs": [],
   "source": [
    "a = 2.8\n",
    "b=0.59\n",
    "c=0"
   ]
  },
  {
   "cell_type": "code",
   "execution_count": 79,
   "metadata": {},
   "outputs": [
    {
     "data": {
      "text/plain": [
       "<matplotlib.legend.Legend at 0x7f41601d9630>"
      ]
     },
     "execution_count": 79,
     "metadata": {},
     "output_type": "execute_result"
    },
    {
     "data": {
      "image/png": "[encoded data removed]",
      "text/plain": [
       "<Figure size 720x720 with 1 Axes>"
      ]
     },
     "metadata": {
      "needs_background": "light"
     },
     "output_type": "display_data"
    }
   ],
   "source": [
    "# Plot sigmas\n",
    "Evis = np.array([en + 1.022  for en in range(10)])\n",
    "Perc_sigmas = [sigmas[en] for en in range(10)]\n",
    "perc_3_sqrt_E = [0.03 / np.sqrt(en) for en in Evis]\n",
    "fig = plt.figure(figsize=(10,10))\n",
    "plt.scatter(Evis, Perc_sigmas, label='Our sigma')\n",
    "plt.scatter(Evis, perc_3_sqrt_E, label=r'$\\frac{0.03}{\\sqrt{E}}$')\n",
    "plt.scatter(Evis, 0.01*np.sqrt((a/np.sqrt(Evis))**2 + b**2 + (c/Evis)**2), label=r'$abc$')\n",
    "plt.ylabel(\"std in per cent\")\n",
    "plt.xlabel(\"E visual\")\n",
    "plt.legend(fontsize=15)"
   ]
  },
  {
   "cell_type": "code",
   "execution_count": null,
   "metadata": {},
   "outputs": [],
   "source": []
  }
 ],
 "metadata": {
  "kernelspec": {
   "display_name": "Python 3",
   "language": "python",
   "name": "python3"
  },
  "language_info": {
   "codemirror_mode": {
    "name": "ipython",
    "version": 3
   },
   "file_extension": ".py",
   "mimetype": "text/x-python",
   "name": "python",
   "nbconvert_exporter": "python",
   "pygments_lexer": "ipython3",
   "version": "3.5.6"
  }
 },
 "nbformat": 4,
 "nbformat_minor": 2
}
