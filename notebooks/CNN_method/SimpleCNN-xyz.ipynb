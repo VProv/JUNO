{
 "cells": [
  {
   "cell_type": "code",
   "execution_count": 1,
   "metadata": {},
   "outputs": [],
   "source": [
    "# Preprocessing\n",
    "%load_ext autoreload\n",
    "import pandas as pd\n",
    "import tables\n",
    "import time\n",
    "import numpy as np\n",
    "import gc\n",
    "from tqdm import tqdm_notebook\n",
    "import os\n",
    "from sklearn.model_selection import train_test_split\n",
    "import tensorflow as tf\n",
    "import sys\n",
    "import matplotlib.pyplot as plt\n",
    "sys.path.append('/home/iprovilkov/data/JUNO/notebooks/')"
   ]
  },
  {
   "cell_type": "code",
   "execution_count": 2,
   "metadata": {},
   "outputs": [
    {
     "name": "stderr",
     "output_type": "stream",
     "text": [
      "Using TensorFlow backend.\n"
     ]
    }
   ],
   "source": [
    "from data_utils.data_processing import get_data_2dprojection\n",
    "from data_utils.data_generator import DataGenerator"
   ]
  },
  {
   "cell_type": "code",
   "execution_count": 3,
   "metadata": {},
   "outputs": [],
   "source": [
    "os.environ[\"CUDA_DEVICE_ORDER\"]=\"PCI_BUS_ID\"\n",
    "os.environ[\"CUDA_VISIBLE_DEVICES\"]=\"3\""
   ]
  },
  {
   "cell_type": "code",
   "execution_count": 4,
   "metadata": {},
   "outputs": [],
   "source": [
    "LTRAIN = '/mnt/iprovilkov/data_dir/npdata/'\n",
    "rg = np.arange(0,100000,20000)\n",
    "MAXR = 17200"
   ]
  },
  {
   "cell_type": "code",
   "execution_count": 5,
   "metadata": {},
   "outputs": [
    {
     "data": {
      "text/plain": [
       "['/job:localhost/replica:0/task:0/device:GPU:0']"
      ]
     },
     "execution_count": 5,
     "metadata": {},
     "output_type": "execute_result"
    }
   ],
   "source": [
    "from tensorflow.python.client import device_lib\n",
    "sess = tf.Session(config=tf.ConfigProto(log_device_placement=True))\n",
    "import keras\n",
    "import keras.layers as L\n",
    "from keras.models import Sequential\n",
    "from keras import backend as K\n",
    "from keras.layers import GlobalAveragePooling2D, Dense\n",
    "from keras.models import Model\n",
    "import keras.layers as L\n",
    "from keras.regularizers import l2\n",
    "from keras.optimizers import Adam\n",
    "from keras.engine.input_layer import Input\n",
    "K.tensorflow_backend._get_available_gpus()"
   ]
  },
  {
   "cell_type": "code",
   "execution_count": 6,
   "metadata": {},
   "outputs": [],
   "source": [
    "NAME = 'Simple_CNN_xyz_full'\n",
    "train_columns = ['x', 'y', 'z']"
   ]
  },
  {
   "cell_type": "code",
   "execution_count": 7,
   "metadata": {},
   "outputs": [],
   "source": [
    "model = Sequential()\n",
    "model.add(L.Conv2D(filters= 32, kernel_size=(3,3), activation='elu'))\n",
    "model.add(L.MaxPool2D())\n",
    "model.add(L.Conv2D(filters= 64, kernel_size=(3,3), activation='elu'))\n",
    "model.add(L.MaxPool2D())\n",
    "model.add(L.Conv2D(filters=128, kernel_size=(3,3), activation='elu'))\n",
    "model.add(L.MaxPool2D())\n",
    "model.add(L.Conv2D(filters=256, kernel_size=(3,3), activation='elu'))\n",
    "model.add(L.MaxPool2D())\n",
    "model.add(L.Conv2D(filters=256, kernel_size=(3,3), activation='elu'))\n",
    "#model.add(L.Dropout(0.3))\n",
    "model.add(L.Flatten())\n",
    "model.add(L.Dense(1024, activation='elu',kernel_initializer=keras.initializers.glorot_normal()))\n",
    "#model.add(L.Dropout(0.3))\n",
    "model.add(L.Dense(512, activation='elu',kernel_initializer=keras.initializers.glorot_normal()))\n",
    "model.add(L.Dense(256, activation='elu',kernel_initializer=keras.initializers.glorot_normal()))\n",
    "model.add(L.Dense(len(train_columns)))"
   ]
  },
  {
   "cell_type": "code",
   "execution_count": 8,
   "metadata": {},
   "outputs": [],
   "source": [
    "opt = Adam()"
   ]
  },
  {
   "cell_type": "code",
   "execution_count": 9,
   "metadata": {},
   "outputs": [],
   "source": [
    "edge_size0 = 226\n",
    "edge_size1 = 112\n",
    "inputs = Input(shape=(edge_size0,edge_size1,2))"
   ]
  },
  {
   "cell_type": "code",
   "execution_count": 10,
   "metadata": {},
   "outputs": [
    {
     "name": "stdout",
     "output_type": "stream",
     "text": [
      "_________________________________________________________________\n",
      "Layer (type)                 Output Shape              Param #   \n",
      "=================================================================\n",
      "conv2d_1 (Conv2D)            (None, 224, 110, 32)      608       \n",
      "_________________________________________________________________\n",
      "max_pooling2d_1 (MaxPooling2 (None, 112, 55, 32)       0         \n",
      "_________________________________________________________________\n",
      "conv2d_2 (Conv2D)            (None, 110, 53, 64)       18496     \n",
      "_________________________________________________________________\n",
      "max_pooling2d_2 (MaxPooling2 (None, 55, 26, 64)        0         \n",
      "_________________________________________________________________\n",
      "conv2d_3 (Conv2D)            (None, 53, 24, 128)       73856     \n",
      "_________________________________________________________________\n",
      "max_pooling2d_3 (MaxPooling2 (None, 26, 12, 128)       0         \n",
      "_________________________________________________________________\n",
      "conv2d_4 (Conv2D)            (None, 24, 10, 256)       295168    \n",
      "_________________________________________________________________\n",
      "max_pooling2d_4 (MaxPooling2 (None, 12, 5, 256)        0         \n",
      "_________________________________________________________________\n",
      "conv2d_5 (Conv2D)            (None, 10, 3, 256)        590080    \n",
      "_________________________________________________________________\n",
      "flatten_1 (Flatten)          (None, 7680)              0         \n",
      "_________________________________________________________________\n",
      "dense_1 (Dense)              (None, 1024)              7865344   \n",
      "_________________________________________________________________\n",
      "dense_2 (Dense)              (None, 512)               524800    \n",
      "_________________________________________________________________\n",
      "dense_3 (Dense)              (None, 256)               131328    \n",
      "_________________________________________________________________\n",
      "dense_4 (Dense)              (None, 3)                 771       \n",
      "=================================================================\n",
      "Total params: 9,500,451\n",
      "Trainable params: 9,500,451\n",
      "Non-trainable params: 0\n",
      "_________________________________________________________________\n"
     ]
    }
   ],
   "source": [
    "model.build(input_shape=(None, edge_size0,edge_size1,2))\n",
    "model.summary()"
   ]
  },
  {
   "cell_type": "code",
   "execution_count": 11,
   "metadata": {},
   "outputs": [],
   "source": [
    "model.compile(loss='mean_squared_error', optimizer=opt)"
   ]
  },
  {
   "cell_type": "code",
   "execution_count": 12,
   "metadata": {},
   "outputs": [],
   "source": [
    "logdir = NAME + '.csv'"
   ]
  },
  {
   "cell_type": "code",
   "execution_count": 13,
   "metadata": {},
   "outputs": [],
   "source": [
    "from keras.callbacks import CSVLogger, ReduceLROnPlateau\n",
    "csv_logger = CSVLogger(logdir, append=True, separator=';')\n",
    "reduce_lr = ReduceLROnPlateau(monitor='val_loss', factor=0.2,\n",
    "                              patience=4, min_lr=0.000001)"
   ]
  },
  {
   "cell_type": "code",
   "execution_count": 14,
   "metadata": {},
   "outputs": [],
   "source": [
    "big_file_names = []\n",
    "rg = np.arange(0,100001,20000)\n",
    "#mask_names = []\n",
    "y_true_names = []\n",
    "for id1 in range(9):\n",
    "    for start in rg[:-1]:\n",
    "        big_file_names.append(LTRAIN + '_' + str(id1) + '_' + str(start) + 'noise_sin.npy')\n",
    "    #mask_names.append(LTRAIN +'_'+str(id1)+'_mask.npy')\n",
    "    y_true_names.append(LTRAIN +'_'+str(id1)+'_true_info.csv')"
   ]
  },
  {
   "cell_type": "code",
   "execution_count": 21,
   "metadata": {},
   "outputs": [],
   "source": [
    "small_file_names = [LTRAIN + '_' + str(start) +'without_noise_sin.npy' for start in rg[:-2]]"
   ]
  },
  {
   "cell_type": "code",
   "execution_count": 15,
   "metadata": {},
   "outputs": [
    {
     "data": {
      "text/plain": [
       "['/mnt/iprovilkov/data_dir/npdata/_0_true_info.csv',\n",
       " '/mnt/iprovilkov/data_dir/npdata/_1_true_info.csv',\n",
       " '/mnt/iprovilkov/data_dir/npdata/_2_true_info.csv',\n",
       " '/mnt/iprovilkov/data_dir/npdata/_3_true_info.csv',\n",
       " '/mnt/iprovilkov/data_dir/npdata/_4_true_info.csv',\n",
       " '/mnt/iprovilkov/data_dir/npdata/_5_true_info.csv',\n",
       " '/mnt/iprovilkov/data_dir/npdata/_6_true_info.csv',\n",
       " '/mnt/iprovilkov/data_dir/npdata/_7_true_info.csv',\n",
       " '/mnt/iprovilkov/data_dir/npdata/_8_true_info.csv']"
      ]
     },
     "execution_count": 15,
     "metadata": {},
     "output_type": "execute_result"
    }
   ],
   "source": [
    "y_true_names"
   ]
  },
  {
   "cell_type": "code",
   "execution_count": 16,
   "metadata": {},
   "outputs": [],
   "source": [
    "TRAIN_DIR = '~/data/data_dir/'\n",
    "#tr_true_info = pd.read_csv(TRAIN_DIR + 'true_info.csv')\n",
    "tr_true_info = pd.read_csv(y_true_names[-1])"
   ]
  },
  {
   "cell_type": "code",
   "execution_count": 18,
   "metadata": {},
   "outputs": [
    {
     "data": {
      "text/plain": [
       "'/mnt/iprovilkov/data_dir/npdata/_8_80000noise_sin.npy'"
      ]
     },
     "execution_count": 18,
     "metadata": {},
     "output_type": "execute_result"
    }
   ],
   "source": [
    "big_file_names[-1]"
   ]
  },
  {
   "cell_type": "code",
   "execution_count": 19,
   "metadata": {},
   "outputs": [],
   "source": [
    "#X_test = np.load(LTRAIN + '_' + str(rg[-3]) +'without_noise_sin.npy')\n",
    "X_test = np.load(big_file_names[-1])"
   ]
  },
  {
   "cell_type": "code",
   "execution_count": 20,
   "metadata": {},
   "outputs": [],
   "source": [
    "y_test = tr_true_info[(tr_true_info['evtID'] >= 80000) \n",
    "                     & (tr_true_info['evtID'] < 100000)]\n",
    "mask = (y_test.R <= MAXR)\n",
    "X_test = X_test[mask]\n",
    "y_test = y_test[mask][train_columns].values"
   ]
  },
  {
   "cell_type": "code",
   "execution_count": 21,
   "metadata": {},
   "outputs": [],
   "source": [
    "def scaler(X,y):\n",
    "    X[X<0]=0\n",
    "    X[:,:,:,1] /= 20 \n",
    "    y /= 100"
   ]
  },
  {
   "cell_type": "code",
   "execution_count": 22,
   "metadata": {},
   "outputs": [],
   "source": [
    "scaler(X_test, y_test)"
   ]
  },
  {
   "cell_type": "code",
   "execution_count": 23,
   "metadata": {},
   "outputs": [],
   "source": [
    "rg = np.arange(0,100001,20000)"
   ]
  },
  {
   "cell_type": "code",
   "execution_count": 24,
   "metadata": {},
   "outputs": [],
   "source": [
    "%autoreload"
   ]
  },
  {
   "cell_type": "code",
   "execution_count": 25,
   "metadata": {},
   "outputs": [],
   "source": [
    "from data_utils.data_generator import DataGeneratorBig"
   ]
  },
  {
   "cell_type": "code",
   "execution_count": 26,
   "metadata": {},
   "outputs": [],
   "source": [
    "# big size 9, small size 5"
   ]
  },
  {
   "cell_type": "code",
   "execution_count": 27,
   "metadata": {},
   "outputs": [
    {
     "name": "stdout",
     "output_type": "stream",
     "text": [
      "Big pieces 9\n",
      "Small pieces 5\n",
      "\n",
      " Big id  0 small id 0\n",
      "\n",
      " Load files /mnt/iprovilkov/data_dir/npdata/_0_0noise_sin.npy   /mnt/iprovilkov/data_dir/npdata/_0_true_info.csv\n",
      "Ids from:  0  to  20000\n"
     ]
    }
   ],
   "source": [
    "training_generator = DataGeneratorBig(32,\n",
    "                                    rg=rg,\n",
    "                                    file_names=big_file_names,\n",
    "                                    y_true_names= y_true_names,\n",
    "                                    target_names=train_columns,\n",
    "                                    scaler=scaler)"
   ]
  },
  {
   "cell_type": "code",
   "execution_count": 28,
   "metadata": {},
   "outputs": [],
   "source": [
    "#training_generator = DataGenerator(16,rg=rg,\n",
    "#                                file_names=[LTRAIN + '_' + str(start) +'without_noise_sin.npy' for start in rg[:-2]],\n",
    "#                                  y_true=tr_true_info,\n",
    "#                                  target_names=train_columns,\n",
    "#                                  scaler=scaler)"
   ]
  },
  {
   "cell_type": "code",
   "execution_count": null,
   "metadata": {
    "scrolled": true
   },
   "outputs": [
    {
     "name": "stdout",
     "output_type": "stream",
     "text": [
      "Epoch 1/80\n",
      "572/573 [============================>.] - ETA: 0s - loss: 1.1928\n",
      " Big id  7 small id 1\n",
      "\n",
      " Load files /mnt/iprovilkov/data_dir/npdata/_7_20000noise_sin.npy   /mnt/iprovilkov/data_dir/npdata/_7_true_info.csv\n",
      "Ids from:  20000  to  40000\n",
      "573/573 [==============================] - 62s 107ms/step - loss: 1.1926 - val_loss: 1.2211\n",
      "Epoch 2/80\n",
      "572/573 [============================>.] - ETA: 0s - loss: 1.1850\n",
      " Big id  7 small id 2\n",
      "\n",
      " Load files /mnt/iprovilkov/data_dir/npdata/_7_40000noise_sin.npy   /mnt/iprovilkov/data_dir/npdata/_7_true_info.csv\n",
      "Ids from:  40000  to  60000\n",
      "573/573 [==============================] - 64s 112ms/step - loss: 1.1858 - val_loss: 1.2197\n",
      "Epoch 3/80\n",
      "572/573 [============================>.] - ETA: 0s - loss: 1.2231\n",
      " Big id  7 small id 3\n",
      "\n",
      " Load files /mnt/iprovilkov/data_dir/npdata/_7_60000noise_sin.npy   /mnt/iprovilkov/data_dir/npdata/_7_true_info.csv\n",
      "Ids from:  60000  to  80000\n",
      "573/573 [==============================] - 59s 103ms/step - loss: 1.2228 - val_loss: 1.2220\n",
      "Epoch 4/80\n",
      "572/573 [============================>.] - ETA: 0s - loss: 1.1781\n",
      " Big id  7 small id 4\n",
      "\n",
      " Load files /mnt/iprovilkov/data_dir/npdata/_7_80000noise_sin.npy   /mnt/iprovilkov/data_dir/npdata/_7_true_info.csv\n",
      "Ids from:  80000  to  100000\n",
      "573/573 [==============================] - 68s 119ms/step - loss: 1.1775 - val_loss: 1.2195\n",
      "Epoch 5/80\n",
      "572/573 [============================>.] - ETA: 0s - loss: 1.2239\n",
      " Big id  8 small id 0\n",
      "\n",
      " Load files /mnt/iprovilkov/data_dir/npdata/_8_0noise_sin.npy   /mnt/iprovilkov/data_dir/npdata/_8_true_info.csv\n",
      "Ids from:  0  to  20000\n",
      "573/573 [==============================] - 59s 103ms/step - loss: 1.2231 - val_loss: 1.2210\n",
      "Epoch 6/80\n",
      "572/573 [============================>.] - ETA: 0s - loss: 1.2408\n",
      " Big id  8 small id 1\n",
      "\n",
      " Load files /mnt/iprovilkov/data_dir/npdata/_8_20000noise_sin.npy   /mnt/iprovilkov/data_dir/npdata/_8_true_info.csv\n",
      "Ids from:  20000  to  40000\n",
      "573/573 [==============================] - 64s 112ms/step - loss: 1.2411 - val_loss: 1.2225\n",
      "Epoch 7/80\n",
      "572/573 [============================>.] - ETA: 0s - loss: 1.2095\n",
      " Big id  8 small id 2\n",
      "\n",
      " Load files /mnt/iprovilkov/data_dir/npdata/_8_40000noise_sin.npy   /mnt/iprovilkov/data_dir/npdata/_8_true_info.csv\n",
      "Ids from:  40000  to  60000\n",
      "573/573 [==============================] - 61s 106ms/step - loss: 1.2094 - val_loss: 1.2221\n",
      "Epoch 8/80\n",
      "572/573 [============================>.] - ETA: 0s - loss: 1.2246\n",
      " Big id  8 small id 3\n",
      "\n",
      " Load files /mnt/iprovilkov/data_dir/npdata/_8_60000noise_sin.npy   /mnt/iprovilkov/data_dir/npdata/_8_true_info.csv\n",
      "Ids from:  60000  to  80000\n",
      "573/573 [==============================] - 61s 107ms/step - loss: 1.2258 - val_loss: 1.2169\n",
      "Epoch 9/80\n",
      "572/573 [============================>.] - ETA: 0s - loss: 1.2203\n",
      " Big id  8 small id 4\n",
      "\n",
      " Load files /mnt/iprovilkov/data_dir/npdata/_8_80000noise_sin.npy   /mnt/iprovilkov/data_dir/npdata/_8_true_info.csv\n",
      "Ids from:  80000  to  100000\n",
      "573/573 [==============================] - 61s 107ms/step - loss: 1.2197 - val_loss: 1.2223\n",
      "Epoch 10/80\n",
      "572/573 [============================>.] - ETA: 0s - loss: 1.2169\n",
      " Big id  0 small id 0\n",
      "\n",
      " Load files /mnt/iprovilkov/data_dir/npdata/_0_0noise_sin.npy   /mnt/iprovilkov/data_dir/npdata/_0_true_info.csv\n",
      "Ids from:  0  to  20000\n",
      "573/573 [==============================] - 61s 107ms/step - loss: 1.2188 - val_loss: 1.2088\n",
      "Epoch 11/80\n",
      "572/573 [============================>.] - ETA: 0s - loss: 1.1735\n",
      " Big id  0 small id 1\n",
      "\n",
      " Load files /mnt/iprovilkov/data_dir/npdata/_0_20000noise_sin.npy   /mnt/iprovilkov/data_dir/npdata/_0_true_info.csv\n",
      "Ids from:  20000  to  40000\n",
      "573/573 [==============================] - 61s 107ms/step - loss: 1.1740 - val_loss: 1.2114\n",
      "Epoch 12/80\n",
      "572/573 [============================>.] - ETA: 0s - loss: 1.2095\n",
      " Big id  0 small id 2\n",
      "\n",
      " Load files /mnt/iprovilkov/data_dir/npdata/_0_40000noise_sin.npy   /mnt/iprovilkov/data_dir/npdata/_0_true_info.csv\n",
      "Ids from:  40000  to  60000\n",
      "573/573 [==============================] - 61s 107ms/step - loss: 1.2096 - val_loss: 1.2095\n",
      "Epoch 13/80\n",
      "572/573 [============================>.] - ETA: 0s - loss: 1.1740\n",
      " Big id  0 small id 3\n",
      "\n",
      " Load files /mnt/iprovilkov/data_dir/npdata/_0_60000noise_sin.npy   /mnt/iprovilkov/data_dir/npdata/_0_true_info.csv\n",
      "Ids from:  60000  to  80000\n",
      "573/573 [==============================] - 61s 106ms/step - loss: 1.1735 - val_loss: 1.2083\n",
      "Epoch 14/80\n",
      "572/573 [============================>.] - ETA: 0s - loss: 1.1614\n",
      " Big id  0 small id 4\n",
      "\n",
      " Load files /mnt/iprovilkov/data_dir/npdata/_0_80000noise_sin.npy   /mnt/iprovilkov/data_dir/npdata/_0_true_info.csv\n",
      "Ids from:  80000  to  100000\n",
      "573/573 [==============================] - 61s 107ms/step - loss: 1.1614 - val_loss: 1.2098\n",
      "Epoch 15/80\n",
      "572/573 [============================>.] - ETA: 0s - loss: nan\n",
      " Big id  1 small id 0\n",
      "\n",
      " Load files /mnt/iprovilkov/data_dir/npdata/_1_0noise_sin.npy   /mnt/iprovilkov/data_dir/npdata/_1_true_info.csv\n",
      "Ids from:  0  to  20000\n",
      "573/573 [==============================] - 61s 107ms/step - loss: nan - val_loss: 1.2127\n",
      "Epoch 16/80\n",
      "572/573 [============================>.] - ETA: 0s - loss: nan\n",
      " Big id  1 small id 1\n",
      "\n",
      " Load files /mnt/iprovilkov/data_dir/npdata/_1_20000noise_sin.npy   /mnt/iprovilkov/data_dir/npdata/_1_true_info.csv\n",
      "Ids from:  20000  to  40000\n",
      "573/573 [==============================] - 59s 103ms/step - loss: nan - val_loss: 1.2174\n",
      "Epoch 17/80\n",
      "572/573 [============================>.] - ETA: 0s - loss: 1.1923\n",
      " Big id  1 small id 2\n",
      "\n",
      " Load files /mnt/iprovilkov/data_dir/npdata/_1_40000noise_sin.npy   /mnt/iprovilkov/data_dir/npdata/_1_true_info.csv\n",
      "Ids from:  40000  to  60000\n",
      "573/573 [==============================] - 75s 130ms/step - loss: 1.1919 - val_loss: 1.2098\n",
      "Epoch 18/80\n",
      "572/573 [============================>.] - ETA: 0s - loss: 1.1639\n",
      " Big id  1 small id 3\n",
      "\n",
      " Load files /mnt/iprovilkov/data_dir/npdata/_1_60000noise_sin.npy   /mnt/iprovilkov/data_dir/npdata/_1_true_info.csv\n",
      "Ids from:  60000  to  80000\n",
      "573/573 [==============================] - 65s 113ms/step - loss: 1.1642 - val_loss: 1.2128\n",
      "Epoch 19/80\n",
      "572/573 [============================>.] - ETA: 0s - loss: 1.1423\n",
      " Big id  1 small id 4\n",
      "\n",
      " Load files /mnt/iprovilkov/data_dir/npdata/_1_80000noise_sin.npy   /mnt/iprovilkov/data_dir/npdata/_1_true_info.csv\n",
      "Ids from:  80000  to  100000\n",
      "573/573 [==============================] - 62s 107ms/step - loss: 1.1429 - val_loss: 1.2110\n",
      "Epoch 20/80\n",
      "572/573 [============================>.] - ETA: 0s - loss: 1.1671\n",
      " Big id  2 small id 0\n",
      "\n",
      " Load files /mnt/iprovilkov/data_dir/npdata/_2_0noise_sin.npy   /mnt/iprovilkov/data_dir/npdata/_2_true_info.csv\n",
      "Ids from:  0  to  20000\n",
      "573/573 [==============================] - 66s 115ms/step - loss: 1.1667 - val_loss: 1.2120\n",
      "Epoch 21/80\n",
      "572/573 [============================>.] - ETA: 0s - loss: 1.1794\n",
      " Big id  2 small id 1\n",
      "\n",
      " Load files /mnt/iprovilkov/data_dir/npdata/_2_20000noise_sin.npy   /mnt/iprovilkov/data_dir/npdata/_2_true_info.csv\n",
      "Ids from:  20000  to  40000\n",
      "573/573 [==============================] - 66s 115ms/step - loss: 1.1789 - val_loss: 1.2109\n",
      "Epoch 22/80\n",
      "572/573 [============================>.] - ETA: 0s - loss: 1.1942\n",
      " Big id  2 small id 2\n",
      "\n",
      " Load files /mnt/iprovilkov/data_dir/npdata/_2_40000noise_sin.npy   /mnt/iprovilkov/data_dir/npdata/_2_true_info.csv\n",
      "Ids from:  40000  to  60000\n",
      "573/573 [==============================] - 62s 108ms/step - loss: 1.1935 - val_loss: 1.2108\n",
      "Epoch 23/80\n",
      "572/573 [============================>.] - ETA: 0s - loss: 1.1709\n",
      " Big id  2 small id 3\n",
      "\n",
      " Load files /mnt/iprovilkov/data_dir/npdata/_2_60000noise_sin.npy   /mnt/iprovilkov/data_dir/npdata/_2_true_info.csv\n",
      "Ids from:  60000  to  80000\n",
      "573/573 [==============================] - 62s 108ms/step - loss: 1.1707 - val_loss: 1.2076\n",
      "Epoch 24/80\n",
      "572/573 [============================>.] - ETA: 0s - loss: 1.1702\n",
      " Big id  2 small id 4\n",
      "\n",
      " Load files /mnt/iprovilkov/data_dir/npdata/_2_80000noise_sin.npy   /mnt/iprovilkov/data_dir/npdata/_2_true_info.csv\n",
      "Ids from:  80000  to  100000\n",
      "573/573 [==============================] - 61s 107ms/step - loss: 1.1695 - val_loss: 1.2095\n",
      "Epoch 25/80\n",
      "572/573 [============================>.] - ETA: 0s - loss: 1.0793\n",
      " Big id  3 small id 0\n",
      "\n",
      " Load files /mnt/iprovilkov/data_dir/npdata/_3_0noise_sin.npy   /mnt/iprovilkov/data_dir/npdata/_3_true_info.csv\n"
     ]
    },
    {
     "name": "stdout",
     "output_type": "stream",
     "text": [
      "Ids from:  0  to  20000\n",
      "573/573 [==============================] - 61s 107ms/step - loss: 1.0788 - val_loss: 1.2081\n",
      "Epoch 26/80\n",
      "572/573 [============================>.] - ETA: 0s - loss: 1.1563\n",
      " Big id  3 small id 1\n",
      "\n",
      " Load files /mnt/iprovilkov/data_dir/npdata/_3_20000noise_sin.npy   /mnt/iprovilkov/data_dir/npdata/_3_true_info.csv\n",
      "Ids from:  20000  to  40000\n",
      "573/573 [==============================] - 59s 103ms/step - loss: 1.1561 - val_loss: 1.2087\n",
      "Epoch 27/80\n",
      "572/573 [============================>.] - ETA: 0s - loss: nan\n",
      " Big id  3 small id 2\n",
      "\n",
      " Load files /mnt/iprovilkov/data_dir/npdata/_3_40000noise_sin.npy   /mnt/iprovilkov/data_dir/npdata/_3_true_info.csv\n",
      "Ids from:  40000  to  60000\n",
      "573/573 [==============================] - 66s 115ms/step - loss: nan - val_loss: 1.2118\n",
      "Epoch 28/80\n",
      "572/573 [============================>.] - ETA: 0s - loss: 1.1662\n",
      " Big id  3 small id 3\n",
      "\n",
      " Load files /mnt/iprovilkov/data_dir/npdata/_3_60000noise_sin.npy   /mnt/iprovilkov/data_dir/npdata/_3_true_info.csv\n",
      "Ids from:  60000  to  80000\n",
      "573/573 [==============================] - 62s 108ms/step - loss: 1.1657 - val_loss: 1.2050\n",
      "Epoch 29/80\n",
      "572/573 [============================>.] - ETA: 0s - loss: 1.1965\n",
      " Big id  3 small id 4\n",
      "\n",
      " Load files /mnt/iprovilkov/data_dir/npdata/_3_80000noise_sin.npy   /mnt/iprovilkov/data_dir/npdata/_3_true_info.csv\n",
      "Ids from:  80000  to  100000\n",
      "573/573 [==============================] - 63s 110ms/step - loss: 1.1959 - val_loss: 1.2062\n",
      "Epoch 30/80\n",
      "572/573 [============================>.] - ETA: 0s - loss: 1.1904\n",
      " Big id  4 small id 0\n",
      "\n",
      " Load files /mnt/iprovilkov/data_dir/npdata/_4_0noise_sin.npy   /mnt/iprovilkov/data_dir/npdata/_4_true_info.csv\n",
      "Ids from:  0  to  20000\n",
      "573/573 [==============================] - 66s 114ms/step - loss: 1.1906 - val_loss: 1.2052\n",
      "Epoch 31/80\n",
      "120/573 [=====>........................] - ETA: 34s - loss: 1.1893"
     ]
    }
   ],
   "source": [
    "model.fit_generator(generator=training_generator,\n",
    "                    validation_data=(X_test, y_test),\n",
    "                    use_multiprocessing=True,\n",
    "                    workers=10,\n",
    "                    callbacks=[csv_logger, reduce_lr],\n",
    "                   epochs=4*20)"
   ]
  },
  {
   "cell_type": "code",
   "execution_count": 72,
   "metadata": {},
   "outputs": [],
   "source": [
    "model.save_weights(NAME + '.h5')\n",
    "with open(NAME + \".json\", \"w\") as json_file:\n",
    "    json_file.write(model.to_json())"
   ]
  },
  {
   "cell_type": "code",
   "execution_count": 49,
   "metadata": {},
   "outputs": [
    {
     "data": {
      "text/plain": [
       "(0, 3)"
      ]
     },
     "execution_count": 49,
     "metadata": {},
     "output_type": "execute_result"
    },
    {
     "data": {
      "image/png": "[encoded data removed]",
      "text/plain": [
       "<Figure size 432x288 with 1 Axes>"
      ]
     },
     "metadata": {
      "needs_background": "light"
     },
     "output_type": "display_data"
    }
   ],
   "source": [
    "cs = pd.read_csv(logdir, sep=';')\n",
    "cs = cs\n",
    "plt.scatter(np.arange(0, cs.shape[0]), cs['val_loss'].values)\n",
    "plt.ylim(0,3)"
   ]
  },
  {
   "cell_type": "code",
   "execution_count": null,
   "metadata": {},
   "outputs": [],
   "source": []
  },
  {
   "cell_type": "code",
   "execution_count": 50,
   "metadata": {},
   "outputs": [],
   "source": [
    "from sklearn.metrics.pairwise import paired_euclidean_distances\n",
    "from sklearn.metrics import mean_squared_error"
   ]
  },
  {
   "cell_type": "code",
   "execution_count": 51,
   "metadata": {},
   "outputs": [],
   "source": [
    "preds = model.predict(X_test)\n",
    "test_resultsE = mean_squared_error(preds[:,0], y_test[:,0])"
   ]
  },
  {
   "cell_type": "code",
   "execution_count": 52,
   "metadata": {},
   "outputs": [
    {
     "data": {
      "text/plain": [
       "array([[  31.538763,  124.30069 ,   94.52486 ],\n",
       "       [-110.02735 ,  -78.9218  ,  -85.23902 ],\n",
       "       [-120.45521 ,  -58.44297 ,   73.7195  ]], dtype=float32)"
      ]
     },
     "execution_count": 52,
     "metadata": {},
     "output_type": "execute_result"
    }
   ],
   "source": [
    "preds[:3]"
   ]
  },
  {
   "cell_type": "code",
   "execution_count": 53,
   "metadata": {},
   "outputs": [
    {
     "data": {
      "text/plain": [
       "array([[  30.843179,  124.239   ,   94.68604 ],\n",
       "       [-110.4834  ,  -79.31076 ,  -85.36656 ],\n",
       "       [-121.42451 ,  -59.139478,   73.525874]])"
      ]
     },
     "execution_count": 53,
     "metadata": {},
     "output_type": "execute_result"
    }
   ],
   "source": [
    "y_test[:3]"
   ]
  },
  {
   "cell_type": "code",
   "execution_count": 54,
   "metadata": {},
   "outputs": [
    {
     "data": {
      "text/plain": [
       "12.213124564306135"
      ]
     },
     "execution_count": 54,
     "metadata": {},
     "output_type": "execute_result"
    }
   ],
   "source": [
    "test_resultsE.mean() * 10"
   ]
  },
  {
   "cell_type": "code",
   "execution_count": 55,
   "metadata": {},
   "outputs": [],
   "source": [
    "r_res = tr_true_info[(tr_true_info['evtID'] >= rg[-2]) \n",
    "             & (tr_true_info['evtID'] < rg[-1])]['R'][mask].values"
   ]
  },
  {
   "cell_type": "code",
   "execution_count": 56,
   "metadata": {},
   "outputs": [],
   "source": [
    "r_pred = np.sqrt(preds[:,0] ** 2 + preds[:,1] ** 2 + preds[:,2] ** 2) * 100"
   ]
  },
  {
   "cell_type": "code",
   "execution_count": 57,
   "metadata": {},
   "outputs": [
    {
     "data": {
      "text/plain": [
       "array([15931.196, 16000.113, 15283.849, ..., 16515.133, 13311.301,\n",
       "       13668.663], dtype=float32)"
      ]
     },
     "execution_count": 57,
     "metadata": {},
     "output_type": "execute_result"
    }
   ],
   "source": [
    "r_pred"
   ]
  },
  {
   "cell_type": "code",
   "execution_count": 58,
   "metadata": {},
   "outputs": [
    {
     "data": {
      "text/plain": [
       "11.035977779172383"
      ]
     },
     "execution_count": 58,
     "metadata": {},
     "output_type": "execute_result"
    }
   ],
   "source": [
    "np.std(r_pred-r_res)/10"
   ]
  },
  {
   "cell_type": "code",
   "execution_count": 59,
   "metadata": {},
   "outputs": [
    {
     "data": {
      "text/plain": [
       "array([  31.538763  , -110.02735   , -120.45521   , ...,    0.12954655,\n",
       "       -101.10551   ,   79.116394  ], dtype=float32)"
      ]
     },
     "execution_count": 59,
     "metadata": {},
     "output_type": "execute_result"
    }
   ],
   "source": [
    "preds[:,0]"
   ]
  },
  {
   "cell_type": "code",
   "execution_count": 60,
   "metadata": {},
   "outputs": [],
   "source": [
    "from tqdm import tqdm"
   ]
  },
  {
   "cell_type": "code",
   "execution_count": 61,
   "metadata": {},
   "outputs": [],
   "source": [
    "root_data_path = '/mnt/iprovilkov/data_dir/0MeV_lpmt_hits.h5'"
   ]
  },
  {
   "cell_type": "code",
   "execution_count": 62,
   "metadata": {},
   "outputs": [],
   "source": [
    "def test_sigmas(model, test_dir='/mnt/iprovilkov/data_dir/', test_column='E', MAXR=MAXR, \n",
    "                time=False, recompute=False):\n",
    "    sigmas = {}\n",
    "    MSEs = {}\n",
    "    predictions = {}\n",
    "    CONST = 1.022\n",
    "    for energy in tqdm(range(10)):\n",
    "        try:\n",
    "            if recompute:\n",
    "                raise Exception(\"Recompute\")\n",
    "            if time:\n",
    "                data_lpmt = np.load(test_dir + str(energy) + 'data_lpmt_without_noise_sin.npy')\n",
    "            else:\n",
    "                data_lpmt = np.load(test_dir + str(energy) + 'data_lpmt_without_noise_sin.npy')\n",
    "            true_info = pd.read_csv(TRAIN_DIR + str(energy)+'MeV_'+'true_info.csv')\n",
    "        except: \n",
    "            lpmt_hits = pd.read_hdf(test_dir + str(energy)+'MeV_'+ 'lpmt_hits.h5', mode='r') \n",
    "            spmt_hits = pd.read_hdf(test_dir + str(energy)+'MeV_'+'spmt_hits.h5', mode='r')\n",
    "            lpmt_hits = lpmt_hits[lpmt_hits.isDN==False]\n",
    "            spmt_hits = spmt_hits[spmt_hits.isDN==False]\n",
    "            pos = pd.read_csv(TRAIN_DIR + str(energy)+'MeV_'+'lpmt_pos.csv') \n",
    "            spmt_pos = pd.read_csv(TRAIN_DIR + str(energy)+'MeV_'+'spmt_pos.csv') \n",
    "            true_info = pd.read_csv(TRAIN_DIR + str(energy)+'MeV_'+'true_info.csv')\n",
    "            if time:\n",
    "                print(\"Compute...\")\n",
    "                data_lpmt, event_to_id = get_data_2dprojection(lpmt_hits,\n",
    "                                                None,\n",
    "                                                pos,\n",
    "                                                true_info,\n",
    "                                                edge_size0=226,\n",
    "                                                edge_size1=112,\n",
    "                                                use_spmt=False,\n",
    "                                                time='min',\n",
    "                                                )\n",
    "                np.save(test_dir+str(energy)+'data_lpmt_without_noise_sin', data_lpmt)\n",
    "            else:\n",
    "                pass\n",
    "            \n",
    "        mask = (true_info.R<=MAXR)\n",
    "        data_lpmt = data_lpmt[mask]\n",
    "        true_info = true_info[mask]\n",
    "        y_test = true_info[test_column].values\n",
    "        scaler(data_lpmt, 0)\n",
    "        \n",
    "        preds = model.predict(data_lpmt)\n",
    "        r_pred = np.sqrt(preds[:,0] ** 2 + preds[:,1] ** 2 + preds[:,2] ** 2) * 100\n",
    "        \n",
    "        \n",
    "        predictions[energy] = preds\n",
    "        MSEs[energy] = mean_squared_error(r_pred, y_test)\n",
    "        # in percents\n",
    "        if test_column == 'E':\n",
    "            sigmas[energy] = np.std(preds - y_test) / (energy + CONST)\n",
    "        if test_column == 'R':\n",
    "            print(preds[:10])\n",
    "            print(y_test[:10])\n",
    "            sigmas[energy] = np.std(r_pred - y_test)\n",
    "    print(\"+\")\n",
    "    return sigmas, MSEs, predictions"
   ]
  },
  {
   "cell_type": "code",
   "execution_count": 63,
   "metadata": {
    "scrolled": true
   },
   "outputs": [
    {
     "name": "stderr",
     "output_type": "stream",
     "text": [
      " 10%|█         | 1/10 [00:02<00:26,  2.93s/it]"
     ]
    },
    {
     "name": "stdout",
     "output_type": "stream",
     "text": [
      "[[  55.344482  -60.355312  110.22082 ]\n",
      " [-117.407166  -69.16548   -21.858599]\n",
      " [  12.253041 -132.52061   -58.084858]\n",
      " [  52.24215    11.483846 -151.84348 ]\n",
      " [ -46.398476   45.45584  -153.18028 ]\n",
      " [ -80.553055    9.35012   138.3744  ]\n",
      " [ -34.382393   45.093967  120.65558 ]\n",
      " [  34.733017   35.691833  137.7899  ]\n",
      " [ -24.59612  -112.89876    49.382404]\n",
      " [  -9.439381 -118.09786   -22.434525]]\n",
      "[13685.387 13767.972 14483.374 16385.209 16535.102 16292.973 13321.352\n",
      " 14847.134 12601.948 12191.814]\n"
     ]
    },
    {
     "name": "stderr",
     "output_type": "stream",
     "text": [
      "\r",
      " 20%|██        | 2/10 [00:05<00:23,  2.90s/it]"
     ]
    },
    {
     "name": "stdout",
     "output_type": "stream",
     "text": [
      "[[  57.27662    -62.0935     107.21826  ]\n",
      " [  35.166077    21.132559   126.427475 ]\n",
      " [ -83.65771     -7.7610235  -45.088703 ]\n",
      " [-105.927155    -8.716172   -92.22533  ]\n",
      " [  36.008217   -25.925083    89.647095 ]\n",
      " [ -65.545975    38.6954      40.895008 ]\n",
      " [ -16.722792    99.6018     119.33353  ]\n",
      " [  19.444374    64.28963     47.553185 ]\n",
      " [   3.5766199   50.13046    -43.005554 ]\n",
      " [ -47.62308     76.61545    105.17809  ]]\n",
      "[13685.387  13410.883   9433.555  13953.234   9949.386   8924.891\n",
      " 15597.524   8686.9375  6877.779  13697.783 ]\n"
     ]
    },
    {
     "name": "stderr",
     "output_type": "stream",
     "text": [
      "\r",
      " 30%|███       | 3/10 [00:08<00:20,  2.91s/it]"
     ]
    },
    {
     "name": "stdout",
     "output_type": "stream",
     "text": [
      "[[  55.341854   -61.197163   108.07552  ]\n",
      " [  17.012583   -47.54584     79.33787  ]\n",
      " [  76.36833   -124.5739      17.10772  ]\n",
      " [-102.40682    -32.979595    23.911215 ]\n",
      " [  -7.401595   145.70833    -40.059727 ]\n",
      " [  69.64174      2.534109    70.08173  ]\n",
      " [ -96.91044     27.992495    82.22395  ]\n",
      " [ -33.386944    43.978603    14.181444 ]\n",
      " [ -20.77929     40.87045    163.07547  ]\n",
      " [   6.6892047  -34.228485   -18.065748 ]]\n",
      "[13685.387   9459.184  14780.856  11244.336  15168.536   9857.545\n",
      " 13065.209   5716.9985 17010.791   3766.2598]\n"
     ]
    },
    {
     "name": "stderr",
     "output_type": "stream",
     "text": [
      "\r",
      " 40%|████      | 4/10 [00:11<00:17,  2.88s/it]"
     ]
    },
    {
     "name": "stdout",
     "output_type": "stream",
     "text": [
      "[[  56.86583   -60.943554  108.96009 ]\n",
      " [  38.809006  -80.477516  125.12375 ]\n",
      " [  47.632137 -139.22638    22.154663]\n",
      " [ -18.624798  112.3882    -42.661293]\n",
      " [  32.04388   121.982346   87.17846 ]\n",
      " [ -53.22531   110.66852   -95.237595]\n",
      " [  -9.464027 -120.8142     44.030586]\n",
      " [  37.485687   80.57736   -98.37379 ]\n",
      " [  70.327644   89.35014   -39.381138]\n",
      " [ 101.57102   121.9197    -22.027596]]\n",
      "[13685.387 15327.389 14982.    12146.219 15341.161 15562.079 13139.039\n",
      " 13423.874 12005.3   15854.112]\n"
     ]
    },
    {
     "name": "stderr",
     "output_type": "stream",
     "text": [
      "\r",
      " 50%|█████     | 5/10 [00:14<00:14,  2.88s/it]"
     ]
    },
    {
     "name": "stdout",
     "output_type": "stream",
     "text": [
      "[[  56.67275    -60.667915   108.46835  ]\n",
      " [ -74.18627   -112.26456    -47.0917   ]\n",
      " [ 111.14911    -14.569541    -3.3161366]\n",
      " [ 119.14265    -45.021793   -59.891487 ]\n",
      " [  -2.604862   -89.03367    -53.833176 ]\n",
      " [  91.558075     2.1195216  -51.59555  ]\n",
      " [  -9.010126  -116.79373     61.06873  ]\n",
      " [ -28.965603     9.983181   -76.61865  ]\n",
      " [  64.56126    -29.22115     87.59893  ]\n",
      " [  45.546356  -150.48276     23.491224 ]]\n",
      "[13685.387  14200.797  11200.73   14083.442  10510.377  10500.41\n",
      " 13247.246   8158.7183 11431.432  15828.905 ]\n"
     ]
    },
    {
     "name": "stderr",
     "output_type": "stream",
     "text": [
      "\r",
      " 60%|██████    | 6/10 [00:17<00:11,  2.90s/it]"
     ]
    },
    {
     "name": "stdout",
     "output_type": "stream",
     "text": [
      "[[  56.816475   -60.220432   109.046906 ]\n",
      " [  33.457226   -74.5249     -20.55152  ]\n",
      " [  46.745415   102.313034    44.491947 ]\n",
      " [ -66.767105    74.7437    -131.91362  ]\n",
      " [  32.215256   -91.54103     63.14384  ]\n",
      " [-102.53541    -98.62518     66.69566  ]\n",
      " [ 116.587845   110.339005    19.273396 ]\n",
      " [ 114.20843    -80.36577    -78.02734  ]\n",
      " [-151.16681     36.00773     59.853947 ]\n",
      " [  10.0474825  -54.878326  -106.0933   ]]\n",
      "[13685.387  8422.246 12181.572 16394.582 11673.857 15601.306 16126.187\n",
      " 16045.935 16654.432 12175.233]\n"
     ]
    },
    {
     "name": "stderr",
     "output_type": "stream",
     "text": [
      "\r",
      " 70%|███████   | 7/10 [00:20<00:08,  2.88s/it]"
     ]
    },
    {
     "name": "stdout",
     "output_type": "stream",
     "text": [
      "[[  57.22146    -60.849247   108.21455  ]\n",
      " [ -19.27727    -55.366318   104.10144  ]\n",
      " [-105.45537    -48.36847    -35.907383 ]\n",
      " [ -97.30103     61.187057    -4.1110473]\n",
      " [  71.592445  -115.425995    18.687586 ]\n",
      " [ -24.446938   120.54658    -65.37521  ]\n",
      " [  52.077484  -127.89331    100.92151  ]\n",
      " [  29.190592    66.42532    -71.18797  ]\n",
      " [ -46.17807    107.25946    -26.564762 ]\n",
      " [ -35.148075  -108.56701    -57.123314 ]]\n",
      "[13685.387 11922.321 12114.285 11516.515 13680.285 13979.825 17108.254\n",
      " 10130.919 11991.952 12682.488]\n"
     ]
    },
    {
     "name": "stderr",
     "output_type": "stream",
     "text": [
      "\r",
      " 80%|████████  | 8/10 [00:22<00:05,  2.83s/it]"
     ]
    },
    {
     "name": "stdout",
     "output_type": "stream",
     "text": [
      "[[  56.63642    -60.58035    108.34002  ]\n",
      " [  27.431911    48.57254   -117.81104  ]\n",
      " [  95.18195    105.451035    34.83419  ]\n",
      " [   7.3759737   79.97618    108.84739  ]\n",
      " [ -40.057205  -153.89403    -60.403053 ]\n",
      " [ -91.94046   -101.66633    -44.56155  ]\n",
      " [  43.67634    -78.29991    -76.52829  ]\n",
      " [  75.91127    -68.424164    91.48289  ]\n",
      " [   2.7765317   -0.8949674  -90.54385  ]\n",
      " [ -27.683983    29.754023  -111.42419  ]]\n",
      "[13685.387 12958.754 14612.41  13395.118 17146.44  14422.13  11942.524\n",
      " 13709.816  9141.089 11901.334]\n"
     ]
    },
    {
     "name": "stderr",
     "output_type": "stream",
     "text": [
      "\r",
      " 90%|█████████ | 9/10 [00:25<00:02,  2.81s/it]"
     ]
    },
    {
     "name": "stdout",
     "output_type": "stream",
     "text": [
      "[[  59.300278  -59.75694   108.84445 ]\n",
      " [-138.74834   -37.449486   -9.017584]\n",
      " [-144.20715    15.257975   61.547638]\n",
      " [ 127.61786    30.62813   -20.5008  ]\n",
      " [ -86.807495   40.00817     5.537178]\n",
      " [ -75.70889   -99.83735    45.992764]\n",
      " [  12.284542   25.373919  -37.532394]\n",
      " [  18.002064   49.231445  -74.6478  ]\n",
      " [ -46.25576    28.032978   90.8059  ]\n",
      " [ -29.568832   56.318718  -64.82807 ]]\n",
      "[13685.387  14392.851  15712.894  13303.8545  9530.68   13284.986\n",
      "  4756.147   9080.496  10546.205   9097.196 ]\n"
     ]
    },
    {
     "name": "stderr",
     "output_type": "stream",
     "text": [
      "\r",
      "100%|██████████| 10/10 [00:28<00:00,  2.84s/it]"
     ]
    },
    {
     "name": "stdout",
     "output_type": "stream",
     "text": [
      "[[  57.217495   -60.21495    109.52175  ]\n",
      " [ -67.30224     43.92557     75.7127   ]\n",
      " [ 132.00722     30.121443   -80.43932  ]\n",
      " [ -10.475736    -4.4929495  -26.63775  ]\n",
      " [ -20.031738    39.245754   108.29133  ]\n",
      " [-111.89796     40.632427   120.620415 ]\n",
      " [  37.425854   152.01472     55.3621   ]\n",
      " [ -45.310715  -114.88446    -42.545757 ]\n",
      " [  63.57056    115.12008    -76.30216  ]\n",
      " [  93.845795    13.6405115  -12.999725 ]]\n",
      "[13685.387 11129.92  15775.158  2958.306 11732.66  16947.965 16712.424\n",
      " 13047.53  15077.495  9472.099]\n",
      "+\n"
     ]
    },
    {
     "name": "stderr",
     "output_type": "stream",
     "text": [
      "\n"
     ]
    }
   ],
   "source": [
    "sigmas, MSEs, predictions = test_sigmas(model, test_column='R', time=True, recompute=False)"
   ]
  },
  {
   "cell_type": "code",
   "execution_count": null,
   "metadata": {},
   "outputs": [],
   "source": []
  },
  {
   "cell_type": "code",
   "execution_count": 64,
   "metadata": {},
   "outputs": [
    {
     "data": {
      "text/plain": [
       "({0: 214.69821483063777,\n",
       "  1: 139.12629265129735,\n",
       "  2: 119.97568904411918,\n",
       "  3: 106.90482615002526,\n",
       "  4: 103.86832068348495,\n",
       "  5: 94.9450558659101,\n",
       "  6: 98.98616589636212,\n",
       "  7: 94.30723598650276,\n",
       "  8: 97.72463004958817,\n",
       "  9: 98.37701800636415},\n",
       " {0: 46102.25095467928,\n",
       "  1: 19610.24468432632,\n",
       "  2: 14544.981715656715,\n",
       "  3: 11500.425380149169,\n",
       "  4: 10857.19225709465,\n",
       "  5: 9028.26604687741,\n",
       "  6: 9827.720503299977,\n",
       "  7: 8898.718589609492,\n",
       "  8: 9563.02956838598,\n",
       "  9: 9680.372760699014})"
      ]
     },
     "execution_count": 64,
     "metadata": {},
     "output_type": "execute_result"
    }
   ],
   "source": [
    "sigmas, MSEs"
   ]
  },
  {
   "cell_type": "code",
   "execution_count": 66,
   "metadata": {},
   "outputs": [],
   "source": [
    "test_dir = '/mnt/iprovilkov/data_dir/'"
   ]
  },
  {
   "cell_type": "code",
   "execution_count": 67,
   "metadata": {},
   "outputs": [],
   "source": [
    "lpmt_hits = pd.read_hdf(test_dir + str(0)+'MeV_'+ 'lpmt_hits.h5', mode='r') "
   ]
  },
  {
   "cell_type": "code",
   "execution_count": 70,
   "metadata": {},
   "outputs": [],
   "source": [
    "true_info = pd.read_csv(TRAIN_DIR + str(0)+'MeV_'+'true_info.csv')"
   ]
  },
  {
   "cell_type": "code",
   "execution_count": 71,
   "metadata": {},
   "outputs": [
    {
     "data": {
      "text/html": [
       "<div>\n",
       "<style scoped>\n",
       "    .dataframe tbody tr th:only-of-type {\n",
       "        vertical-align: middle;\n",
       "    }\n",
       "\n",
       "    .dataframe tbody tr th {\n",
       "        vertical-align: top;\n",
       "    }\n",
       "\n",
       "    .dataframe thead th {\n",
       "        text-align: right;\n",
       "    }\n",
       "</style>\n",
       "<table border=\"1\" class=\"dataframe\">\n",
       "  <thead>\n",
       "    <tr style=\"text-align: right;\">\n",
       "      <th></th>\n",
       "      <th>E</th>\n",
       "      <th>R</th>\n",
       "      <th>evtID</th>\n",
       "      <th>x</th>\n",
       "      <th>y</th>\n",
       "      <th>z</th>\n",
       "    </tr>\n",
       "  </thead>\n",
       "  <tbody>\n",
       "    <tr>\n",
       "      <th>0</th>\n",
       "      <td>0.510999</td>\n",
       "      <td>13685.387</td>\n",
       "      <td>0</td>\n",
       "      <td>5702.9033</td>\n",
       "      <td>-6107.5576</td>\n",
       "      <td>10838.1020</td>\n",
       "    </tr>\n",
       "    <tr>\n",
       "      <th>1</th>\n",
       "      <td>0.510999</td>\n",
       "      <td>13767.972</td>\n",
       "      <td>1</td>\n",
       "      <td>-11704.7300</td>\n",
       "      <td>-6907.6904</td>\n",
       "      <td>-2200.0312</td>\n",
       "    </tr>\n",
       "    <tr>\n",
       "      <th>2</th>\n",
       "      <td>0.510999</td>\n",
       "      <td>14483.374</td>\n",
       "      <td>2</td>\n",
       "      <td>1473.3042</td>\n",
       "      <td>-13208.8720</td>\n",
       "      <td>-5755.2754</td>\n",
       "    </tr>\n",
       "    <tr>\n",
       "      <th>3</th>\n",
       "      <td>0.510999</td>\n",
       "      <td>16385.209</td>\n",
       "      <td>3</td>\n",
       "      <td>4844.6970</td>\n",
       "      <td>1258.4382</td>\n",
       "      <td>-15601.9340</td>\n",
       "    </tr>\n",
       "    <tr>\n",
       "      <th>4</th>\n",
       "      <td>0.510999</td>\n",
       "      <td>16535.102</td>\n",
       "      <td>4</td>\n",
       "      <td>-4589.3945</td>\n",
       "      <td>4687.0960</td>\n",
       "      <td>-15178.2140</td>\n",
       "    </tr>\n",
       "  </tbody>\n",
       "</table>\n",
       "</div>"
      ],
      "text/plain": [
       "          E          R  evtID           x           y           z\n",
       "0  0.510999  13685.387      0   5702.9033  -6107.5576  10838.1020\n",
       "1  0.510999  13767.972      1 -11704.7300  -6907.6904  -2200.0312\n",
       "2  0.510999  14483.374      2   1473.3042 -13208.8720  -5755.2754\n",
       "3  0.510999  16385.209      3   4844.6970   1258.4382 -15601.9340\n",
       "4  0.510999  16535.102      4  -4589.3945   4687.0960 -15178.2140"
      ]
     },
     "execution_count": 71,
     "metadata": {},
     "output_type": "execute_result"
    }
   ],
   "source": [
    "true_info[:5]"
   ]
  },
  {
   "cell_type": "markdown",
   "metadata": {},
   "source": [
    "R prediction for 0 part"
   ]
  },
  {
   "cell_type": "code",
   "execution_count": 76,
   "metadata": {},
   "outputs": [
    {
     "data": {
      "text/plain": [
       "array([     0,  20000,  40000,  60000,  80000, 100000])"
      ]
     },
     "execution_count": 76,
     "metadata": {},
     "output_type": "execute_result"
    }
   ],
   "source": [
    "rg"
   ]
  },
  {
   "cell_type": "code",
   "execution_count": 101,
   "metadata": {},
   "outputs": [],
   "source": [
    "pred_list = []"
   ]
  },
  {
   "cell_type": "code",
   "execution_count": 102,
   "metadata": {},
   "outputs": [
    {
     "name": "stderr",
     "output_type": "stream",
     "text": [
      "\n",
      "0it [00:00, ?it/s]\u001b[A\n",
      "1it [00:26, 26.39s/it]\u001b[A\n",
      "2it [00:57, 27.81s/it]\u001b[A\n",
      "3it [01:29, 29.17s/it]\u001b[A\n",
      "4it [01:59, 29.33s/it]\u001b[A\n",
      "5it [02:29, 29.41s/it]\u001b[A"
     ]
    }
   ],
   "source": [
    "for i, start in tqdm(enumerate(rg[:-1])):\n",
    "    X = np.load(big_file_names[i])\n",
    "    y_test = tr_true_info[(tr_true_info['evtID'] >= rg[i]) \n",
    "                     & (tr_true_info['evtID'] < rg[i+1])]\n",
    "    #mask = (y_test.R <= MAXR)\n",
    "    #X = X[mask]\n",
    "    #y_test = y_test[mask][train_columns].values\n",
    "    scaler(X, 0)\n",
    "    predictions = model.predict(X)\n",
    "    pred_list.append(predictions)"
   ]
  },
  {
   "cell_type": "code",
   "execution_count": 103,
   "metadata": {},
   "outputs": [],
   "source": [
    "stacked = np.vstack(pred_list)"
   ]
  },
  {
   "cell_type": "code",
   "execution_count": 104,
   "metadata": {},
   "outputs": [
    {
     "data": {
      "text/plain": [
       "(100000, 3)"
      ]
     },
     "execution_count": 104,
     "metadata": {},
     "output_type": "execute_result"
    }
   ],
   "source": [
    "stacked.shape"
   ]
  },
  {
   "cell_type": "code",
   "execution_count": 105,
   "metadata": {},
   "outputs": [],
   "source": [
    "CNN_xyz_R = np.sqrt(stacked[:,0] ** 2 + stacked[:,1] ** 2 + stacked[:,2] ** 2)"
   ]
  },
  {
   "cell_type": "code",
   "execution_count": 106,
   "metadata": {},
   "outputs": [
    {
     "data": {
      "text/plain": [
       "array([102.47714 ,  73.79576 ,  47.86174 , ...,  66.08299 ,  49.554005,\n",
       "        65.986145], dtype=float32)"
      ]
     },
     "execution_count": 106,
     "metadata": {},
     "output_type": "execute_result"
    }
   ],
   "source": [
    "CNN_xyz_R"
   ]
  },
  {
   "cell_type": "code",
   "execution_count": 107,
   "metadata": {},
   "outputs": [
    {
     "data": {
      "text/plain": [
       "(100000,)"
      ]
     },
     "execution_count": 107,
     "metadata": {},
     "output_type": "execute_result"
    }
   ],
   "source": [
    "CNN_xyz_R.shape"
   ]
  },
  {
   "cell_type": "code",
   "execution_count": 108,
   "metadata": {},
   "outputs": [],
   "source": [
    "np.save(LTRAIN + 'CNN_xyz_R', CNN_xyz_R)"
   ]
  },
  {
   "cell_type": "code",
   "execution_count": 109,
   "metadata": {},
   "outputs": [],
   "source": [
    "np.save(LTRAIN + 'CNN_xyz', stacked)"
   ]
  },
  {
   "cell_type": "code",
   "execution_count": null,
   "metadata": {},
   "outputs": [],
   "source": []
  }
 ],
 "metadata": {
  "kernelspec": {
   "display_name": "Python 3",
   "language": "python",
   "name": "python3"
  },
  "language_info": {
   "codemirror_mode": {
    "name": "ipython",
    "version": 3
   },
   "file_extension": ".py",
   "mimetype": "text/x-python",
   "name": "python",
   "nbconvert_exporter": "python",
   "pygments_lexer": "ipython3",
   "version": "3.5.6"
  }
 },
 "nbformat": 4,
 "nbformat_minor": 2
}
