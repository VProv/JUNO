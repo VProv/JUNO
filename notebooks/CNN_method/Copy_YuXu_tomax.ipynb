{
 "cells": [
  {
   "cell_type": "code",
   "execution_count": 2,
   "metadata": {},
   "outputs": [],
   "source": [
    "# Preprocessing\n",
    "import pandas as pd\n",
    "import tables\n",
    "import time\n",
    "import numpy as np\n",
    "import gc\n",
    "from tqdm import tqdm_notebook\n",
    "from data_processing_xu import get_data_2dprojection\n",
    "import os"
   ]
  },
  {
   "cell_type": "code",
   "execution_count": 57,
   "metadata": {},
   "outputs": [],
   "source": [
    "%run data_processing_xu.py"
   ]
  },
  {
   "cell_type": "code",
   "execution_count": 52,
   "metadata": {},
   "outputs": [],
   "source": [
    "#DATA_DIR = '/storage/home/vprov/JUNO/JUNO_students/data/'\n",
    "#TRAIN_DIR = '/srv/hd5/data/vprov/data/phase_1/train/'\n",
    "TRAIN_DIR = '~/data/data_dir/'\n",
    "tr_lpmt_hits = pd.read_hdf(TRAIN_DIR + 'lpmt_hits.h5', mode='r') \n",
    "tr_spmt_hits = pd.read_hdf(TRAIN_DIR + 'spmt_hits.h5', mode='r')\n",
    "tr_pos = pd.read_csv(TRAIN_DIR + 'lpmt_pos.csv') \n",
    "tr_spmt_pos = pd.read_csv(TRAIN_DIR + 'spmt_pos.csv') \n",
    "tr_true_info = pd.read_csv(TRAIN_DIR + 'true_info.csv')"
   ]
  },
  {
   "cell_type": "code",
   "execution_count": 3,
   "metadata": {},
   "outputs": [],
   "source": [
    "rg = np.arange(0,100000,15000)"
   ]
  },
  {
   "cell_type": "code",
   "execution_count": 59,
   "metadata": {},
   "outputs": [],
   "source": [
    "LTRAIN = '/mnt/iprovilkov/data_dir/npdata/'"
   ]
  },
  {
   "cell_type": "code",
   "execution_count": 62,
   "metadata": {},
   "outputs": [],
   "source": [
    "MAXR=17200"
   ]
  },
  {
   "cell_type": "code",
   "execution_count": 63,
   "metadata": {},
   "outputs": [
    {
     "name": "stdout",
     "output_type": "stream",
     "text": [
      "Make projection\n",
      "Starting cycle...\n"
     ]
    },
    {
     "data": {
      "application/vnd.jupyter.widget-view+json": {
       "model_id": "488a570711a84c57b7fde90f21199382",
       "version_major": 2,
       "version_minor": 0
      },
      "text/plain": [
       "HBox(children=(IntProgress(value=1, bar_style='info', max=1), HTML(value='')))"
      ]
     },
     "metadata": {},
     "output_type": "display_data"
    },
    {
     "name": "stdout",
     "output_type": "stream",
     "text": [
      "\n",
      "Make projection\n",
      "Starting cycle...\n"
     ]
    },
    {
     "data": {
      "application/vnd.jupyter.widget-view+json": {
       "model_id": "6cc327ce21124ff0a8733d73232d4932",
       "version_major": 2,
       "version_minor": 0
      },
      "text/plain": [
       "HBox(children=(IntProgress(value=1, bar_style='info', max=1), HTML(value='')))"
      ]
     },
     "metadata": {},
     "output_type": "display_data"
    },
    {
     "name": "stdout",
     "output_type": "stream",
     "text": [
      "\n",
      "Make projection\n",
      "Starting cycle...\n"
     ]
    },
    {
     "data": {
      "application/vnd.jupyter.widget-view+json": {
       "model_id": "33f6b11e39634a518f37ea3884bd1c60",
       "version_major": 2,
       "version_minor": 0
      },
      "text/plain": [
       "HBox(children=(IntProgress(value=1, bar_style='info', max=1), HTML(value='')))"
      ]
     },
     "metadata": {},
     "output_type": "display_data"
    },
    {
     "name": "stdout",
     "output_type": "stream",
     "text": [
      "\n",
      "Make projection\n",
      "Starting cycle...\n"
     ]
    },
    {
     "data": {
      "application/vnd.jupyter.widget-view+json": {
       "model_id": "e6e75507e29b4564ab338b4d1952b264",
       "version_major": 2,
       "version_minor": 0
      },
      "text/plain": [
       "HBox(children=(IntProgress(value=1, bar_style='info', max=1), HTML(value='')))"
      ]
     },
     "metadata": {},
     "output_type": "display_data"
    },
    {
     "name": "stdout",
     "output_type": "stream",
     "text": [
      "\n",
      "Make projection\n",
      "Starting cycle...\n"
     ]
    },
    {
     "data": {
      "application/vnd.jupyter.widget-view+json": {
       "model_id": "872518962f0e46bdba23d0943c6dd982",
       "version_major": 2,
       "version_minor": 0
      },
      "text/plain": [
       "HBox(children=(IntProgress(value=1, bar_style='info', max=1), HTML(value='')))"
      ]
     },
     "metadata": {},
     "output_type": "display_data"
    },
    {
     "name": "stdout",
     "output_type": "stream",
     "text": [
      "\n",
      "Make projection\n",
      "Starting cycle...\n"
     ]
    },
    {
     "data": {
      "application/vnd.jupyter.widget-view+json": {
       "model_id": "e65130574a7f4bdf803dc6e10982babf",
       "version_major": 2,
       "version_minor": 0
      },
      "text/plain": [
       "HBox(children=(IntProgress(value=1, bar_style='info', max=1), HTML(value='')))"
      ]
     },
     "metadata": {},
     "output_type": "display_data"
    },
    {
     "name": "stdout",
     "output_type": "stream",
     "text": [
      "\n"
     ]
    }
   ],
   "source": [
    "for start, end  in zip(rg[:-1], rg[1:]):\n",
    "    data_lpmt, event_to_id = get_data_2dprojection(tr_lpmt_hits[(tr_lpmt_hits['event'] >= start) & (tr_lpmt_hits['event'] < end)\n",
    "                                                                & (tr_lpmt_hits['isDN'] == False)], \n",
    "                                                tr_spmt_hits[(tr_spmt_hits['event'] >= start) & (tr_spmt_hits['event'] < end) \n",
    "                                                            & (tr_spmt_hits['isDN'] == False)], \n",
    "                                                tr_pos, \n",
    "                                                tr_true_info[(tr_true_info.R<=MAXR) \n",
    "                                                             & (tr_true_info['evtID'] >= start) \n",
    "                                                             & (tr_true_info['evtID'] < end)],\n",
    "                                                use_spmt=False,\n",
    "                                                time='tomax')\n",
    "    np.save(LTRAIN + '1_' + str(start) + 'without_noise' + '_time_min_xu_l', data_lpmt)"
   ]
  },
  {
   "cell_type": "code",
   "execution_count": 64,
   "metadata": {},
   "outputs": [
    {
     "data": {
      "text/plain": [
       "<matplotlib.image.AxesImage at 0x7f3b786375c0>"
      ]
     },
     "execution_count": 64,
     "metadata": {},
     "output_type": "execute_result"
    },
    {
     "data": {
      "image/png": "[encoded data removed]",
      "text/plain": [
       "<Figure size 432x288 with 1 Axes>"
      ]
     },
     "metadata": {
      "needs_background": "light"
     },
     "output_type": "display_data"
    }
   ],
   "source": [
    "import matplotlib.pyplot as plt\n",
    "plt.imshow(data_lpmt[0][:,:,1])"
   ]
  },
  {
   "cell_type": "code",
   "execution_count": 65,
   "metadata": {},
   "outputs": [
    {
     "data": {
      "text/plain": [
       "<matplotlib.image.AxesImage at 0x7f3b7853eba8>"
      ]
     },
     "execution_count": 65,
     "metadata": {},
     "output_type": "execute_result"
    },
    {
     "data": {
      "image/png": "[encoded data removed]",
      "text/plain": [
       "<Figure size 432x288 with 1 Axes>"
      ]
     },
     "metadata": {
      "needs_background": "light"
     },
     "output_type": "display_data"
    }
   ],
   "source": [
    "plt.imshow(data_lpmt[0][:,:,0])"
   ]
  },
  {
   "cell_type": "code",
   "execution_count": 11,
   "metadata": {},
   "outputs": [
    {
     "data": {
      "text/plain": [
       "8.63623740196228"
      ]
     },
     "execution_count": 11,
     "metadata": {},
     "output_type": "execute_result"
    }
   ],
   "source": [
    "data_lpmt[0][:,:,1].max()"
   ]
  },
  {
   "cell_type": "code",
   "execution_count": 66,
   "metadata": {},
   "outputs": [],
   "source": [
    "import numpy as np\n",
    "import os\n",
    "from sklearn.model_selection import train_test_split\n",
    "import tensorflow as tf"
   ]
  },
  {
   "cell_type": "code",
   "execution_count": 67,
   "metadata": {},
   "outputs": [],
   "source": [
    "os.environ[\"CUDA_DEVICE_ORDER\"]=\"PCI_BUS_ID\"\n",
    "os.environ[\"CUDA_VISIBLE_DEVICES\"]=\"1\""
   ]
  },
  {
   "cell_type": "code",
   "execution_count": 68,
   "metadata": {},
   "outputs": [],
   "source": [
    "import tensorflow as tf\n",
    "sess = tf.Session(config=tf.ConfigProto(log_device_placement=True))"
   ]
  },
  {
   "cell_type": "code",
   "execution_count": 92,
   "metadata": {},
   "outputs": [],
   "source": [
    "import keras\n",
    "import keras.layers as L\n",
    "from keras.models import Sequential"
   ]
  },
  {
   "cell_type": "code",
   "execution_count": 113,
   "metadata": {},
   "outputs": [],
   "source": [
    "model = Sequential()\n",
    "model.add(L.Conv2D(filters=32, kernel_size=(3,3),activation='relu', strides=(1,1)))\n",
    "model.add(L.MaxPool2D(strides=(2,2)))\n",
    "model.add(L.Conv2D(filters=64, kernel_size=(3,3),activation='relu', strides=(1,1)))\n",
    "model.add(L.MaxPool2D(strides=(2,2)))\n",
    "model.add(L.Conv2D(filters=64, kernel_size=(3,3),activation='relu', strides=(1,1)))\n",
    "model.add(L.MaxPool2D(strides=(2,2)))\n",
    "model.add(L.Conv2D(filters=128, kernel_size=(3,3),activation='relu'))\n",
    "model.add(L.Flatten())\n",
    "model.add(L.Dense(256, activation='relu'))\n",
    "model.add(L.Dense(256, activation='relu'))\n",
    "model.add(L.Dense(1))"
   ]
  },
  {
   "cell_type": "code",
   "execution_count": 114,
   "metadata": {},
   "outputs": [],
   "source": [
    "from keras.optimizers import Adam"
   ]
  },
  {
   "cell_type": "code",
   "execution_count": 115,
   "metadata": {},
   "outputs": [],
   "source": [
    "opt = Adam(decay=1e-4)"
   ]
  },
  {
   "cell_type": "code",
   "execution_count": 116,
   "metadata": {},
   "outputs": [],
   "source": [
    "model.compile(loss='mean_squared_error', optimizer=opt)"
   ]
  },
  {
   "cell_type": "code",
   "execution_count": 117,
   "metadata": {},
   "outputs": [
    {
     "name": "stdout",
     "output_type": "stream",
     "text": [
      "_________________________________________________________________\n",
      "Layer (type)                 Output Shape              Param #   \n",
      "=================================================================\n",
      "conv2d_21 (Conv2D)           (None, 109, 224, 32)      608       \n",
      "_________________________________________________________________\n",
      "max_pooling2d_16 (MaxPooling (None, 54, 112, 32)       0         \n",
      "_________________________________________________________________\n",
      "conv2d_22 (Conv2D)           (None, 52, 110, 64)       18496     \n",
      "_________________________________________________________________\n",
      "max_pooling2d_17 (MaxPooling (None, 26, 55, 64)        0         \n",
      "_________________________________________________________________\n",
      "conv2d_23 (Conv2D)           (None, 24, 53, 64)        36928     \n",
      "_________________________________________________________________\n",
      "max_pooling2d_18 (MaxPooling (None, 12, 26, 64)        0         \n",
      "_________________________________________________________________\n",
      "conv2d_24 (Conv2D)           (None, 10, 24, 128)       73856     \n",
      "_________________________________________________________________\n",
      "flatten_6 (Flatten)          (None, 30720)             0         \n",
      "_________________________________________________________________\n",
      "dense_16 (Dense)             (None, 256)               7864576   \n",
      "_________________________________________________________________\n",
      "dense_17 (Dense)             (None, 256)               65792     \n",
      "_________________________________________________________________\n",
      "dense_18 (Dense)             (None, 1)                 257       \n",
      "=================================================================\n",
      "Total params: 8,060,513\n",
      "Trainable params: 8,060,513\n",
      "Non-trainable params: 0\n",
      "_________________________________________________________________\n"
     ]
    }
   ],
   "source": [
    "model.build(input_shape=(None, 111,226,2))\n",
    "model.summary()"
   ]
  },
  {
   "cell_type": "code",
   "execution_count": 6,
   "metadata": {},
   "outputs": [],
   "source": [
    "logdir = 'log_YuXu_tomax.csv'"
   ]
  },
  {
   "cell_type": "code",
   "execution_count": 119,
   "metadata": {},
   "outputs": [],
   "source": [
    "from keras.callbacks import CSVLogger\n",
    "\n",
    "csv_logger = CSVLogger(logdir, append=True, separator=';')"
   ]
  },
  {
   "cell_type": "code",
   "execution_count": 120,
   "metadata": {},
   "outputs": [],
   "source": [
    "from keras.callbacks import ReduceLROnPlateau\n",
    "reduce_lr = ReduceLROnPlateau(monitor='val_loss', factor=0.2,\n",
    "                              patience=5, min_lr=0.000001)"
   ]
  },
  {
   "cell_type": "code",
   "execution_count": 121,
   "metadata": {},
   "outputs": [],
   "source": [
    "epochs = [5,5,5,5,1,1,1]"
   ]
  },
  {
   "cell_type": "code",
   "execution_count": null,
   "metadata": {
    "scrolled": true
   },
   "outputs": [
    {
     "name": "stdout",
     "output_type": "stream",
     "text": [
      "Train on 11020 samples, validate on 2756 samples\n",
      "Epoch 1/5\n",
      "11020/11020 [==============================] - 28s 3ms/step - loss: 2.0992 - val_loss: 0.7883\n",
      "Epoch 2/5\n",
      "11020/11020 [==============================] - 25s 2ms/step - loss: 0.5882 - val_loss: 0.3015\n",
      "Epoch 3/5\n",
      "11020/11020 [==============================] - 25s 2ms/step - loss: 0.2664 - val_loss: 0.3087\n",
      "Epoch 4/5\n",
      "11020/11020 [==============================] - 24s 2ms/step - loss: 0.2535 - val_loss: 0.4048\n",
      "Epoch 5/5\n",
      "11020/11020 [==============================] - 25s 2ms/step - loss: 0.1475 - val_loss: 0.1029\n",
      "Train on 10988 samples, validate on 2747 samples\n",
      "Epoch 1/5\n",
      "10988/10988 [==============================] - 25s 2ms/step - loss: 0.1384 - val_loss: 0.2373\n",
      "Epoch 2/5\n",
      "10988/10988 [==============================] - 24s 2ms/step - loss: 0.1075 - val_loss: 0.1046\n",
      "Epoch 3/5\n",
      "10988/10988 [==============================] - 25s 2ms/step - loss: 0.1027 - val_loss: 0.0781\n",
      "Epoch 4/5\n",
      "10988/10988 [==============================] - 25s 2ms/step - loss: 0.0840 - val_loss: 0.0976\n",
      "Epoch 5/5\n",
      "10988/10988 [==============================] - 25s 2ms/step - loss: 0.0820 - val_loss: 0.0653\n",
      "Train on 11041 samples, validate on 2761 samples\n",
      "Epoch 1/5\n",
      "11041/11041 [==============================] - 25s 2ms/step - loss: 0.0926 - val_loss: 0.4313\n",
      "Epoch 2/5\n",
      "11041/11041 [==============================] - 27s 2ms/step - loss: 0.0885 - val_loss: 0.0862\n",
      "Epoch 3/5\n",
      "11041/11041 [==============================] - 25s 2ms/step - loss: 0.0659 - val_loss: 1.3596\n",
      "Epoch 4/5\n",
      "11041/11041 [==============================] - 25s 2ms/step - loss: 0.0959 - val_loss: 0.0528\n",
      "Epoch 5/5\n",
      "11041/11041 [==============================] - 25s 2ms/step - loss: 0.0451 - val_loss: 1.3839\n",
      "Train on 11036 samples, validate on 2760 samples\n",
      "Epoch 1/5\n",
      "11036/11036 [==============================] - 26s 2ms/step - loss: 0.1252 - val_loss: 0.0453\n",
      "Epoch 2/5\n",
      "11036/11036 [==============================] - 26s 2ms/step - loss: 0.0512 - val_loss: 0.0444\n",
      "Epoch 3/5\n",
      "11036/11036 [==============================] - 25s 2ms/step - loss: 0.0502 - val_loss: 0.0473\n",
      "Epoch 4/5\n",
      "11036/11036 [==============================] - 25s 2ms/step - loss: 0.0365 - val_loss: 0.0335\n",
      "Epoch 5/5\n",
      "11036/11036 [==============================] - 25s 2ms/step - loss: 0.0359 - val_loss: 0.0447\n",
      "Train on 11064 samples, validate on 2767 samples\n",
      "Epoch 1/5\n",
      "11064/11064 [==============================] - 25s 2ms/step - loss: 0.0492 - val_loss: 0.0499\n",
      "Epoch 2/5\n",
      "11064/11064 [==============================] - 26s 2ms/step - loss: 0.0511 - val_loss: 0.0728\n",
      "Epoch 3/5\n",
      "11064/11064 [==============================] - 25s 2ms/step - loss: 0.0358 - val_loss: 0.0385\n",
      "Epoch 4/5\n",
      "11064/11064 [==============================] - 25s 2ms/step - loss: 0.0556 - val_loss: 0.0411\n",
      "Epoch 5/5\n",
      "11064/11064 [==============================] - 25s 2ms/step - loss: 0.0293 - val_loss: 0.0510\n",
      "Train on 10959 samples, validate on 2740 samples\n",
      "Epoch 1/5\n",
      "10959/10959 [==============================] - 24s 2ms/step - loss: 0.0682 - val_loss: 0.0301\n",
      "Epoch 2/5\n",
      "10959/10959 [==============================] - 29s 3ms/step - loss: 0.0409 - val_loss: 0.0413\n",
      "Epoch 3/5\n",
      "10959/10959 [==============================] - 25s 2ms/step - loss: 0.0448 - val_loss: 0.0318\n",
      "Epoch 4/5\n",
      "10959/10959 [==============================] - 25s 2ms/step - loss: 0.0357 - val_loss: 0.0352\n",
      "Epoch 5/5\n",
      "10959/10959 [==============================] - 25s 2ms/step - loss: 0.0329 - val_loss: 0.0302\n",
      "Train on 11020 samples, validate on 2756 samples\n",
      "Epoch 1/5\n",
      "11020/11020 [==============================] - 25s 2ms/step - loss: 0.0591 - val_loss: 0.0300\n",
      "Epoch 2/5\n",
      "11020/11020 [==============================] - 28s 3ms/step - loss: 0.0440 - val_loss: 0.0590\n",
      "Epoch 3/5\n",
      "11020/11020 [==============================] - 24s 2ms/step - loss: 0.0378 - val_loss: 0.0544\n",
      "Epoch 4/5\n",
      "11020/11020 [==============================] - 24s 2ms/step - loss: 0.0289 - val_loss: 0.0301\n",
      "Epoch 5/5\n",
      "11020/11020 [==============================] - 25s 2ms/step - loss: 0.0247 - val_loss: 0.0477\n",
      "Train on 10988 samples, validate on 2747 samples\n",
      "Epoch 1/5\n",
      "10988/10988 [==============================] - 28s 3ms/step - loss: 0.0481 - val_loss: 0.0359\n",
      "Epoch 2/5\n",
      "10988/10988 [==============================] - 25s 2ms/step - loss: 0.0456 - val_loss: 0.0303\n",
      "Epoch 3/5\n",
      "10988/10988 [==============================] - 24s 2ms/step - loss: 0.0360 - val_loss: 0.0479\n",
      "Epoch 4/5\n",
      "10988/10988 [==============================] - 25s 2ms/step - loss: 0.0292 - val_loss: 0.0263\n",
      "Epoch 5/5\n",
      "10988/10988 [==============================] - 25s 2ms/step - loss: 0.0258 - val_loss: 0.0289\n",
      "Train on 11041 samples, validate on 2761 samples\n",
      "Epoch 1/5\n",
      "11041/11041 [==============================] - 25s 2ms/step - loss: 0.0402 - val_loss: 0.0301\n",
      "Epoch 2/5\n",
      "11041/11041 [==============================] - 27s 2ms/step - loss: 0.0373 - val_loss: 0.0371\n",
      "Epoch 3/5\n",
      "11041/11041 [==============================] - 25s 2ms/step - loss: 0.0276 - val_loss: 0.0624\n",
      "Epoch 4/5\n",
      "11041/11041 [==============================] - 25s 2ms/step - loss: 0.0261 - val_loss: 0.0506\n",
      "Epoch 5/5\n",
      "11041/11041 [==============================] - 25s 2ms/step - loss: 0.0221 - val_loss: 0.0279\n",
      "Train on 11036 samples, validate on 2760 samples\n",
      "Epoch 1/5\n",
      "11036/11036 [==============================] - 24s 2ms/step - loss: 0.0320 - val_loss: 0.0355\n",
      "Epoch 2/5\n",
      "11036/11036 [==============================] - 29s 3ms/step - loss: 0.0248 - val_loss: 0.0323\n",
      "Epoch 3/5\n",
      "11036/11036 [==============================] - 25s 2ms/step - loss: 0.0257 - val_loss: 0.0377\n",
      "Epoch 4/5\n",
      "11036/11036 [==============================] - 25s 2ms/step - loss: 0.0184 - val_loss: 0.0411\n",
      "Epoch 5/5\n",
      "11036/11036 [==============================] - 24s 2ms/step - loss: 0.0203 - val_loss: 0.0247\n",
      "Train on 11064 samples, validate on 2767 samples\n",
      "Epoch 1/5\n",
      "11064/11064 [==============================] - 25s 2ms/step - loss: 0.0292 - val_loss: 0.0241\n",
      "Epoch 2/5\n",
      "11064/11064 [==============================] - 26s 2ms/step - loss: 0.0230 - val_loss: 0.0219\n",
      "Epoch 3/5\n",
      "11064/11064 [==============================] - 25s 2ms/step - loss: 0.0223 - val_loss: 0.0232\n",
      "Epoch 4/5\n",
      "11064/11064 [==============================] - 25s 2ms/step - loss: 0.0155 - val_loss: 0.0224\n",
      "Epoch 5/5\n",
      "11064/11064 [==============================] - 24s 2ms/step - loss: 0.0161 - val_loss: 0.0450\n",
      "Train on 10959 samples, validate on 2740 samples\n",
      "Epoch 1/5\n",
      "10959/10959 [==============================] - 23s 2ms/step - loss: 0.0364 - val_loss: 0.0276\n",
      "Epoch 2/5\n",
      "10959/10959 [==============================] - 27s 2ms/step - loss: 0.0272 - val_loss: 0.0233\n",
      "Epoch 3/5\n",
      "10959/10959 [==============================] - 25s 2ms/step - loss: 0.0226 - val_loss: 0.0376\n",
      "Epoch 4/5\n",
      "10959/10959 [==============================] - 24s 2ms/step - loss: 0.0200 - val_loss: 0.0433\n",
      "Epoch 5/5\n",
      "10959/10959 [==============================] - 24s 2ms/step - loss: 0.0152 - val_loss: 0.0257\n",
      "Train on 11020 samples, validate on 2756 samples\n",
      "Epoch 1/5\n",
      "11020/11020 [==============================] - 27s 2ms/step - loss: 0.0327 - val_loss: 0.0243\n",
      "Epoch 2/5\n",
      "11020/11020 [==============================] - 24s 2ms/step - loss: 0.0221 - val_loss: 0.0224\n",
      "Epoch 3/5\n",
      "11020/11020 [==============================] - 25s 2ms/step - loss: 0.0210 - val_loss: 0.0284\n",
      "Epoch 4/5\n",
      "11020/11020 [==============================] - 25s 2ms/step - loss: 0.0147 - val_loss: 0.0222\n",
      "Epoch 5/5\n",
      "11020/11020 [==============================] - 25s 2ms/step - loss: 0.0098 - val_loss: 0.0240\n",
      "Train on 10988 samples, validate on 2747 samples\n",
      "Epoch 1/5\n",
      "10988/10988 [==============================] - 24s 2ms/step - loss: 0.0375 - val_loss: 0.0245\n",
      "Epoch 2/5\n",
      "10988/10988 [==============================] - 28s 3ms/step - loss: 0.0219 - val_loss: 0.0243\n",
      "Epoch 3/5\n",
      "10988/10988 [==============================] - 25s 2ms/step - loss: 0.0184 - val_loss: 0.0229\n",
      "Epoch 4/5\n",
      "10988/10988 [==============================] - 24s 2ms/step - loss: 0.0123 - val_loss: 0.0242\n",
      "Epoch 5/5\n",
      "10988/10988 [==============================] - 24s 2ms/step - loss: 0.0106 - val_loss: 0.0290\n",
      "Train on 11041 samples, validate on 2761 samples\n",
      "Epoch 1/5\n",
      "11041/11041 [==============================] - 24s 2ms/step - loss: 0.0303 - val_loss: 0.0259\n",
      "Epoch 2/5\n",
      "11041/11041 [==============================] - 25s 2ms/step - loss: 0.0188 - val_loss: 0.0682\n",
      "Epoch 3/5\n",
      "11041/11041 [==============================] - 25s 2ms/step - loss: 0.0138 - val_loss: 0.0303\n",
      "Epoch 4/5\n",
      "11041/11041 [==============================] - 24s 2ms/step - loss: 0.0113 - val_loss: 0.0238\n",
      "Epoch 5/5\n",
      "11041/11041 [==============================] - 24s 2ms/step - loss: 0.0088 - val_loss: 0.0639\n",
      "Train on 11036 samples, validate on 2760 samples\n",
      "Epoch 1/5\n",
      "11036/11036 [==============================] - 24s 2ms/step - loss: 0.0230 - val_loss: 0.0316\n",
      "Epoch 2/5\n",
      "11036/11036 [==============================] - 25s 2ms/step - loss: 0.0145 - val_loss: 0.0229\n",
      "Epoch 3/5\n",
      "11036/11036 [==============================] - 25s 2ms/step - loss: 0.0110 - val_loss: 0.0245\n",
      "Epoch 4/5\n",
      "11036/11036 [==============================] - 25s 2ms/step - loss: 0.0091 - val_loss: 0.0245\n",
      "Epoch 5/5\n",
      "11036/11036 [==============================] - 24s 2ms/step - loss: 0.0074 - val_loss: 0.0400\n",
      "Train on 11064 samples, validate on 2767 samples\n",
      "Epoch 1/5\n",
      "11064/11064 [==============================] - 25s 2ms/step - loss: 0.0192 - val_loss: 0.0239\n",
      "Epoch 2/5\n",
      "11064/11064 [==============================] - 25s 2ms/step - loss: 0.0122 - val_loss: 0.0286\n",
      "Epoch 3/5\n",
      "11064/11064 [==============================] - 25s 2ms/step - loss: 0.0088 - val_loss: 0.0274\n",
      "Epoch 4/5\n",
      "11064/11064 [==============================] - 25s 2ms/step - loss: 0.0078 - val_loss: 0.0343\n",
      "Epoch 5/5\n",
      "11064/11064 [==============================] - 25s 2ms/step - loss: 0.0055 - val_loss: 0.0229\n",
      "Train on 10959 samples, validate on 2740 samples\n",
      "Epoch 1/5\n",
      "10959/10959 [==============================] - 23s 2ms/step - loss: 0.0242 - val_loss: 0.0228\n",
      "Epoch 2/5\n",
      "10959/10959 [==============================] - 26s 2ms/step - loss: 0.0144 - val_loss: 0.0221\n",
      "Epoch 3/5\n",
      "10959/10959 [==============================] - 25s 2ms/step - loss: 0.0104 - val_loss: 0.0217\n",
      "Epoch 4/5\n",
      "10959/10959 [==============================] - 24s 2ms/step - loss: 0.0071 - val_loss: 0.0251\n",
      "Epoch 5/5\n",
      "10959/10959 [==============================] - 25s 2ms/step - loss: 0.0053 - val_loss: 0.0349\n",
      "Train on 11020 samples, validate on 2756 samples\n",
      "Epoch 1/5\n",
      "11020/11020 [==============================] - 25s 2ms/step - loss: 0.0210 - val_loss: 0.0253\n",
      "Epoch 2/5\n",
      "11020/11020 [==============================] - 26s 2ms/step - loss: 0.0111 - val_loss: 0.0232\n",
      "Epoch 3/5\n",
      "11020/11020 [==============================] - 25s 2ms/step - loss: 0.0072 - val_loss: 0.0221\n",
      "Epoch 4/5\n",
      "11020/11020 [==============================] - 25s 2ms/step - loss: 0.0058 - val_loss: 0.0263\n",
      "Epoch 5/5\n",
      "11020/11020 [==============================] - 24s 2ms/step - loss: 0.0047 - val_loss: 0.0221\n",
      "Train on 10988 samples, validate on 2747 samples\n",
      "Epoch 1/5\n",
      "10988/10988 [==============================] - 24s 2ms/step - loss: 0.0239 - val_loss: 0.0246\n",
      "Epoch 2/5\n",
      "10988/10988 [==============================] - 25s 2ms/step - loss: 0.0133 - val_loss: 0.0385\n",
      "Epoch 3/5\n",
      "10988/10988 [==============================] - 26s 2ms/step - loss: 0.0071 - val_loss: 0.0271\n",
      "Epoch 4/5\n",
      "10988/10988 [==============================] - 25s 2ms/step - loss: 0.0052 - val_loss: 0.0250\n",
      "Epoch 5/5\n",
      "10988/10988 [==============================] - 25s 2ms/step - loss: 0.0040 - val_loss: 0.0239\n",
      "Train on 11041 samples, validate on 2761 samples\n",
      "Epoch 1/5\n",
      "11041/11041 [==============================] - 24s 2ms/step - loss: 0.0168 - val_loss: 0.0618\n",
      "Epoch 2/5\n",
      "11041/11041 [==============================] - 25s 2ms/step - loss: 0.0109 - val_loss: 0.0720\n",
      "Epoch 3/5\n",
      "11041/11041 [==============================] - 25s 2ms/step - loss: 0.0109 - val_loss: 0.0258\n",
      "Epoch 4/5\n",
      "11041/11041 [==============================] - 26s 2ms/step - loss: 0.0051 - val_loss: 0.0315\n",
      "Epoch 5/5\n",
      "11041/11041 [==============================] - 25s 2ms/step - loss: 0.0044 - val_loss: 0.0258\n",
      "Train on 11036 samples, validate on 2760 samples\n",
      "Epoch 1/5\n",
      "11036/11036 [==============================] - 25s 2ms/step - loss: 0.0127 - val_loss: 0.0242\n",
      "Epoch 2/5\n",
      "11036/11036 [==============================] - 24s 2ms/step - loss: 0.0072 - val_loss: 0.0236\n",
      "Epoch 3/5\n",
      "11036/11036 [==============================] - 26s 2ms/step - loss: 0.0050 - val_loss: 0.0242\n",
      "Epoch 4/5\n",
      "11036/11036 [==============================] - 25s 2ms/step - loss: 0.0040 - val_loss: 0.0246\n",
      "Epoch 5/5\n",
      "11036/11036 [==============================] - 24s 2ms/step - loss: 0.0030 - val_loss: 0.0265\n",
      "Train on 11064 samples, validate on 2767 samples\n",
      "Epoch 1/5\n",
      "11064/11064 [==============================] - 24s 2ms/step - loss: 0.0112 - val_loss: 0.0263\n",
      "Epoch 2/5\n",
      "11064/11064 [==============================] - 24s 2ms/step - loss: 0.0080 - val_loss: 0.0251\n",
      "Epoch 3/5\n",
      "11064/11064 [==============================] - 27s 2ms/step - loss: 0.0049 - val_loss: 0.0241\n",
      "Epoch 4/5\n",
      "11064/11064 [==============================] - 25s 2ms/step - loss: 0.0033 - val_loss: 0.0242\n",
      "Epoch 5/5\n",
      "11064/11064 [==============================] - 25s 2ms/step - loss: 0.0028 - val_loss: 0.0242\n",
      "Train on 10959 samples, validate on 2740 samples\n",
      "Epoch 1/5\n",
      "10959/10959 [==============================] - 24s 2ms/step - loss: 0.0144 - val_loss: 0.0229\n",
      "Epoch 2/5\n",
      "10959/10959 [==============================] - 25s 2ms/step - loss: 0.0068 - val_loss: 0.0236\n",
      "Epoch 3/5\n",
      "10959/10959 [==============================] - 26s 2ms/step - loss: 0.0048 - val_loss: 0.0214\n",
      "Epoch 4/5\n",
      "10959/10959 [==============================] - 25s 2ms/step - loss: 0.0035 - val_loss: 0.0223\n",
      "Epoch 5/5\n",
      "10959/10959 [==============================] - 24s 2ms/step - loss: 0.0023 - val_loss: 0.0230\n",
      "Train on 11020 samples, validate on 2756 samples\n",
      "Epoch 1/1\n",
      "11020/11020 [==============================] - 24s 2ms/step - loss: 0.0119 - val_loss: 0.0231\n",
      "Train on 10988 samples, validate on 2747 samples\n",
      "Epoch 1/1\n",
      "10988/10988 [==============================] - 24s 2ms/step - loss: 0.0138 - val_loss: 0.0385\n",
      "Train on 11041 samples, validate on 2761 samples\n",
      "Epoch 1/1\n",
      "11041/11041 [==============================] - 24s 2ms/step - loss: 0.0086 - val_loss: 0.0284\n",
      "Train on 11036 samples, validate on 2760 samples\n",
      "Epoch 1/1\n",
      "11036/11036 [==============================] - 24s 2ms/step - loss: 0.0066 - val_loss: 0.0247\n",
      "Train on 11064 samples, validate on 2767 samples\n",
      "Epoch 1/1\n",
      "11064/11064 [==============================] - 25s 2ms/step - loss: 0.0057 - val_loss: 0.0243\n",
      "Train on 10959 samples, validate on 2740 samples\n",
      "Epoch 1/1\n",
      "10959/10959 [==============================] - 24s 2ms/step - loss: 0.0056 - val_loss: 0.0238\n",
      "Train on 11020 samples, validate on 2756 samples\n",
      "Epoch 1/1\n",
      "11020/11020 [==============================] - 24s 2ms/step - loss: 0.0086 - val_loss: 0.0225\n"
     ]
    }
   ],
   "source": [
    "import gc\n",
    "for i in range(7):\n",
    "    for start, end in zip(rg[:-1], rg[1:]):\n",
    "        data_lpmt = np.load(LTRAIN + '1_' + str(start) +'without_noise_time_min_xu_l'+ '.npy')\n",
    "        ys = tr_true_info[(tr_true_info['evtID'] >= start) \n",
    "                            & (tr_true_info['evtID'] < end)]\n",
    "        mask = (ys.R <= MAXR)\n",
    "        data_lpmt = data_lpmt[mask]\n",
    "        y_val = ys[mask][['E']].values\n",
    "        \n",
    "        X_train, X_test, y_train, y_test = train_test_split(data_lpmt, y_val, test_size=0.2, random_state=45)\n",
    "        out = model.fit(X_train, y_train, batch_size=32, \n",
    "                epochs=epochs[i],\n",
    "                callbacks=[csv_logger, reduce_lr],\n",
    "                validation_data=(X_test, y_test),\n",
    "                shuffle=True)\n",
    "    gc.collect()"
   ]
  },
  {
   "cell_type": "code",
   "execution_count": 1,
   "metadata": {},
   "outputs": [
    {
     "data": {
      "text/plain": [
       "10"
      ]
     },
     "execution_count": 1,
     "metadata": {},
     "output_type": "execute_result"
    }
   ],
   "source": [
    "5+5"
   ]
  },
  {
   "cell_type": "code",
   "execution_count": null,
   "metadata": {},
   "outputs": [],
   "source": [
    "reduce_lr = keras.callbacks.LearningRateScheduler(lambda it: 1e-5, verbose=0)"
   ]
  },
  {
   "cell_type": "code",
   "execution_count": 4,
   "metadata": {},
   "outputs": [],
   "source": [
    "import pandas as pd\n",
    "import matplotlib.pyplot as plt"
   ]
  },
  {
   "cell_type": "code",
   "execution_count": 28,
   "metadata": {},
   "outputs": [],
   "source": [
    "cs = pd.read_csv(logdir, sep=';')[150:260]"
   ]
  },
  {
   "cell_type": "code",
   "execution_count": 29,
   "metadata": {},
   "outputs": [
    {
     "data": {
      "text/plain": [
       "(0, 10)"
      ]
     },
     "execution_count": 29,
     "metadata": {},
     "output_type": "execute_result"
    },
    {
     "data": {
      "image/png": "[encoded data removed]",
      "text/plain": [
       "<Figure size 432x288 with 1 Axes>"
      ]
     },
     "metadata": {
      "needs_background": "light"
     },
     "output_type": "display_data"
    }
   ],
   "source": [
    "plt.scatter(np.arange(0, cs.shape[0]), cs['val_loss'].values, alpha=0.5)\n",
    "plt.ylabel(\"val_loss\")\n",
    "plt.xlabel(\"step\")\n",
    "plt.ylim(0,10)"
   ]
  },
  {
   "cell_type": "code",
   "execution_count": 30,
   "metadata": {},
   "outputs": [
    {
     "data": {
      "text/plain": [
       "(0, 0.5)"
      ]
     },
     "execution_count": 30,
     "metadata": {},
     "output_type": "execute_result"
    },
    {
     "data": {
      "image/png": "[encoded data removed]",
      "text/plain": [
       "<Figure size 432x288 with 1 Axes>"
      ]
     },
     "metadata": {
      "needs_background": "light"
     },
     "output_type": "display_data"
    }
   ],
   "source": [
    "plt.scatter(np.arange(0, cs.shape[0]), cs['loss'].values, alpha=0.5)\n",
    "plt.ylabel(\"train_loss\")\n",
    "plt.xlabel(\"step\")\n",
    "plt.ylim(0,0.5)"
   ]
  },
  {
   "cell_type": "code",
   "execution_count": null,
   "metadata": {},
   "outputs": [],
   "source": [
    "model.save_weights('ResNet70.h5')"
   ]
  },
  {
   "cell_type": "code",
   "execution_count": null,
   "metadata": {},
   "outputs": [],
   "source": [
    "with open(\"ResNet70.json\", \"w\") as json_file:\n",
    "    json_file.write(model.to_json())"
   ]
  },
  {
   "cell_type": "code",
   "execution_count": 30,
   "metadata": {},
   "outputs": [],
   "source": [
    "from sklearn.metrics.pairwise import paired_euclidean_distances\n",
    "from sklearn.metrics import mean_squared_error"
   ]
  },
  {
   "cell_type": "code",
   "execution_count": 31,
   "metadata": {},
   "outputs": [],
   "source": [
    "preds = np.maximum(model.predict(X_test), 0)\n",
    "test_resultsE = mean_squared_error(preds[:,0], y_test[:,0])"
   ]
  },
  {
   "cell_type": "code",
   "execution_count": 32,
   "metadata": {},
   "outputs": [
    {
     "data": {
      "text/plain": [
       "0.017952209325700682"
      ]
     },
     "execution_count": 32,
     "metadata": {},
     "output_type": "execute_result"
    }
   ],
   "source": [
    "test_resultsE.mean()"
   ]
  },
  {
   "cell_type": "code",
   "execution_count": 33,
   "metadata": {},
   "outputs": [
    {
     "data": {
      "text/plain": [
       "(-0.05, 0.05)"
      ]
     },
     "execution_count": 33,
     "metadata": {},
     "output_type": "execute_result"
    },
    {
     "data": {
      "image/png": "[encoded data removed]",
      "text/plain": [
       "<Figure size 432x288 with 1 Axes>"
      ]
     },
     "metadata": {
      "needs_background": "light"
     },
     "output_type": "display_data"
    }
   ],
   "source": [
    "plt.hist((preds[:,0] - y_test[:,0])/y_test[:,0], bins=200)\n",
    "plt.xlim((-0.05,0.05))"
   ]
  },
  {
   "cell_type": "code",
   "execution_count": 34,
   "metadata": {},
   "outputs": [],
   "source": [
    "from tqdm import tqdm"
   ]
  },
  {
   "cell_type": "code",
   "execution_count": 35,
   "metadata": {},
   "outputs": [],
   "source": [
    "root_data_path = '/mnt/iprovilkov/data_dir/0MeV_lpmt_hits.h5'"
   ]
  },
  {
   "cell_type": "code",
   "execution_count": 37,
   "metadata": {},
   "outputs": [],
   "source": [
    "def test_sigmas(model, test_dir='/mnt/iprovilkov/data_dir/', test_column='E', MAXR=MAXR, use_spmt=True,\n",
    "                time=False, recompute=False):\n",
    "    sigmas = {}\n",
    "    MSEs = {}\n",
    "    predictions = {}\n",
    "    CONST = 1.022\n",
    "    for energy in tqdm(range(10)):\n",
    "        try:\n",
    "            if recompute:\n",
    "                raise Exception(\"Recompute\")\n",
    "            if time:\n",
    "                data_lpmt = np.load(test_dir + str(energy) + 'data_lpmt_time_YuXu.npy')\n",
    "            else:\n",
    "                data_lpmt = np.load(test_dir + str(energy) + 'data_lpmt_YuXu.npy')\n",
    "            true_info = pd.read_csv(TRAIN_DIR + str(energy)+'MeV_'+'true_info.csv')\n",
    "        except: \n",
    "            print(\"Compute...\")\n",
    "            lpmt_hits = pd.read_hdf(test_dir + str(energy)+'MeV_'+ 'lpmt_hits.h5', mode='r') \n",
    "            spmt_hits = pd.read_hdf(test_dir + str(energy)+'MeV_'+'spmt_hits.h5', mode='r')\n",
    "            lpmt_hits = lpmt_hits[lpmt_hits.isDN==False]\n",
    "            spmt_hits = spmt_hits[spmt_hits.isDN==False]\n",
    "            pos = pd.read_csv(TRAIN_DIR + str(energy)+'MeV_'+'lpmt_pos.csv') \n",
    "            spmt_pos = pd.read_csv(TRAIN_DIR + str(energy)+'MeV_'+'spmt_pos.csv') \n",
    "            true_info = pd.read_csv(TRAIN_DIR + str(energy)+'MeV_'+'true_info.csv')\n",
    "            if time:\n",
    "                data_lpmt, event_to_id = get_data_2dprojection(lpmt_hits, \n",
    "                                    spmt_hits, \n",
    "                                    pos, \n",
    "                                    true_info,\n",
    "                                    use_spmt=use_spmt,\n",
    "                                    time='min')\n",
    "                np.save(test_dir+str(energy)+'data_lpmt_time_YuXu', data_lpmt)\n",
    "            else:\n",
    "                data_lpmt, event_to_id = get_data_2dprojection(lpmt_hits, \n",
    "                                    spmt_hits, \n",
    "                                    pos, \n",
    "                                    true_info,\n",
    "                                    use_spmt=use_spmt)\n",
    "                np.save(test_dir+str(energy)+'data_lpmt_YuXu', data_lpmt)\n",
    "        mask = (true_info.R<=MAXR)\n",
    "        data_lpmt = data_lpmt[mask]\n",
    "        true_info = true_info[mask]\n",
    "        preds = np.maximum(model.predict(data_lpmt), 0)\n",
    "        y_test = true_info[test_column]\n",
    "        print(y_test.mean())\n",
    "        predictions[energy] = preds\n",
    "        MSEs[energy] = mean_squared_error(preds, y_test)\n",
    "        # in percents\n",
    "        sigmas[energy] = np.std(preds - y_test.mean()) / (energy + CONST)\n",
    "    print(\"+\")\n",
    "    return sigmas, MSEs, predictions"
   ]
  },
  {
   "cell_type": "code",
   "execution_count": 38,
   "metadata": {},
   "outputs": [
    {
     "name": "stderr",
     "output_type": "stream",
     "text": [
      "\r",
      "  0%|          | 0/10 [00:00<?, ?it/s]"
     ]
    },
    {
     "name": "stdout",
     "output_type": "stream",
     "text": [
      "Compute...\n",
      "Make projection\n",
      "Starting cycle...\n"
     ]
    },
    {
     "data": {
      "application/vnd.jupyter.widget-view+json": {
       "model_id": "50f0794fb3d541879f181c995360fb58",
       "version_major": 2,
       "version_minor": 0
      },
      "text/plain": [
       "HBox(children=(IntProgress(value=1, bar_style='info', max=1), HTML(value='')))"
      ]
     },
     "metadata": {},
     "output_type": "display_data"
    },
    {
     "name": "stdout",
     "output_type": "stream",
     "text": [
      "\n"
     ]
    },
    {
     "name": "stderr",
     "output_type": "stream",
     "text": [
      "\r",
      " 10%|█         | 1/10 [01:00<09:03, 60.36s/it]"
     ]
    },
    {
     "name": "stdout",
     "output_type": "stream",
     "text": [
      "0.5109988999999999\n",
      "Compute...\n",
      "Make projection\n",
      "Starting cycle...\n"
     ]
    },
    {
     "data": {
      "application/vnd.jupyter.widget-view+json": {
       "model_id": "69e054433af540c9a3f83d998f99114c",
       "version_major": 2,
       "version_minor": 0
      },
      "text/plain": [
       "HBox(children=(IntProgress(value=1, bar_style='info', max=1), HTML(value='')))"
      ]
     },
     "metadata": {},
     "output_type": "display_data"
    },
    {
     "name": "stdout",
     "output_type": "stream",
     "text": [
      "\n"
     ]
    },
    {
     "name": "stderr",
     "output_type": "stream",
     "text": [
      "\r",
      " 20%|██        | 2/10 [02:13<08:33, 64.13s/it]"
     ]
    },
    {
     "name": "stdout",
     "output_type": "stream",
     "text": [
      "1.5109988697622994\n",
      "Compute...\n",
      "Make projection\n",
      "Starting cycle...\n"
     ]
    },
    {
     "data": {
      "application/vnd.jupyter.widget-view+json": {
       "model_id": "d6fb15c32bf14a379feace1bf9af4c83",
       "version_major": 2,
       "version_minor": 0
      },
      "text/plain": [
       "HBox(children=(IntProgress(value=1, bar_style='info', max=1), HTML(value='')))"
      ]
     },
     "metadata": {},
     "output_type": "display_data"
    },
    {
     "name": "stdout",
     "output_type": "stream",
     "text": [
      "\n"
     ]
    },
    {
     "name": "stderr",
     "output_type": "stream",
     "text": [
      "\r",
      " 30%|███       | 3/10 [03:39<08:16, 70.87s/it]"
     ]
    },
    {
     "name": "stdout",
     "output_type": "stream",
     "text": [
      "2.5109990065502177\n",
      "Compute...\n",
      "Make projection\n",
      "Starting cycle...\n"
     ]
    },
    {
     "data": {
      "application/vnd.jupyter.widget-view+json": {
       "model_id": "d7c949e2fc7d4b3bba21b8424ded4e92",
       "version_major": 2,
       "version_minor": 0
      },
      "text/plain": [
       "HBox(children=(IntProgress(value=1, bar_style='info', max=1), HTML(value='')))"
      ]
     },
     "metadata": {},
     "output_type": "display_data"
    },
    {
     "name": "stdout",
     "output_type": "stream",
     "text": [
      "\n"
     ]
    },
    {
     "name": "stderr",
     "output_type": "stream",
     "text": [
      "\r",
      " 40%|████      | 4/10 [05:21<08:00, 80.13s/it]"
     ]
    },
    {
     "name": "stdout",
     "output_type": "stream",
     "text": [
      "3.5109988987951803\n",
      "Compute...\n",
      "Make projection\n",
      "Starting cycle...\n"
     ]
    },
    {
     "data": {
      "application/vnd.jupyter.widget-view+json": {
       "model_id": "871a6dc6ded44a11b5ed1aedc17aa86e",
       "version_major": 2,
       "version_minor": 0
      },
      "text/plain": [
       "HBox(children=(IntProgress(value=1, bar_style='info', max=1), HTML(value='')))"
      ]
     },
     "metadata": {},
     "output_type": "display_data"
    },
    {
     "name": "stdout",
     "output_type": "stream",
     "text": [
      "\n"
     ]
    },
    {
     "name": "stderr",
     "output_type": "stream",
     "text": [
      "\r",
      " 50%|█████     | 5/10 [07:17<07:33, 90.78s/it]"
     ]
    },
    {
     "name": "stdout",
     "output_type": "stream",
     "text": [
      "4.510998806956522\n",
      "Compute...\n",
      "Make projection\n",
      "Starting cycle...\n"
     ]
    },
    {
     "data": {
      "application/vnd.jupyter.widget-view+json": {
       "model_id": "4a2e635b110e416b9a136a69a98956a7",
       "version_major": 2,
       "version_minor": 0
      },
      "text/plain": [
       "HBox(children=(IntProgress(value=1, bar_style='info', max=1), HTML(value='')))"
      ]
     },
     "metadata": {},
     "output_type": "display_data"
    },
    {
     "name": "stdout",
     "output_type": "stream",
     "text": [
      "\n"
     ]
    },
    {
     "name": "stderr",
     "output_type": "stream",
     "text": [
      "\r",
      " 60%|██████    | 6/10 [09:25<06:48, 102.13s/it]"
     ]
    },
    {
     "name": "stdout",
     "output_type": "stream",
     "text": [
      "5.510998686870312\n",
      "Compute...\n",
      "Make projection\n",
      "Starting cycle...\n"
     ]
    },
    {
     "data": {
      "application/vnd.jupyter.widget-view+json": {
       "model_id": "54a377ef04a44090a45f5d800f9c2e9d",
       "version_major": 2,
       "version_minor": 0
      },
      "text/plain": [
       "HBox(children=(IntProgress(value=1, bar_style='info', max=1), HTML(value='')))"
      ]
     },
     "metadata": {},
     "output_type": "display_data"
    },
    {
     "name": "stdout",
     "output_type": "stream",
     "text": [
      "\n"
     ]
    },
    {
     "name": "stderr",
     "output_type": "stream",
     "text": [
      "\r",
      " 70%|███████   | 7/10 [11:45<05:40, 113.50s/it]"
     ]
    },
    {
     "name": "stdout",
     "output_type": "stream",
     "text": [
      "6.510998666593649\n",
      "Compute...\n",
      "Make projection\n",
      "Starting cycle...\n"
     ]
    },
    {
     "data": {
      "application/vnd.jupyter.widget-view+json": {
       "model_id": "ef1811188f7645ddb46af285edc91d7a",
       "version_major": 2,
       "version_minor": 0
      },
      "text/plain": [
       "HBox(children=(IntProgress(value=1, bar_style='info', max=1), HTML(value='')))"
      ]
     },
     "metadata": {},
     "output_type": "display_data"
    },
    {
     "name": "stdout",
     "output_type": "stream",
     "text": [
      "\n"
     ]
    },
    {
     "name": "stderr",
     "output_type": "stream",
     "text": [
      "\r",
      " 80%|████████  | 8/10 [14:16<04:09, 124.51s/it]"
     ]
    },
    {
     "name": "stdout",
     "output_type": "stream",
     "text": [
      "7.510998798899285\n",
      "Compute...\n",
      "Make projection\n",
      "Starting cycle...\n"
     ]
    },
    {
     "data": {
      "application/vnd.jupyter.widget-view+json": {
       "model_id": "fc41258d6ec3441f91fe1431266d2e4d",
       "version_major": 2,
       "version_minor": 0
      },
      "text/plain": [
       "HBox(children=(IntProgress(value=1, bar_style='info', max=1), HTML(value='')))"
      ]
     },
     "metadata": {},
     "output_type": "display_data"
    },
    {
     "name": "stdout",
     "output_type": "stream",
     "text": [
      "\n"
     ]
    },
    {
     "name": "stderr",
     "output_type": "stream",
     "text": [
      "\r",
      " 90%|█████████ | 9/10 [17:00<02:16, 136.50s/it]"
     ]
    },
    {
     "name": "stdout",
     "output_type": "stream",
     "text": [
      "8.510999212171052\n",
      "Compute...\n",
      "Make projection\n",
      "Starting cycle...\n"
     ]
    },
    {
     "data": {
      "application/vnd.jupyter.widget-view+json": {
       "model_id": "9e53d253d72645bbba856237e4151d2d",
       "version_major": 2,
       "version_minor": 0
      },
      "text/plain": [
       "HBox(children=(IntProgress(value=1, bar_style='info', max=1), HTML(value='')))"
      ]
     },
     "metadata": {},
     "output_type": "display_data"
    },
    {
     "name": "stdout",
     "output_type": "stream",
     "text": [
      "\n"
     ]
    },
    {
     "name": "stderr",
     "output_type": "stream",
     "text": [
      "\r",
      "100%|██████████| 10/10 [20:03<00:00, 150.57s/it]"
     ]
    },
    {
     "name": "stdout",
     "output_type": "stream",
     "text": [
      "9.510998837121212\n",
      "+\n"
     ]
    },
    {
     "name": "stderr",
     "output_type": "stream",
     "text": [
      "\n"
     ]
    }
   ],
   "source": [
    "sigmas, MSEs, predictions = test_sigmas(model, use_spmt=False, time=True, recompute=True)"
   ]
  },
  {
   "cell_type": "code",
   "execution_count": 41,
   "metadata": {},
   "outputs": [
    {
     "data": {
      "text/plain": [
       "({0: 0.0419280366013428,\n",
       "  1: 0.030064885343335616,\n",
       "  2: 0.024637122330959074,\n",
       "  3: 0.025843863372243144,\n",
       "  4: 0.02264239158064471,\n",
       "  5: 0.021284497465179908,\n",
       "  6: 0.02345127008199624,\n",
       "  7: 0.019266551285722078,\n",
       "  8: 0.019227727055153226,\n",
       "  9: 0.018848748210422817},\n",
       " {0: 0.00785320471695341,\n",
       "  1: 0.003705536978070747,\n",
       "  2: 0.005739267643567559,\n",
       "  3: 0.011141431965297056,\n",
       "  4: 0.01380134887427723,\n",
       "  5: 0.01658446326430096,\n",
       "  6: 0.027651218129726443,\n",
       "  7: 0.024080398235444826,\n",
       "  8: 0.030120290175814593,\n",
       "  9: 0.03744599026400079})"
      ]
     },
     "execution_count": 41,
     "metadata": {},
     "output_type": "execute_result"
    }
   ],
   "source": [
    "sigmas, MSEs"
   ]
  },
  {
   "cell_type": "code",
   "execution_count": 42,
   "metadata": {},
   "outputs": [],
   "source": [
    "a = 2.8\n",
    "b=0.59\n",
    "c=0\n"
   ]
  },
  {
   "cell_type": "code",
   "execution_count": 43,
   "metadata": {},
   "outputs": [
    {
     "data": {
      "text/plain": [
       "<matplotlib.legend.Legend at 0x7f3b7818e4a8>"
      ]
     },
     "execution_count": 43,
     "metadata": {},
     "output_type": "execute_result"
    },
    {
     "data": {
      "image/png": "[encoded data removed]",
      "text/plain": [
       "<Figure size 720x720 with 1 Axes>"
      ]
     },
     "metadata": {
      "needs_background": "light"
     },
     "output_type": "display_data"
    }
   ],
   "source": [
    "# Plot sigmas\n",
    "Evis = np.array([en + 1.022  for en in range(10)])\n",
    "Perc_sigmas = [sigmas[en] for en in range(10)]\n",
    "perc_3_sqrt_E = [0.03 / np.sqrt(en) for en in Evis]\n",
    "fig = plt.figure(figsize=(10,10))\n",
    "plt.scatter(Evis, Perc_sigmas, label='Our sigma')\n",
    "plt.scatter(Evis, perc_3_sqrt_E, label=r'$\\frac{0.03}{\\sqrt{E}}$')\n",
    "plt.scatter(Evis, 0.01*np.sqrt((a/np.sqrt(Evis))**2 + b**2 + (c/Evis)**2), label=r'$abc$')\n",
    "plt.ylabel(\"std in per cent\")\n",
    "plt.xlabel(\"E visual\")\n",
    "plt.legend(fontsize=15)"
   ]
  },
  {
   "cell_type": "code",
   "execution_count": null,
   "metadata": {},
   "outputs": [],
   "source": []
  },
  {
   "cell_type": "code",
   "execution_count": null,
   "metadata": {},
   "outputs": [],
   "source": []
  },
  {
   "cell_type": "code",
   "execution_count": null,
   "metadata": {},
   "outputs": [],
   "source": []
  },
  {
   "cell_type": "code",
   "execution_count": null,
   "metadata": {},
   "outputs": [],
   "source": []
  },
  {
   "cell_type": "code",
   "execution_count": null,
   "metadata": {},
   "outputs": [],
   "source": []
  },
  {
   "cell_type": "code",
   "execution_count": null,
   "metadata": {},
   "outputs": [],
   "source": []
  }
 ],
 "metadata": {
  "kernelspec": {
   "display_name": "Python 3",
   "language": "python",
   "name": "python3"
  },
  "language_info": {
   "codemirror_mode": {
    "name": "ipython",
    "version": 3
   },
   "file_extension": ".py",
   "mimetype": "text/x-python",
   "name": "python",
   "nbconvert_exporter": "python",
   "pygments_lexer": "ipython3",
   "version": "3.5.6"
  }
 },
 "nbformat": 4,
 "nbformat_minor": 2
}
