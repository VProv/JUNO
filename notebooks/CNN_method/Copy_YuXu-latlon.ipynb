{
 "cells": [
  {
   "cell_type": "code",
   "execution_count": 43,
   "metadata": {},
   "outputs": [],
   "source": [
    "# Preprocessing\n",
    "import pandas as pd\n",
    "import tables\n",
    "import time\n",
    "import numpy as np\n",
    "import gc\n",
    "from tqdm import tqdm_notebook\n",
    "from data_processing_xu import get_data_2dprojection\n",
    "import os\n",
    "import matplotlib.pyplot as plt"
   ]
  },
  {
   "cell_type": "code",
   "execution_count": 5,
   "metadata": {},
   "outputs": [],
   "source": [
    "import pandas as pd\n",
    "import numpy as np\n",
    "from pyproj import Proj, transform\n",
    "from tqdm import tqdm_notebook\n",
    "EPS = 1e-7\n",
    "\n",
    "def lat(x,y,z):\n",
    "    return np.arcsin(z/np.sqrt(x**2 + y**2 + z**2))\n",
    "\n",
    "def lon(x,y,z):\n",
    "    return np.arctan2(y,x)\n",
    "\n",
    "\n",
    "def get_data_2dprojection_lat_lon(lpmt_hits, spmt_hits, pos, true_info, edge_size1=111, edge_size2=226, use_spmt=False, time=None):\n",
    "    \"\"\"\n",
    "    Transfer data into 2d projection (moll) with 1 channel\n",
    "    Params:\n",
    "    ..., \n",
    "    edge_size : int - projection image size, \n",
    "    use_spmt : bool \n",
    "    \n",
    "    Returns:\n",
    "    data_lpmt: pd.DataFrame\n",
    "    event_to_id: dict\n",
    "    \"\"\"\n",
    "    channels = 1\n",
    "    if time == 'min':\n",
    "        channels = 2\n",
    "        \n",
    "    pos['lat'] = list(map(lambda el: lat(el[0],el[1],el[2]), zip(pos['pmt_x'], pos['pmt_y'], pos['pmt_z'])))\n",
    "    pos['lon'] = list(map(lambda el: lon(el[0],el[1],el[2]), zip(pos['pmt_x'], pos['pmt_y'], pos['pmt_z'])))\n",
    "    print(\"Make projection\")\n",
    "    if use_spmt:\n",
    "        lpmt_hits = pd.concat([lpmt_hits, spmt_hits])\n",
    "    merged_hits = pd.merge(lpmt_hits, pos, left_on='pmtID', right_on='pmt_id')\n",
    "    EPS = 1e-7\n",
    "    mol0min = -np.pi/2 - EPS\n",
    "    mol0max = np.pi/2 + EPS\n",
    "    mol1min = -np.pi - EPS\n",
    "    mol1max = np.pi + EPS\n",
    "    # Fit coordinates\n",
    "    merged_hits['mol0i'] = round((merged_hits['lat'] - mol0min) / (mol0max - mol0min) * (edge_size1 - 1)).astype(int)\n",
    "    merged_hits['mol1i'] = round((merged_hits['lon'] - mol1min) / (mol1max - mol1min) * (edge_size2 - 1)).astype(int)\n",
    "    \n",
    "    n = len(lpmt_hits['event'].unique())\n",
    "    data_lpmt = np.zeros((n, edge_size1, edge_size2, channels))\n",
    "    \n",
    "    event_to_id = {x:y for y, x in enumerate(sorted(merged_hits['event'].unique()))}\n",
    "    print(\"Starting cycle...\")\n",
    "    if time is None:\n",
    "        for event, mol0i, mol1i in tqdm_notebook(zip(merged_hits['event'], merged_hits['mol0i'], merged_hits['mol1i'])):\n",
    "            data_lpmt[event_to_id[event]][mol0i, mol1i] += 1\n",
    "    elif time == 'min':\n",
    "        data_lpmt[:,:,:,1] = -EPS\n",
    "        # Calculate min time for each event\n",
    "        ev_min = merged_hits[['event', 'hitTime']].groupby('event').min()\n",
    "        event2min = {id_: min_ for id_, min_ in zip(ev_min.index, ev_min.hitTime)}\n",
    "        ev_len = merged_hits[['event', 'hitTime']].groupby('event').count()\n",
    "        event2len = {id_: len_ for id_, len_ in zip(ev_len.index, ev_len.hitTime)}\n",
    "        \n",
    "        for event, mol0i, mol1i, time in tqdm_notebook(zip(merged_hits['event'], merged_hits['mol0i'], merged_hits['mol1i'], merged_hits['hitTime'])):\n",
    "            event_id = event_to_id[event]\n",
    "            data_lpmt[event_id][mol0i, mol1i][0] += 1 * 1000 / event2len[event]\n",
    "            event_min = event2min[event]\n",
    "            cur_min = data_lpmt[event_id][mol0i, mol1i][1] \n",
    "            if cur_min < 0 or cur_min > (time/100 - event_min/100):\n",
    "                data_lpmt[event_id][mol0i, mol1i][1] = (time - event_min)/100\n",
    "    return data_lpmt, event_to_id\n"
   ]
  },
  {
   "cell_type": "code",
   "execution_count": 6,
   "metadata": {},
   "outputs": [],
   "source": [
    "#DATA_DIR = '/storage/home/vprov/JUNO/JUNO_students/data/'\n",
    "#TRAIN_DIR = '/srv/hd5/data/vprov/data/phase_1/train/'\n",
    "TRAIN_DIR = '~/data/data_dir/'\n",
    "tr_lpmt_hits = pd.read_hdf(TRAIN_DIR + 'lpmt_hits.h5', mode='r') \n",
    "tr_spmt_hits = pd.read_hdf(TRAIN_DIR + 'spmt_hits.h5', mode='r')\n",
    "tr_pos = pd.read_csv(TRAIN_DIR + 'lpmt_pos.csv') \n",
    "tr_spmt_pos = pd.read_csv(TRAIN_DIR + 'spmt_pos.csv') \n",
    "tr_true_info = pd.read_csv(TRAIN_DIR + 'true_info.csv')"
   ]
  },
  {
   "cell_type": "code",
   "execution_count": 10,
   "metadata": {},
   "outputs": [],
   "source": [
    "rg = np.arange(0,100000,15000)"
   ]
  },
  {
   "cell_type": "code",
   "execution_count": 7,
   "metadata": {},
   "outputs": [],
   "source": [
    "MAXR=17200"
   ]
  },
  {
   "cell_type": "code",
   "execution_count": 8,
   "metadata": {},
   "outputs": [],
   "source": [
    "LTRAIN = '/mnt/iprovilkov/data_dir/npdata/'"
   ]
  },
  {
   "cell_type": "code",
   "execution_count": 11,
   "metadata": {},
   "outputs": [
    {
     "name": "stdout",
     "output_type": "stream",
     "text": [
      "Make projection\n",
      "Starting cycle...\n"
     ]
    },
    {
     "data": {
      "application/vnd.jupyter.widget-view+json": {
       "model_id": "0e6377df0c8549de8309978ddb97da5f",
       "version_major": 2,
       "version_minor": 0
      },
      "text/plain": [
       "HBox(children=(IntProgress(value=1, bar_style='info', max=1), HTML(value='')))"
      ]
     },
     "metadata": {},
     "output_type": "display_data"
    },
    {
     "name": "stdout",
     "output_type": "stream",
     "text": [
      "\n",
      "Make projection\n",
      "Starting cycle...\n"
     ]
    },
    {
     "data": {
      "application/vnd.jupyter.widget-view+json": {
       "model_id": "ed28dedb1f614cc59a4070897ce53daf",
       "version_major": 2,
       "version_minor": 0
      },
      "text/plain": [
       "HBox(children=(IntProgress(value=1, bar_style='info', max=1), HTML(value='')))"
      ]
     },
     "metadata": {},
     "output_type": "display_data"
    },
    {
     "name": "stdout",
     "output_type": "stream",
     "text": [
      "\n",
      "Make projection\n",
      "Starting cycle...\n"
     ]
    },
    {
     "data": {
      "application/vnd.jupyter.widget-view+json": {
       "model_id": "26037254b84b4bc4ab3512d563eec337",
       "version_major": 2,
       "version_minor": 0
      },
      "text/plain": [
       "HBox(children=(IntProgress(value=1, bar_style='info', max=1), HTML(value='')))"
      ]
     },
     "metadata": {},
     "output_type": "display_data"
    },
    {
     "name": "stdout",
     "output_type": "stream",
     "text": [
      "\n",
      "Make projection\n",
      "Starting cycle...\n"
     ]
    },
    {
     "data": {
      "application/vnd.jupyter.widget-view+json": {
       "model_id": "75cd3014bead4c18b5dc703c7f31277b",
       "version_major": 2,
       "version_minor": 0
      },
      "text/plain": [
       "HBox(children=(IntProgress(value=1, bar_style='info', max=1), HTML(value='')))"
      ]
     },
     "metadata": {},
     "output_type": "display_data"
    },
    {
     "name": "stdout",
     "output_type": "stream",
     "text": [
      "\n",
      "Make projection\n",
      "Starting cycle...\n"
     ]
    },
    {
     "data": {
      "application/vnd.jupyter.widget-view+json": {
       "model_id": "1486cb33f3ef484a95f27d83342c188e",
       "version_major": 2,
       "version_minor": 0
      },
      "text/plain": [
       "HBox(children=(IntProgress(value=1, bar_style='info', max=1), HTML(value='')))"
      ]
     },
     "metadata": {},
     "output_type": "display_data"
    },
    {
     "name": "stdout",
     "output_type": "stream",
     "text": [
      "\n",
      "Make projection\n",
      "Starting cycle...\n"
     ]
    },
    {
     "data": {
      "application/vnd.jupyter.widget-view+json": {
       "model_id": "1d0a3d90c7014d8cbbdf0a49ad9a9da5",
       "version_major": 2,
       "version_minor": 0
      },
      "text/plain": [
       "HBox(children=(IntProgress(value=1, bar_style='info', max=1), HTML(value='')))"
      ]
     },
     "metadata": {},
     "output_type": "display_data"
    },
    {
     "name": "stdout",
     "output_type": "stream",
     "text": [
      "\n"
     ]
    }
   ],
   "source": [
    "for start, end  in zip(rg[:-1], rg[1:]):\n",
    "    data_lpmt, event_to_id = get_data_2dprojection_lat_lon(tr_lpmt_hits[(tr_lpmt_hits['event'] >= start) & (tr_lpmt_hits['event'] < end)\n",
    "                                                                & (tr_lpmt_hits['isDN'] == False)], \n",
    "                                                tr_spmt_hits[(tr_spmt_hits['event'] >= start) & (tr_spmt_hits['event'] < end) \n",
    "                                                            & (tr_spmt_hits['isDN'] == False)], \n",
    "                                                tr_pos, \n",
    "                                                tr_true_info[(tr_true_info.R<=MAXR) \n",
    "                                                             & (tr_true_info['evtID'] >= start) \n",
    "                                                             & (tr_true_info['evtID'] < end)],\n",
    "                                                use_spmt=False,\n",
    "                                                time='min')\n",
    "    np.save(LTRAIN + '1_' + str(start) + 'without_noise' + '_time_min_xu', data_lpmt)"
   ]
  },
  {
   "cell_type": "code",
   "execution_count": 16,
   "metadata": {},
   "outputs": [
    {
     "data": {
      "text/plain": [
       "<matplotlib.image.AxesImage at 0x7f58f2e6e978>"
      ]
     },
     "execution_count": 16,
     "metadata": {},
     "output_type": "execute_result"
    },
    {
     "data": {
      "image/png": "[encoded data removed]",
      "text/plain": [
       "<Figure size 720x576 with 1 Axes>"
      ]
     },
     "metadata": {
      "needs_background": "light"
     },
     "output_type": "display_data"
    }
   ],
   "source": [
    "fig = plt.figure(figsize=(10,8))\n",
    "plt.imshow(data_lpmt[50][:,:,1])"
   ]
  },
  {
   "cell_type": "code",
   "execution_count": 17,
   "metadata": {},
   "outputs": [],
   "source": [
    "import numpy as np\n",
    "import os\n",
    "from sklearn.model_selection import train_test_split\n",
    "import tensorflow as tf"
   ]
  },
  {
   "cell_type": "code",
   "execution_count": 19,
   "metadata": {},
   "outputs": [],
   "source": [
    "os.environ[\"CUDA_DEVICE_ORDER\"]=\"PCI_BUS_ID\"\n",
    "os.environ[\"CUDA_VISIBLE_DEVICES\"]=\"1\""
   ]
  },
  {
   "cell_type": "code",
   "execution_count": 20,
   "metadata": {},
   "outputs": [],
   "source": [
    "import tensorflow as tf\n",
    "sess = tf.Session(config=tf.ConfigProto(log_device_placement=True))"
   ]
  },
  {
   "cell_type": "code",
   "execution_count": 21,
   "metadata": {},
   "outputs": [
    {
     "name": "stderr",
     "output_type": "stream",
     "text": [
      "Using TensorFlow backend.\n"
     ]
    }
   ],
   "source": [
    "import keras\n",
    "import keras.layers as L\n",
    "from keras.models import Sequential"
   ]
  },
  {
   "cell_type": "code",
   "execution_count": 22,
   "metadata": {},
   "outputs": [],
   "source": [
    "model = Sequential()\n",
    "model.add(L.Conv2D(filters=32, kernel_size=(3,3),activation='relu', strides=(1,1)))\n",
    "model.add(L.MaxPool2D(strides=(2,2)))\n",
    "model.add(L.Conv2D(filters=64, kernel_size=(3,3),activation='relu', strides=(1,1)))\n",
    "model.add(L.MaxPool2D(strides=(2,2)))\n",
    "model.add(L.Conv2D(filters=128, kernel_size=(3,3),activation='relu', strides=(1,1)))\n",
    "model.add(L.MaxPool2D(strides=(2,2)))\n",
    "model.add(L.Conv2D(filters=256, kernel_size=(3,3),activation='relu'))\n",
    "model.add(L.Flatten())\n",
    "model.add(L.Dense(512, activation='relu'))\n",
    "model.add(L.Dense(256, activation='relu'))\n",
    "model.add(L.Dense(1))"
   ]
  },
  {
   "cell_type": "code",
   "execution_count": 23,
   "metadata": {},
   "outputs": [
    {
     "name": "stdout",
     "output_type": "stream",
     "text": [
      "_________________________________________________________________\n",
      "Layer (type)                 Output Shape              Param #   \n",
      "=================================================================\n",
      "conv2d_1 (Conv2D)            (None, 109, 224, 32)      608       \n",
      "_________________________________________________________________\n",
      "max_pooling2d_1 (MaxPooling2 (None, 54, 112, 32)       0         \n",
      "_________________________________________________________________\n",
      "conv2d_2 (Conv2D)            (None, 52, 110, 64)       18496     \n",
      "_________________________________________________________________\n",
      "max_pooling2d_2 (MaxPooling2 (None, 26, 55, 64)        0         \n",
      "_________________________________________________________________\n",
      "conv2d_3 (Conv2D)            (None, 24, 53, 128)       73856     \n",
      "_________________________________________________________________\n",
      "max_pooling2d_3 (MaxPooling2 (None, 12, 26, 128)       0         \n",
      "_________________________________________________________________\n",
      "conv2d_4 (Conv2D)            (None, 10, 24, 256)       295168    \n",
      "_________________________________________________________________\n",
      "flatten_1 (Flatten)          (None, 61440)             0         \n",
      "_________________________________________________________________\n",
      "dense_1 (Dense)              (None, 512)               31457792  \n",
      "_________________________________________________________________\n",
      "dense_2 (Dense)              (None, 256)               131328    \n",
      "_________________________________________________________________\n",
      "dense_3 (Dense)              (None, 1)                 257       \n",
      "=================================================================\n",
      "Total params: 31,977,505\n",
      "Trainable params: 31,977,505\n",
      "Non-trainable params: 0\n",
      "_________________________________________________________________\n"
     ]
    }
   ],
   "source": [
    "from keras.optimizers import Adam\n",
    "opt = Adam(decay=1e-4)\n",
    "model.compile(loss='mean_squared_error', optimizer=opt)\n",
    "model.build(input_shape=(None, 111,226,2))\n",
    "model.summary()"
   ]
  },
  {
   "cell_type": "code",
   "execution_count": 24,
   "metadata": {},
   "outputs": [],
   "source": [
    "logdir = 'log_YuXu_lat.csv'"
   ]
  },
  {
   "cell_type": "code",
   "execution_count": 25,
   "metadata": {},
   "outputs": [],
   "source": [
    "from keras.callbacks import CSVLogger\n",
    "\n",
    "csv_logger = CSVLogger(logdir, append=True, separator=';')"
   ]
  },
  {
   "cell_type": "code",
   "execution_count": 26,
   "metadata": {},
   "outputs": [],
   "source": [
    "from keras.callbacks import ReduceLROnPlateau\n",
    "reduce_lr = ReduceLROnPlateau(monitor='val_loss', factor=0.2,\n",
    "                              patience=5, min_lr=0.000001)"
   ]
  },
  {
   "cell_type": "code",
   "execution_count": 27,
   "metadata": {},
   "outputs": [],
   "source": [
    "epochs = [5,3,3,1,1,1,1]"
   ]
  },
  {
   "cell_type": "code",
   "execution_count": 28,
   "metadata": {
    "scrolled": true
   },
   "outputs": [
    {
     "name": "stdout",
     "output_type": "stream",
     "text": [
      "Train on 11020 samples, validate on 2756 samples\n",
      "Epoch 1/5\n",
      "11020/11020 [==============================] - 51s 5ms/step - loss: 1.8868 - val_loss: 0.1686\n",
      "Epoch 2/5\n",
      "11020/11020 [==============================] - 47s 4ms/step - loss: 0.1675 - val_loss: 0.1364\n",
      "Epoch 3/5\n",
      "11020/11020 [==============================] - 46s 4ms/step - loss: 0.1140 - val_loss: 0.0882\n",
      "Epoch 4/5\n",
      "11020/11020 [==============================] - 47s 4ms/step - loss: 0.1013 - val_loss: 0.1679\n",
      "Epoch 5/5\n",
      "11020/11020 [==============================] - 46s 4ms/step - loss: 0.0836 - val_loss: 0.0570\n",
      "Train on 10988 samples, validate on 2747 samples\n",
      "Epoch 1/5\n",
      "10988/10988 [==============================] - 47s 4ms/step - loss: 0.0565 - val_loss: 0.0559\n",
      "Epoch 2/5\n",
      "10988/10988 [==============================] - 48s 4ms/step - loss: 0.0633 - val_loss: 0.0280\n",
      "Epoch 3/5\n",
      "10988/10988 [==============================] - 47s 4ms/step - loss: 0.0526 - val_loss: 0.0291\n",
      "Epoch 4/5\n",
      "10988/10988 [==============================] - 46s 4ms/step - loss: 0.0530 - val_loss: 0.0836\n",
      "Epoch 5/5\n",
      "10988/10988 [==============================] - 46s 4ms/step - loss: 0.0493 - val_loss: 0.0248\n",
      "Train on 11041 samples, validate on 2761 samples\n",
      "Epoch 1/5\n",
      "11041/11041 [==============================] - 46s 4ms/step - loss: 0.0476 - val_loss: 0.0246\n",
      "Epoch 2/5\n",
      "11041/11041 [==============================] - 48s 4ms/step - loss: 0.0401 - val_loss: 0.3059\n",
      "Epoch 3/5\n",
      "11041/11041 [==============================] - 49s 4ms/step - loss: 0.0416 - val_loss: 0.1508\n",
      "Epoch 4/5\n",
      "11041/11041 [==============================] - 47s 4ms/step - loss: 0.0399 - val_loss: 0.0770\n",
      "Epoch 5/5\n",
      "11041/11041 [==============================] - 47s 4ms/step - loss: 0.0360 - val_loss: 1.1683\n",
      "Train on 11036 samples, validate on 2760 samples\n",
      "Epoch 1/5\n",
      "11036/11036 [==============================] - 46s 4ms/step - loss: 0.0532 - val_loss: 0.0727\n",
      "Epoch 2/5\n",
      "11036/11036 [==============================] - 47s 4ms/step - loss: 0.0404 - val_loss: 0.0484\n",
      "Epoch 3/5\n",
      "11036/11036 [==============================] - 47s 4ms/step - loss: 0.0287 - val_loss: 0.0276\n",
      "Epoch 4/5\n",
      "11036/11036 [==============================] - 47s 4ms/step - loss: 0.0280 - val_loss: 0.0470\n",
      "Epoch 5/5\n",
      "11036/11036 [==============================] - 46s 4ms/step - loss: 0.0284 - val_loss: 0.0255\n",
      "Train on 11064 samples, validate on 2767 samples\n",
      "Epoch 1/5\n",
      "11064/11064 [==============================] - 48s 4ms/step - loss: 0.0303 - val_loss: 0.0192\n",
      "Epoch 2/5\n",
      "11064/11064 [==============================] - 52s 5ms/step - loss: 0.0287 - val_loss: 0.0290\n",
      "Epoch 3/5\n",
      "11064/11064 [==============================] - 47s 4ms/step - loss: 0.0262 - val_loss: 0.0195\n",
      "Epoch 4/5\n",
      "11064/11064 [==============================] - 47s 4ms/step - loss: 0.0227 - val_loss: 0.0214\n",
      "Epoch 5/5\n",
      "11064/11064 [==============================] - 45s 4ms/step - loss: 0.0231 - val_loss: 0.0309\n",
      "Train on 10959 samples, validate on 2740 samples\n",
      "Epoch 1/5\n",
      "10959/10959 [==============================] - 38s 3ms/step - loss: 0.0405 - val_loss: 0.0177\n",
      "Epoch 2/5\n",
      "10959/10959 [==============================] - 39s 4ms/step - loss: 0.0343 - val_loss: 0.0175\n",
      "Epoch 3/5\n",
      "10959/10959 [==============================] - 39s 4ms/step - loss: 0.0320 - val_loss: 0.0248\n",
      "Epoch 4/5\n",
      "10959/10959 [==============================] - 39s 4ms/step - loss: 0.0296 - val_loss: 0.0171\n",
      "Epoch 5/5\n",
      "10959/10959 [==============================] - 38s 3ms/step - loss: 0.0263 - val_loss: 0.0331\n",
      "Train on 11020 samples, validate on 2756 samples\n",
      "Epoch 1/3\n",
      "11020/11020 [==============================] - 38s 3ms/step - loss: 0.0292 - val_loss: 0.0227\n",
      "Epoch 2/3\n",
      "11020/11020 [==============================] - 40s 4ms/step - loss: 0.0330 - val_loss: 0.0405\n",
      "Epoch 3/3\n",
      "11020/11020 [==============================] - 39s 4ms/step - loss: 0.0265 - val_loss: 0.0323\n",
      "Train on 10988 samples, validate on 2747 samples\n",
      "Epoch 1/3\n",
      "10988/10988 [==============================] - 39s 4ms/step - loss: 0.0353 - val_loss: 0.0197\n",
      "Epoch 2/3\n",
      "10988/10988 [==============================] - 41s 4ms/step - loss: 0.0291 - val_loss: 0.0181\n",
      "Epoch 3/3\n",
      "10988/10988 [==============================] - 41s 4ms/step - loss: 0.0297 - val_loss: 0.0327\n",
      "Train on 11041 samples, validate on 2761 samples\n",
      "Epoch 1/3\n",
      "11041/11041 [==============================] - 40s 4ms/step - loss: 0.0257 - val_loss: 0.0175\n",
      "Epoch 2/3\n",
      "11041/11041 [==============================] - 41s 4ms/step - loss: 0.0244 - val_loss: 0.0181\n",
      "Epoch 3/3\n",
      "11041/11041 [==============================] - 41s 4ms/step - loss: 0.0254 - val_loss: 0.0184\n",
      "Train on 11036 samples, validate on 2760 samples\n",
      "Epoch 1/3\n",
      "11036/11036 [==============================] - 41s 4ms/step - loss: 0.0217 - val_loss: 0.0173\n",
      "Epoch 2/3\n",
      "11036/11036 [==============================] - 41s 4ms/step - loss: 0.0192 - val_loss: 0.0345\n",
      "Epoch 3/3\n",
      "11036/11036 [==============================] - 41s 4ms/step - loss: 0.0217 - val_loss: 0.0158\n",
      "Train on 11064 samples, validate on 2767 samples\n",
      "Epoch 1/3\n",
      "11064/11064 [==============================] - 40s 4ms/step - loss: 0.0200 - val_loss: 0.0305\n",
      "Epoch 2/3\n",
      "11064/11064 [==============================] - 41s 4ms/step - loss: 0.0167 - val_loss: 0.0160\n",
      "Epoch 3/3\n",
      "11064/11064 [==============================] - 41s 4ms/step - loss: 0.0166 - val_loss: 0.0304\n",
      "Train on 10959 samples, validate on 2740 samples\n",
      "Epoch 1/3\n",
      "10959/10959 [==============================] - 40s 4ms/step - loss: 0.0275 - val_loss: 0.0227\n",
      "Epoch 2/3\n",
      "10959/10959 [==============================] - 41s 4ms/step - loss: 0.0235 - val_loss: 0.0165\n",
      "Epoch 3/3\n",
      "10959/10959 [==============================] - 41s 4ms/step - loss: 0.0246 - val_loss: 0.0316\n",
      "Train on 11020 samples, validate on 2756 samples\n",
      "Epoch 1/3\n",
      "11020/11020 [==============================] - 41s 4ms/step - loss: 0.0267 - val_loss: 0.0297\n",
      "Epoch 2/3\n",
      "11020/11020 [==============================] - 42s 4ms/step - loss: 0.0221 - val_loss: 0.0149\n",
      "Epoch 3/3\n",
      "11020/11020 [==============================] - 41s 4ms/step - loss: 0.0219 - val_loss: 0.0196\n",
      "Train on 10988 samples, validate on 2747 samples\n",
      "Epoch 1/3\n",
      "10988/10988 [==============================] - 41s 4ms/step - loss: 0.0289 - val_loss: 0.0433\n",
      "Epoch 2/3\n",
      "10988/10988 [==============================] - 44s 4ms/step - loss: 0.0212 - val_loss: 0.0177\n",
      "Epoch 3/3\n",
      "10988/10988 [==============================] - 43s 4ms/step - loss: 0.0166 - val_loss: 0.0542\n",
      "Train on 11041 samples, validate on 2761 samples\n",
      "Epoch 1/3\n",
      "11041/11041 [==============================] - 41s 4ms/step - loss: 0.0258 - val_loss: 0.1894\n",
      "Epoch 2/3\n",
      "11041/11041 [==============================] - 41s 4ms/step - loss: 0.0239 - val_loss: 0.0179\n",
      "Epoch 3/3\n",
      "11041/11041 [==============================] - 42s 4ms/step - loss: 0.0179 - val_loss: 0.0294\n",
      "Train on 11036 samples, validate on 2760 samples\n",
      "Epoch 1/3\n",
      "11036/11036 [==============================] - 41s 4ms/step - loss: 0.0184 - val_loss: 0.0164\n",
      "Epoch 2/3\n",
      "11036/11036 [==============================] - 43s 4ms/step - loss: 0.0165 - val_loss: 0.0155\n",
      "Epoch 3/3\n",
      "11036/11036 [==============================] - 42s 4ms/step - loss: 0.0172 - val_loss: 0.0732\n",
      "Train on 11064 samples, validate on 2767 samples\n",
      "Epoch 1/3\n",
      "11064/11064 [==============================] - 41s 4ms/step - loss: 0.0166 - val_loss: 0.0160\n",
      "Epoch 2/3\n",
      "11064/11064 [==============================] - 42s 4ms/step - loss: 0.0143 - val_loss: 0.0190\n",
      "Epoch 3/3\n",
      "11064/11064 [==============================] - 42s 4ms/step - loss: 0.0148 - val_loss: 0.0166\n",
      "Train on 10959 samples, validate on 2740 samples\n",
      "Epoch 1/3\n",
      "10959/10959 [==============================] - 40s 4ms/step - loss: 0.0223 - val_loss: 0.0172\n",
      "Epoch 2/3\n",
      "10959/10959 [==============================] - 42s 4ms/step - loss: 0.0182 - val_loss: 0.0147\n",
      "Epoch 3/3\n",
      "10959/10959 [==============================] - 42s 4ms/step - loss: 0.0151 - val_loss: 0.0148\n",
      "Train on 11020 samples, validate on 2756 samples\n",
      "Epoch 1/1\n",
      "11020/11020 [==============================] - 41s 4ms/step - loss: 0.0231 - val_loss: 0.0244\n",
      "Train on 10988 samples, validate on 2747 samples\n",
      "Epoch 1/1\n",
      "10988/10988 [==============================] - 40s 4ms/step - loss: 0.0213 - val_loss: 0.0195\n",
      "Train on 11041 samples, validate on 2761 samples\n",
      "Epoch 1/1\n",
      "11041/11041 [==============================] - 41s 4ms/step - loss: 0.0190 - val_loss: 0.0161\n"
     ]
    },
    {
     "name": "stdout",
     "output_type": "stream",
     "text": [
      "Train on 11036 samples, validate on 2760 samples\n",
      "Epoch 1/1\n",
      "11036/11036 [==============================] - 42s 4ms/step - loss: 0.0160 - val_loss: 0.0160\n",
      "Train on 11064 samples, validate on 2767 samples\n",
      "Epoch 1/1\n",
      "11064/11064 [==============================] - 41s 4ms/step - loss: 0.0137 - val_loss: 0.0203\n",
      "Train on 10959 samples, validate on 2740 samples\n",
      "Epoch 1/1\n",
      "10959/10959 [==============================] - 41s 4ms/step - loss: 0.0165 - val_loss: 0.0146\n",
      "Train on 11020 samples, validate on 2756 samples\n",
      "Epoch 1/1\n",
      "11020/11020 [==============================] - 41s 4ms/step - loss: 0.0194 - val_loss: 0.0140\n",
      "Train on 10988 samples, validate on 2747 samples\n",
      "Epoch 1/1\n",
      "10988/10988 [==============================] - 41s 4ms/step - loss: 0.0172 - val_loss: 0.0141\n",
      "Train on 11041 samples, validate on 2761 samples\n",
      "Epoch 1/1\n",
      "11041/11041 [==============================] - 41s 4ms/step - loss: 0.0179 - val_loss: 0.0178\n",
      "Train on 11036 samples, validate on 2760 samples\n",
      "Epoch 1/1\n",
      "11036/11036 [==============================] - 41s 4ms/step - loss: 0.0154 - val_loss: 0.0362\n",
      "Train on 11064 samples, validate on 2767 samples\n",
      "Epoch 1/1\n",
      "11064/11064 [==============================] - 42s 4ms/step - loss: 0.0121 - val_loss: 0.0176\n",
      "Train on 10959 samples, validate on 2740 samples\n",
      "Epoch 1/1\n",
      "10959/10959 [==============================] - 41s 4ms/step - loss: 0.0145 - val_loss: 0.0171\n",
      "Train on 11020 samples, validate on 2756 samples\n",
      "Epoch 1/1\n",
      "11020/11020 [==============================] - 41s 4ms/step - loss: 0.0169 - val_loss: 0.0179\n",
      "Train on 10988 samples, validate on 2747 samples\n",
      "Epoch 1/1\n",
      "10988/10988 [==============================] - 41s 4ms/step - loss: 0.0167 - val_loss: 0.0168\n",
      "Train on 11041 samples, validate on 2761 samples\n",
      "Epoch 1/1\n",
      "11041/11041 [==============================] - 42s 4ms/step - loss: 0.0170 - val_loss: 0.0984\n",
      "Train on 11036 samples, validate on 2760 samples\n",
      "Epoch 1/1\n",
      "11036/11036 [==============================] - 41s 4ms/step - loss: 0.0160 - val_loss: 0.0154\n",
      "Train on 11064 samples, validate on 2767 samples\n",
      "Epoch 1/1\n",
      "11064/11064 [==============================] - 42s 4ms/step - loss: 0.0119 - val_loss: 0.0167\n",
      "Train on 10959 samples, validate on 2740 samples\n",
      "Epoch 1/1\n",
      "10959/10959 [==============================] - 41s 4ms/step - loss: 0.0122 - val_loss: 0.0194\n",
      "Train on 11020 samples, validate on 2756 samples\n",
      "Epoch 1/1\n",
      "11020/11020 [==============================] - 41s 4ms/step - loss: 0.0166 - val_loss: 0.0176\n",
      "Train on 10988 samples, validate on 2747 samples\n",
      "Epoch 1/1\n",
      "10988/10988 [==============================] - 40s 4ms/step - loss: 0.0138 - val_loss: 0.0274\n",
      "Train on 11041 samples, validate on 2761 samples\n",
      "Epoch 1/1\n",
      "11041/11041 [==============================] - 41s 4ms/step - loss: 0.0156 - val_loss: 0.0178\n",
      "Train on 11036 samples, validate on 2760 samples\n",
      "Epoch 1/1\n",
      "11036/11036 [==============================] - 41s 4ms/step - loss: 0.0127 - val_loss: 0.0148\n",
      "Train on 11064 samples, validate on 2767 samples\n",
      "Epoch 1/1\n",
      "11064/11064 [==============================] - 42s 4ms/step - loss: 0.0111 - val_loss: 0.0159\n",
      "Train on 10959 samples, validate on 2740 samples\n",
      "Epoch 1/1\n",
      "10959/10959 [==============================] - 41s 4ms/step - loss: 0.0135 - val_loss: 0.0213\n"
     ]
    }
   ],
   "source": [
    "import gc\n",
    "for i in range(7):\n",
    "    for start, end in zip(rg[:-1], rg[1:]):\n",
    "        data_lpmt = np.load(LTRAIN + '1_' + str(start) +'without_noise_time_min_xu_l'+ '.npy')\n",
    "        ys = tr_true_info[(tr_true_info['evtID'] >= start) \n",
    "                            & (tr_true_info['evtID'] < end)]\n",
    "        mask = (ys.R <= MAXR)\n",
    "        data_lpmt = data_lpmt[mask]\n",
    "        y_val = ys[mask][['E']].values\n",
    "        \n",
    "        X_train, X_test, y_train, y_test = train_test_split(data_lpmt, y_val, test_size=0.2, random_state=45)\n",
    "        out = model.fit(X_train, y_train, batch_size=32, \n",
    "                epochs=epochs[i],\n",
    "                callbacks=[csv_logger, reduce_lr],\n",
    "                validation_data=(X_test, y_test),\n",
    "                shuffle=True)\n",
    "    gc.collect()"
   ]
  },
  {
   "cell_type": "code",
   "execution_count": null,
   "metadata": {},
   "outputs": [],
   "source": []
  },
  {
   "cell_type": "code",
   "execution_count": null,
   "metadata": {},
   "outputs": [],
   "source": []
  },
  {
   "cell_type": "code",
   "execution_count": 29,
   "metadata": {},
   "outputs": [],
   "source": [
    "LTRAIN = '/mnt/iprovilkov/data_dir/npdata/'"
   ]
  },
  {
   "cell_type": "code",
   "execution_count": 13,
   "metadata": {},
   "outputs": [],
   "source": [
    "MAXR=17200"
   ]
  },
  {
   "cell_type": "code",
   "execution_count": 14,
   "metadata": {},
   "outputs": [
    {
     "name": "stdout",
     "output_type": "stream",
     "text": [
      "Make projection\n",
      "Starting cycle...\n"
     ]
    },
    {
     "data": {
      "application/vnd.jupyter.widget-view+json": {
       "model_id": "57cbc06b9f6344e6a87a0d7dc69807ca",
       "version_major": 2,
       "version_minor": 0
      },
      "text/plain": [
       "HBox(children=(IntProgress(value=1, bar_style='info', max=1), HTML(value='')))"
      ]
     },
     "metadata": {},
     "output_type": "display_data"
    },
    {
     "name": "stdout",
     "output_type": "stream",
     "text": [
      "Make projection\n",
      "Starting cycle...\n"
     ]
    },
    {
     "data": {
      "application/vnd.jupyter.widget-view+json": {
       "model_id": "3648878a7e744a1f93299bfcf224ffef",
       "version_major": 2,
       "version_minor": 0
      },
      "text/plain": [
       "HBox(children=(IntProgress(value=1, bar_style='info', max=1), HTML(value='')))"
      ]
     },
     "metadata": {},
     "output_type": "display_data"
    },
    {
     "name": "stdout",
     "output_type": "stream",
     "text": [
      "Make projection\n",
      "Starting cycle...\n"
     ]
    },
    {
     "data": {
      "application/vnd.jupyter.widget-view+json": {
       "model_id": "3db9dd33357746fdac002cad9fdca8a0",
       "version_major": 2,
       "version_minor": 0
      },
      "text/plain": [
       "HBox(children=(IntProgress(value=1, bar_style='info', max=1), HTML(value='')))"
      ]
     },
     "metadata": {},
     "output_type": "display_data"
    },
    {
     "name": "stdout",
     "output_type": "stream",
     "text": [
      "Make projection\n",
      "Starting cycle...\n"
     ]
    },
    {
     "data": {
      "application/vnd.jupyter.widget-view+json": {
       "model_id": "561ba1507ed54dfc9b0f48fd41825abd",
       "version_major": 2,
       "version_minor": 0
      },
      "text/plain": [
       "HBox(children=(IntProgress(value=1, bar_style='info', max=1), HTML(value='')))"
      ]
     },
     "metadata": {},
     "output_type": "display_data"
    },
    {
     "name": "stdout",
     "output_type": "stream",
     "text": [
      "Make projection\n",
      "Starting cycle...\n"
     ]
    },
    {
     "data": {
      "application/vnd.jupyter.widget-view+json": {
       "model_id": "ff5bd9263cb344b083024276953a25b9",
       "version_major": 2,
       "version_minor": 0
      },
      "text/plain": [
       "HBox(children=(IntProgress(value=1, bar_style='info', max=1), HTML(value='')))"
      ]
     },
     "metadata": {},
     "output_type": "display_data"
    },
    {
     "name": "stdout",
     "output_type": "stream",
     "text": [
      "Make projection\n",
      "Starting cycle...\n"
     ]
    },
    {
     "data": {
      "application/vnd.jupyter.widget-view+json": {
       "model_id": "9a050e61f098486b8e7e15668b851b09",
       "version_major": 2,
       "version_minor": 0
      },
      "text/plain": [
       "HBox(children=(IntProgress(value=1, bar_style='info', max=1), HTML(value='')))"
      ]
     },
     "metadata": {},
     "output_type": "display_data"
    }
   ],
   "source": [
    "for start, end  in zip(rg[:-1], rg[1:]):\n",
    "    data_lpmt, event_to_id = get_data_2dprojection(tr_lpmt_hits[(tr_lpmt_hits['event'] >= start) & (tr_lpmt_hits['event'] < end)\n",
    "                                                                & (tr_lpmt_hits['isDN'] == False)], \n",
    "                                                tr_spmt_hits[(tr_spmt_hits['event'] >= start) & (tr_spmt_hits['event'] < end) \n",
    "                                                            & (tr_spmt_hits['isDN'] == False)], \n",
    "                                                tr_pos, \n",
    "                                                tr_true_info[(tr_true_info.R<=MAXR) \n",
    "                                                             & (tr_true_info['evtID'] >= start) \n",
    "                                                             & (tr_true_info['evtID'] < end)],\n",
    "                                                use_spmt=True,\n",
    "                                                time='min')\n",
    "    np.save(LTRAIN + '1_' + str(start) + 'without_noise' + '_time_min_xu', data_lpmt)"
   ]
  },
  {
   "cell_type": "code",
   "execution_count": 15,
   "metadata": {},
   "outputs": [],
   "source": [
    "import numpy as np\n",
    "import os\n",
    "from sklearn.model_selection import train_test_split\n",
    "import tensorflow as tf"
   ]
  },
  {
   "cell_type": "code",
   "execution_count": 16,
   "metadata": {},
   "outputs": [],
   "source": [
    "os.environ[\"CUDA_DEVICE_ORDER\"]=\"PCI_BUS_ID\"\n",
    "os.environ[\"CUDA_VISIBLE_DEVICES\"]=\"1\""
   ]
  },
  {
   "cell_type": "code",
   "execution_count": 17,
   "metadata": {},
   "outputs": [],
   "source": [
    "import tensorflow as tf\n",
    "sess = tf.Session(config=tf.ConfigProto(log_device_placement=True))"
   ]
  },
  {
   "cell_type": "code",
   "execution_count": 18,
   "metadata": {},
   "outputs": [
    {
     "name": "stderr",
     "output_type": "stream",
     "text": [
      "Using TensorFlow backend.\n"
     ]
    }
   ],
   "source": [
    "import keras\n",
    "import keras.layers as L\n",
    "from keras.models import Sequential"
   ]
  },
  {
   "cell_type": "code",
   "execution_count": 34,
   "metadata": {},
   "outputs": [],
   "source": [
    "model = Sequential()\n",
    "model.add(L.Conv2D(filters=32, kernel_size=(3,3),activation='relu', strides=(1,1)))\n",
    "model.add(L.MaxPool2D(strides=(2,2)))\n",
    "model.add(L.Conv2D(filters=64, kernel_size=(3,3),activation='relu', strides=(1,1)))\n",
    "model.add(L.MaxPool2D(strides=(2,2)))\n",
    "model.add(L.Conv2D(filters=128, kernel_size=(3,3),activation='relu', strides=(1,1)))\n",
    "model.add(L.MaxPool2D(strides=(2,2)))\n",
    "model.add(L.Conv2D(filters=256, kernel_size=(3,3),activation='relu'))\n",
    "model.add(L.Flatten())\n",
    "model.add(L.Dense(512, activation='relu'))\n",
    "model.add(L.Dense(256, activation='relu'))\n",
    "model.add(L.Dense(1))"
   ]
  },
  {
   "cell_type": "code",
   "execution_count": 35,
   "metadata": {},
   "outputs": [],
   "source": [
    "from keras.optimizers import Adam"
   ]
  },
  {
   "cell_type": "code",
   "execution_count": 36,
   "metadata": {},
   "outputs": [],
   "source": [
    "opt = Adam(decay=1e-4)"
   ]
  },
  {
   "cell_type": "code",
   "execution_count": 37,
   "metadata": {},
   "outputs": [],
   "source": [
    "model.compile(loss='mean_squared_error', optimizer=opt)"
   ]
  },
  {
   "cell_type": "code",
   "execution_count": 38,
   "metadata": {},
   "outputs": [
    {
     "name": "stdout",
     "output_type": "stream",
     "text": [
      "_________________________________________________________________\n",
      "Layer (type)                 Output Shape              Param #   \n",
      "=================================================================\n",
      "conv2d_13 (Conv2D)           (None, 109, 224, 32)      608       \n",
      "_________________________________________________________________\n",
      "max_pooling2d_10 (MaxPooling (None, 54, 112, 32)       0         \n",
      "_________________________________________________________________\n",
      "conv2d_14 (Conv2D)           (None, 52, 110, 64)       18496     \n",
      "_________________________________________________________________\n",
      "max_pooling2d_11 (MaxPooling (None, 26, 55, 64)        0         \n",
      "_________________________________________________________________\n",
      "conv2d_15 (Conv2D)           (None, 24, 53, 128)       73856     \n",
      "_________________________________________________________________\n",
      "max_pooling2d_12 (MaxPooling (None, 12, 26, 128)       0         \n",
      "_________________________________________________________________\n",
      "conv2d_16 (Conv2D)           (None, 10, 24, 256)       295168    \n",
      "_________________________________________________________________\n",
      "flatten_4 (Flatten)          (None, 61440)             0         \n",
      "_________________________________________________________________\n",
      "dense_12 (Dense)             (None, 512)               31457792  \n",
      "_________________________________________________________________\n",
      "dense_13 (Dense)             (None, 256)               131328    \n",
      "_________________________________________________________________\n",
      "dense_14 (Dense)             (None, 1)                 257       \n",
      "=================================================================\n",
      "Total params: 31,977,505\n",
      "Trainable params: 31,977,505\n",
      "Non-trainable params: 0\n",
      "_________________________________________________________________\n"
     ]
    }
   ],
   "source": [
    "model.build(input_shape=(None, 111,226,2))\n",
    "model.summary()"
   ]
  },
  {
   "cell_type": "code",
   "execution_count": 39,
   "metadata": {},
   "outputs": [],
   "source": [
    "logdir = 'log_YuXu.csv'"
   ]
  },
  {
   "cell_type": "code",
   "execution_count": 40,
   "metadata": {},
   "outputs": [],
   "source": [
    "from keras.callbacks import CSVLogger\n",
    "\n",
    "csv_logger = CSVLogger(logdir, append=True, separator=';')"
   ]
  },
  {
   "cell_type": "code",
   "execution_count": 41,
   "metadata": {},
   "outputs": [],
   "source": [
    "from keras.callbacks import ReduceLROnPlateau\n",
    "reduce_lr = ReduceLROnPlateau(monitor='val_loss', factor=0.2,\n",
    "                              patience=5, min_lr=0.000001)"
   ]
  },
  {
   "cell_type": "code",
   "execution_count": 43,
   "metadata": {},
   "outputs": [],
   "source": [
    "epochs = [5,5,5,5,1,1,1]"
   ]
  },
  {
   "cell_type": "code",
   "execution_count": 45,
   "metadata": {
    "scrolled": true
   },
   "outputs": [
    {
     "name": "stdout",
     "output_type": "stream",
     "text": [
      "Train on 11020 samples, validate on 2756 samples\n",
      "Epoch 1/5\n",
      "11020/11020 [==============================] - 43s 4ms/step - loss: 2.5812 - val_loss: 0.0330\n",
      "Epoch 2/5\n",
      "11020/11020 [==============================] - 38s 3ms/step - loss: 0.0882 - val_loss: 0.2847\n",
      "Epoch 3/5\n",
      "11020/11020 [==============================] - 38s 3ms/step - loss: 0.0639 - val_loss: 0.2206\n",
      "Epoch 4/5\n",
      "11020/11020 [==============================] - 38s 3ms/step - loss: 0.0667 - val_loss: 0.0510\n",
      "Epoch 5/5\n",
      "11020/11020 [==============================] - 38s 3ms/step - loss: 0.0541 - val_loss: 0.0409\n",
      "Train on 10988 samples, validate on 2747 samples\n",
      "Epoch 1/5\n",
      "10988/10988 [==============================] - 39s 4ms/step - loss: 0.0497 - val_loss: 0.0443\n",
      "Epoch 2/5\n",
      "10988/10988 [==============================] - 38s 3ms/step - loss: 0.0696 - val_loss: 0.0316\n",
      "Epoch 3/5\n",
      "10988/10988 [==============================] - 39s 4ms/step - loss: 0.0561 - val_loss: 0.0264\n",
      "Epoch 4/5\n",
      "10988/10988 [==============================] - 39s 4ms/step - loss: 0.0441 - val_loss: 0.0254\n",
      "Epoch 5/5\n",
      "10988/10988 [==============================] - 39s 4ms/step - loss: 0.0419 - val_loss: 0.0239\n",
      "Train on 11041 samples, validate on 2761 samples\n",
      "Epoch 1/5\n",
      "11041/11041 [==============================] - 39s 4ms/step - loss: 0.0385 - val_loss: 0.0718\n",
      "Epoch 2/5\n",
      "11041/11041 [==============================] - 39s 4ms/step - loss: 0.0766 - val_loss: 0.0348\n",
      "Epoch 3/5\n",
      "11041/11041 [==============================] - 39s 4ms/step - loss: 0.0401 - val_loss: 0.0235\n",
      "Epoch 4/5\n",
      "11041/11041 [==============================] - 39s 4ms/step - loss: 0.0392 - val_loss: 0.0627\n",
      "Epoch 5/5\n",
      "11041/11041 [==============================] - 39s 4ms/step - loss: 0.0344 - val_loss: 0.0307\n",
      "Train on 11036 samples, validate on 2760 samples\n",
      "Epoch 1/5\n",
      "11036/11036 [==============================] - 40s 4ms/step - loss: 0.0281 - val_loss: 0.0188\n",
      "Epoch 2/5\n",
      "11036/11036 [==============================] - 39s 4ms/step - loss: 0.0286 - val_loss: 0.0285\n",
      "Epoch 3/5\n",
      "11036/11036 [==============================] - 40s 4ms/step - loss: 0.0322 - val_loss: 0.0268\n",
      "Epoch 4/5\n",
      "11036/11036 [==============================] - 39s 4ms/step - loss: 0.0258 - val_loss: 0.0166\n",
      "Epoch 5/5\n",
      "11036/11036 [==============================] - 39s 4ms/step - loss: 0.0280 - val_loss: 0.0172\n",
      "Train on 11064 samples, validate on 2767 samples\n",
      "Epoch 1/5\n",
      "11064/11064 [==============================] - 40s 4ms/step - loss: 0.0317 - val_loss: 0.0209\n",
      "Epoch 2/5\n",
      "11064/11064 [==============================] - 39s 4ms/step - loss: 0.0232 - val_loss: 0.0260\n",
      "Epoch 3/5\n",
      "11064/11064 [==============================] - 40s 4ms/step - loss: 0.0275 - val_loss: 0.0162\n",
      "Epoch 4/5\n",
      "11064/11064 [==============================] - 39s 4ms/step - loss: 0.0231 - val_loss: 0.0172\n",
      "Epoch 5/5\n",
      "11064/11064 [==============================] - 40s 4ms/step - loss: 0.0209 - val_loss: 0.0177\n",
      "Train on 10959 samples, validate on 2740 samples\n",
      "Epoch 1/5\n",
      "10959/10959 [==============================] - 39s 4ms/step - loss: 0.0413 - val_loss: 0.0167\n",
      "Epoch 2/5\n",
      "10959/10959 [==============================] - 38s 4ms/step - loss: 0.0337 - val_loss: 0.0292\n",
      "Epoch 3/5\n",
      "10959/10959 [==============================] - 39s 4ms/step - loss: 0.0297 - val_loss: 0.0164\n",
      "Epoch 4/5\n",
      "10959/10959 [==============================] - 39s 4ms/step - loss: 0.0335 - val_loss: 0.0833\n",
      "Epoch 5/5\n",
      "10959/10959 [==============================] - 39s 4ms/step - loss: 0.0300 - val_loss: 0.0158\n",
      "Train on 11020 samples, validate on 2756 samples\n",
      "Epoch 1/5\n",
      "11020/11020 [==============================] - 40s 4ms/step - loss: 0.0282 - val_loss: 0.0240\n",
      "Epoch 2/5\n",
      "11020/11020 [==============================] - 39s 4ms/step - loss: 0.0290 - val_loss: 0.0176\n",
      "Epoch 3/5\n",
      "11020/11020 [==============================] - 40s 4ms/step - loss: 0.0303 - val_loss: 0.0440\n",
      "Epoch 4/5\n",
      "11020/11020 [==============================] - 39s 4ms/step - loss: 0.0270 - val_loss: 0.0184\n",
      "Epoch 5/5\n",
      "11020/11020 [==============================] - 39s 4ms/step - loss: 0.0267 - val_loss: 0.0219\n",
      "Train on 10988 samples, validate on 2747 samples\n",
      "Epoch 1/5\n",
      "10988/10988 [==============================] - 39s 4ms/step - loss: 0.0380 - val_loss: 0.0245\n",
      "Epoch 2/5\n",
      "10988/10988 [==============================] - 39s 4ms/step - loss: 0.0290 - val_loss: 0.0180\n",
      "Epoch 3/5\n",
      "10988/10988 [==============================] - 39s 4ms/step - loss: 0.0262 - val_loss: 0.0273\n",
      "Epoch 4/5\n",
      "10988/10988 [==============================] - 39s 4ms/step - loss: 0.0245 - val_loss: 0.0358\n",
      "Epoch 5/5\n",
      "10988/10988 [==============================] - 39s 4ms/step - loss: 0.0203 - val_loss: 0.0246\n",
      "Train on 11041 samples, validate on 2761 samples\n",
      "Epoch 1/5\n",
      "11041/11041 [==============================] - 40s 4ms/step - loss: 0.0287 - val_loss: 0.0157\n",
      "Epoch 2/5\n",
      "11041/11041 [==============================] - 39s 4ms/step - loss: 0.0263 - val_loss: 0.0287\n",
      "Epoch 3/5\n",
      "11041/11041 [==============================] - 40s 4ms/step - loss: 0.0236 - val_loss: 0.0171\n",
      "Epoch 4/5\n",
      "11041/11041 [==============================] - 39s 4ms/step - loss: 0.0222 - val_loss: 0.0547\n",
      "Epoch 5/5\n",
      "11041/11041 [==============================] - 39s 4ms/step - loss: 0.0211 - val_loss: 0.0200\n",
      "Train on 11036 samples, validate on 2760 samples\n",
      "Epoch 1/5\n",
      "11036/11036 [==============================] - 39s 4ms/step - loss: 0.0256 - val_loss: 0.0200\n",
      "Epoch 2/5\n",
      "11036/11036 [==============================] - 39s 4ms/step - loss: 0.0189 - val_loss: 0.0273\n",
      "Epoch 3/5\n",
      "11036/11036 [==============================] - 39s 4ms/step - loss: 0.0174 - val_loss: 0.0158\n",
      "Epoch 4/5\n",
      "11036/11036 [==============================] - 39s 4ms/step - loss: 0.0169 - val_loss: 0.0152\n",
      "Epoch 5/5\n",
      "11036/11036 [==============================] - 39s 4ms/step - loss: 0.0199 - val_loss: 0.0170\n",
      "Train on 11064 samples, validate on 2767 samples\n",
      "Epoch 1/5\n",
      "11064/11064 [==============================] - 40s 4ms/step - loss: 0.0175 - val_loss: 0.0197\n",
      "Epoch 2/5\n",
      "11064/11064 [==============================] - 39s 3ms/step - loss: 0.0177 - val_loss: 0.0482\n",
      "Epoch 3/5\n",
      "11064/11064 [==============================] - 40s 4ms/step - loss: 0.0176 - val_loss: 0.0140\n",
      "Epoch 4/5\n",
      "11064/11064 [==============================] - 39s 4ms/step - loss: 0.0174 - val_loss: 0.0167\n",
      "Epoch 5/5\n",
      "11064/11064 [==============================] - 39s 4ms/step - loss: 0.0155 - val_loss: 0.0154\n",
      "Train on 10959 samples, validate on 2740 samples\n",
      "Epoch 1/5\n",
      "10959/10959 [==============================] - 39s 4ms/step - loss: 0.0276 - val_loss: 0.0315\n",
      "Epoch 2/5\n",
      "10959/10959 [==============================] - 39s 4ms/step - loss: 0.0231 - val_loss: 0.0168\n",
      "Epoch 3/5\n",
      "10959/10959 [==============================] - 39s 4ms/step - loss: 0.0227 - val_loss: 0.0215\n",
      "Epoch 4/5\n",
      "10959/10959 [==============================] - 39s 4ms/step - loss: 0.0211 - val_loss: 0.0201\n",
      "Epoch 5/5\n",
      "10959/10959 [==============================] - 39s 4ms/step - loss: 0.0213 - val_loss: 0.0188\n",
      "Train on 11020 samples, validate on 2756 samples\n",
      "Epoch 1/5\n",
      "11020/11020 [==============================] - 40s 4ms/step - loss: 0.0254 - val_loss: 0.0130\n",
      "Epoch 2/5\n",
      "11020/11020 [==============================] - 39s 4ms/step - loss: 0.0210 - val_loss: 0.0144\n",
      "Epoch 3/5\n",
      "11020/11020 [==============================] - 39s 4ms/step - loss: 0.0201 - val_loss: 0.0268\n",
      "Epoch 4/5\n",
      "11020/11020 [==============================] - 39s 4ms/step - loss: 0.0192 - val_loss: 0.0227\n",
      "Epoch 5/5\n",
      "11020/11020 [==============================] - 39s 4ms/step - loss: 0.0180 - val_loss: 0.0171\n",
      "Train on 10988 samples, validate on 2747 samples\n",
      "Epoch 1/5\n",
      "10988/10988 [==============================] - 39s 4ms/step - loss: 0.0228 - val_loss: 0.0157\n",
      "Epoch 2/5\n",
      "10988/10988 [==============================] - 38s 3ms/step - loss: 0.0172 - val_loss: 0.0158\n",
      "Epoch 3/5\n",
      "10988/10988 [==============================] - 38s 3ms/step - loss: 0.0159 - val_loss: 0.0275\n",
      "Epoch 4/5\n",
      "10988/10988 [==============================] - 38s 3ms/step - loss: 0.0155 - val_loss: 0.0134\n",
      "Epoch 5/5\n",
      "10988/10988 [==============================] - 38s 3ms/step - loss: 0.0233 - val_loss: 0.0173\n",
      "Train on 11041 samples, validate on 2761 samples\n",
      "Epoch 1/5\n",
      "11041/11041 [==============================] - 38s 3ms/step - loss: 0.0207 - val_loss: 0.0151\n",
      "Epoch 2/5\n",
      "11041/11041 [==============================] - 38s 3ms/step - loss: 0.0181 - val_loss: 0.0332\n",
      "Epoch 3/5\n",
      "11041/11041 [==============================] - 38s 3ms/step - loss: 0.0183 - val_loss: 0.0179\n",
      "Epoch 4/5\n",
      "11041/11041 [==============================] - 38s 3ms/step - loss: 0.0170 - val_loss: 0.0275\n",
      "Epoch 5/5\n",
      "11041/11041 [==============================] - 38s 3ms/step - loss: 0.0168 - val_loss: 0.0148\n",
      "Train on 11036 samples, validate on 2760 samples\n",
      "Epoch 1/5\n",
      "11036/11036 [==============================] - 37s 3ms/step - loss: 0.0163 - val_loss: 0.0167\n",
      "Epoch 2/5\n",
      "11036/11036 [==============================] - 38s 3ms/step - loss: 0.0155 - val_loss: 0.0160\n",
      "Epoch 3/5\n",
      "11036/11036 [==============================] - 38s 3ms/step - loss: 0.0138 - val_loss: 0.0129\n",
      "Epoch 4/5\n",
      "11036/11036 [==============================] - 38s 3ms/step - loss: 0.0168 - val_loss: 0.0146\n",
      "Epoch 5/5\n",
      "11036/11036 [==============================] - 38s 3ms/step - loss: 0.0141 - val_loss: 0.0133\n",
      "Train on 11064 samples, validate on 2767 samples\n",
      "Epoch 1/5\n",
      "11064/11064 [==============================] - 38s 3ms/step - loss: 0.0157 - val_loss: 0.0405\n",
      "Epoch 2/5\n",
      "11064/11064 [==============================] - 38s 3ms/step - loss: 0.0162 - val_loss: 0.0143\n",
      "Epoch 3/5\n",
      "11064/11064 [==============================] - 38s 3ms/step - loss: 0.0142 - val_loss: 0.0173\n",
      "Epoch 4/5\n",
      "11064/11064 [==============================] - 38s 3ms/step - loss: 0.0132 - val_loss: 0.0257\n",
      "Epoch 5/5\n",
      "11064/11064 [==============================] - 38s 3ms/step - loss: 0.0142 - val_loss: 0.0287\n",
      "Train on 10959 samples, validate on 2740 samples\n",
      "Epoch 1/5\n",
      "10959/10959 [==============================] - 38s 3ms/step - loss: 0.0216 - val_loss: 0.0140\n",
      "Epoch 2/5\n",
      "10959/10959 [==============================] - 38s 3ms/step - loss: 0.0180 - val_loss: 0.0467\n",
      "Epoch 3/5\n",
      "10959/10959 [==============================] - 38s 3ms/step - loss: 0.0161 - val_loss: 0.0136\n",
      "Epoch 4/5\n",
      "10959/10959 [==============================] - 38s 3ms/step - loss: 0.0156 - val_loss: 0.0120\n",
      "Epoch 5/5\n",
      "10959/10959 [==============================] - 38s 3ms/step - loss: 0.0138 - val_loss: 0.0219\n",
      "Train on 11020 samples, validate on 2756 samples\n",
      "Epoch 1/5\n",
      "11020/11020 [==============================] - 37s 3ms/step - loss: 0.0201 - val_loss: 0.0194\n",
      "Epoch 2/5\n",
      "11020/11020 [==============================] - 38s 3ms/step - loss: 0.0163 - val_loss: 0.0182\n",
      "Epoch 3/5\n",
      "11020/11020 [==============================] - 38s 3ms/step - loss: 0.0160 - val_loss: 0.0134\n",
      "Epoch 4/5\n",
      "11020/11020 [==============================] - 38s 3ms/step - loss: 0.0144 - val_loss: 0.0121\n",
      "Epoch 5/5\n",
      "11020/11020 [==============================] - 38s 3ms/step - loss: 0.0157 - val_loss: 0.0150\n",
      "Train on 10988 samples, validate on 2747 samples\n",
      "Epoch 1/5\n",
      "10988/10988 [==============================] - 37s 3ms/step - loss: 0.0204 - val_loss: 0.0203\n",
      "Epoch 2/5\n",
      "10988/10988 [==============================] - 38s 3ms/step - loss: 0.0158 - val_loss: 0.0192\n",
      "Epoch 3/5\n",
      "10988/10988 [==============================] - 38s 3ms/step - loss: 0.0177 - val_loss: 0.0135\n",
      "Epoch 4/5\n",
      "10988/10988 [==============================] - 38s 3ms/step - loss: 0.0124 - val_loss: 0.0156\n",
      "Epoch 5/5\n",
      "10988/10988 [==============================] - 38s 3ms/step - loss: 0.0121 - val_loss: 0.0121\n",
      "Train on 11041 samples, validate on 2761 samples\n",
      "Epoch 1/5\n",
      "11041/11041 [==============================] - 37s 3ms/step - loss: 0.0186 - val_loss: 0.0437\n",
      "Epoch 2/5\n",
      "11041/11041 [==============================] - 38s 3ms/step - loss: 0.0178 - val_loss: 0.0132\n",
      "Epoch 3/5\n",
      "11041/11041 [==============================] - 38s 3ms/step - loss: 0.0163 - val_loss: 0.0156\n",
      "Epoch 4/5\n",
      "11041/11041 [==============================] - 38s 3ms/step - loss: 0.0148 - val_loss: 0.0161\n",
      "Epoch 5/5\n",
      "11041/11041 [==============================] - 38s 3ms/step - loss: 0.0139 - val_loss: 0.0305\n",
      "Train on 11036 samples, validate on 2760 samples\n",
      "Epoch 1/5\n",
      "11036/11036 [==============================] - 38s 3ms/step - loss: 0.0153 - val_loss: 0.0136\n",
      "Epoch 2/5\n",
      "11036/11036 [==============================] - 38s 3ms/step - loss: 0.0132 - val_loss: 0.0136\n",
      "Epoch 3/5\n",
      "11036/11036 [==============================] - 38s 3ms/step - loss: 0.0124 - val_loss: 0.0128\n",
      "Epoch 4/5\n",
      "11036/11036 [==============================] - 38s 3ms/step - loss: 0.0125 - val_loss: 0.0150\n",
      "Epoch 5/5\n",
      "11036/11036 [==============================] - 38s 3ms/step - loss: 0.0109 - val_loss: 0.0124\n",
      "Train on 11064 samples, validate on 2767 samples\n",
      "Epoch 1/5\n",
      "11064/11064 [==============================] - 37s 3ms/step - loss: 0.0141 - val_loss: 0.0127\n",
      "Epoch 2/5\n",
      "11064/11064 [==============================] - 38s 3ms/step - loss: 0.0114 - val_loss: 0.0199\n",
      "Epoch 3/5\n",
      "11064/11064 [==============================] - 38s 3ms/step - loss: 0.0124 - val_loss: 0.0143\n",
      "Epoch 4/5\n",
      "11064/11064 [==============================] - 38s 3ms/step - loss: 0.0104 - val_loss: 0.0145\n",
      "Epoch 5/5\n",
      "11064/11064 [==============================] - 38s 3ms/step - loss: 0.0108 - val_loss: 0.0141\n",
      "Train on 10959 samples, validate on 2740 samples\n",
      "Epoch 1/5\n",
      "10959/10959 [==============================] - 37s 3ms/step - loss: 0.0174 - val_loss: 0.0142\n",
      "Epoch 2/5\n",
      "10959/10959 [==============================] - 38s 3ms/step - loss: 0.0153 - val_loss: 0.0145\n",
      "Epoch 3/5\n",
      "10959/10959 [==============================] - 38s 3ms/step - loss: 0.0132 - val_loss: 0.0163\n",
      "Epoch 4/5\n",
      "10959/10959 [==============================] - 38s 3ms/step - loss: 0.0114 - val_loss: 0.0120\n",
      "Epoch 5/5\n",
      "10959/10959 [==============================] - 38s 3ms/step - loss: 0.0109 - val_loss: 0.0121\n",
      "Train on 11020 samples, validate on 2756 samples\n",
      "Epoch 1/1\n",
      "11020/11020 [==============================] - 38s 3ms/step - loss: 0.0160 - val_loss: 0.0178\n",
      "Train on 10988 samples, validate on 2747 samples\n",
      "Epoch 1/1\n",
      "10988/10988 [==============================] - 38s 3ms/step - loss: 0.0149 - val_loss: 0.0149\n",
      "Train on 11041 samples, validate on 2761 samples\n",
      "Epoch 1/1\n",
      "11041/11041 [==============================] - 37s 3ms/step - loss: 0.0166 - val_loss: 0.0131\n",
      "Train on 11036 samples, validate on 2760 samples\n",
      "Epoch 1/1\n",
      "11036/11036 [==============================] - 38s 3ms/step - loss: 0.0122 - val_loss: 0.0128\n",
      "Train on 11064 samples, validate on 2767 samples\n",
      "Epoch 1/1\n",
      "11064/11064 [==============================] - 38s 3ms/step - loss: 0.0114 - val_loss: 0.0131\n",
      "Train on 10959 samples, validate on 2740 samples\n",
      "Epoch 1/1\n",
      "10959/10959 [==============================] - 37s 3ms/step - loss: 0.0144 - val_loss: 0.0117\n",
      "Train on 11020 samples, validate on 2756 samples\n",
      "Epoch 1/1\n",
      "11020/11020 [==============================] - 38s 3ms/step - loss: 0.0149 - val_loss: 0.0114\n",
      "Train on 10988 samples, validate on 2747 samples\n",
      "Epoch 1/1\n",
      "10988/10988 [==============================] - 37s 3ms/step - loss: 0.0169 - val_loss: 0.0142\n",
      "Train on 11041 samples, validate on 2761 samples\n",
      "Epoch 1/1\n",
      "11041/11041 [==============================] - 38s 3ms/step - loss: 0.0150 - val_loss: 0.0175\n",
      "Train on 11036 samples, validate on 2760 samples\n",
      "Epoch 1/1\n",
      "11036/11036 [==============================] - 38s 3ms/step - loss: 0.0123 - val_loss: 0.0138\n",
      "Train on 11064 samples, validate on 2767 samples\n",
      "Epoch 1/1\n",
      "11064/11064 [==============================] - 38s 3ms/step - loss: 0.0122 - val_loss: 0.0148\n",
      "Train on 10959 samples, validate on 2740 samples\n",
      "Epoch 1/1\n",
      "10959/10959 [==============================] - 37s 3ms/step - loss: 0.0131 - val_loss: 0.0119\n",
      "Train on 11020 samples, validate on 2756 samples\n",
      "Epoch 1/1\n",
      "11020/11020 [==============================] - 38s 3ms/step - loss: 0.0130 - val_loss: 0.0148\n",
      "Train on 10988 samples, validate on 2747 samples\n",
      "Epoch 1/1\n",
      "10988/10988 [==============================] - 38s 3ms/step - loss: 0.0142 - val_loss: 0.0216\n",
      "Train on 11041 samples, validate on 2761 samples\n",
      "Epoch 1/1\n",
      "11041/11041 [==============================] - 38s 3ms/step - loss: 0.0149 - val_loss: 0.0435\n",
      "Train on 11036 samples, validate on 2760 samples\n",
      "Epoch 1/1\n",
      "11036/11036 [==============================] - 37s 3ms/step - loss: 0.0121 - val_loss: 0.0125\n",
      "Train on 11064 samples, validate on 2767 samples\n",
      "Epoch 1/1\n",
      "11064/11064 [==============================] - 37s 3ms/step - loss: 0.0103 - val_loss: 0.0142\n",
      "Train on 10959 samples, validate on 2740 samples\n",
      "Epoch 1/1\n"
     ]
    },
    {
     "name": "stdout",
     "output_type": "stream",
     "text": [
      "10959/10959 [==============================] - 37s 3ms/step - loss: 0.0120 - val_loss: 0.0116\n"
     ]
    }
   ],
   "source": [
    "import gc\n",
    "for i in range(7):\n",
    "    for start, end in zip(rg[:-1], rg[1:]):\n",
    "        data_lpmt = np.load(LTRAIN + '1_' + str(start) +'without_noise_time_min_xu'+ '.npy')\n",
    "        ys = tr_true_info[(tr_true_info['evtID'] >= start) \n",
    "                            & (tr_true_info['evtID'] < end)]\n",
    "        mask = (ys.R <= MAXR)\n",
    "        data_lpmt = data_lpmt[mask]\n",
    "        y_val = ys[mask][['E']].values\n",
    "        \n",
    "        X_train, X_test, y_train, y_test = train_test_split(data_lpmt, y_val, test_size=0.2, random_state=45)\n",
    "        out = model.fit(X_train, y_train, batch_size=32, \n",
    "                epochs=epochs[i],\n",
    "                callbacks=[csv_logger, reduce_lr],\n",
    "                validation_data=(X_test, y_test),\n",
    "                shuffle=True)\n",
    "    gc.collect()"
   ]
  },
  {
   "cell_type": "code",
   "execution_count": null,
   "metadata": {},
   "outputs": [],
   "source": [
    "reduce_lr = keras.callbacks.LearningRateScheduler(lambda it: 1e-5, verbose=0)"
   ]
  },
  {
   "cell_type": "code",
   "execution_count": 46,
   "metadata": {},
   "outputs": [],
   "source": [
    "import pandas as pd\n",
    "import matplotlib.pyplot as plt"
   ]
  },
  {
   "cell_type": "code",
   "execution_count": 47,
   "metadata": {},
   "outputs": [],
   "source": [
    "cs = pd.read_csv(logdir, sep=';')"
   ]
  },
  {
   "cell_type": "code",
   "execution_count": 48,
   "metadata": {},
   "outputs": [
    {
     "data": {
      "text/plain": [
       "(0, 0.3)"
      ]
     },
     "execution_count": 48,
     "metadata": {},
     "output_type": "execute_result"
    },
    {
     "data": {
      "image/png": "[encoded data removed]",
      "text/plain": [
       "<Figure size 432x288 with 1 Axes>"
      ]
     },
     "metadata": {
      "needs_background": "light"
     },
     "output_type": "display_data"
    }
   ],
   "source": [
    "plt.scatter(np.arange(0, cs.shape[0]), cs['val_loss'].values)\n",
    "plt.ylim(0,0.3)"
   ]
  },
  {
   "cell_type": "code",
   "execution_count": 49,
   "metadata": {},
   "outputs": [
    {
     "data": {
      "text/plain": [
       "(0, 0.5)"
      ]
     },
     "execution_count": 49,
     "metadata": {},
     "output_type": "execute_result"
    },
    {
     "data": {
      "image/png": "[encoded data removed]",
      "text/plain": [
       "<Figure size 432x288 with 1 Axes>"
      ]
     },
     "metadata": {
      "needs_background": "light"
     },
     "output_type": "display_data"
    }
   ],
   "source": [
    "plt.scatter(np.arange(0, cs.shape[0]), cs['loss'].values)\n",
    "plt.ylim(0,0.5)"
   ]
  },
  {
   "cell_type": "code",
   "execution_count": null,
   "metadata": {},
   "outputs": [],
   "source": [
    "model.save_weights('ResNet70.h5')"
   ]
  },
  {
   "cell_type": "code",
   "execution_count": null,
   "metadata": {},
   "outputs": [],
   "source": [
    "with open(\"ResNet70.json\", \"w\") as json_file:\n",
    "    json_file.write(model.to_json())"
   ]
  },
  {
   "cell_type": "code",
   "execution_count": 50,
   "metadata": {},
   "outputs": [],
   "source": [
    "from sklearn.metrics.pairwise import paired_euclidean_distances\n",
    "from sklearn.metrics import mean_squared_error"
   ]
  },
  {
   "cell_type": "code",
   "execution_count": 51,
   "metadata": {},
   "outputs": [],
   "source": [
    "preds = np.maximum(model.predict(X_test), 0)\n",
    "test_resultsE = mean_squared_error(preds[:,0], y_test[:,0])"
   ]
  },
  {
   "cell_type": "code",
   "execution_count": 52,
   "metadata": {},
   "outputs": [
    {
     "data": {
      "text/plain": [
       "0.011585442767695856"
      ]
     },
     "execution_count": 52,
     "metadata": {},
     "output_type": "execute_result"
    }
   ],
   "source": [
    "test_resultsE.mean()"
   ]
  },
  {
   "cell_type": "code",
   "execution_count": 53,
   "metadata": {},
   "outputs": [
    {
     "data": {
      "text/plain": [
       "(-0.05, 0.05)"
      ]
     },
     "execution_count": 53,
     "metadata": {},
     "output_type": "execute_result"
    },
    {
     "data": {
      "image/png": "[encoded data removed]",
      "text/plain": [
       "<Figure size 432x288 with 1 Axes>"
      ]
     },
     "metadata": {
      "needs_background": "light"
     },
     "output_type": "display_data"
    }
   ],
   "source": [
    "plt.hist((preds[:,0] - y_test[:,0])/y_test[:,0], bins=200)\n",
    "plt.xlim((-0.05,0.05))"
   ]
  },
  {
   "cell_type": "code",
   "execution_count": 33,
   "metadata": {},
   "outputs": [],
   "source": [
    "from tqdm import tqdm"
   ]
  },
  {
   "cell_type": "code",
   "execution_count": 34,
   "metadata": {},
   "outputs": [],
   "source": [
    "root_data_path = '/mnt/iprovilkov/data_dir/0MeV_lpmt_hits.h5'"
   ]
  },
  {
   "cell_type": "code",
   "execution_count": 38,
   "metadata": {},
   "outputs": [],
   "source": [
    "from sklearn.metrics.pairwise import paired_euclidean_distances\n",
    "from sklearn.metrics import mean_squared_error\n",
    "\n",
    "def test_sigmas(model, test_dir='/mnt/iprovilkov/data_dir/', test_column='E', MAXR=MAXR, use_spmt=False,\n",
    "                time=False, recompute=False):\n",
    "    sigmas = {}\n",
    "    MSEs = {}\n",
    "    predictions = {}\n",
    "    CONST = 1.022\n",
    "    for energy in tqdm(range(10)):\n",
    "        try:\n",
    "            if recompute:\n",
    "                raise Exception(\"Recompute\")\n",
    "            if time:\n",
    "                data_lpmt = np.load(test_dir + str(energy) + 'data_lpmt_time_YuXu_ll.npy')\n",
    "            else:\n",
    "                data_lpmt = np.load(test_dir + str(energy) + 'data_lpmt_YuXu_ll.npy')\n",
    "            true_info = pd.read_csv(TRAIN_DIR + str(energy)+'MeV_'+'true_info.csv')\n",
    "        except: \n",
    "            print(\"Compute...\")\n",
    "            lpmt_hits = pd.read_hdf(test_dir + str(energy)+'MeV_'+ 'lpmt_hits.h5', mode='r') \n",
    "            spmt_hits = pd.read_hdf(test_dir + str(energy)+'MeV_'+'spmt_hits.h5', mode='r')\n",
    "            lpmt_hits = lpmt_hits[lpmt_hits.isDN==False]\n",
    "            spmt_hits = spmt_hits[spmt_hits.isDN==False]\n",
    "            pos = pd.read_csv(TRAIN_DIR + str(energy)+'MeV_'+'lpmt_pos.csv') \n",
    "            spmt_pos = pd.read_csv(TRAIN_DIR + str(energy)+'MeV_'+'spmt_pos.csv') \n",
    "            true_info = pd.read_csv(TRAIN_DIR + str(energy)+'MeV_'+'true_info.csv')\n",
    "            if time:\n",
    "                data_lpmt, event_to_id = get_data_2dprojection_lat_lon(lpmt_hits, \n",
    "                                    spmt_hits, \n",
    "                                    pos, \n",
    "                                    true_info,\n",
    "                                    use_spmt=use_spmt,\n",
    "                                    time='min')\n",
    "                np.save(test_dir+str(energy)+'data_lpmt_time_YuXu_ll', data_lpmt)\n",
    "            else:\n",
    "                data_lpmt, event_to_id = get_data_2dprojection_lat_lon(lpmt_hits, \n",
    "                                    spmt_hits, \n",
    "                                    pos, \n",
    "                                    true_info,\n",
    "                                    use_spmt=True)\n",
    "                np.save(test_dir+str(energy)+'data_lpmt_YuXu_ll', data_lpmt)\n",
    "        mask = (true_info.R<=MAXR)\n",
    "        data_lpmt = data_lpmt[mask]\n",
    "        true_info = true_info[mask]\n",
    "        preds = np.maximum(model.predict(data_lpmt), 0)\n",
    "        y_test = true_info[test_column]\n",
    "        print(y_test.mean())\n",
    "        predictions[energy] = preds\n",
    "        MSEs[energy] = mean_squared_error(preds, y_test)\n",
    "        # in percents\n",
    "        sigmas[energy] = np.std(preds - y_test.mean()) / (energy + CONST)\n",
    "    print(\"+\")\n",
    "    return sigmas, MSEs, predictions"
   ]
  },
  {
   "cell_type": "code",
   "execution_count": 39,
   "metadata": {},
   "outputs": [
    {
     "name": "stderr",
     "output_type": "stream",
     "text": [
      "\n",
      "  0%|          | 0/10 [00:00<?, ?it/s]\u001b[A"
     ]
    },
    {
     "name": "stdout",
     "output_type": "stream",
     "text": [
      "Compute...\n",
      "Make projection\n",
      "Starting cycle...\n"
     ]
    },
    {
     "data": {
      "application/vnd.jupyter.widget-view+json": {
       "model_id": "2b34aa66347f4d36bf7b39f10807c1d6",
       "version_major": 2,
       "version_minor": 0
      },
      "text/plain": [
       "HBox(children=(IntProgress(value=1, bar_style='info', max=1), HTML(value='')))"
      ]
     },
     "metadata": {},
     "output_type": "display_data"
    },
    {
     "name": "stdout",
     "output_type": "stream",
     "text": [
      "\n"
     ]
    },
    {
     "name": "stderr",
     "output_type": "stream",
     "text": [
      "\n",
      " 10%|█         | 1/10 [00:17<02:37, 17.54s/it]\u001b[A"
     ]
    },
    {
     "name": "stdout",
     "output_type": "stream",
     "text": [
      "0.5109988999999999\n",
      "Compute...\n",
      "Make projection\n",
      "Starting cycle...\n"
     ]
    },
    {
     "data": {
      "application/vnd.jupyter.widget-view+json": {
       "model_id": "5b04fb8b1ab0493cb8d95457c7b6d0e0",
       "version_major": 2,
       "version_minor": 0
      },
      "text/plain": [
       "HBox(children=(IntProgress(value=1, bar_style='info', max=1), HTML(value='')))"
      ]
     },
     "metadata": {},
     "output_type": "display_data"
    },
    {
     "name": "stdout",
     "output_type": "stream",
     "text": [
      "\n"
     ]
    },
    {
     "name": "stderr",
     "output_type": "stream",
     "text": [
      "\n",
      " 20%|██        | 2/10 [00:48<02:51, 21.43s/it]\u001b[A"
     ]
    },
    {
     "name": "stdout",
     "output_type": "stream",
     "text": [
      "1.5109988697622994\n",
      "Compute...\n",
      "Make projection\n",
      "Starting cycle...\n"
     ]
    },
    {
     "data": {
      "application/vnd.jupyter.widget-view+json": {
       "model_id": "dbe11eb281d84c3d81cc511624bdbe82",
       "version_major": 2,
       "version_minor": 0
      },
      "text/plain": [
       "HBox(children=(IntProgress(value=1, bar_style='info', max=1), HTML(value='')))"
      ]
     },
     "metadata": {},
     "output_type": "display_data"
    },
    {
     "name": "stdout",
     "output_type": "stream",
     "text": [
      "\n"
     ]
    },
    {
     "name": "stderr",
     "output_type": "stream",
     "text": [
      "\n",
      " 30%|███       | 3/10 [01:32<03:18, 28.30s/it]\u001b[A"
     ]
    },
    {
     "name": "stdout",
     "output_type": "stream",
     "text": [
      "2.5109990065502177\n",
      "Compute...\n",
      "Make projection\n",
      "Starting cycle...\n"
     ]
    },
    {
     "data": {
      "application/vnd.jupyter.widget-view+json": {
       "model_id": "778b904f8d56400c8c2dab86e0393540",
       "version_major": 2,
       "version_minor": 0
      },
      "text/plain": [
       "HBox(children=(IntProgress(value=1, bar_style='info', max=1), HTML(value='')))"
      ]
     },
     "metadata": {},
     "output_type": "display_data"
    },
    {
     "name": "stdout",
     "output_type": "stream",
     "text": [
      "\n"
     ]
    },
    {
     "name": "stderr",
     "output_type": "stream",
     "text": [
      "\n",
      " 40%|████      | 4/10 [02:31<03:45, 37.54s/it]\u001b[A"
     ]
    },
    {
     "name": "stdout",
     "output_type": "stream",
     "text": [
      "3.5109988987951803\n",
      "Compute...\n",
      "Make projection\n",
      "Starting cycle...\n"
     ]
    },
    {
     "data": {
      "application/vnd.jupyter.widget-view+json": {
       "model_id": "7b7475aeb29e4f6ebb556311629b52a2",
       "version_major": 2,
       "version_minor": 0
      },
      "text/plain": [
       "HBox(children=(IntProgress(value=1, bar_style='info', max=1), HTML(value='')))"
      ]
     },
     "metadata": {},
     "output_type": "display_data"
    },
    {
     "name": "stdout",
     "output_type": "stream",
     "text": [
      "\n"
     ]
    },
    {
     "name": "stderr",
     "output_type": "stream",
     "text": [
      "\n",
      " 50%|█████     | 5/10 [03:44<04:01, 48.28s/it]\u001b[A"
     ]
    },
    {
     "name": "stdout",
     "output_type": "stream",
     "text": [
      "4.510998806956522\n",
      "Compute...\n",
      "Make projection\n",
      "Starting cycle...\n"
     ]
    },
    {
     "data": {
      "application/vnd.jupyter.widget-view+json": {
       "model_id": "e218e40f016d4fdba9f7261dfffeb93e",
       "version_major": 2,
       "version_minor": 0
      },
      "text/plain": [
       "HBox(children=(IntProgress(value=1, bar_style='info', max=1), HTML(value='')))"
      ]
     },
     "metadata": {},
     "output_type": "display_data"
    },
    {
     "name": "stdout",
     "output_type": "stream",
     "text": [
      "\n"
     ]
    },
    {
     "name": "stderr",
     "output_type": "stream",
     "text": [
      "\n",
      " 60%|██████    | 6/10 [05:13<04:02, 60.51s/it]\u001b[A"
     ]
    },
    {
     "name": "stdout",
     "output_type": "stream",
     "text": [
      "5.510998686870312\n",
      "Compute...\n",
      "Make projection\n",
      "Starting cycle...\n"
     ]
    },
    {
     "data": {
      "application/vnd.jupyter.widget-view+json": {
       "model_id": "e6a153dd4d8c477f840daad28a5a3c46",
       "version_major": 2,
       "version_minor": 0
      },
      "text/plain": [
       "HBox(children=(IntProgress(value=1, bar_style='info', max=1), HTML(value='')))"
      ]
     },
     "metadata": {},
     "output_type": "display_data"
    },
    {
     "name": "stdout",
     "output_type": "stream",
     "text": [
      "\n"
     ]
    },
    {
     "name": "stderr",
     "output_type": "stream",
     "text": [
      "\n",
      " 70%|███████   | 7/10 [06:54<03:37, 72.65s/it]\u001b[A"
     ]
    },
    {
     "name": "stdout",
     "output_type": "stream",
     "text": [
      "6.510998666593649\n",
      "Compute...\n",
      "Make projection\n",
      "Starting cycle...\n"
     ]
    },
    {
     "data": {
      "application/vnd.jupyter.widget-view+json": {
       "model_id": "d16c3eafdea045d6a25fbbbfa7d522d1",
       "version_major": 2,
       "version_minor": 0
      },
      "text/plain": [
       "HBox(children=(IntProgress(value=1, bar_style='info', max=1), HTML(value='')))"
      ]
     },
     "metadata": {},
     "output_type": "display_data"
    },
    {
     "name": "stdout",
     "output_type": "stream",
     "text": [
      "\n"
     ]
    },
    {
     "name": "stderr",
     "output_type": "stream",
     "text": [
      "\n",
      " 80%|████████  | 8/10 [08:40<02:44, 82.42s/it]\u001b[A"
     ]
    },
    {
     "name": "stdout",
     "output_type": "stream",
     "text": [
      "7.510998798899285\n",
      "Compute...\n",
      "Make projection\n",
      "Starting cycle...\n"
     ]
    },
    {
     "data": {
      "application/vnd.jupyter.widget-view+json": {
       "model_id": "a13f46e020cc4b66a41bf27f9a23d5bf",
       "version_major": 2,
       "version_minor": 0
      },
      "text/plain": [
       "HBox(children=(IntProgress(value=1, bar_style='info', max=1), HTML(value='')))"
      ]
     },
     "metadata": {},
     "output_type": "display_data"
    },
    {
     "name": "stdout",
     "output_type": "stream",
     "text": [
      "\n"
     ]
    },
    {
     "name": "stderr",
     "output_type": "stream",
     "text": [
      "\n",
      " 90%|█████████ | 9/10 [10:35<01:32, 92.37s/it]\u001b[A"
     ]
    },
    {
     "name": "stdout",
     "output_type": "stream",
     "text": [
      "8.510999212171052\n",
      "Compute...\n",
      "Make projection\n",
      "Starting cycle...\n"
     ]
    },
    {
     "data": {
      "application/vnd.jupyter.widget-view+json": {
       "model_id": "949d89aab4c14c6bb819936608cbb31a",
       "version_major": 2,
       "version_minor": 0
      },
      "text/plain": [
       "HBox(children=(IntProgress(value=1, bar_style='info', max=1), HTML(value='')))"
      ]
     },
     "metadata": {},
     "output_type": "display_data"
    },
    {
     "name": "stdout",
     "output_type": "stream",
     "text": [
      "\n"
     ]
    },
    {
     "name": "stderr",
     "output_type": "stream",
     "text": [
      "\n",
      "100%|██████████| 10/10 [12:48<00:00, 104.39s/it]\u001b[A"
     ]
    },
    {
     "name": "stdout",
     "output_type": "stream",
     "text": [
      "9.510998837121212\n",
      "+\n"
     ]
    }
   ],
   "source": [
    "sigmas, MSEs, predictions = test_sigmas(model, use_spmt=False, time=True, recompute=True)"
   ]
  },
  {
   "cell_type": "code",
   "execution_count": 40,
   "metadata": {},
   "outputs": [
    {
     "data": {
      "text/plain": [
       "({0: 0.053916166585718815,\n",
       "  1: 0.03643840566115374,\n",
       "  2: 0.02948516976115405,\n",
       "  3: 0.02765475644038602,\n",
       "  4: 0.02171065805206162,\n",
       "  5: 0.020480393987286332,\n",
       "  6: 0.023320678019924265,\n",
       "  7: 0.018833693171700645,\n",
       "  8: 0.017531766143085104,\n",
       "  9: 0.018963850833917183},\n",
       " {0: 0.0069553942783653604,\n",
       "  1: 0.006271046692936007,\n",
       "  2: 0.015112403637028416,\n",
       "  3: 0.018532018694460476,\n",
       "  4: 0.017688744213495634,\n",
       "  5: 0.020462582027916836,\n",
       "  6: 0.029405630047082916,\n",
       "  7: 0.025622880837994765,\n",
       "  8: 0.028855586808029767,\n",
       "  9: 0.036545570524340924})"
      ]
     },
     "execution_count": 40,
     "metadata": {},
     "output_type": "execute_result"
    }
   ],
   "source": [
    "sigmas, MSEs"
   ]
  },
  {
   "cell_type": "code",
   "execution_count": 41,
   "metadata": {},
   "outputs": [],
   "source": [
    "a = 2.8\n",
    "b=0.59\n",
    "c=0\n"
   ]
  },
  {
   "cell_type": "code",
   "execution_count": 42,
   "metadata": {},
   "outputs": [
    {
     "data": {
      "text/plain": [
       "<matplotlib.legend.Legend at 0x7f58601719b0>"
      ]
     },
     "execution_count": 42,
     "metadata": {},
     "output_type": "execute_result"
    },
    {
     "data": {
      "image/png": "[encoded data removed]",
      "text/plain": [
       "<Figure size 720x720 with 1 Axes>"
      ]
     },
     "metadata": {
      "needs_background": "light"
     },
     "output_type": "display_data"
    }
   ],
   "source": [
    "# Plot sigmas\n",
    "Evis = np.array([en + 1.022  for en in range(10)])\n",
    "Perc_sigmas = [sigmas[en] for en in range(10)]\n",
    "perc_3_sqrt_E = [0.03 / np.sqrt(en) for en in Evis]\n",
    "fig = plt.figure(figsize=(10,10))\n",
    "plt.scatter(Evis, Perc_sigmas, label='Our sigma')\n",
    "plt.scatter(Evis, perc_3_sqrt_E, label=r'$\\frac{0.03}{\\sqrt{E}}$')\n",
    "plt.scatter(Evis, 0.01*np.sqrt((a/np.sqrt(Evis))**2 + b**2 + (c/Evis)**2), label=r'$abc$')\n",
    "plt.ylabel(\"std in per cent\")\n",
    "plt.xlabel(\"E visual\")\n",
    "plt.legend(fontsize=15)"
   ]
  },
  {
   "cell_type": "code",
   "execution_count": null,
   "metadata": {},
   "outputs": [],
   "source": []
  },
  {
   "cell_type": "code",
   "execution_count": null,
   "metadata": {},
   "outputs": [],
   "source": []
  },
  {
   "cell_type": "code",
   "execution_count": null,
   "metadata": {},
   "outputs": [],
   "source": []
  },
  {
   "cell_type": "code",
   "execution_count": null,
   "metadata": {},
   "outputs": [],
   "source": []
  },
  {
   "cell_type": "code",
   "execution_count": null,
   "metadata": {},
   "outputs": [],
   "source": []
  },
  {
   "cell_type": "code",
   "execution_count": null,
   "metadata": {},
   "outputs": [],
   "source": []
  }
 ],
 "metadata": {
  "kernelspec": {
   "display_name": "Python 3",
   "language": "python",
   "name": "python3"
  },
  "language_info": {
   "codemirror_mode": {
    "name": "ipython",
    "version": 3
   },
   "file_extension": ".py",
   "mimetype": "text/x-python",
   "name": "python",
   "nbconvert_exporter": "python",
   "pygments_lexer": "ipython3",
   "version": "3.5.6"
  }
 },
 "nbformat": 4,
 "nbformat_minor": 2
}
