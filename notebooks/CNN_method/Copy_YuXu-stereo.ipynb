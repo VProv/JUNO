{
 "cells": [
  {
   "cell_type": "code",
   "execution_count": 1,
   "metadata": {},
   "outputs": [],
   "source": [
    "# Preprocessing\n",
    "import pandas as pd\n",
    "import tables\n",
    "import time\n",
    "import numpy as np\n",
    "import gc\n",
    "from tqdm import tqdm_notebook\n",
    "from data_processing_xu import get_data_2dprojection\n",
    "import os\n",
    "import matplotlib.pyplot as plt"
   ]
  },
  {
   "cell_type": "code",
   "execution_count": 2,
   "metadata": {},
   "outputs": [],
   "source": [
    "import pandas as pd\n",
    "import numpy as np\n",
    "from pyproj import Proj, transform\n",
    "from tqdm import tqdm_notebook\n",
    "EPS = 1e-7\n",
    "\n",
    "def lat(x,y,z):\n",
    "    return np.arcsin(z/np.sqrt(x**2 + y**2 + z**2))\n",
    "\n",
    "def lon(x,y,z):\n",
    "    return np.arctan2(y,x)\n",
    "\n",
    "\n",
    "def get_data_2dprojection_stereo(lpmt_hits, spmt_hits, pos, true_info, edge_size1=110, edge_size2=110, use_spmt=False, time=None):\n",
    "    \"\"\"\n",
    "    Transfer data into 2d projection (moll) with 1 channel\n",
    "    Params:\n",
    "    ..., \n",
    "    edge_size : int - projection image size, \n",
    "    use_spmt : bool \n",
    "    \n",
    "    Returns:\n",
    "    data_lpmt: pd.DataFrame\n",
    "    event_to_id: dict\n",
    "    \"\"\"\n",
    "    channels = 1\n",
    "    if time == 'min':\n",
    "        channels = 2\n",
    "        \n",
    "    pos['lat'] = list(map(lambda el: lat(el[0],el[1],el[2]), zip(pos['pmt_x'], pos['pmt_y'], pos['pmt_z'])))\n",
    "    pos['lon'] = list(map(lambda el: lon(el[0],el[1],el[2]), zip(pos['pmt_x'], pos['pmt_y'], pos['pmt_z'])))\n",
    "    p1 = Proj(proj='latlong')\n",
    "    p2 = Proj(proj='stere')\n",
    "    pos['mol0'] = list(map(lambda el: transform(p1,p2,el[0],el[1])[0], zip(pos['lat'], pos['lon'])))\n",
    "    pos['mol1'] = list(map(lambda el: transform(p1,p2,el[0],el[1])[1], zip(pos['lat'], pos['lon'])))\n",
    "    \n",
    "    print(\"Make projection\")\n",
    "    if use_spmt:\n",
    "        lpmt_hits = pd.concat([lpmt_hits, spmt_hits])\n",
    "    merged_hits = pd.merge(lpmt_hits, pos, left_on='pmtID', right_on='pmt_id')\n",
    "    EPS = 1e-7\n",
    "    mol0min = -175000\n",
    "    mol0max = 175000\n",
    "    mol1min = -350000\n",
    "    mol1max = 350000\n",
    "    # Fit coordinates\n",
    "    merged_hits['mol0i'] = round((merged_hits['mol0'] - mol0min) / (mol0max - mol0min) * (edge_size1 - 1)).astype(int)\n",
    "    merged_hits['mol1i'] = round((merged_hits['mol1'] - mol1min) / (mol1max - mol1min) * (edge_size2 - 1)).astype(int)\n",
    "    \n",
    "    n = len(lpmt_hits['event'].unique())\n",
    "    data_lpmt = np.zeros((n, edge_size1, edge_size2, channels))\n",
    "    \n",
    "    event_to_id = {x:y for y, x in enumerate(sorted(merged_hits['event'].unique()))}\n",
    "    print(\"Starting cycle...\")\n",
    "    if time is None:\n",
    "        for event, mol0i, mol1i in tqdm_notebook(zip(merged_hits['event'], merged_hits['mol0i'], merged_hits['mol1i'])):\n",
    "            data_lpmt[event_to_id[event]][mol0i, mol1i] += 1\n",
    "    elif time == 'min':\n",
    "        data_lpmt[:,:,:,1] = -EPS\n",
    "        # Calculate min time for each event\n",
    "        ev_min = merged_hits[['event', 'hitTime']].groupby('event').min()\n",
    "        event2min = {id_: min_ for id_, min_ in zip(ev_min.index, ev_min.hitTime)}\n",
    "        ev_len = merged_hits[['event', 'hitTime']].groupby('event').count()\n",
    "        event2len = {id_: len_ for id_, len_ in zip(ev_len.index, ev_len.hitTime)}\n",
    "        \n",
    "        for event, mol0i, mol1i, time in tqdm_notebook(zip(merged_hits['event'], merged_hits['mol0i'], merged_hits['mol1i'], merged_hits['hitTime'])):\n",
    "            event_id = event_to_id[event]\n",
    "            data_lpmt[event_id][mol0i, mol1i][0] += 1 * 1000 / event2len[event]\n",
    "            event_min = event2min[event]\n",
    "            cur_min = data_lpmt[event_id][mol0i, mol1i][1] \n",
    "            if cur_min < 0 or cur_min > (time/100 - event_min/100):\n",
    "                data_lpmt[event_id][mol0i, mol1i][1] = (time - event_min)/100\n",
    "    return data_lpmt, event_to_id\n"
   ]
  },
  {
   "cell_type": "code",
   "execution_count": 3,
   "metadata": {},
   "outputs": [],
   "source": [
    "#DATA_DIR = '/storage/home/vprov/JUNO/JUNO_students/data/'\n",
    "#TRAIN_DIR = '/srv/hd5/data/vprov/data/phase_1/train/'\n",
    "TRAIN_DIR = '~/data/data_dir/'\n",
    "tr_lpmt_hits = pd.read_hdf(TRAIN_DIR + 'lpmt_hits.h5', mode='r') \n",
    "tr_spmt_hits = pd.read_hdf(TRAIN_DIR + 'spmt_hits.h5', mode='r')\n",
    "tr_pos = pd.read_csv(TRAIN_DIR + 'lpmt_pos.csv') \n",
    "tr_spmt_pos = pd.read_csv(TRAIN_DIR + 'spmt_pos.csv') \n",
    "tr_true_info = pd.read_csv(TRAIN_DIR + 'true_info.csv')"
   ]
  },
  {
   "cell_type": "code",
   "execution_count": 4,
   "metadata": {},
   "outputs": [],
   "source": [
    "MAXR=17200"
   ]
  },
  {
   "cell_type": "code",
   "execution_count": 5,
   "metadata": {},
   "outputs": [],
   "source": [
    "LTRAIN = '/mnt/iprovilkov/data_dir/npdata/'"
   ]
  },
  {
   "cell_type": "code",
   "execution_count": 6,
   "metadata": {},
   "outputs": [],
   "source": [
    "rg = np.arange(0,100000,15000)"
   ]
  },
  {
   "cell_type": "code",
   "execution_count": 7,
   "metadata": {},
   "outputs": [],
   "source": [
    "rg = rg[:3]"
   ]
  },
  {
   "cell_type": "code",
   "execution_count": 9,
   "metadata": {},
   "outputs": [
    {
     "name": "stdout",
     "output_type": "stream",
     "text": [
      "Make projection\n",
      "Starting cycle...\n"
     ]
    },
    {
     "data": {
      "application/vnd.jupyter.widget-view+json": {
       "model_id": "da174f85331e4d7dba3a630cbd74a34b",
       "version_major": 2,
       "version_minor": 0
      },
      "text/plain": [
       "HBox(children=(IntProgress(value=1, bar_style='info', max=1), HTML(value='')))"
      ]
     },
     "metadata": {},
     "output_type": "display_data"
    },
    {
     "name": "stdout",
     "output_type": "stream",
     "text": [
      "\n",
      "Make projection\n",
      "Starting cycle...\n"
     ]
    },
    {
     "data": {
      "application/vnd.jupyter.widget-view+json": {
       "model_id": "79bb0fd93c924b0895102a9e4c5ca1bd",
       "version_major": 2,
       "version_minor": 0
      },
      "text/plain": [
       "HBox(children=(IntProgress(value=1, bar_style='info', max=1), HTML(value='')))"
      ]
     },
     "metadata": {},
     "output_type": "display_data"
    },
    {
     "name": "stdout",
     "output_type": "stream",
     "text": [
      "\n"
     ]
    }
   ],
   "source": [
    "for start, end  in zip(rg[:-1], rg[1:]):\n",
    "    data_lpmt, event_to_id = get_data_2dprojection_stereo(tr_lpmt_hits[(tr_lpmt_hits['event'] >= start) & (tr_lpmt_hits['event'] < end)\n",
    "                                                                & (tr_lpmt_hits['isDN'] == False)], \n",
    "                                                tr_spmt_hits[(tr_spmt_hits['event'] >= start) & (tr_spmt_hits['event'] < end) \n",
    "                                                            & (tr_spmt_hits['isDN'] == False)], \n",
    "                                                tr_pos, \n",
    "                                                tr_true_info[(tr_true_info.R<=MAXR) \n",
    "                                                             & (tr_true_info['evtID'] >= start) \n",
    "                                                             & (tr_true_info['evtID'] < end)],\n",
    "                                                use_spmt=False,\n",
    "                                                time='min')\n",
    "    np.save(LTRAIN + '1_' + str(start) + 'without_noise' + '_time_min_xu_stereo', data_lpmt)"
   ]
  },
  {
   "cell_type": "code",
   "execution_count": 1,
   "metadata": {},
   "outputs": [
    {
     "ename": "NameError",
     "evalue": "name 'plt' is not defined",
     "output_type": "error",
     "traceback": [
      "\u001b[0;31m---------------------------------------------------------------------------\u001b[0m",
      "\u001b[0;31mNameError\u001b[0m                                 Traceback (most recent call last)",
      "\u001b[0;32m<ipython-input-1-7daaaf3a6532>\u001b[0m in \u001b[0;36m<module>\u001b[0;34m\u001b[0m\n\u001b[0;32m----> 1\u001b[0;31m \u001b[0mfig\u001b[0m \u001b[0;34m=\u001b[0m \u001b[0mplt\u001b[0m\u001b[0;34m.\u001b[0m\u001b[0mfigure\u001b[0m\u001b[0;34m(\u001b[0m\u001b[0mfigsize\u001b[0m\u001b[0;34m=\u001b[0m\u001b[0;34m(\u001b[0m\u001b[0;36m10\u001b[0m\u001b[0;34m,\u001b[0m\u001b[0;36m8\u001b[0m\u001b[0;34m)\u001b[0m\u001b[0;34m)\u001b[0m\u001b[0;34m\u001b[0m\u001b[0m\n\u001b[0m\u001b[1;32m      2\u001b[0m \u001b[0mplt\u001b[0m\u001b[0;34m.\u001b[0m\u001b[0mimshow\u001b[0m\u001b[0;34m(\u001b[0m\u001b[0mdata_lpmt\u001b[0m\u001b[0;34m[\u001b[0m\u001b[0;36m0\u001b[0m\u001b[0;34m]\u001b[0m\u001b[0;34m[\u001b[0m\u001b[0;34m:\u001b[0m\u001b[0;34m,\u001b[0m\u001b[0;34m:\u001b[0m\u001b[0;34m,\u001b[0m\u001b[0;36m1\u001b[0m\u001b[0;34m]\u001b[0m\u001b[0;34m)\u001b[0m\u001b[0;34m\u001b[0m\u001b[0m\n",
      "\u001b[0;31mNameError\u001b[0m: name 'plt' is not defined"
     ]
    }
   ],
   "source": [
    "fig = plt.figure(figsize=(10,8))\n",
    "plt.imshow(data_lpmt[0][:,:,1])"
   ]
  },
  {
   "cell_type": "code",
   "execution_count": 22,
   "metadata": {},
   "outputs": [],
   "source": [
    "import numpy as np\n",
    "import os\n",
    "from sklearn.model_selection import train_test_split\n",
    "import tensorflow as tf"
   ]
  },
  {
   "cell_type": "code",
   "execution_count": 23,
   "metadata": {},
   "outputs": [],
   "source": [
    "os.environ[\"CUDA_DEVICE_ORDER\"]=\"PCI_BUS_ID\"\n",
    "os.environ[\"CUDA_VISIBLE_DEVICES\"]=\"1\""
   ]
  },
  {
   "cell_type": "code",
   "execution_count": 24,
   "metadata": {},
   "outputs": [],
   "source": [
    "import tensorflow as tf\n",
    "sess = tf.Session(config=tf.ConfigProto(log_device_placement=True))"
   ]
  },
  {
   "cell_type": "code",
   "execution_count": 25,
   "metadata": {},
   "outputs": [
    {
     "name": "stderr",
     "output_type": "stream",
     "text": [
      "Using TensorFlow backend.\n"
     ]
    }
   ],
   "source": [
    "import keras\n",
    "import keras.layers as L\n",
    "from keras.models import Sequential"
   ]
  },
  {
   "cell_type": "code",
   "execution_count": 26,
   "metadata": {},
   "outputs": [],
   "source": [
    "model = Sequential()\n",
    "model.add(L.Conv2D(filters=32, kernel_size=(3,3),activation='relu', strides=(1,1)))\n",
    "model.add(L.MaxPool2D(strides=(2,2)))\n",
    "model.add(L.Conv2D(filters=64, kernel_size=(3,3),activation='relu', strides=(1,1)))\n",
    "model.add(L.MaxPool2D(strides=(2,2)))\n",
    "model.add(L.Conv2D(filters=128, kernel_size=(3,3),activation='relu', strides=(1,1)))\n",
    "model.add(L.MaxPool2D(strides=(2,2)))\n",
    "model.add(L.Conv2D(filters=128, kernel_size=(3,3),activation='relu'))\n",
    "model.add(L.Flatten())\n",
    "model.add(L.Dense(256, activation='relu'))\n",
    "model.add(L.Dense(256, activation='relu'))\n",
    "model.add(L.Dense(1))"
   ]
  },
  {
   "cell_type": "code",
   "execution_count": 27,
   "metadata": {},
   "outputs": [
    {
     "name": "stdout",
     "output_type": "stream",
     "text": [
      "_________________________________________________________________\n",
      "Layer (type)                 Output Shape              Param #   \n",
      "=================================================================\n",
      "conv2d_1 (Conv2D)            (None, 109, 224, 32)      608       \n",
      "_________________________________________________________________\n",
      "max_pooling2d_1 (MaxPooling2 (None, 54, 112, 32)       0         \n",
      "_________________________________________________________________\n",
      "conv2d_2 (Conv2D)            (None, 52, 110, 64)       18496     \n",
      "_________________________________________________________________\n",
      "max_pooling2d_2 (MaxPooling2 (None, 26, 55, 64)        0         \n",
      "_________________________________________________________________\n",
      "conv2d_3 (Conv2D)            (None, 24, 53, 128)       73856     \n",
      "_________________________________________________________________\n",
      "max_pooling2d_3 (MaxPooling2 (None, 12, 26, 128)       0         \n",
      "_________________________________________________________________\n",
      "conv2d_4 (Conv2D)            (None, 10, 24, 128)       147584    \n",
      "_________________________________________________________________\n",
      "flatten_1 (Flatten)          (None, 30720)             0         \n",
      "_________________________________________________________________\n",
      "dense_1 (Dense)              (None, 256)               7864576   \n",
      "_________________________________________________________________\n",
      "dense_2 (Dense)              (None, 256)               65792     \n",
      "_________________________________________________________________\n",
      "dense_3 (Dense)              (None, 1)                 257       \n",
      "=================================================================\n",
      "Total params: 8,171,169\n",
      "Trainable params: 8,171,169\n",
      "Non-trainable params: 0\n",
      "_________________________________________________________________\n"
     ]
    }
   ],
   "source": [
    "from keras.optimizers import Adam\n",
    "opt = Adam(decay=1e-4)\n",
    "model.compile(loss='mean_squared_error', optimizer=opt)\n",
    "model.build(input_shape=(None, 111,226,2))\n",
    "model.summary()"
   ]
  },
  {
   "cell_type": "code",
   "execution_count": 28,
   "metadata": {},
   "outputs": [],
   "source": [
    "logdir = 'log_YuXu_stereo.csv'"
   ]
  },
  {
   "cell_type": "code",
   "execution_count": 29,
   "metadata": {},
   "outputs": [],
   "source": [
    "from keras.callbacks import CSVLogger\n",
    "\n",
    "csv_logger = CSVLogger(logdir, append=True, separator=';')"
   ]
  },
  {
   "cell_type": "code",
   "execution_count": 30,
   "metadata": {},
   "outputs": [],
   "source": [
    "from keras.callbacks import ReduceLROnPlateau\n",
    "reduce_lr = ReduceLROnPlateau(monitor='val_loss', factor=0.2,\n",
    "                              patience=5, min_lr=0.000001)"
   ]
  },
  {
   "cell_type": "code",
   "execution_count": 35,
   "metadata": {},
   "outputs": [],
   "source": [
    "epochs = [5,5,5,3,3,1,1,1,1,1]"
   ]
  },
  {
   "cell_type": "code",
   "execution_count": 36,
   "metadata": {
    "scrolled": true
   },
   "outputs": [
    {
     "name": "stdout",
     "output_type": "stream",
     "text": [
      "Train on 11020 samples, validate on 2756 samples\n",
      "Epoch 1/5\n",
      "11020/11020 [==============================] - 28s 3ms/step - loss: 0.0276 - val_loss: 0.0278\n",
      "Epoch 2/5\n",
      "11020/11020 [==============================] - 27s 2ms/step - loss: 0.0246 - val_loss: 0.0227\n",
      "Epoch 3/5\n",
      "11020/11020 [==============================] - 29s 3ms/step - loss: 0.0231 - val_loss: 0.0242\n",
      "Epoch 4/5\n",
      "11020/11020 [==============================] - 30s 3ms/step - loss: 0.0188 - val_loss: 0.0201\n",
      "Epoch 5/5\n",
      "11020/11020 [==============================] - 27s 2ms/step - loss: 0.0172 - val_loss: 0.0399\n",
      "Train on 10988 samples, validate on 2747 samples\n",
      "Epoch 1/5\n",
      "10988/10988 [==============================] - 27s 2ms/step - loss: 0.0310 - val_loss: 0.0266\n",
      "Epoch 2/5\n",
      "10988/10988 [==============================] - 26s 2ms/step - loss: 0.0218 - val_loss: 0.0188\n",
      "Epoch 3/5\n",
      "10988/10988 [==============================] - 26s 2ms/step - loss: 0.0222 - val_loss: 0.0217\n",
      "Epoch 4/5\n",
      "10988/10988 [==============================] - 27s 2ms/step - loss: 0.0170 - val_loss: 0.0199\n",
      "Epoch 5/5\n",
      "10988/10988 [==============================] - 27s 2ms/step - loss: 0.0162 - val_loss: 0.0230\n",
      "Train on 11020 samples, validate on 2756 samples\n",
      "Epoch 1/5\n",
      "11020/11020 [==============================] - 26s 2ms/step - loss: 0.0211 - val_loss: 0.0402\n",
      "Epoch 2/5\n",
      "11020/11020 [==============================] - 26s 2ms/step - loss: 0.0158 - val_loss: 0.0250\n",
      "Epoch 3/5\n",
      "11020/11020 [==============================] - 27s 2ms/step - loss: 0.0135 - val_loss: 0.0228\n",
      "Epoch 4/5\n",
      "11020/11020 [==============================] - 28s 2ms/step - loss: 0.0124 - val_loss: 0.0216\n",
      "Epoch 5/5\n",
      "11020/11020 [==============================] - 27s 2ms/step - loss: 0.0124 - val_loss: 0.0230\n",
      "Train on 10988 samples, validate on 2747 samples\n",
      "Epoch 1/5\n",
      "10988/10988 [==============================] - 25s 2ms/step - loss: 0.0188 - val_loss: 0.0248\n",
      "Epoch 2/5\n",
      "10988/10988 [==============================] - 26s 2ms/step - loss: 0.0135 - val_loss: 0.0233\n",
      "Epoch 3/5\n",
      "10988/10988 [==============================] - 26s 2ms/step - loss: 0.0167 - val_loss: 0.0702\n",
      "Epoch 4/5\n",
      "10988/10988 [==============================] - 26s 2ms/step - loss: 0.0189 - val_loss: 0.0243\n",
      "Epoch 5/5\n",
      "10988/10988 [==============================] - 27s 2ms/step - loss: 0.0144 - val_loss: 0.0338\n",
      "Train on 11020 samples, validate on 2756 samples\n",
      "Epoch 1/5\n",
      "11020/11020 [==============================] - 26s 2ms/step - loss: 0.0144 - val_loss: 0.0220\n",
      "Epoch 2/5\n",
      "11020/11020 [==============================] - 26s 2ms/step - loss: 0.0108 - val_loss: 0.0230\n",
      "Epoch 3/5\n",
      "11020/11020 [==============================] - 26s 2ms/step - loss: 0.0078 - val_loss: 0.0248\n",
      "Epoch 4/5\n",
      "11020/11020 [==============================] - 26s 2ms/step - loss: 0.0065 - val_loss: 0.0219\n",
      "Epoch 5/5\n",
      "11020/11020 [==============================] - 26s 2ms/step - loss: 0.0072 - val_loss: 0.0232\n",
      "Train on 10988 samples, validate on 2747 samples\n",
      "Epoch 1/5\n",
      "10988/10988 [==============================] - 27s 2ms/step - loss: 0.0111 - val_loss: 0.0218\n",
      "Epoch 2/5\n",
      "10988/10988 [==============================] - 26s 2ms/step - loss: 0.0084 - val_loss: 0.0404\n",
      "Epoch 3/5\n",
      "10988/10988 [==============================] - 27s 2ms/step - loss: 0.0092 - val_loss: 0.0257\n",
      "Epoch 4/5\n",
      "10988/10988 [==============================] - 26s 2ms/step - loss: 0.0126 - val_loss: 0.0217\n",
      "Epoch 5/5\n",
      "10988/10988 [==============================] - 26s 2ms/step - loss: 0.0113 - val_loss: 0.0247\n",
      "Train on 11020 samples, validate on 2756 samples\n",
      "Epoch 1/3\n",
      "11020/11020 [==============================] - 26s 2ms/step - loss: 0.0084 - val_loss: 0.0242\n",
      "Epoch 2/3\n",
      "11020/11020 [==============================] - 26s 2ms/step - loss: 0.0068 - val_loss: 0.0284\n",
      "Epoch 3/3\n",
      "11020/11020 [==============================] - 26s 2ms/step - loss: 0.0044 - val_loss: 0.0252\n",
      "Train on 10988 samples, validate on 2747 samples\n",
      "Epoch 1/3\n",
      "10988/10988 [==============================] - 27s 2ms/step - loss: 0.0077 - val_loss: 0.0235\n",
      "Epoch 2/3\n",
      "10988/10988 [==============================] - 26s 2ms/step - loss: 0.0073 - val_loss: 0.0234\n",
      "Epoch 3/3\n",
      "10988/10988 [==============================] - 27s 2ms/step - loss: 0.0071 - val_loss: 0.0230\n",
      "Train on 11020 samples, validate on 2756 samples\n",
      "Epoch 1/3\n",
      "11020/11020 [==============================] - 26s 2ms/step - loss: 0.0056 - val_loss: 0.0228\n",
      "Epoch 2/3\n",
      "11020/11020 [==============================] - 26s 2ms/step - loss: 0.0039 - val_loss: 0.0243\n",
      "Epoch 3/3\n",
      "11020/11020 [==============================] - 26s 2ms/step - loss: 0.0032 - val_loss: 0.0229\n",
      "Train on 10988 samples, validate on 2747 samples\n",
      "Epoch 1/3\n",
      "10988/10988 [==============================] - 25s 2ms/step - loss: 0.0071 - val_loss: 0.0281\n",
      "Epoch 2/3\n",
      "10988/10988 [==============================] - 26s 2ms/step - loss: 0.0051 - val_loss: 0.0224\n",
      "Epoch 3/3\n",
      "10988/10988 [==============================] - 26s 2ms/step - loss: 0.0046 - val_loss: 0.0238\n",
      "Train on 11020 samples, validate on 2756 samples\n",
      "Epoch 1/1\n",
      "11020/11020 [==============================] - 26s 2ms/step - loss: 0.0052 - val_loss: 0.0229\n",
      "Train on 10988 samples, validate on 2747 samples\n",
      "Epoch 1/1\n",
      "10988/10988 [==============================] - 27s 2ms/step - loss: 0.0045 - val_loss: 0.0221\n",
      "Train on 11020 samples, validate on 2756 samples\n",
      "Epoch 1/1\n",
      "11020/11020 [==============================] - 26s 2ms/step - loss: 0.0058 - val_loss: 0.0229\n",
      "Train on 10988 samples, validate on 2747 samples\n",
      "Epoch 1/1\n",
      "10988/10988 [==============================] - 27s 2ms/step - loss: 0.0036 - val_loss: 0.0223\n",
      "Train on 11020 samples, validate on 2756 samples\n",
      "Epoch 1/1\n",
      "11020/11020 [==============================] - 26s 2ms/step - loss: 0.0051 - val_loss: 0.0368\n",
      "Train on 10988 samples, validate on 2747 samples\n",
      "Epoch 1/1\n",
      "10988/10988 [==============================] - 26s 2ms/step - loss: 0.0041 - val_loss: 0.0337\n",
      "Train on 11020 samples, validate on 2756 samples\n",
      "Epoch 1/1\n",
      "11020/11020 [==============================] - 26s 2ms/step - loss: 0.0038 - val_loss: 0.0235\n",
      "Train on 10988 samples, validate on 2747 samples\n",
      "Epoch 1/1\n",
      "10988/10988 [==============================] - 26s 2ms/step - loss: 0.0059 - val_loss: 0.0233\n",
      "Train on 11020 samples, validate on 2756 samples\n",
      "Epoch 1/1\n",
      "11020/11020 [==============================] - 26s 2ms/step - loss: 0.0047 - val_loss: 0.0240\n",
      "Train on 10988 samples, validate on 2747 samples\n",
      "Epoch 1/1\n",
      "10988/10988 [==============================] - 27s 2ms/step - loss: 0.0041 - val_loss: 0.0223\n"
     ]
    }
   ],
   "source": [
    "import gc\n",
    "for i in range(len(epochs)):\n",
    "    for start, end in zip(rg[:-1], rg[1:]):\n",
    "        data_lpmt = np.load(LTRAIN + '1_' + str(start) +'without_noise_time_min_xu_stereo'+ '.npy')\n",
    "        ys = tr_true_info[(tr_true_info['evtID'] >= start) \n",
    "                            & (tr_true_info['evtID'] < end)]\n",
    "        mask = (ys.R <= MAXR)\n",
    "        data_lpmt = data_lpmt[mask]\n",
    "        y_val = ys[mask][['E']].values\n",
    "        \n",
    "        X_train, X_test, y_train, y_test = train_test_split(data_lpmt, y_val, test_size=0.2, random_state=45)\n",
    "        out = model.fit(X_train, y_train, batch_size=32, \n",
    "                epochs=epochs[i],\n",
    "                callbacks=[csv_logger, reduce_lr],\n",
    "                validation_data=(X_test, y_test),\n",
    "                shuffle=True)\n",
    "    gc.collect()"
   ]
  },
  {
   "cell_type": "code",
   "execution_count": 37,
   "metadata": {},
   "outputs": [],
   "source": [
    "LTRAIN = '/mnt/iprovilkov/data_dir/npdata/'"
   ]
  },
  {
   "cell_type": "code",
   "execution_count": 38,
   "metadata": {},
   "outputs": [],
   "source": [
    "MAXR=17200"
   ]
  },
  {
   "cell_type": "code",
   "execution_count": 39,
   "metadata": {},
   "outputs": [],
   "source": [
    "import pandas as pd\n",
    "import matplotlib.pyplot as plt"
   ]
  },
  {
   "cell_type": "code",
   "execution_count": 40,
   "metadata": {},
   "outputs": [],
   "source": [
    "cs = pd.read_csv(logdir, sep=';')"
   ]
  },
  {
   "cell_type": "code",
   "execution_count": 41,
   "metadata": {},
   "outputs": [
    {
     "data": {
      "text/plain": [
       "(0, 0.3)"
      ]
     },
     "execution_count": 41,
     "metadata": {},
     "output_type": "execute_result"
    },
    {
     "data": {
      "image/png": "[encoded data removed]",
      "text/plain": [
       "<Figure size 432x288 with 1 Axes>"
      ]
     },
     "metadata": {
      "needs_background": "light"
     },
     "output_type": "display_data"
    }
   ],
   "source": [
    "plt.scatter(np.arange(0, cs.shape[0]), cs['val_loss'].values)\n",
    "plt.ylim(0,0.3)"
   ]
  },
  {
   "cell_type": "code",
   "execution_count": 42,
   "metadata": {},
   "outputs": [
    {
     "data": {
      "text/plain": [
       "(0, 0.5)"
      ]
     },
     "execution_count": 42,
     "metadata": {},
     "output_type": "execute_result"
    },
    {
     "data": {
      "image/png": "[encoded data removed]",
      "text/plain": [
       "<Figure size 432x288 with 1 Axes>"
      ]
     },
     "metadata": {
      "needs_background": "light"
     },
     "output_type": "display_data"
    }
   ],
   "source": [
    "plt.scatter(np.arange(0, cs.shape[0]), cs['loss'].values)\n",
    "plt.ylim(0,0.5)"
   ]
  },
  {
   "cell_type": "code",
   "execution_count": null,
   "metadata": {},
   "outputs": [],
   "source": [
    "model.save_weights('ResNet70.h5')"
   ]
  },
  {
   "cell_type": "code",
   "execution_count": null,
   "metadata": {},
   "outputs": [],
   "source": [
    "with open(\"ResNet70.json\", \"w\") as json_file:\n",
    "    json_file.write(model.to_json())"
   ]
  },
  {
   "cell_type": "code",
   "execution_count": 43,
   "metadata": {},
   "outputs": [],
   "source": [
    "from sklearn.metrics.pairwise import paired_euclidean_distances\n",
    "from sklearn.metrics import mean_squared_error"
   ]
  },
  {
   "cell_type": "code",
   "execution_count": 44,
   "metadata": {},
   "outputs": [],
   "source": [
    "preds = np.maximum(model.predict(X_test), 0)\n",
    "test_resultsE = mean_squared_error(preds[:,0], y_test[:,0])"
   ]
  },
  {
   "cell_type": "code",
   "execution_count": 45,
   "metadata": {},
   "outputs": [
    {
     "data": {
      "text/plain": [
       "0.022333011232241216"
      ]
     },
     "execution_count": 45,
     "metadata": {},
     "output_type": "execute_result"
    }
   ],
   "source": [
    "test_resultsE.mean()"
   ]
  },
  {
   "cell_type": "code",
   "execution_count": 46,
   "metadata": {},
   "outputs": [
    {
     "data": {
      "text/plain": [
       "(-0.05, 0.05)"
      ]
     },
     "execution_count": 46,
     "metadata": {},
     "output_type": "execute_result"
    },
    {
     "data": {
      "image/png": "[encoded data removed]",
      "text/plain": [
       "<Figure size 432x288 with 1 Axes>"
      ]
     },
     "metadata": {
      "needs_background": "light"
     },
     "output_type": "display_data"
    }
   ],
   "source": [
    "plt.hist((preds[:,0] - y_test[:,0])/y_test[:,0], bins=200)\n",
    "plt.xlim((-0.05,0.05))"
   ]
  },
  {
   "cell_type": "code",
   "execution_count": 47,
   "metadata": {},
   "outputs": [],
   "source": [
    "from tqdm import tqdm"
   ]
  },
  {
   "cell_type": "code",
   "execution_count": 48,
   "metadata": {},
   "outputs": [],
   "source": [
    "root_data_path = '/mnt/iprovilkov/data_dir/0MeV_lpmt_hits.h5'"
   ]
  },
  {
   "cell_type": "code",
   "execution_count": 50,
   "metadata": {},
   "outputs": [],
   "source": [
    "from sklearn.metrics.pairwise import paired_euclidean_distances\n",
    "from sklearn.metrics import mean_squared_error\n",
    "\n",
    "def test_sigmas(model, test_dir='/mnt/iprovilkov/data_dir/', test_column='E', MAXR=MAXR, use_spmt=False,\n",
    "                time=False, recompute=False):\n",
    "    sigmas = {}\n",
    "    MSEs = {}\n",
    "    predictions = {}\n",
    "    CONST = 1.022\n",
    "    for energy in tqdm(range(10)):\n",
    "        try:\n",
    "            if recompute:\n",
    "                raise Exception(\"Recompute\")\n",
    "            if time:\n",
    "                data_lpmt = np.load(test_dir + str(energy) + 'data_lpmt_time_YuXu_stereo.npy')\n",
    "            else:\n",
    "                data_lpmt = np.load(test_dir + str(energy) + 'data_lpmt_YuXu_stereo.npy')\n",
    "            true_info = pd.read_csv(TRAIN_DIR + str(energy)+'MeV_'+'true_info.csv')\n",
    "        except: \n",
    "            print(\"Compute...\")\n",
    "            lpmt_hits = pd.read_hdf(test_dir + str(energy)+'MeV_'+ 'lpmt_hits.h5', mode='r') \n",
    "            spmt_hits = pd.read_hdf(test_dir + str(energy)+'MeV_'+'spmt_hits.h5', mode='r')\n",
    "            lpmt_hits = lpmt_hits[lpmt_hits.isDN==False]\n",
    "            spmt_hits = spmt_hits[spmt_hits.isDN==False]\n",
    "            pos = pd.read_csv(TRAIN_DIR + str(energy)+'MeV_'+'lpmt_pos.csv') \n",
    "            spmt_pos = pd.read_csv(TRAIN_DIR + str(energy)+'MeV_'+'spmt_pos.csv') \n",
    "            true_info = pd.read_csv(TRAIN_DIR + str(energy)+'MeV_'+'true_info.csv')\n",
    "            if time:\n",
    "                data_lpmt, event_to_id = get_data_2dprojection_stereo(lpmt_hits, \n",
    "                                    spmt_hits, \n",
    "                                    pos, \n",
    "                                    true_info,\n",
    "                                    use_spmt=use_spmt,\n",
    "                                    time='min')\n",
    "                np.save(test_dir+str(energy)+'data_lpmt_time_YuXu_stereo', data_lpmt)\n",
    "            else:\n",
    "                data_lpmt, event_to_id = get_data_2dprojection_stereo(lpmt_hits, \n",
    "                                    spmt_hits, \n",
    "                                    pos, \n",
    "                                    true_info,\n",
    "                                    use_spmt=True)\n",
    "                np.save(test_dir+str(energy)+'data_lpmt_YuXu_stereo', data_lpmt)\n",
    "        mask = (true_info.R<=MAXR)\n",
    "        data_lpmt = data_lpmt[mask]\n",
    "        true_info = true_info[mask]\n",
    "        preds = np.maximum(model.predict(data_lpmt), 0)\n",
    "        y_test = true_info[test_column]\n",
    "        print(y_test.mean())\n",
    "        predictions[energy] = preds\n",
    "        MSEs[energy] = mean_squared_error(preds, y_test)\n",
    "        # in percents\n",
    "        sigmas[energy] = np.std(preds - y_test.mean()) / (energy + CONST)\n",
    "    print(\"+\")\n",
    "    return sigmas, MSEs, predictions"
   ]
  },
  {
   "cell_type": "code",
   "execution_count": 51,
   "metadata": {},
   "outputs": [
    {
     "name": "stderr",
     "output_type": "stream",
     "text": [
      "\r",
      "  0%|          | 0/10 [00:00<?, ?it/s]"
     ]
    },
    {
     "name": "stdout",
     "output_type": "stream",
     "text": [
      "Compute...\n",
      "Make projection\n",
      "Starting cycle...\n"
     ]
    },
    {
     "data": {
      "application/vnd.jupyter.widget-view+json": {
       "model_id": "ee06761e12aa41f3be1e0c42ab29dfc7",
       "version_major": 2,
       "version_minor": 0
      },
      "text/plain": [
       "HBox(children=(IntProgress(value=1, bar_style='info', max=1), HTML(value='')))"
      ]
     },
     "metadata": {},
     "output_type": "display_data"
    },
    {
     "name": "stdout",
     "output_type": "stream",
     "text": [
      "\n"
     ]
    },
    {
     "name": "stderr",
     "output_type": "stream",
     "text": [
      "\r",
      " 10%|█         | 1/10 [01:02<09:24, 62.70s/it]"
     ]
    },
    {
     "name": "stdout",
     "output_type": "stream",
     "text": [
      "0.5109988999999999\n",
      "Compute...\n",
      "Make projection\n",
      "Starting cycle...\n"
     ]
    },
    {
     "data": {
      "application/vnd.jupyter.widget-view+json": {
       "model_id": "93987a1b7c944562ae949f2450f612a7",
       "version_major": 2,
       "version_minor": 0
      },
      "text/plain": [
       "HBox(children=(IntProgress(value=1, bar_style='info', max=1), HTML(value='')))"
      ]
     },
     "metadata": {},
     "output_type": "display_data"
    },
    {
     "name": "stdout",
     "output_type": "stream",
     "text": [
      "\n"
     ]
    },
    {
     "name": "stderr",
     "output_type": "stream",
     "text": [
      "\r",
      " 20%|██        | 2/10 [02:18<08:52, 66.62s/it]"
     ]
    },
    {
     "name": "stdout",
     "output_type": "stream",
     "text": [
      "1.5109988697622994\n",
      "Compute...\n",
      "Make projection\n",
      "Starting cycle...\n"
     ]
    },
    {
     "data": {
      "application/vnd.jupyter.widget-view+json": {
       "model_id": "ad6a5c743bd5448c8a8a7d1aa53abce0",
       "version_major": 2,
       "version_minor": 0
      },
      "text/plain": [
       "HBox(children=(IntProgress(value=1, bar_style='info', max=1), HTML(value='')))"
      ]
     },
     "metadata": {},
     "output_type": "display_data"
    },
    {
     "name": "stdout",
     "output_type": "stream",
     "text": [
      "\n"
     ]
    },
    {
     "name": "stderr",
     "output_type": "stream",
     "text": [
      "\r",
      " 30%|███       | 3/10 [03:46<08:30, 72.94s/it]"
     ]
    },
    {
     "name": "stdout",
     "output_type": "stream",
     "text": [
      "2.5109990065502177\n",
      "Compute...\n",
      "Make projection\n",
      "Starting cycle...\n"
     ]
    },
    {
     "data": {
      "application/vnd.jupyter.widget-view+json": {
       "model_id": "afe8818810784b0283c2f1c18d6ea72c",
       "version_major": 2,
       "version_minor": 0
      },
      "text/plain": [
       "HBox(children=(IntProgress(value=1, bar_style='info', max=1), HTML(value='')))"
      ]
     },
     "metadata": {},
     "output_type": "display_data"
    },
    {
     "name": "stdout",
     "output_type": "stream",
     "text": [
      "\n"
     ]
    },
    {
     "name": "stderr",
     "output_type": "stream",
     "text": [
      "\r",
      " 40%|████      | 4/10 [05:26<08:07, 81.29s/it]"
     ]
    },
    {
     "name": "stdout",
     "output_type": "stream",
     "text": [
      "3.5109988987951803\n",
      "Compute...\n",
      "Make projection\n",
      "Starting cycle...\n"
     ]
    },
    {
     "data": {
      "application/vnd.jupyter.widget-view+json": {
       "model_id": "8a31716a5b094b3f97214dc23724399c",
       "version_major": 2,
       "version_minor": 0
      },
      "text/plain": [
       "HBox(children=(IntProgress(value=1, bar_style='info', max=1), HTML(value='')))"
      ]
     },
     "metadata": {},
     "output_type": "display_data"
    },
    {
     "name": "stdout",
     "output_type": "stream",
     "text": [
      "\n"
     ]
    },
    {
     "name": "stderr",
     "output_type": "stream",
     "text": [
      "\r",
      " 50%|█████     | 5/10 [07:20<07:35, 91.09s/it]"
     ]
    },
    {
     "name": "stdout",
     "output_type": "stream",
     "text": [
      "4.510998806956522\n",
      "Compute...\n",
      "Make projection\n",
      "Starting cycle...\n"
     ]
    },
    {
     "data": {
      "application/vnd.jupyter.widget-view+json": {
       "model_id": "37a4d27768614dc790e5e3aa1251323b",
       "version_major": 2,
       "version_minor": 0
      },
      "text/plain": [
       "HBox(children=(IntProgress(value=1, bar_style='info', max=1), HTML(value='')))"
      ]
     },
     "metadata": {},
     "output_type": "display_data"
    },
    {
     "name": "stdout",
     "output_type": "stream",
     "text": [
      "\n"
     ]
    },
    {
     "name": "stderr",
     "output_type": "stream",
     "text": [
      "\r",
      " 60%|██████    | 6/10 [09:28<06:47, 101.94s/it]"
     ]
    },
    {
     "name": "stdout",
     "output_type": "stream",
     "text": [
      "5.510998686870312\n",
      "Compute...\n",
      "Make projection\n",
      "Starting cycle...\n"
     ]
    },
    {
     "data": {
      "application/vnd.jupyter.widget-view+json": {
       "model_id": "f015f5217bf0420e8468bac6bdcee2e1",
       "version_major": 2,
       "version_minor": 0
      },
      "text/plain": [
       "HBox(children=(IntProgress(value=1, bar_style='info', max=1), HTML(value='')))"
      ]
     },
     "metadata": {},
     "output_type": "display_data"
    },
    {
     "name": "stdout",
     "output_type": "stream",
     "text": [
      "\n"
     ]
    },
    {
     "name": "stderr",
     "output_type": "stream",
     "text": [
      "\r",
      " 70%|███████   | 7/10 [11:44<05:37, 112.34s/it]"
     ]
    },
    {
     "name": "stdout",
     "output_type": "stream",
     "text": [
      "6.510998666593649\n",
      "Compute...\n",
      "Make projection\n",
      "Starting cycle...\n"
     ]
    },
    {
     "data": {
      "application/vnd.jupyter.widget-view+json": {
       "model_id": "ec33087a30e2437faa87da0bbc56e929",
       "version_major": 2,
       "version_minor": 0
      },
      "text/plain": [
       "HBox(children=(IntProgress(value=1, bar_style='info', max=1), HTML(value='')))"
      ]
     },
     "metadata": {},
     "output_type": "display_data"
    },
    {
     "name": "stdout",
     "output_type": "stream",
     "text": [
      "\n"
     ]
    },
    {
     "name": "stderr",
     "output_type": "stream",
     "text": [
      "\r",
      " 80%|████████  | 8/10 [14:14<04:07, 123.54s/it]"
     ]
    },
    {
     "name": "stdout",
     "output_type": "stream",
     "text": [
      "7.510998798899285\n",
      "Compute...\n",
      "Make projection\n",
      "Starting cycle...\n"
     ]
    },
    {
     "data": {
      "application/vnd.jupyter.widget-view+json": {
       "model_id": "e5e5972ed14e4eb0aaefe90ed0482dde",
       "version_major": 2,
       "version_minor": 0
      },
      "text/plain": [
       "HBox(children=(IntProgress(value=1, bar_style='info', max=1), HTML(value='')))"
      ]
     },
     "metadata": {},
     "output_type": "display_data"
    },
    {
     "name": "stdout",
     "output_type": "stream",
     "text": [
      "\n"
     ]
    },
    {
     "name": "stderr",
     "output_type": "stream",
     "text": [
      "\r",
      " 90%|█████████ | 9/10 [16:56<02:15, 135.08s/it]"
     ]
    },
    {
     "name": "stdout",
     "output_type": "stream",
     "text": [
      "8.510999212171052\n",
      "Compute...\n",
      "Make projection\n",
      "Starting cycle...\n"
     ]
    },
    {
     "data": {
      "application/vnd.jupyter.widget-view+json": {
       "model_id": "94e89eec3b614d1484fb119dd68afb04",
       "version_major": 2,
       "version_minor": 0
      },
      "text/plain": [
       "HBox(children=(IntProgress(value=1, bar_style='info', max=1), HTML(value='')))"
      ]
     },
     "metadata": {},
     "output_type": "display_data"
    },
    {
     "name": "stdout",
     "output_type": "stream",
     "text": [
      "\n"
     ]
    },
    {
     "name": "stderr",
     "output_type": "stream",
     "text": [
      "\r",
      "100%|██████████| 10/10 [19:52<00:00, 147.44s/it]"
     ]
    },
    {
     "name": "stdout",
     "output_type": "stream",
     "text": [
      "9.510998837121212\n",
      "+\n"
     ]
    },
    {
     "name": "stderr",
     "output_type": "stream",
     "text": [
      "\n"
     ]
    }
   ],
   "source": [
    "sigmas, MSEs, predictions = test_sigmas(model, use_spmt=False, time=True, recompute=True)"
   ]
  },
  {
   "cell_type": "code",
   "execution_count": 52,
   "metadata": {},
   "outputs": [
    {
     "data": {
      "text/plain": [
       "({0: 0.034245857403936215,\n",
       "  1: 0.036477526736424536,\n",
       "  2: 0.031120616580223418,\n",
       "  3: 0.030548971707639497,\n",
       "  4: 0.025261070376038787,\n",
       "  5: 0.023038484396153767,\n",
       "  6: 0.025513241074425444,\n",
       "  7: 0.02148135757244189,\n",
       "  8: 0.02124000979061799,\n",
       "  9: 0.02237754598679216},\n",
       " {0: 0.005146565949582856,\n",
       "  1: 0.00594980696786678,\n",
       "  2: 0.009689756584741653,\n",
       "  3: 0.01668799767571849,\n",
       "  4: 0.018017668985589944,\n",
       "  5: 0.020443515239541653,\n",
       "  6: 0.032644158361108046,\n",
       "  7: 0.029724172087741908,\n",
       "  8: 0.036746143224750435,\n",
       "  9: 0.050978535986668204})"
      ]
     },
     "execution_count": 52,
     "metadata": {},
     "output_type": "execute_result"
    }
   ],
   "source": [
    "sigmas, MSEs"
   ]
  },
  {
   "cell_type": "code",
   "execution_count": 53,
   "metadata": {},
   "outputs": [],
   "source": [
    "a = 2.8\n",
    "b=0.59\n",
    "c=0\n"
   ]
  },
  {
   "cell_type": "code",
   "execution_count": 54,
   "metadata": {},
   "outputs": [
    {
     "data": {
      "text/plain": [
       "<matplotlib.legend.Legend at 0x7f966c37a7b8>"
      ]
     },
     "execution_count": 54,
     "metadata": {},
     "output_type": "execute_result"
    },
    {
     "data": {
      "image/png": "[encoded data removed]",
      "text/plain": [
       "<Figure size 720x720 with 1 Axes>"
      ]
     },
     "metadata": {
      "needs_background": "light"
     },
     "output_type": "display_data"
    }
   ],
   "source": [
    "# Plot sigmas\n",
    "Evis = np.array([en + 1.022  for en in range(10)])\n",
    "Perc_sigmas = [sigmas[en] for en in range(10)]\n",
    "perc_3_sqrt_E = [0.03 / np.sqrt(en) for en in Evis]\n",
    "fig = plt.figure(figsize=(10,10))\n",
    "plt.scatter(Evis, Perc_sigmas, label='Our sigma')\n",
    "plt.scatter(Evis, perc_3_sqrt_E, label=r'$\\frac{0.03}{\\sqrt{E}}$')\n",
    "plt.scatter(Evis, 0.01*np.sqrt((a/np.sqrt(Evis))**2 + b**2 + (c/Evis)**2), label=r'$abc$')\n",
    "plt.ylabel(\"std in per cent\")\n",
    "plt.xlabel(\"E visual\")\n",
    "plt.legend(fontsize=15)"
   ]
  },
  {
   "cell_type": "code",
   "execution_count": null,
   "metadata": {},
   "outputs": [],
   "source": []
  },
  {
   "cell_type": "code",
   "execution_count": null,
   "metadata": {},
   "outputs": [],
   "source": []
  },
  {
   "cell_type": "code",
   "execution_count": null,
   "metadata": {},
   "outputs": [],
   "source": []
  },
  {
   "cell_type": "code",
   "execution_count": null,
   "metadata": {},
   "outputs": [],
   "source": []
  },
  {
   "cell_type": "code",
   "execution_count": null,
   "metadata": {},
   "outputs": [],
   "source": []
  },
  {
   "cell_type": "code",
   "execution_count": null,
   "metadata": {},
   "outputs": [],
   "source": []
  }
 ],
 "metadata": {
  "kernelspec": {
   "display_name": "Python 3",
   "language": "python",
   "name": "python3"
  },
  "language_info": {
   "codemirror_mode": {
    "name": "ipython",
    "version": 3
   },
   "file_extension": ".py",
   "mimetype": "text/x-python",
   "name": "python",
   "nbconvert_exporter": "python",
   "pygments_lexer": "ipython3",
   "version": "3.5.6"
  }
 },
 "nbformat": 4,
 "nbformat_minor": 2
}
