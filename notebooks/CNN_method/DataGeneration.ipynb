{
 "cells": [
  {
   "cell_type": "code",
   "execution_count": 1,
   "metadata": {},
   "outputs": [
    {
     "name": "stderr",
     "output_type": "stream",
     "text": [
      "Using TensorFlow backend.\n"
     ]
    }
   ],
   "source": [
    "# Preprocessing\n",
    "import pandas as pd\n",
    "import tables\n",
    "import time\n",
    "import numpy as np\n",
    "import gc\n",
    "from tqdm import tqdm_notebook\n",
    "import os\n",
    "from sklearn.model_selection import train_test_split\n",
    "import tensorflow as tf\n",
    "import sys\n",
    "import matplotlib.pyplot as plt\n",
    "sys.path.append('/home/iprovilkov/data/JUNO/notebooks/')\n",
    "from data_utils.data_generator import DataGenerator\n",
    "from data_utils.data_processing import get_data_2dprojection"
   ]
  },
  {
   "cell_type": "code",
   "execution_count": 2,
   "metadata": {},
   "outputs": [],
   "source": [
    "LTRAIN = '/mnt/iprovilkov/data_dir/npdata/'\n",
    "#rg = np.arange(0,100000,20000)\n",
    "MAXR=17200"
   ]
  },
  {
   "cell_type": "code",
   "execution_count": 3,
   "metadata": {},
   "outputs": [],
   "source": [
    "import uproot\n",
    "import numpy as np\n",
    "import pandas as pd\n",
    "from tqdm import tqdm\n",
    "import tables"
   ]
  },
  {
   "cell_type": "code",
   "execution_count": 4,
   "metadata": {},
   "outputs": [],
   "source": [
    "ROOT_DIR = '/mnt/ymalyshkin/J17v1r1_hits/'"
   ]
  },
  {
   "cell_type": "code",
   "execution_count": 5,
   "metadata": {},
   "outputs": [],
   "source": [
    "def read_hits(hits):\n",
    "    nHits = hits.get('nHits').array()\n",
    "    pmtID = hits.get('pmtID').array()\n",
    "    hitTime = hits.get('hitTime').array()\n",
    "    isDN = hits.get('isDN').array()\n",
    "\n",
    "    return nHits, pmtID, hitTime, isDN\n",
    "\n",
    "\n",
    "def read_pos(pos):\n",
    "    pmt_id = pos.get('pmt_id').array() \n",
    "    pmt_x = pos.get('pmt_x').array() \n",
    "    pmt_y = pos.get('pmt_y').array() \n",
    "    pmt_z = pos.get('pmt_z').array() \n",
    "\n",
    "    return pmt_id, pmt_x, pmt_y, pmt_z\n",
    "\n",
    "\n",
    "def read_true_info(true_info):\n",
    "    evtID = true_info.get('evtID').array()  \n",
    "    E = true_info.get('E').array() \n",
    "    x = true_info.get('x').array() \n",
    "    y = true_info.get('y').array() \n",
    "    z = true_info.get('z').array() \n",
    "    R = true_info.get('R').array() \n",
    "\n",
    "    return evtID, E, x, y, z, R"
   ]
  },
  {
   "cell_type": "code",
   "execution_count": 6,
   "metadata": {},
   "outputs": [],
   "source": [
    "def hits_to_df(r):\n",
    "    nHits, pmtID, hitTime, isDN = read_hits(r)\n",
    "    \n",
    "    dt_list = []\n",
    "    for i in tqdm(range(len(nHits))):\n",
    "        n = nHits[i]\n",
    "        \n",
    "        df2 = pd.DataFrame({\n",
    "            'event': i,\n",
    "            'pmtID': pmtID[i], \n",
    "            'hitTime': hitTime[i], \n",
    "            'isDN': isDN[i]\n",
    "                             \n",
    "        }) \n",
    "        dt_list.append(df2)\n",
    "    \n",
    "    return pd.concat(dt_list)\n",
    "\n",
    "def pos_to_df(r):\n",
    "    pmt_id, pmt_x, pmt_y, pmt_z = read_pos(r)\n",
    "    df = pd.DataFrame({ 'pmt_id': pmt_id, 'pmt_x': pmt_x, \n",
    "                        'pmt_y': pmt_y, 'pmt_z': pmt_z\n",
    "                     })\n",
    "    return df\n",
    "\n",
    "def true_info_to_df(r):\n",
    "    evtID, E, x, y, z, R = read_true_info(r)\n",
    "    df = pd.DataFrame({ 'evtID': evtID, 'E': E, 'x': x,\n",
    "                        'y': y, 'z': z, 'R': R\n",
    "                     })\n",
    "    return df"
   ]
  },
  {
   "cell_type": "code",
   "execution_count": 7,
   "metadata": {},
   "outputs": [],
   "source": [
    "def hits_to_hdf(t, name):\n",
    "    nHits, pmtID, hitTime, isDN = read_hits(t)\n",
    "    \n",
    "    dt_list = []\n",
    "    for i in tqdm(range(len(nHits))):\n",
    "        n = nHits[i]\n",
    "        \n",
    "        df2 = pd.DataFrame({\n",
    "            'event': i,\n",
    "            'pmtID': pmtID[i], \n",
    "            'hitTime': hitTime[i], \n",
    "            'isDN': isDN[i]\n",
    "                             \n",
    "        }) \n",
    "        dt_list.append(df2)\n",
    "    \n",
    "    pd.concat(dt_list).to_hdf(name, index=False, key='df', mode='w')\n",
    "\n",
    "\n",
    "def pos_to_csv(t, name):\n",
    "    pmt_id, pmt_x, pmt_y, pmt_z = read_pos(t)\n",
    "    df = pd.DataFrame({ 'pmt_id': pmt_id, 'pmt_x': pmt_x, \n",
    "                        'pmt_y': pmt_y, 'pmt_z': pmt_z\n",
    "                     })\n",
    "    df.to_csv(name, index=False)\n",
    "\n",
    "\n",
    "def true_info_to_csv(t, name):\n",
    "    evtID, E, x, y, z, R = read_true_info(t)\n",
    "    df = pd.DataFrame({ 'evtID': evtID, 'E': E, 'x': x,\n",
    "                        'y': y, 'z': z, 'R': R\n",
    "                     })\n",
    "    df.to_csv(name, index=False)"
   ]
  },
  {
   "cell_type": "code",
   "execution_count": 8,
   "metadata": {},
   "outputs": [],
   "source": [
    "root_names = [l for l in os.listdir(ROOT_DIR) if '_hits_' in l]"
   ]
  },
  {
   "cell_type": "code",
   "execution_count": 10,
   "metadata": {},
   "outputs": [
    {
     "data": {
      "text/plain": [
       "['eplus_hits_dn_7.root',\n",
       " 'eplus_hits_dn_6.root',\n",
       " 'eplus_hits_dn_3.root',\n",
       " 'eplus_hits_dn_9.root',\n",
       " 'eplus_hits_dn_0.root',\n",
       " 'eplus_hits_dn_8.root',\n",
       " 'eplus_hits_dn_4.root',\n",
       " 'eplus_hits_dn_2.root',\n",
       " 'eplus_hits_dn_1.root',\n",
       " 'eplus_hits_dn_5.root']"
      ]
     },
     "execution_count": 10,
     "metadata": {},
     "output_type": "execute_result"
    }
   ],
   "source": [
    "root_names"
   ]
  },
  {
   "cell_type": "code",
   "execution_count": 9,
   "metadata": {},
   "outputs": [
    {
     "name": "stdout",
     "output_type": "stream",
     "text": [
      "0\n",
      "1\n",
      "2\n",
      "3\n",
      "4\n",
      "5\n",
      "6\n",
      "7\n",
      "8\n",
      "9\n"
     ]
    }
   ],
   "source": [
    "for i, root_file in enumerate(root_names):\n",
    "    print(i)\n",
    "    r = uproot.open(ROOT_DIR + root_file)\n",
    "    tinfo = r.get(\"true_info\")\n",
    "    true_info = true_info_to_df(tinfo)\n",
    "    true_info.to_csv(LTRAIN + '_' + str(i) + '_true_info.csv',index=False)"
   ]
  },
  {
   "cell_type": "markdown",
   "metadata": {},
   "source": [
    "**Noise**"
   ]
  },
  {
   "cell_type": "code",
   "execution_count": 11,
   "metadata": {},
   "outputs": [],
   "source": [
    "from data_utils.data_processing_noise import get_data_2dprojection_noise"
   ]
  },
  {
   "cell_type": "code",
   "execution_count": 12,
   "metadata": {},
   "outputs": [
    {
     "name": "stdout",
     "output_type": "stream",
     "text": [
      "0\n"
     ]
    },
    {
     "name": "stderr",
     "output_type": "stream",
     "text": [
      "100%|██████████| 100000/100000 [01:52<00:00, 886.24it/s]\n"
     ]
    },
    {
     "name": "stdout",
     "output_type": "stream",
     "text": [
      "Starting cycle...\n"
     ]
    },
    {
     "data": {
      "application/vnd.jupyter.widget-view+json": {
       "model_id": "dd93bfdaca8e42718ee17e0769a790a8",
       "version_major": 2,
       "version_minor": 0
      },
      "text/plain": [
       "HBox(children=(IntProgress(value=1, bar_style='info', max=1), HTML(value='')))"
      ]
     },
     "metadata": {},
     "output_type": "display_data"
    },
    {
     "name": "stdout",
     "output_type": "stream",
     "text": [
      "\n",
      "Starting cycle...\n"
     ]
    },
    {
     "data": {
      "application/vnd.jupyter.widget-view+json": {
       "model_id": "f541e0f40bc84b98ade9c0c478733868",
       "version_major": 2,
       "version_minor": 0
      },
      "text/plain": [
       "HBox(children=(IntProgress(value=1, bar_style='info', max=1), HTML(value='')))"
      ]
     },
     "metadata": {},
     "output_type": "display_data"
    },
    {
     "name": "stdout",
     "output_type": "stream",
     "text": [
      "\n",
      "Starting cycle...\n"
     ]
    },
    {
     "data": {
      "application/vnd.jupyter.widget-view+json": {
       "model_id": "a20ba8a253e14c43ad468eb557e5c5ed",
       "version_major": 2,
       "version_minor": 0
      },
      "text/plain": [
       "HBox(children=(IntProgress(value=1, bar_style='info', max=1), HTML(value='')))"
      ]
     },
     "metadata": {},
     "output_type": "display_data"
    },
    {
     "name": "stdout",
     "output_type": "stream",
     "text": [
      "\n",
      "Starting cycle...\n"
     ]
    },
    {
     "data": {
      "application/vnd.jupyter.widget-view+json": {
       "model_id": "d895b14b908c416eb4ec856811f403ee",
       "version_major": 2,
       "version_minor": 0
      },
      "text/plain": [
       "HBox(children=(IntProgress(value=1, bar_style='info', max=1), HTML(value='')))"
      ]
     },
     "metadata": {},
     "output_type": "display_data"
    },
    {
     "name": "stdout",
     "output_type": "stream",
     "text": [
      "\n",
      "Starting cycle...\n"
     ]
    },
    {
     "data": {
      "application/vnd.jupyter.widget-view+json": {
       "model_id": "1748354082964df184bd48744373b080",
       "version_major": 2,
       "version_minor": 0
      },
      "text/plain": [
       "HBox(children=(IntProgress(value=1, bar_style='info', max=1), HTML(value='')))"
      ]
     },
     "metadata": {},
     "output_type": "display_data"
    },
    {
     "name": "stdout",
     "output_type": "stream",
     "text": [
      "\n",
      "1\n"
     ]
    },
    {
     "name": "stderr",
     "output_type": "stream",
     "text": [
      "100%|██████████| 100000/100000 [01:49<00:00, 914.14it/s]\n"
     ]
    },
    {
     "name": "stdout",
     "output_type": "stream",
     "text": [
      "Starting cycle...\n"
     ]
    },
    {
     "data": {
      "application/vnd.jupyter.widget-view+json": {
       "model_id": "da043859fb124fe19f494612a1a18669",
       "version_major": 2,
       "version_minor": 0
      },
      "text/plain": [
       "HBox(children=(IntProgress(value=1, bar_style='info', max=1), HTML(value='')))"
      ]
     },
     "metadata": {},
     "output_type": "display_data"
    },
    {
     "name": "stdout",
     "output_type": "stream",
     "text": [
      "\n",
      "Starting cycle...\n"
     ]
    },
    {
     "data": {
      "application/vnd.jupyter.widget-view+json": {
       "model_id": "712e764dce5340d08066b5f20b3c500b",
       "version_major": 2,
       "version_minor": 0
      },
      "text/plain": [
       "HBox(children=(IntProgress(value=1, bar_style='info', max=1), HTML(value='')))"
      ]
     },
     "metadata": {},
     "output_type": "display_data"
    },
    {
     "name": "stdout",
     "output_type": "stream",
     "text": [
      "\n",
      "Starting cycle...\n"
     ]
    },
    {
     "data": {
      "application/vnd.jupyter.widget-view+json": {
       "model_id": "51c61fbf77074935a6f442b3b222a822",
       "version_major": 2,
       "version_minor": 0
      },
      "text/plain": [
       "HBox(children=(IntProgress(value=1, bar_style='info', max=1), HTML(value='')))"
      ]
     },
     "metadata": {},
     "output_type": "display_data"
    },
    {
     "name": "stdout",
     "output_type": "stream",
     "text": [
      "\n",
      "Starting cycle...\n"
     ]
    },
    {
     "data": {
      "application/vnd.jupyter.widget-view+json": {
       "model_id": "eaa414b917e0435db4837f55aceb401b",
       "version_major": 2,
       "version_minor": 0
      },
      "text/plain": [
       "HBox(children=(IntProgress(value=1, bar_style='info', max=1), HTML(value='')))"
      ]
     },
     "metadata": {},
     "output_type": "display_data"
    },
    {
     "name": "stdout",
     "output_type": "stream",
     "text": [
      "\n",
      "Starting cycle...\n"
     ]
    },
    {
     "data": {
      "application/vnd.jupyter.widget-view+json": {
       "model_id": "1839a75c2eb340be9e2449351302a1f4",
       "version_major": 2,
       "version_minor": 0
      },
      "text/plain": [
       "HBox(children=(IntProgress(value=1, bar_style='info', max=1), HTML(value='')))"
      ]
     },
     "metadata": {},
     "output_type": "display_data"
    },
    {
     "name": "stdout",
     "output_type": "stream",
     "text": [
      "\n",
      "2\n",
      "3\n",
      "4\n",
      "5\n",
      "6\n",
      "7\n",
      "8\n",
      "9\n"
     ]
    }
   ],
   "source": [
    "for i, root_file in enumerate(root_names):\n",
    "    print(i)\n",
    "    if i > 1:\n",
    "        continue\n",
    "    r = uproot.open(ROOT_DIR + root_file)\n",
    "    lhits = r.get(\"lpmt_hits\")\n",
    "    #shits = r.get(\"spmt_hits\")\n",
    "    tinfo = r.get(\"true_info\")\n",
    "    lpos = r.get(\"lpmt_pos\")\n",
    "    spos = r.get(\"spmt_pos\")\n",
    "    \n",
    "    lpmt_hits = hits_to_df(lhits)\n",
    "    pos1 = pos_to_df(lpos)\n",
    "    pos2 = pos_to_df(spos)\n",
    "    pos = pd.concat([pos1,pos2])\n",
    "    del pos1\n",
    "    del pos2\n",
    "    true_info = true_info_to_df(tinfo)\n",
    "    \n",
    "    rg = np.arange(0,100001,20000)\n",
    "    for start, end  in zip(rg[:-1], rg[1:]):\n",
    "        data_lpmt, event_to_id = get_data_2dprojection_noise(lpmt_hits[(lpmt_hits['event'] >= start) \n",
    "                                                                 & (lpmt_hits['event'] < end)], \n",
    "                                                None, \n",
    "                                                pos, \n",
    "                                                true_info[(true_info.R<=MAXR) \n",
    "                                                             & (true_info['evtID'] >= start) \n",
    "                                                             & (true_info['evtID'] < end)],\n",
    "                                                edge_size0=226,\n",
    "                                                edge_size1=112,\n",
    "                                                use_spmt=False,\n",
    "                                                time='min',\n",
    "                                                )\n",
    "        np.save(LTRAIN + '_' + str(i) + '_' + str(start) + 'with_noise' + '_sin', data_lpmt.astype('float32'))\n",
    "        #np.save(LTRAIN + '_' + str(i) + '_mask', (lpmt_hits['isDN'] == False).values)\n",
    "        \n",
    "    del r\n",
    "    del lhits\n",
    "    del true_info\n",
    "    del lpos\n",
    "    del spos\n",
    "    \n",
    "    gc.collect()"
   ]
  },
  {
   "cell_type": "code",
   "execution_count": null,
   "metadata": {},
   "outputs": [],
   "source": []
  },
  {
   "cell_type": "code",
   "execution_count": null,
   "metadata": {},
   "outputs": [],
   "source": []
  },
  {
   "cell_type": "code",
   "execution_count": null,
   "metadata": {},
   "outputs": [],
   "source": []
  },
  {
   "cell_type": "code",
   "execution_count": null,
   "metadata": {},
   "outputs": [],
   "source": []
  },
  {
   "cell_type": "code",
   "execution_count": null,
   "metadata": {},
   "outputs": [],
   "source": []
  },
  {
   "cell_type": "code",
   "execution_count": null,
   "metadata": {},
   "outputs": [],
   "source": []
  },
  {
   "cell_type": "markdown",
   "metadata": {},
   "source": [
    "**Simple**"
   ]
  },
  {
   "cell_type": "code",
   "execution_count": null,
   "metadata": {
    "scrolled": true
   },
   "outputs": [
    {
     "name": "stdout",
     "output_type": "stream",
     "text": [
      "0\n"
     ]
    },
    {
     "name": "stderr",
     "output_type": "stream",
     "text": [
      "100%|██████████| 100000/100000 [01:39<00:00, 1002.20it/s]\n"
     ]
    },
    {
     "name": "stdout",
     "output_type": "stream",
     "text": [
      "Starting cycle...\n"
     ]
    },
    {
     "data": {
      "application/vnd.jupyter.widget-view+json": {
       "model_id": "9ec27f1421af4cb5b8b3aafb90c965aa",
       "version_major": 2,
       "version_minor": 0
      },
      "text/plain": [
       "HBox(children=(IntProgress(value=1, bar_style='info', max=1), HTML(value='')))"
      ]
     },
     "metadata": {},
     "output_type": "display_data"
    },
    {
     "name": "stdout",
     "output_type": "stream",
     "text": [
      "\n",
      "Starting cycle...\n"
     ]
    },
    {
     "data": {
      "application/vnd.jupyter.widget-view+json": {
       "model_id": "6123a1c0a69f4a62beda6c1fa1ae582f",
       "version_major": 2,
       "version_minor": 0
      },
      "text/plain": [
       "HBox(children=(IntProgress(value=1, bar_style='info', max=1), HTML(value='')))"
      ]
     },
     "metadata": {},
     "output_type": "display_data"
    },
    {
     "name": "stdout",
     "output_type": "stream",
     "text": [
      "\n",
      "Starting cycle...\n"
     ]
    },
    {
     "data": {
      "application/vnd.jupyter.widget-view+json": {
       "model_id": "0d34dc47a8ba48108c6322bc8e3c210b",
       "version_major": 2,
       "version_minor": 0
      },
      "text/plain": [
       "HBox(children=(IntProgress(value=1, bar_style='info', max=1), HTML(value='')))"
      ]
     },
     "metadata": {},
     "output_type": "display_data"
    },
    {
     "name": "stdout",
     "output_type": "stream",
     "text": [
      "\n",
      "Starting cycle...\n"
     ]
    },
    {
     "data": {
      "application/vnd.jupyter.widget-view+json": {
       "model_id": "c8995249a318429baffa9f70ffc5c7e2",
       "version_major": 2,
       "version_minor": 0
      },
      "text/plain": [
       "HBox(children=(IntProgress(value=1, bar_style='info', max=1), HTML(value='')))"
      ]
     },
     "metadata": {},
     "output_type": "display_data"
    },
    {
     "name": "stdout",
     "output_type": "stream",
     "text": [
      "\n",
      "Starting cycle...\n"
     ]
    },
    {
     "data": {
      "application/vnd.jupyter.widget-view+json": {
       "model_id": "e5a2c793c7fd494da7bebc61828d37eb",
       "version_major": 2,
       "version_minor": 0
      },
      "text/plain": [
       "HBox(children=(IntProgress(value=1, bar_style='info', max=1), HTML(value='')))"
      ]
     },
     "metadata": {},
     "output_type": "display_data"
    },
    {
     "name": "stdout",
     "output_type": "stream",
     "text": [
      "\n",
      "1\n"
     ]
    },
    {
     "name": "stderr",
     "output_type": "stream",
     "text": [
      "100%|██████████| 100000/100000 [01:39<00:00, 1000.17it/s]\n"
     ]
    },
    {
     "name": "stdout",
     "output_type": "stream",
     "text": [
      "Starting cycle...\n"
     ]
    },
    {
     "data": {
      "application/vnd.jupyter.widget-view+json": {
       "model_id": "a7c98c50417c41c98187b7d162d9c357",
       "version_major": 2,
       "version_minor": 0
      },
      "text/plain": [
       "HBox(children=(IntProgress(value=1, bar_style='info', max=1), HTML(value='')))"
      ]
     },
     "metadata": {},
     "output_type": "display_data"
    },
    {
     "name": "stdout",
     "output_type": "stream",
     "text": [
      "\n",
      "Starting cycle...\n"
     ]
    },
    {
     "data": {
      "application/vnd.jupyter.widget-view+json": {
       "model_id": "2fd35b65b6ad4b7189f3ae5492bba77f",
       "version_major": 2,
       "version_minor": 0
      },
      "text/plain": [
       "HBox(children=(IntProgress(value=1, bar_style='info', max=1), HTML(value='')))"
      ]
     },
     "metadata": {},
     "output_type": "display_data"
    },
    {
     "name": "stdout",
     "output_type": "stream",
     "text": [
      "\n",
      "Starting cycle...\n"
     ]
    },
    {
     "data": {
      "application/vnd.jupyter.widget-view+json": {
       "model_id": "114e603d25ea4538a5408d3a8d0cebdd",
       "version_major": 2,
       "version_minor": 0
      },
      "text/plain": [
       "HBox(children=(IntProgress(value=1, bar_style='info', max=1), HTML(value='')))"
      ]
     },
     "metadata": {},
     "output_type": "display_data"
    },
    {
     "name": "stdout",
     "output_type": "stream",
     "text": [
      "\n",
      "Starting cycle...\n"
     ]
    },
    {
     "data": {
      "application/vnd.jupyter.widget-view+json": {
       "model_id": "af29adaed47e4203af40ae33003eb264",
       "version_major": 2,
       "version_minor": 0
      },
      "text/plain": [
       "HBox(children=(IntProgress(value=1, bar_style='info', max=1), HTML(value='')))"
      ]
     },
     "metadata": {},
     "output_type": "display_data"
    },
    {
     "name": "stdout",
     "output_type": "stream",
     "text": [
      "\n",
      "Starting cycle...\n"
     ]
    },
    {
     "data": {
      "application/vnd.jupyter.widget-view+json": {
       "model_id": "dc756d34a1a34079b44f4a917b5dd3c0",
       "version_major": 2,
       "version_minor": 0
      },
      "text/plain": [
       "HBox(children=(IntProgress(value=1, bar_style='info', max=1), HTML(value='')))"
      ]
     },
     "metadata": {},
     "output_type": "display_data"
    },
    {
     "name": "stdout",
     "output_type": "stream",
     "text": [
      "\n",
      "2\n"
     ]
    },
    {
     "name": "stderr",
     "output_type": "stream",
     "text": [
      "100%|██████████| 100000/100000 [01:43<00:00, 963.95it/s]\n"
     ]
    },
    {
     "name": "stdout",
     "output_type": "stream",
     "text": [
      "Starting cycle...\n"
     ]
    },
    {
     "data": {
      "application/vnd.jupyter.widget-view+json": {
       "model_id": "99814adcc5834b88973947ffd9c98d2a",
       "version_major": 2,
       "version_minor": 0
      },
      "text/plain": [
       "HBox(children=(IntProgress(value=1, bar_style='info', max=1), HTML(value='')))"
      ]
     },
     "metadata": {},
     "output_type": "display_data"
    },
    {
     "name": "stdout",
     "output_type": "stream",
     "text": [
      "\n",
      "Starting cycle...\n"
     ]
    },
    {
     "data": {
      "application/vnd.jupyter.widget-view+json": {
       "model_id": "533a159f82ed4740aebc45a0dcc3e830",
       "version_major": 2,
       "version_minor": 0
      },
      "text/plain": [
       "HBox(children=(IntProgress(value=1, bar_style='info', max=1), HTML(value='')))"
      ]
     },
     "metadata": {},
     "output_type": "display_data"
    },
    {
     "name": "stdout",
     "output_type": "stream",
     "text": [
      "\n",
      "Starting cycle...\n"
     ]
    },
    {
     "data": {
      "application/vnd.jupyter.widget-view+json": {
       "model_id": "510e08264e5c450dad49b6302af186e8",
       "version_major": 2,
       "version_minor": 0
      },
      "text/plain": [
       "HBox(children=(IntProgress(value=1, bar_style='info', max=1), HTML(value='')))"
      ]
     },
     "metadata": {},
     "output_type": "display_data"
    },
    {
     "name": "stdout",
     "output_type": "stream",
     "text": [
      "\n",
      "Starting cycle...\n"
     ]
    },
    {
     "data": {
      "application/vnd.jupyter.widget-view+json": {
       "model_id": "892c8902a6564e779e75583324ed24fa",
       "version_major": 2,
       "version_minor": 0
      },
      "text/plain": [
       "HBox(children=(IntProgress(value=1, bar_style='info', max=1), HTML(value='')))"
      ]
     },
     "metadata": {},
     "output_type": "display_data"
    },
    {
     "name": "stdout",
     "output_type": "stream",
     "text": [
      "\n",
      "Starting cycle...\n"
     ]
    },
    {
     "data": {
      "application/vnd.jupyter.widget-view+json": {
       "model_id": "48f4a8d62fd9437aa7580c9055e254cd",
       "version_major": 2,
       "version_minor": 0
      },
      "text/plain": [
       "HBox(children=(IntProgress(value=1, bar_style='info', max=1), HTML(value='')))"
      ]
     },
     "metadata": {},
     "output_type": "display_data"
    },
    {
     "name": "stdout",
     "output_type": "stream",
     "text": [
      "\n",
      "3\n"
     ]
    },
    {
     "name": "stderr",
     "output_type": "stream",
     "text": [
      "100%|██████████| 100000/100000 [01:40<00:00, 991.00it/s]\n"
     ]
    },
    {
     "name": "stdout",
     "output_type": "stream",
     "text": [
      "Starting cycle...\n"
     ]
    },
    {
     "data": {
      "application/vnd.jupyter.widget-view+json": {
       "model_id": "90c1053cc02c42bcac276bd5d3dc3dde",
       "version_major": 2,
       "version_minor": 0
      },
      "text/plain": [
       "HBox(children=(IntProgress(value=1, bar_style='info', max=1), HTML(value='')))"
      ]
     },
     "metadata": {},
     "output_type": "display_data"
    },
    {
     "name": "stdout",
     "output_type": "stream",
     "text": [
      "\n",
      "Starting cycle...\n"
     ]
    },
    {
     "data": {
      "application/vnd.jupyter.widget-view+json": {
       "model_id": "bae05290c3df435ca27d28df32c5a7ae",
       "version_major": 2,
       "version_minor": 0
      },
      "text/plain": [
       "HBox(children=(IntProgress(value=1, bar_style='info', max=1), HTML(value='')))"
      ]
     },
     "metadata": {},
     "output_type": "display_data"
    },
    {
     "name": "stdout",
     "output_type": "stream",
     "text": [
      "\n",
      "Starting cycle...\n"
     ]
    },
    {
     "data": {
      "application/vnd.jupyter.widget-view+json": {
       "model_id": "f8d7fe92a2b94ada92d3a1290b19050d",
       "version_major": 2,
       "version_minor": 0
      },
      "text/plain": [
       "HBox(children=(IntProgress(value=1, bar_style='info', max=1), HTML(value='')))"
      ]
     },
     "metadata": {},
     "output_type": "display_data"
    },
    {
     "name": "stdout",
     "output_type": "stream",
     "text": [
      "\n",
      "Starting cycle...\n"
     ]
    },
    {
     "data": {
      "application/vnd.jupyter.widget-view+json": {
       "model_id": "3b1b096deb7e43319f26de3881e94ee7",
       "version_major": 2,
       "version_minor": 0
      },
      "text/plain": [
       "HBox(children=(IntProgress(value=1, bar_style='info', max=1), HTML(value='')))"
      ]
     },
     "metadata": {},
     "output_type": "display_data"
    },
    {
     "name": "stdout",
     "output_type": "stream",
     "text": [
      "\n",
      "Starting cycle...\n"
     ]
    },
    {
     "data": {
      "application/vnd.jupyter.widget-view+json": {
       "model_id": "c9ec1bd4aad040ee9ba8bec058a7f7b3",
       "version_major": 2,
       "version_minor": 0
      },
      "text/plain": [
       "HBox(children=(IntProgress(value=1, bar_style='info', max=1), HTML(value='')))"
      ]
     },
     "metadata": {},
     "output_type": "display_data"
    }
   ],
   "source": [
    "for i, root_file in enumerate(root_names):\n",
    "    print(i)\n",
    "    if i in [9]:\n",
    "        continue\n",
    "    r = uproot.open(ROOT_DIR + root_file)\n",
    "    lhits = r.get(\"lpmt_hits\")\n",
    "    #shits = r.get(\"spmt_hits\")\n",
    "    tinfo = r.get(\"true_info\")\n",
    "    lpos = r.get(\"lpmt_pos\")\n",
    "    spos = r.get(\"spmt_pos\")\n",
    "    \n",
    "    lpmt_hits = hits_to_df(lhits)\n",
    "    pos1 = pos_to_df(lpos)\n",
    "    pos2 = pos_to_df(spos)\n",
    "    pos = pd.concat([pos1,pos2])\n",
    "    del pos1\n",
    "    del pos2\n",
    "    true_info = true_info_to_df(tinfo)\n",
    "    \n",
    "    rg = np.arange(0,100001,20000)\n",
    "    for start, end  in zip(rg[:-1], rg[1:]):\n",
    "        data_lpmt, event_to_id = get_data_2dprojection(lpmt_hits[(lpmt_hits['event'] >= start) \n",
    "                                                                 & (lpmt_hits['event'] < end)\n",
    "                                                     & (lpmt_hits['isDN'] == False)], \n",
    "                                                None, \n",
    "                                                pos, \n",
    "                                                true_info[(true_info.R<=MAXR) \n",
    "                                                             & (true_info['evtID'] >= start) \n",
    "                                                             & (true_info['evtID'] < end)],\n",
    "                                                edge_size0=226,\n",
    "                                                edge_size1=112,\n",
    "                                                use_spmt=False,\n",
    "                                                time='min',\n",
    "                                                )\n",
    "        np.save(LTRAIN + '_' + str(i) + '_' + str(start) + 'noise' + '_sin', data_lpmt.astype('float32'))\n",
    "        #np.save(LTRAIN + '_' + str(i) + '_mask', (lpmt_hits['isDN'] == False).values)\n",
    "        \n",
    "    del r\n",
    "    del lhits\n",
    "    del true_info\n",
    "    del lpos\n",
    "    del spos\n",
    "    \n",
    "    gc.collect()"
   ]
  },
  {
   "cell_type": "code",
   "execution_count": null,
   "metadata": {},
   "outputs": [],
   "source": []
  },
  {
   "cell_type": "code",
   "execution_count": null,
   "metadata": {},
   "outputs": [],
   "source": []
  }
 ],
 "metadata": {
  "kernelspec": {
   "display_name": "Python 3",
   "language": "python",
   "name": "python3"
  },
  "language_info": {
   "codemirror_mode": {
    "name": "ipython",
    "version": 3
   },
   "file_extension": ".py",
   "mimetype": "text/x-python",
   "name": "python",
   "nbconvert_exporter": "python",
   "pygments_lexer": "ipython3",
   "version": "3.5.6"
  }
 },
 "nbformat": 4,
 "nbformat_minor": 2
}
