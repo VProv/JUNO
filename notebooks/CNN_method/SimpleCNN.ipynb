{
 "cells": [
  {
   "cell_type": "code",
   "execution_count": 2,
   "metadata": {},
   "outputs": [],
   "source": [
    "# Preprocessing\n",
    "import pandas as pd\n",
    "import tables\n",
    "import time\n",
    "import numpy as np\n",
    "import gc\n",
    "from tqdm import tqdm_notebook\n",
    "import os\n",
    "from sklearn.model_selection import train_test_split\n",
    "import tensorflow as tf\n",
    "import sys\n",
    "import matplotlib.pyplot as plt\n",
    "sys.path.append('/home/iprovilkov/data/JUNO/notebooks/')"
   ]
  },
  {
   "cell_type": "code",
   "execution_count": 3,
   "metadata": {},
   "outputs": [
    {
     "name": "stderr",
     "output_type": "stream",
     "text": [
      "Using TensorFlow backend.\n"
     ]
    }
   ],
   "source": [
    "from data_utils.data_processing import get_data_2dprojection\n",
    "from data_utils.data_generator import DataGenerator"
   ]
  },
  {
   "cell_type": "code",
   "execution_count": 4,
   "metadata": {},
   "outputs": [],
   "source": [
    "os.environ[\"CUDA_DEVICE_ORDER\"]=\"PCI_BUS_ID\"\n",
    "os.environ[\"CUDA_VISIBLE_DEVICES\"]=\"0\""
   ]
  },
  {
   "cell_type": "code",
   "execution_count": 7,
   "metadata": {},
   "outputs": [],
   "source": [
    "LTRAIN = '/mnt/iprovilkov/data_dir/npdata/'\n",
    "rg = np.arange(0,100001,20000)\n",
    "MAXR = 17200"
   ]
  },
  {
   "cell_type": "code",
   "execution_count": 8,
   "metadata": {},
   "outputs": [
    {
     "data": {
      "text/plain": [
       "array([     0,  20000,  40000,  60000,  80000, 100000])"
      ]
     },
     "execution_count": 8,
     "metadata": {},
     "output_type": "execute_result"
    }
   ],
   "source": [
    "rg"
   ]
  },
  {
   "cell_type": "code",
   "execution_count": 4,
   "metadata": {},
   "outputs": [],
   "source": [
    "#DATA_DIR = '/storage/home/vprov/JUNO/JUNO_students/data/'\n",
    "#TRAIN_DIR = '/srv/hd5/data/vprov/data/phase_1/train/'\n",
    "TRAIN_DIR = '~/data/data_dir/'\n",
    "tr_lpmt_hits = pd.read_hdf(TRAIN_DIR + 'lpmt_hits.h5', mode='r') \n",
    "tr_spmt_hits = pd.read_hdf(TRAIN_DIR + 'spmt_hits.h5', mode='r')\n",
    "tr_pos = pd.read_csv(TRAIN_DIR + 'lpmt_pos.csv') \n",
    "tr_spmt_pos = pd.read_csv(TRAIN_DIR + 'spmt_pos.csv') \n",
    "tr_true_info = pd.read_csv(TRAIN_DIR + 'true_info.csv')"
   ]
  },
  {
   "cell_type": "code",
   "execution_count": 32,
   "metadata": {},
   "outputs": [
    {
     "data": {
      "text/plain": [
       "['/job:localhost/replica:0/task:0/device:GPU:0']"
      ]
     },
     "execution_count": 32,
     "metadata": {},
     "output_type": "execute_result"
    }
   ],
   "source": [
    "from tensorflow.python.client import device_lib\n",
    "sess = tf.Session(config=tf.ConfigProto(log_device_placement=True))\n",
    "import keras\n",
    "import keras.layers as L\n",
    "from keras.models import Sequential\n",
    "from keras import backend as K\n",
    "from keras.layers import GlobalAveragePooling2D, Dense\n",
    "from keras.models import Model\n",
    "import keras.layers as L\n",
    "from keras.regularizers import l2\n",
    "from keras.optimizers import Adam\n",
    "from keras.engine.input_layer import Input\n",
    "K.tensorflow_backend._get_available_gpus()"
   ]
  },
  {
   "cell_type": "code",
   "execution_count": 33,
   "metadata": {},
   "outputs": [],
   "source": [
    "model = Sequential()\n",
    "model.add(L.Conv2D(filters= 32, kernel_size=(3,3), activation='elu'))\n",
    "model.add(L.MaxPool2D())\n",
    "model.add(L.Conv2D(filters= 64, kernel_size=(3,3), activation='elu'))\n",
    "model.add(L.MaxPool2D())\n",
    "model.add(L.Conv2D(filters=128, kernel_size=(3,3), activation='elu'))\n",
    "model.add(L.MaxPool2D())\n",
    "model.add(L.Conv2D(filters=256, kernel_size=(3,3), activation='elu'))\n",
    "model.add(L.MaxPool2D())\n",
    "model.add(L.Conv2D(filters=256, kernel_size=(3,3), activation='elu'))\n",
    "#model.add(L.Dropout(0.3))\n",
    "model.add(L.Flatten())\n",
    "model.add(L.Dense(1024, activation='elu',kernel_initializer=keras.initializers.glorot_normal()))\n",
    "#model.add(L.Dropout(0.3))\n",
    "model.add(L.Dense(512, activation='elu',kernel_initializer=keras.initializers.glorot_normal()))\n",
    "model.add(L.Dense(256, activation='elu',kernel_initializer=keras.initializers.glorot_normal()))\n",
    "model.add(L.Dense(1))"
   ]
  },
  {
   "cell_type": "code",
   "execution_count": 34,
   "metadata": {},
   "outputs": [],
   "source": [
    "opt = Adam(decay=1e-4)"
   ]
  },
  {
   "cell_type": "code",
   "execution_count": 35,
   "metadata": {},
   "outputs": [],
   "source": [
    "edge_size0 = 226\n",
    "edge_size1 = 112\n",
    "inputs = Input(shape=(edge_size0,edge_size1,2))"
   ]
  },
  {
   "cell_type": "code",
   "execution_count": 36,
   "metadata": {},
   "outputs": [],
   "source": [
    "model.compile(loss='mean_squared_error', optimizer=opt)"
   ]
  },
  {
   "cell_type": "code",
   "execution_count": 37,
   "metadata": {},
   "outputs": [
    {
     "name": "stdout",
     "output_type": "stream",
     "text": [
      "_________________________________________________________________\n",
      "Layer (type)                 Output Shape              Param #   \n",
      "=================================================================\n",
      "conv2d_16 (Conv2D)           (None, 224, 110, 32)      608       \n",
      "_________________________________________________________________\n",
      "max_pooling2d_13 (MaxPooling (None, 112, 55, 32)       0         \n",
      "_________________________________________________________________\n",
      "conv2d_17 (Conv2D)           (None, 110, 53, 64)       18496     \n",
      "_________________________________________________________________\n",
      "max_pooling2d_14 (MaxPooling (None, 55, 26, 64)        0         \n",
      "_________________________________________________________________\n",
      "conv2d_18 (Conv2D)           (None, 53, 24, 128)       73856     \n",
      "_________________________________________________________________\n",
      "max_pooling2d_15 (MaxPooling (None, 26, 12, 128)       0         \n",
      "_________________________________________________________________\n",
      "conv2d_19 (Conv2D)           (None, 24, 10, 256)       295168    \n",
      "_________________________________________________________________\n",
      "max_pooling2d_16 (MaxPooling (None, 12, 5, 256)        0         \n",
      "_________________________________________________________________\n",
      "conv2d_20 (Conv2D)           (None, 10, 3, 256)        590080    \n",
      "_________________________________________________________________\n",
      "flatten_4 (Flatten)          (None, 7680)              0         \n",
      "_________________________________________________________________\n",
      "dense_13 (Dense)             (None, 1024)              7865344   \n",
      "_________________________________________________________________\n",
      "dense_14 (Dense)             (None, 512)               524800    \n",
      "_________________________________________________________________\n",
      "dense_15 (Dense)             (None, 256)               131328    \n",
      "_________________________________________________________________\n",
      "dense_16 (Dense)             (None, 1)                 257       \n",
      "=================================================================\n",
      "Total params: 9,499,937\n",
      "Trainable params: 9,499,937\n",
      "Non-trainable params: 0\n",
      "_________________________________________________________________\n"
     ]
    }
   ],
   "source": [
    "model.build(input_shape=(None, edge_size0,edge_size1,2))\n",
    "model.summary()"
   ]
  },
  {
   "cell_type": "code",
   "execution_count": 38,
   "metadata": {},
   "outputs": [],
   "source": [
    "logdir = 'Simple_CNN_E.csv'"
   ]
  },
  {
   "cell_type": "code",
   "execution_count": 39,
   "metadata": {},
   "outputs": [],
   "source": [
    "from keras.callbacks import CSVLogger\n",
    "csv_logger = CSVLogger(logdir, append=True, separator=';')\n",
    "from keras.callbacks import ReduceLROnPlateau\n",
    "reduce_lr = ReduceLROnPlateau(monitor='val_loss', factor=0.2,\n",
    "                              patience=5, min_lr=0.000001)"
   ]
  },
  {
   "cell_type": "code",
   "execution_count": 40,
   "metadata": {},
   "outputs": [],
   "source": [
    "TRAIN_DIR = '~/data/data_dir/'\n",
    "tr_true_info = pd.read_csv(TRAIN_DIR + 'true_info.csv')"
   ]
  },
  {
   "cell_type": "code",
   "execution_count": 41,
   "metadata": {},
   "outputs": [],
   "source": [
    "epochs = [5,5,5,3,3,3,1,1,1,1,1,1,1]"
   ]
  },
  {
   "cell_type": "code",
   "execution_count": 42,
   "metadata": {},
   "outputs": [
    {
     "data": {
      "text/plain": [
       "array([    0, 20000, 40000, 60000, 80000])"
      ]
     },
     "execution_count": 42,
     "metadata": {},
     "output_type": "execute_result"
    }
   ],
   "source": [
    "rg"
   ]
  },
  {
   "cell_type": "code",
   "execution_count": 43,
   "metadata": {},
   "outputs": [],
   "source": [
    "X_test = np.load(LTRAIN + '_' + str(rg[-2]) +'without_noise_sin.npy')"
   ]
  },
  {
   "cell_type": "code",
   "execution_count": 44,
   "metadata": {},
   "outputs": [],
   "source": [
    "y_test = tr_true_info[(tr_true_info['evtID'] >= rg[-2]) \n",
    "                     & (tr_true_info['evtID'] < rg[-1])]\n",
    "mask = (y_test.R <= MAXR)\n",
    "X_test = X_test[mask]\n",
    "y_test = y_test[mask][['E']].values"
   ]
  },
  {
   "cell_type": "code",
   "execution_count": 45,
   "metadata": {},
   "outputs": [],
   "source": [
    "def scale(X):\n",
    "    X[:,:,:,1] /= 20 "
   ]
  },
  {
   "cell_type": "code",
   "execution_count": 49,
   "metadata": {},
   "outputs": [],
   "source": [
    "def scaler(X,y):\n",
    "    X[:,:,:,1] /= 20 "
   ]
  },
  {
   "cell_type": "code",
   "execution_count": 46,
   "metadata": {},
   "outputs": [],
   "source": [
    "scale(X_test)"
   ]
  },
  {
   "cell_type": "code",
   "execution_count": 47,
   "metadata": {
    "scrolled": true
   },
   "outputs": [
    {
     "name": "stdout",
     "output_type": "stream",
     "text": [
      "ITERATION:  0\n",
      "Train on 18361 samples, validate on 18402 samples\n",
      "Epoch 1/5\n",
      "18361/18361 [==============================] - 76s 4ms/step - loss: 2.6585 - val_loss: 0.2770\n",
      "Epoch 2/5\n",
      "18361/18361 [==============================] - 73s 4ms/step - loss: 0.1431 - val_loss: 0.1269\n",
      "Epoch 3/5\n",
      "18361/18361 [==============================] - 73s 4ms/step - loss: 0.0932 - val_loss: 0.1329\n",
      "Epoch 4/5\n",
      "18361/18361 [==============================] - 73s 4ms/step - loss: 0.0915 - val_loss: 0.4268\n",
      "Epoch 5/5\n",
      "18361/18361 [==============================] - 74s 4ms/step - loss: 31070.7317 - val_loss: 1.8251\n",
      "ITERATION:  0\n",
      "Train on 18357 samples, validate on 18402 samples\n",
      "Epoch 1/5\n",
      "18357/18357 [==============================] - 74s 4ms/step - loss: 2.2721 - val_loss: 2.4352\n",
      "Epoch 2/5\n",
      "18357/18357 [==============================] - 74s 4ms/step - loss: 1.7249 - val_loss: 0.8389\n",
      "Epoch 3/5\n",
      "18357/18357 [==============================] - 74s 4ms/step - loss: 1.7608 - val_loss: 1.2052\n",
      "Epoch 4/5\n",
      "18357/18357 [==============================] - 74s 4ms/step - loss: 1.6768 - val_loss: 1.7022\n",
      "Epoch 5/5\n",
      "18357/18357 [==============================] - 74s 4ms/step - loss: 1.8840 - val_loss: 6.9444\n",
      "ITERATION:  0\n",
      "Train on 18391 samples, validate on 18402 samples\n",
      "Epoch 1/5\n",
      "18391/18391 [==============================] - 74s 4ms/step - loss: 1.8227 - val_loss: 0.4254\n",
      "Epoch 2/5\n",
      "18391/18391 [==============================] - 74s 4ms/step - loss: 1.3535 - val_loss: 1.2857\n",
      "Epoch 3/5\n",
      "18391/18391 [==============================] - 74s 4ms/step - loss: 0.9229 - val_loss: 0.4232\n",
      "Epoch 4/5\n",
      "18391/18391 [==============================] - 74s 4ms/step - loss: 0.5675 - val_loss: 0.8909\n",
      "Epoch 5/5\n",
      "18391/18391 [==============================] - 74s 4ms/step - loss: 0.5257 - val_loss: 0.2582\n",
      "ITERATION:  1\n",
      "Train on 18361 samples, validate on 18402 samples\n",
      "Epoch 1/5\n",
      "18361/18361 [==============================] - 74s 4ms/step - loss: 0.3618 - val_loss: 0.2230\n",
      "Epoch 2/5\n",
      "18361/18361 [==============================] - 74s 4ms/step - loss: 0.2924 - val_loss: 0.1478\n",
      "Epoch 3/5\n",
      "18361/18361 [==============================] - 74s 4ms/step - loss: 0.2014 - val_loss: 0.1667\n",
      "Epoch 4/5\n",
      "18361/18361 [==============================] - 74s 4ms/step - loss: 0.2209 - val_loss: 0.3876\n",
      "Epoch 5/5\n",
      "18361/18361 [==============================] - 74s 4ms/step - loss: 0.1462 - val_loss: 0.1156\n",
      "ITERATION:  1\n",
      "Train on 18357 samples, validate on 18402 samples\n",
      "Epoch 1/5\n",
      "18357/18357 [==============================] - 74s 4ms/step - loss: 0.1323 - val_loss: 0.0984\n",
      "Epoch 2/5\n",
      "18357/18357 [==============================] - 74s 4ms/step - loss: 0.1199 - val_loss: 0.1386\n",
      "Epoch 3/5\n",
      "18357/18357 [==============================] - 74s 4ms/step - loss: 0.1051 - val_loss: 0.0527\n",
      "Epoch 4/5\n",
      "18357/18357 [==============================] - 74s 4ms/step - loss: 0.0963 - val_loss: 0.1249\n",
      "Epoch 5/5\n",
      "18357/18357 [==============================] - 74s 4ms/step - loss: 0.0667 - val_loss: 0.0556\n",
      "ITERATION:  1\n",
      "Train on 18391 samples, validate on 18402 samples\n",
      "Epoch 1/5\n",
      "18391/18391 [==============================] - 73s 4ms/step - loss: 0.0574 - val_loss: 0.0289\n",
      "Epoch 2/5\n",
      "18391/18391 [==============================] - 73s 4ms/step - loss: 0.0465 - val_loss: 0.0983\n",
      "Epoch 3/5\n",
      "18391/18391 [==============================] - 73s 4ms/step - loss: 0.0454 - val_loss: 0.0256\n",
      "Epoch 4/5\n",
      "18391/18391 [==============================] - 73s 4ms/step - loss: 0.0404 - val_loss: 0.0362\n",
      "Epoch 5/5\n",
      "18391/18391 [==============================] - 74s 4ms/step - loss: 0.0371 - val_loss: 0.1191\n",
      "ITERATION:  2\n",
      "Train on 18361 samples, validate on 18402 samples\n",
      "Epoch 1/5\n",
      "18361/18361 [==============================] - 73s 4ms/step - loss: 0.0424 - val_loss: 0.0279\n",
      "Epoch 2/5\n",
      "18361/18361 [==============================] - 74s 4ms/step - loss: 0.0673 - val_loss: 0.0474\n",
      "Epoch 3/5\n",
      "18361/18361 [==============================] - 73s 4ms/step - loss: 0.0365 - val_loss: 0.0328\n",
      "Epoch 4/5\n",
      "18361/18361 [==============================] - 73s 4ms/step - loss: 0.0350 - val_loss: 0.0710\n",
      "Epoch 5/5\n",
      "18361/18361 [==============================] - 74s 4ms/step - loss: 0.0302 - val_loss: 0.0220\n",
      "ITERATION:  2\n",
      "Train on 18357 samples, validate on 18402 samples\n",
      "Epoch 1/5\n",
      "18357/18357 [==============================] - 74s 4ms/step - loss: 0.1486 - val_loss: 0.0299\n",
      "Epoch 2/5\n",
      "18357/18357 [==============================] - 74s 4ms/step - loss: 0.0374 - val_loss: 0.0273\n",
      "Epoch 3/5\n",
      "18357/18357 [==============================] - 74s 4ms/step - loss: 0.0351 - val_loss: 0.0237\n",
      "Epoch 4/5\n",
      "18357/18357 [==============================] - 74s 4ms/step - loss: 0.0346 - val_loss: 0.0225\n",
      "Epoch 5/5\n",
      "18357/18357 [==============================] - 74s 4ms/step - loss: 0.0326 - val_loss: 0.0240\n",
      "ITERATION:  2\n",
      "Train on 18391 samples, validate on 18402 samples\n",
      "Epoch 1/5\n",
      "18391/18391 [==============================] - 74s 4ms/step - loss: 0.0234 - val_loss: 0.0266\n",
      "Epoch 2/5\n",
      "18391/18391 [==============================] - 74s 4ms/step - loss: 0.0237 - val_loss: 0.0232\n",
      "Epoch 3/5\n",
      "18391/18391 [==============================] - 74s 4ms/step - loss: 0.0230 - val_loss: 0.0282\n",
      "Epoch 4/5\n",
      "18391/18391 [==============================] - 74s 4ms/step - loss: 0.0228 - val_loss: 0.0244\n",
      "Epoch 5/5\n",
      "18391/18391 [==============================] - 74s 4ms/step - loss: 0.0209 - val_loss: 0.0386\n",
      "ITERATION:  3\n",
      "Train on 18361 samples, validate on 18402 samples\n",
      "Epoch 1/3\n",
      "18361/18361 [==============================] - 74s 4ms/step - loss: 0.0318 - val_loss: 0.0183\n",
      "Epoch 2/3\n",
      "18361/18361 [==============================] - 74s 4ms/step - loss: 0.0258 - val_loss: 0.0293\n",
      "Epoch 3/3\n",
      "18361/18361 [==============================] - 74s 4ms/step - loss: 0.0272 - val_loss: 0.0215\n",
      "ITERATION:  3\n",
      "Train on 18357 samples, validate on 18402 samples\n",
      "Epoch 1/3\n",
      "18357/18357 [==============================] - 74s 4ms/step - loss: 0.2673 - val_loss: 0.0512\n",
      "Epoch 2/3\n",
      "18357/18357 [==============================] - 74s 4ms/step - loss: 0.0310 - val_loss: 0.0202\n",
      "Epoch 3/3\n",
      "18357/18357 [==============================] - 74s 4ms/step - loss: 0.0274 - val_loss: 0.0222\n",
      "ITERATION:  3\n",
      "Train on 18391 samples, validate on 18402 samples\n",
      "Epoch 1/3\n",
      "18391/18391 [==============================] - 74s 4ms/step - loss: 0.0192 - val_loss: 0.0188\n",
      "Epoch 2/3\n",
      "18391/18391 [==============================] - 74s 4ms/step - loss: 0.0190 - val_loss: 0.0173\n",
      "Epoch 3/3\n",
      "18391/18391 [==============================] - 74s 4ms/step - loss: 0.0191 - val_loss: 0.0171\n",
      "ITERATION:  4\n",
      "Train on 18361 samples, validate on 18402 samples\n",
      "Epoch 1/3\n",
      "18361/18361 [==============================] - 74s 4ms/step - loss: 0.0245 - val_loss: 0.0160\n",
      "Epoch 2/3\n",
      "18361/18361 [==============================] - 74s 4ms/step - loss: 0.0240 - val_loss: 0.0161\n",
      "Epoch 3/3\n",
      "18361/18361 [==============================] - 74s 4ms/step - loss: 0.0237 - val_loss: 0.0168\n",
      "ITERATION:  4\n",
      "Train on 18357 samples, validate on 18402 samples\n",
      "Epoch 1/3\n",
      "18357/18357 [==============================] - 74s 4ms/step - loss: 0.0267 - val_loss: 0.0262\n",
      "Epoch 2/3\n",
      "18357/18357 [==============================] - 74s 4ms/step - loss: 0.0264 - val_loss: 0.0146\n",
      "Epoch 3/3\n",
      "18357/18357 [==============================] - 74s 4ms/step - loss: 0.0254 - val_loss: 0.0251\n",
      "ITERATION:  4\n",
      "Train on 18391 samples, validate on 18402 samples\n",
      "Epoch 1/3\n",
      "18391/18391 [==============================] - 75s 4ms/step - loss: 0.0183 - val_loss: 0.0174\n",
      "Epoch 2/3\n",
      "18391/18391 [==============================] - 74s 4ms/step - loss: 0.0176 - val_loss: 0.0213\n",
      "Epoch 3/3\n",
      "18391/18391 [==============================] - 74s 4ms/step - loss: 0.0169 - val_loss: 0.0199\n",
      "ITERATION:  5\n",
      "Train on 18361 samples, validate on 18402 samples\n",
      "Epoch 1/3\n",
      "18361/18361 [==============================] - 74s 4ms/step - loss: 0.0235 - val_loss: 0.0145\n",
      "Epoch 2/3\n",
      "18361/18361 [==============================] - 74s 4ms/step - loss: 0.0243 - val_loss: 0.0166\n",
      "Epoch 3/3\n",
      "18361/18361 [==============================] - 74s 4ms/step - loss: 0.0219 - val_loss: 0.0172\n",
      "ITERATION:  5\n",
      "Train on 18357 samples, validate on 18402 samples\n",
      "Epoch 1/3\n",
      "18357/18357 [==============================] - 74s 4ms/step - loss: 0.0234 - val_loss: 0.0159\n",
      "Epoch 2/3\n",
      "18357/18357 [==============================] - 74s 4ms/step - loss: 0.0239 - val_loss: 0.0411\n",
      "Epoch 3/3\n",
      "18357/18357 [==============================] - 74s 4ms/step - loss: 0.0222 - val_loss: 0.0139\n",
      "ITERATION:  5\n",
      "Train on 18391 samples, validate on 18402 samples\n",
      "Epoch 1/3\n",
      "18391/18391 [==============================] - 74s 4ms/step - loss: 0.0154 - val_loss: 0.0134\n",
      "Epoch 2/3\n",
      "18391/18391 [==============================] - 74s 4ms/step - loss: 0.0156 - val_loss: 0.0181\n",
      "Epoch 3/3\n",
      "18391/18391 [==============================] - 74s 4ms/step - loss: 0.0148 - val_loss: 0.0145\n",
      "ITERATION:  6\n",
      "Train on 18361 samples, validate on 18402 samples\n",
      "Epoch 1/1\n",
      "18361/18361 [==============================] - 74s 4ms/step - loss: 0.0217 - val_loss: 0.0136\n",
      "ITERATION:  6\n",
      "Train on 18357 samples, validate on 18402 samples\n",
      "Epoch 1/1\n",
      "18357/18357 [==============================] - 74s 4ms/step - loss: 0.0212 - val_loss: 0.0223\n",
      "ITERATION:  6\n",
      "Train on 18391 samples, validate on 18402 samples\n",
      "Epoch 1/1\n",
      "18391/18391 [==============================] - 74s 4ms/step - loss: 0.0146 - val_loss: 0.0169\n",
      "ITERATION:  7\n",
      "Train on 18361 samples, validate on 18402 samples\n",
      "Epoch 1/1\n",
      "18361/18361 [==============================] - 74s 4ms/step - loss: 0.0202 - val_loss: 0.0162\n",
      "ITERATION:  7\n",
      "Train on 18357 samples, validate on 18402 samples\n",
      "Epoch 1/1\n",
      "18357/18357 [==============================] - 74s 4ms/step - loss: 0.0203 - val_loss: 0.0133\n",
      "ITERATION:  7\n",
      "Train on 18391 samples, validate on 18402 samples\n",
      "Epoch 1/1\n",
      "18391/18391 [==============================] - 74s 4ms/step - loss: 0.0139 - val_loss: 0.0202\n",
      "ITERATION:  8\n",
      "Train on 18361 samples, validate on 18402 samples\n",
      "Epoch 1/1\n",
      "18361/18361 [==============================] - 74s 4ms/step - loss: 0.0207 - val_loss: 0.0142\n",
      "ITERATION:  8\n",
      "Train on 18357 samples, validate on 18402 samples\n",
      "Epoch 1/1\n",
      "18357/18357 [==============================] - 74s 4ms/step - loss: 0.0201 - val_loss: 0.0356\n",
      "ITERATION:  8\n",
      "Train on 18391 samples, validate on 18402 samples\n",
      "Epoch 1/1\n",
      "18391/18391 [==============================] - 75s 4ms/step - loss: 0.0135 - val_loss: 0.0136\n",
      "ITERATION:  9\n",
      "Train on 18361 samples, validate on 18402 samples\n",
      "Epoch 1/1\n",
      "18361/18361 [==============================] - 74s 4ms/step - loss: 0.0196 - val_loss: 0.0167\n",
      "ITERATION:  9\n",
      "Train on 18357 samples, validate on 18402 samples\n",
      "Epoch 1/1\n",
      "18357/18357 [==============================] - 74s 4ms/step - loss: 0.0193 - val_loss: 0.0139\n",
      "ITERATION:  9\n",
      "Train on 18391 samples, validate on 18402 samples\n",
      "Epoch 1/1\n",
      "18391/18391 [==============================] - 74s 4ms/step - loss: 0.0139 - val_loss: 0.0128\n",
      "ITERATION:  10\n",
      "Train on 18361 samples, validate on 18402 samples\n",
      "Epoch 1/1\n",
      "18361/18361 [==============================] - 74s 4ms/step - loss: 0.0194 - val_loss: 0.0148\n",
      "ITERATION:  10\n",
      "Train on 18357 samples, validate on 18402 samples\n",
      "Epoch 1/1\n",
      "18357/18357 [==============================] - 74s 4ms/step - loss: 0.0195 - val_loss: 0.0132\n",
      "ITERATION:  10\n",
      "Train on 18391 samples, validate on 18402 samples\n",
      "Epoch 1/1\n",
      "18391/18391 [==============================] - 74s 4ms/step - loss: 0.0127 - val_loss: 0.0131\n",
      "ITERATION:  11\n",
      "Train on 18361 samples, validate on 18402 samples\n",
      "Epoch 1/1\n",
      "18361/18361 [==============================] - 74s 4ms/step - loss: 0.0192 - val_loss: 0.0143\n",
      "ITERATION:  11\n",
      "Train on 18357 samples, validate on 18402 samples\n",
      "Epoch 1/1\n",
      "18357/18357 [==============================] - 74s 4ms/step - loss: 0.0185 - val_loss: 0.0213\n",
      "ITERATION:  11\n",
      "Train on 18391 samples, validate on 18402 samples\n",
      "Epoch 1/1\n",
      " 1040/18391 [>.............................] - ETA: 54s - loss: 0.0114"
     ]
    },
    {
     "ename": "KeyboardInterrupt",
     "evalue": "",
     "output_type": "error",
     "traceback": [
      "\u001b[0;31m---------------------------------------------------------------------------\u001b[0m",
      "\u001b[0;31mKeyboardInterrupt\u001b[0m                         Traceback (most recent call last)",
      "\u001b[0;32m<ipython-input-47-96c520ea0123>\u001b[0m in \u001b[0;36m<module>\u001b[0;34m\u001b[0m\n\u001b[1;32m     17\u001b[0m                 \u001b[0mcallbacks\u001b[0m\u001b[0;34m=\u001b[0m\u001b[0;34m[\u001b[0m\u001b[0mcsv_logger\u001b[0m\u001b[0;34m,\u001b[0m \u001b[0mreduce_lr\u001b[0m\u001b[0;34m]\u001b[0m\u001b[0;34m,\u001b[0m\u001b[0;34m\u001b[0m\u001b[0m\n\u001b[1;32m     18\u001b[0m                 \u001b[0mvalidation_data\u001b[0m\u001b[0;34m=\u001b[0m\u001b[0;34m(\u001b[0m\u001b[0mX_test\u001b[0m\u001b[0;34m,\u001b[0m \u001b[0my_test\u001b[0m\u001b[0;34m)\u001b[0m\u001b[0;34m,\u001b[0m\u001b[0;34m\u001b[0m\u001b[0m\n\u001b[0;32m---> 19\u001b[0;31m                 shuffle=True)\n\u001b[0m\u001b[1;32m     20\u001b[0m     \u001b[0mgc\u001b[0m\u001b[0;34m.\u001b[0m\u001b[0mcollect\u001b[0m\u001b[0;34m(\u001b[0m\u001b[0;34m)\u001b[0m\u001b[0;34m\u001b[0m\u001b[0m\n",
      "\u001b[0;32m~/data/p3.5/lib/python3.5/site-packages/keras/engine/training.py\u001b[0m in \u001b[0;36mfit\u001b[0;34m(self, x, y, batch_size, epochs, verbose, callbacks, validation_split, validation_data, shuffle, class_weight, sample_weight, initial_epoch, steps_per_epoch, validation_steps, **kwargs)\u001b[0m\n\u001b[1;32m   1035\u001b[0m                                         \u001b[0minitial_epoch\u001b[0m\u001b[0;34m=\u001b[0m\u001b[0minitial_epoch\u001b[0m\u001b[0;34m,\u001b[0m\u001b[0;34m\u001b[0m\u001b[0m\n\u001b[1;32m   1036\u001b[0m                                         \u001b[0msteps_per_epoch\u001b[0m\u001b[0;34m=\u001b[0m\u001b[0msteps_per_epoch\u001b[0m\u001b[0;34m,\u001b[0m\u001b[0;34m\u001b[0m\u001b[0m\n\u001b[0;32m-> 1037\u001b[0;31m                                         validation_steps=validation_steps)\n\u001b[0m\u001b[1;32m   1038\u001b[0m \u001b[0;34m\u001b[0m\u001b[0m\n\u001b[1;32m   1039\u001b[0m     def evaluate(self, x=None, y=None,\n",
      "\u001b[0;32m~/data/p3.5/lib/python3.5/site-packages/keras/engine/training_arrays.py\u001b[0m in \u001b[0;36mfit_loop\u001b[0;34m(model, f, ins, out_labels, batch_size, epochs, verbose, callbacks, val_f, val_ins, shuffle, callback_metrics, initial_epoch, steps_per_epoch, validation_steps)\u001b[0m\n\u001b[1;32m    197\u001b[0m                     \u001b[0mins_batch\u001b[0m\u001b[0;34m[\u001b[0m\u001b[0mi\u001b[0m\u001b[0;34m]\u001b[0m \u001b[0;34m=\u001b[0m \u001b[0mins_batch\u001b[0m\u001b[0;34m[\u001b[0m\u001b[0mi\u001b[0m\u001b[0;34m]\u001b[0m\u001b[0;34m.\u001b[0m\u001b[0mtoarray\u001b[0m\u001b[0;34m(\u001b[0m\u001b[0;34m)\u001b[0m\u001b[0;34m\u001b[0m\u001b[0m\n\u001b[1;32m    198\u001b[0m \u001b[0;34m\u001b[0m\u001b[0m\n\u001b[0;32m--> 199\u001b[0;31m                 \u001b[0mouts\u001b[0m \u001b[0;34m=\u001b[0m \u001b[0mf\u001b[0m\u001b[0;34m(\u001b[0m\u001b[0mins_batch\u001b[0m\u001b[0;34m)\u001b[0m\u001b[0;34m\u001b[0m\u001b[0m\n\u001b[0m\u001b[1;32m    200\u001b[0m                 \u001b[0mouts\u001b[0m \u001b[0;34m=\u001b[0m \u001b[0mto_list\u001b[0m\u001b[0;34m(\u001b[0m\u001b[0mouts\u001b[0m\u001b[0;34m)\u001b[0m\u001b[0;34m\u001b[0m\u001b[0m\n\u001b[1;32m    201\u001b[0m                 \u001b[0;32mfor\u001b[0m \u001b[0ml\u001b[0m\u001b[0;34m,\u001b[0m \u001b[0mo\u001b[0m \u001b[0;32min\u001b[0m \u001b[0mzip\u001b[0m\u001b[0;34m(\u001b[0m\u001b[0mout_labels\u001b[0m\u001b[0;34m,\u001b[0m \u001b[0mouts\u001b[0m\u001b[0;34m)\u001b[0m\u001b[0;34m:\u001b[0m\u001b[0;34m\u001b[0m\u001b[0m\n",
      "\u001b[0;32m~/data/p3.5/lib/python3.5/site-packages/keras/backend/tensorflow_backend.py\u001b[0m in \u001b[0;36m__call__\u001b[0;34m(self, inputs)\u001b[0m\n\u001b[1;32m   2664\u001b[0m                 \u001b[0;32mreturn\u001b[0m \u001b[0mself\u001b[0m\u001b[0;34m.\u001b[0m\u001b[0m_legacy_call\u001b[0m\u001b[0;34m(\u001b[0m\u001b[0minputs\u001b[0m\u001b[0;34m)\u001b[0m\u001b[0;34m\u001b[0m\u001b[0m\n\u001b[1;32m   2665\u001b[0m \u001b[0;34m\u001b[0m\u001b[0m\n\u001b[0;32m-> 2666\u001b[0;31m             \u001b[0;32mreturn\u001b[0m \u001b[0mself\u001b[0m\u001b[0;34m.\u001b[0m\u001b[0m_call\u001b[0m\u001b[0;34m(\u001b[0m\u001b[0minputs\u001b[0m\u001b[0;34m)\u001b[0m\u001b[0;34m\u001b[0m\u001b[0m\n\u001b[0m\u001b[1;32m   2667\u001b[0m         \u001b[0;32melse\u001b[0m\u001b[0;34m:\u001b[0m\u001b[0;34m\u001b[0m\u001b[0m\n\u001b[1;32m   2668\u001b[0m             \u001b[0;32mif\u001b[0m \u001b[0mpy_any\u001b[0m\u001b[0;34m(\u001b[0m\u001b[0mis_tensor\u001b[0m\u001b[0;34m(\u001b[0m\u001b[0mx\u001b[0m\u001b[0;34m)\u001b[0m \u001b[0;32mfor\u001b[0m \u001b[0mx\u001b[0m \u001b[0;32min\u001b[0m \u001b[0minputs\u001b[0m\u001b[0;34m)\u001b[0m\u001b[0;34m:\u001b[0m\u001b[0;34m\u001b[0m\u001b[0m\n",
      "\u001b[0;32m~/data/p3.5/lib/python3.5/site-packages/keras/backend/tensorflow_backend.py\u001b[0m in \u001b[0;36m_call\u001b[0;34m(self, inputs)\u001b[0m\n\u001b[1;32m   2634\u001b[0m                                 \u001b[0msymbol_vals\u001b[0m\u001b[0;34m,\u001b[0m\u001b[0;34m\u001b[0m\u001b[0m\n\u001b[1;32m   2635\u001b[0m                                 session)\n\u001b[0;32m-> 2636\u001b[0;31m         \u001b[0mfetched\u001b[0m \u001b[0;34m=\u001b[0m \u001b[0mself\u001b[0m\u001b[0;34m.\u001b[0m\u001b[0m_callable_fn\u001b[0m\u001b[0;34m(\u001b[0m\u001b[0;34m*\u001b[0m\u001b[0marray_vals\u001b[0m\u001b[0;34m)\u001b[0m\u001b[0;34m\u001b[0m\u001b[0m\n\u001b[0m\u001b[1;32m   2637\u001b[0m         \u001b[0;32mreturn\u001b[0m \u001b[0mfetched\u001b[0m\u001b[0;34m[\u001b[0m\u001b[0;34m:\u001b[0m\u001b[0mlen\u001b[0m\u001b[0;34m(\u001b[0m\u001b[0mself\u001b[0m\u001b[0;34m.\u001b[0m\u001b[0moutputs\u001b[0m\u001b[0;34m)\u001b[0m\u001b[0;34m]\u001b[0m\u001b[0;34m\u001b[0m\u001b[0m\n\u001b[1;32m   2638\u001b[0m \u001b[0;34m\u001b[0m\u001b[0m\n",
      "\u001b[0;32m~/data/p3.5/lib/python3.5/site-packages/tensorflow/python/client/session.py\u001b[0m in \u001b[0;36m__call__\u001b[0;34m(self, *args, **kwargs)\u001b[0m\n\u001b[1;32m   1380\u001b[0m           ret = tf_session.TF_SessionRunCallable(\n\u001b[1;32m   1381\u001b[0m               \u001b[0mself\u001b[0m\u001b[0;34m.\u001b[0m\u001b[0m_session\u001b[0m\u001b[0;34m.\u001b[0m\u001b[0m_session\u001b[0m\u001b[0;34m,\u001b[0m \u001b[0mself\u001b[0m\u001b[0;34m.\u001b[0m\u001b[0m_handle\u001b[0m\u001b[0;34m,\u001b[0m \u001b[0margs\u001b[0m\u001b[0;34m,\u001b[0m \u001b[0mstatus\u001b[0m\u001b[0;34m,\u001b[0m\u001b[0;34m\u001b[0m\u001b[0m\n\u001b[0;32m-> 1382\u001b[0;31m               run_metadata_ptr)\n\u001b[0m\u001b[1;32m   1383\u001b[0m         \u001b[0;32mif\u001b[0m \u001b[0mrun_metadata\u001b[0m\u001b[0;34m:\u001b[0m\u001b[0;34m\u001b[0m\u001b[0m\n\u001b[1;32m   1384\u001b[0m           \u001b[0mproto_data\u001b[0m \u001b[0;34m=\u001b[0m \u001b[0mtf_session\u001b[0m\u001b[0;34m.\u001b[0m\u001b[0mTF_GetBuffer\u001b[0m\u001b[0;34m(\u001b[0m\u001b[0mrun_metadata_ptr\u001b[0m\u001b[0;34m)\u001b[0m\u001b[0;34m\u001b[0m\u001b[0m\n",
      "\u001b[0;31mKeyboardInterrupt\u001b[0m: "
     ]
    }
   ],
   "source": [
    "import gc\n",
    "for i in range(len(epochs)):\n",
    "    for start, end in zip(rg[:-2], rg[1:-1]):\n",
    "        print(\"ITERATION: \", i)\n",
    "        data_lpmt_cur = np.load(LTRAIN + '_' + str(start) +'without_noise_sin.npy')\n",
    "        ys = tr_true_info[(tr_true_info['evtID'] >= start) \n",
    "                            & (tr_true_info['evtID'] < end)]\n",
    "        mask = (ys.R <= MAXR)\n",
    "        data_lpmt_cur = data_lpmt_cur[mask]\n",
    "        y_cur = ys[mask][['E']].values\n",
    "        #Scale\n",
    "        scale(data_lpmt_cur)\n",
    "        \n",
    "        #X_train, X_test, y_train, y_test = train_test_split(data_lpmt, y_val, test_size=0.2, random_state=45)\n",
    "        out = model.fit(data_lpmt_cur, y_cur, batch_size=16, \n",
    "                epochs=epochs[i],\n",
    "                callbacks=[csv_logger, reduce_lr],\n",
    "                validation_data=(X_test, y_test),\n",
    "                shuffle=True)\n",
    "    gc.collect()"
   ]
  },
  {
   "cell_type": "code",
   "execution_count": 51,
   "metadata": {},
   "outputs": [],
   "source": [
    "training_generator = DataGenerator(16,rg=rg,\n",
    "                                file_names=[LTRAIN + '_' + str(start) +'without_noise_sin.npy' for start in rg[:-2]],\n",
    "                                  y_true=tr_true_info,\n",
    "                                  target_names=['E'],\n",
    "                                  scaler=scaler)"
   ]
  },
  {
   "cell_type": "code",
   "execution_count": 53,
   "metadata": {},
   "outputs": [
    {
     "name": "stdout",
     "output_type": "stream",
     "text": [
      "Epoch 1/20\n",
      "1149/1149 [==============================] - 85s 74ms/step - loss: 0.0085 - val_loss: 0.0108\n",
      "Epoch 2/20\n",
      "1149/1149 [==============================] - 80s 70ms/step - loss: nan - val_loss: 0.0116\n",
      "Epoch 3/20\n",
      "1149/1149 [==============================] - 80s 69ms/step - loss: nan - val_loss: 0.0109\n",
      "Epoch 4/20\n",
      "1149/1149 [==============================] - 80s 70ms/step - loss: 0.0085 - val_loss: 0.0108\n",
      "Epoch 5/20\n",
      "1149/1149 [==============================] - 80s 70ms/step - loss: nan - val_loss: 0.0108\n",
      "Epoch 6/20\n",
      "1149/1149 [==============================] - 80s 69ms/step - loss: nan - val_loss: 0.0108\n",
      "Epoch 7/20\n",
      "1149/1149 [==============================] - 80s 70ms/step - loss: 0.0084 - val_loss: 0.0107\n",
      "Epoch 8/20\n",
      "1149/1149 [==============================] - 80s 70ms/step - loss: nan - val_loss: 0.0107\n",
      "Epoch 9/20\n",
      "1149/1149 [==============================] - 80s 69ms/step - loss: nan - val_loss: 0.0107\n",
      "Epoch 10/20\n",
      "1149/1149 [==============================] - 80s 69ms/step - loss: 0.0084 - val_loss: 0.0107\n",
      "Epoch 11/20\n",
      "1149/1149 [==============================] - 79s 69ms/step - loss: nan - val_loss: 0.0107\n",
      "Epoch 12/20\n",
      "1149/1149 [==============================] - 79s 69ms/step - loss: nan - val_loss: 0.0107\n",
      "Epoch 13/20\n",
      "1149/1149 [==============================] - 79s 69ms/step - loss: 0.0083 - val_loss: 0.0107\n",
      "Epoch 14/20\n",
      "1149/1149 [==============================] - 79s 69ms/step - loss: nan - val_loss: 0.0107\n",
      "Epoch 15/20\n",
      "1149/1149 [==============================] - 79s 69ms/step - loss: nan - val_loss: 0.0107\n",
      "Epoch 16/20\n",
      "1148/1149 [============================>.] - ETA: 0s - loss: 0.0083"
     ]
    },
    {
     "name": "stderr",
     "output_type": "stream",
     "text": [
      "Process ForkPoolWorker-224:\n",
      "Traceback (most recent call last):\n",
      "Process ForkPoolWorker-227:\n",
      "  File \"/home/iprovilkov/data/p3.5/lib/python3.5/multiprocessing/process.py\", line 252, in _bootstrap\n",
      "    self.run()\n"
     ]
    },
    {
     "ename": "KeyboardInterrupt",
     "evalue": "",
     "output_type": "error",
     "traceback": [
      "\u001b[0;31m---------------------------------------------------------------------------\u001b[0m",
      "\u001b[0;31mKeyboardInterrupt\u001b[0m                         Traceback (most recent call last)",
      "\u001b[0;32m<ipython-input-53-c565fbbca14f>\u001b[0m in \u001b[0;36m<module>\u001b[0;34m\u001b[0m\n\u001b[1;32m      4\u001b[0m                     \u001b[0mworkers\u001b[0m\u001b[0;34m=\u001b[0m\u001b[0;36m6\u001b[0m\u001b[0;34m,\u001b[0m\u001b[0;34m\u001b[0m\u001b[0m\n\u001b[1;32m      5\u001b[0m                     \u001b[0mcallbacks\u001b[0m\u001b[0;34m=\u001b[0m\u001b[0;34m[\u001b[0m\u001b[0mcsv_logger\u001b[0m\u001b[0;34m,\u001b[0m \u001b[0mreduce_lr\u001b[0m\u001b[0;34m]\u001b[0m\u001b[0;34m,\u001b[0m\u001b[0;34m\u001b[0m\u001b[0m\n\u001b[0;32m----> 6\u001b[0;31m                    epochs=4*5)\n\u001b[0m",
      "\u001b[0;32m~/data/p3.5/lib/python3.5/site-packages/keras/legacy/interfaces.py\u001b[0m in \u001b[0;36mwrapper\u001b[0;34m(*args, **kwargs)\u001b[0m\n\u001b[1;32m     89\u001b[0m                 warnings.warn('Update your `' + object_name +\n\u001b[1;32m     90\u001b[0m                               '` call to the Keras 2 API: ' + signature, stacklevel=2)\n\u001b[0;32m---> 91\u001b[0;31m             \u001b[0;32mreturn\u001b[0m \u001b[0mfunc\u001b[0m\u001b[0;34m(\u001b[0m\u001b[0;34m*\u001b[0m\u001b[0margs\u001b[0m\u001b[0;34m,\u001b[0m \u001b[0;34m**\u001b[0m\u001b[0mkwargs\u001b[0m\u001b[0;34m)\u001b[0m\u001b[0;34m\u001b[0m\u001b[0m\n\u001b[0m\u001b[1;32m     92\u001b[0m         \u001b[0mwrapper\u001b[0m\u001b[0;34m.\u001b[0m\u001b[0m_original_function\u001b[0m \u001b[0;34m=\u001b[0m \u001b[0mfunc\u001b[0m\u001b[0;34m\u001b[0m\u001b[0m\n\u001b[1;32m     93\u001b[0m         \u001b[0;32mreturn\u001b[0m \u001b[0mwrapper\u001b[0m\u001b[0;34m\u001b[0m\u001b[0m\n",
      "\u001b[0;32m~/data/p3.5/lib/python3.5/site-packages/keras/engine/training.py\u001b[0m in \u001b[0;36mfit_generator\u001b[0;34m(self, generator, steps_per_epoch, epochs, verbose, callbacks, validation_data, validation_steps, class_weight, max_queue_size, workers, use_multiprocessing, shuffle, initial_epoch)\u001b[0m\n\u001b[1;32m   1413\u001b[0m             \u001b[0muse_multiprocessing\u001b[0m\u001b[0;34m=\u001b[0m\u001b[0muse_multiprocessing\u001b[0m\u001b[0;34m,\u001b[0m\u001b[0;34m\u001b[0m\u001b[0m\n\u001b[1;32m   1414\u001b[0m             \u001b[0mshuffle\u001b[0m\u001b[0;34m=\u001b[0m\u001b[0mshuffle\u001b[0m\u001b[0;34m,\u001b[0m\u001b[0;34m\u001b[0m\u001b[0m\n\u001b[0;32m-> 1415\u001b[0;31m             initial_epoch=initial_epoch)\n\u001b[0m\u001b[1;32m   1416\u001b[0m \u001b[0;34m\u001b[0m\u001b[0m\n\u001b[1;32m   1417\u001b[0m     \u001b[0;34m@\u001b[0m\u001b[0minterfaces\u001b[0m\u001b[0;34m.\u001b[0m\u001b[0mlegacy_generator_methods_support\u001b[0m\u001b[0;34m\u001b[0m\u001b[0m\n",
      "\u001b[0;32m~/data/p3.5/lib/python3.5/site-packages/keras/engine/training_generator.py\u001b[0m in \u001b[0;36mfit_generator\u001b[0;34m(model, generator, steps_per_epoch, epochs, verbose, callbacks, validation_data, validation_steps, class_weight, max_queue_size, workers, use_multiprocessing, shuffle, initial_epoch)\u001b[0m\n\u001b[1;32m    236\u001b[0m                             \u001b[0mbatch_size\u001b[0m\u001b[0;34m=\u001b[0m\u001b[0mbatch_size\u001b[0m\u001b[0;34m,\u001b[0m\u001b[0;34m\u001b[0m\u001b[0m\n\u001b[1;32m    237\u001b[0m                             \u001b[0msample_weight\u001b[0m\u001b[0;34m=\u001b[0m\u001b[0mval_sample_weights\u001b[0m\u001b[0;34m,\u001b[0m\u001b[0;34m\u001b[0m\u001b[0m\n\u001b[0;32m--> 238\u001b[0;31m                             verbose=0)\n\u001b[0m\u001b[1;32m    239\u001b[0m                     \u001b[0mval_outs\u001b[0m \u001b[0;34m=\u001b[0m \u001b[0mto_list\u001b[0m\u001b[0;34m(\u001b[0m\u001b[0mval_outs\u001b[0m\u001b[0;34m)\u001b[0m\u001b[0;34m\u001b[0m\u001b[0m\n\u001b[1;32m    240\u001b[0m                     \u001b[0;31m# Same labels assumed.\u001b[0m\u001b[0;34m\u001b[0m\u001b[0;34m\u001b[0m\u001b[0m\n",
      "\u001b[0;32m~/data/p3.5/lib/python3.5/site-packages/keras/engine/training.py\u001b[0m in \u001b[0;36mevaluate\u001b[0;34m(self, x, y, batch_size, verbose, sample_weight, steps)\u001b[0m\n\u001b[1;32m   1109\u001b[0m                                          \u001b[0mbatch_size\u001b[0m\u001b[0;34m=\u001b[0m\u001b[0mbatch_size\u001b[0m\u001b[0;34m,\u001b[0m\u001b[0;34m\u001b[0m\u001b[0m\n\u001b[1;32m   1110\u001b[0m                                          \u001b[0mverbose\u001b[0m\u001b[0;34m=\u001b[0m\u001b[0mverbose\u001b[0m\u001b[0;34m,\u001b[0m\u001b[0;34m\u001b[0m\u001b[0m\n\u001b[0;32m-> 1111\u001b[0;31m                                          steps=steps)\n\u001b[0m\u001b[1;32m   1112\u001b[0m \u001b[0;34m\u001b[0m\u001b[0m\n\u001b[1;32m   1113\u001b[0m     def predict(self, x,\n",
      "\u001b[0;32m~/data/p3.5/lib/python3.5/site-packages/keras/engine/training_arrays.py\u001b[0m in \u001b[0;36mtest_loop\u001b[0;34m(model, f, ins, batch_size, verbose, steps)\u001b[0m\n\u001b[1;32m    390\u001b[0m                 \u001b[0mins_batch\u001b[0m\u001b[0;34m[\u001b[0m\u001b[0mi\u001b[0m\u001b[0;34m]\u001b[0m \u001b[0;34m=\u001b[0m \u001b[0mins_batch\u001b[0m\u001b[0;34m[\u001b[0m\u001b[0mi\u001b[0m\u001b[0;34m]\u001b[0m\u001b[0;34m.\u001b[0m\u001b[0mtoarray\u001b[0m\u001b[0;34m(\u001b[0m\u001b[0;34m)\u001b[0m\u001b[0;34m\u001b[0m\u001b[0m\n\u001b[1;32m    391\u001b[0m \u001b[0;34m\u001b[0m\u001b[0m\n\u001b[0;32m--> 392\u001b[0;31m             \u001b[0mbatch_outs\u001b[0m \u001b[0;34m=\u001b[0m \u001b[0mf\u001b[0m\u001b[0;34m(\u001b[0m\u001b[0mins_batch\u001b[0m\u001b[0;34m)\u001b[0m\u001b[0;34m\u001b[0m\u001b[0m\n\u001b[0m\u001b[1;32m    393\u001b[0m             \u001b[0;32mif\u001b[0m \u001b[0misinstance\u001b[0m\u001b[0;34m(\u001b[0m\u001b[0mbatch_outs\u001b[0m\u001b[0;34m,\u001b[0m \u001b[0mlist\u001b[0m\u001b[0;34m)\u001b[0m\u001b[0;34m:\u001b[0m\u001b[0;34m\u001b[0m\u001b[0m\n\u001b[1;32m    394\u001b[0m                 \u001b[0;32mif\u001b[0m \u001b[0mbatch_index\u001b[0m \u001b[0;34m==\u001b[0m \u001b[0;36m0\u001b[0m\u001b[0;34m:\u001b[0m\u001b[0;34m\u001b[0m\u001b[0m\n",
      "\u001b[0;32m~/data/p3.5/lib/python3.5/site-packages/keras/backend/tensorflow_backend.py\u001b[0m in \u001b[0;36m__call__\u001b[0;34m(self, inputs)\u001b[0m\n\u001b[1;32m   2664\u001b[0m                 \u001b[0;32mreturn\u001b[0m \u001b[0mself\u001b[0m\u001b[0;34m.\u001b[0m\u001b[0m_legacy_call\u001b[0m\u001b[0;34m(\u001b[0m\u001b[0minputs\u001b[0m\u001b[0;34m)\u001b[0m\u001b[0;34m\u001b[0m\u001b[0m\n\u001b[1;32m   2665\u001b[0m \u001b[0;34m\u001b[0m\u001b[0m\n\u001b[0;32m-> 2666\u001b[0;31m             \u001b[0;32mreturn\u001b[0m \u001b[0mself\u001b[0m\u001b[0;34m.\u001b[0m\u001b[0m_call\u001b[0m\u001b[0;34m(\u001b[0m\u001b[0minputs\u001b[0m\u001b[0;34m)\u001b[0m\u001b[0;34m\u001b[0m\u001b[0m\n\u001b[0m\u001b[1;32m   2667\u001b[0m         \u001b[0;32melse\u001b[0m\u001b[0;34m:\u001b[0m\u001b[0;34m\u001b[0m\u001b[0m\n\u001b[1;32m   2668\u001b[0m             \u001b[0;32mif\u001b[0m \u001b[0mpy_any\u001b[0m\u001b[0;34m(\u001b[0m\u001b[0mis_tensor\u001b[0m\u001b[0;34m(\u001b[0m\u001b[0mx\u001b[0m\u001b[0;34m)\u001b[0m \u001b[0;32mfor\u001b[0m \u001b[0mx\u001b[0m \u001b[0;32min\u001b[0m \u001b[0minputs\u001b[0m\u001b[0;34m)\u001b[0m\u001b[0;34m:\u001b[0m\u001b[0;34m\u001b[0m\u001b[0m\n",
      "\u001b[0;32m~/data/p3.5/lib/python3.5/site-packages/keras/backend/tensorflow_backend.py\u001b[0m in \u001b[0;36m_call\u001b[0;34m(self, inputs)\u001b[0m\n\u001b[1;32m   2634\u001b[0m                                 \u001b[0msymbol_vals\u001b[0m\u001b[0;34m,\u001b[0m\u001b[0;34m\u001b[0m\u001b[0m\n\u001b[1;32m   2635\u001b[0m                                 session)\n\u001b[0;32m-> 2636\u001b[0;31m         \u001b[0mfetched\u001b[0m \u001b[0;34m=\u001b[0m \u001b[0mself\u001b[0m\u001b[0;34m.\u001b[0m\u001b[0m_callable_fn\u001b[0m\u001b[0;34m(\u001b[0m\u001b[0;34m*\u001b[0m\u001b[0marray_vals\u001b[0m\u001b[0;34m)\u001b[0m\u001b[0;34m\u001b[0m\u001b[0m\n\u001b[0m\u001b[1;32m   2637\u001b[0m         \u001b[0;32mreturn\u001b[0m \u001b[0mfetched\u001b[0m\u001b[0;34m[\u001b[0m\u001b[0;34m:\u001b[0m\u001b[0mlen\u001b[0m\u001b[0;34m(\u001b[0m\u001b[0mself\u001b[0m\u001b[0;34m.\u001b[0m\u001b[0moutputs\u001b[0m\u001b[0;34m)\u001b[0m\u001b[0;34m]\u001b[0m\u001b[0;34m\u001b[0m\u001b[0m\n\u001b[1;32m   2638\u001b[0m \u001b[0;34m\u001b[0m\u001b[0m\n",
      "\u001b[0;32m~/data/p3.5/lib/python3.5/site-packages/tensorflow/python/client/session.py\u001b[0m in \u001b[0;36m__call__\u001b[0;34m(self, *args, **kwargs)\u001b[0m\n\u001b[1;32m   1380\u001b[0m           ret = tf_session.TF_SessionRunCallable(\n\u001b[1;32m   1381\u001b[0m               \u001b[0mself\u001b[0m\u001b[0;34m.\u001b[0m\u001b[0m_session\u001b[0m\u001b[0;34m.\u001b[0m\u001b[0m_session\u001b[0m\u001b[0;34m,\u001b[0m \u001b[0mself\u001b[0m\u001b[0;34m.\u001b[0m\u001b[0m_handle\u001b[0m\u001b[0;34m,\u001b[0m \u001b[0margs\u001b[0m\u001b[0;34m,\u001b[0m \u001b[0mstatus\u001b[0m\u001b[0;34m,\u001b[0m\u001b[0;34m\u001b[0m\u001b[0m\n\u001b[0;32m-> 1382\u001b[0;31m               run_metadata_ptr)\n\u001b[0m\u001b[1;32m   1383\u001b[0m         \u001b[0;32mif\u001b[0m \u001b[0mrun_metadata\u001b[0m\u001b[0;34m:\u001b[0m\u001b[0;34m\u001b[0m\u001b[0m\n\u001b[1;32m   1384\u001b[0m           \u001b[0mproto_data\u001b[0m \u001b[0;34m=\u001b[0m \u001b[0mtf_session\u001b[0m\u001b[0;34m.\u001b[0m\u001b[0mTF_GetBuffer\u001b[0m\u001b[0;34m(\u001b[0m\u001b[0mrun_metadata_ptr\u001b[0m\u001b[0;34m)\u001b[0m\u001b[0;34m\u001b[0m\u001b[0m\n",
      "\u001b[0;31mKeyboardInterrupt\u001b[0m: "
     ]
    },
    {
     "name": "stderr",
     "output_type": "stream",
     "text": [
      "Process ForkPoolWorker-223:\n",
      "Process ForkPoolWorker-225:\n",
      "Process ForkPoolWorker-228:\n",
      "Process ForkPoolWorker-226:\n",
      "  File \"/home/iprovilkov/data/p3.5/lib/python3.5/multiprocessing/process.py\", line 93, in run\n",
      "    self._target(*self._args, **self._kwargs)\n",
      "  File \"/home/iprovilkov/data/p3.5/lib/python3.5/multiprocessing/pool.py\", line 108, in worker\n",
      "    task = get()\n",
      "  File \"/home/iprovilkov/data/p3.5/lib/python3.5/multiprocessing/queues.py\", line 334, in get\n",
      "    with self._rlock:\n",
      "Traceback (most recent call last):\n",
      "Traceback (most recent call last):\n",
      "Traceback (most recent call last):\n",
      "Traceback (most recent call last):\n",
      "Traceback (most recent call last):\n",
      "  File \"/home/iprovilkov/data/p3.5/lib/python3.5/multiprocessing/synchronize.py\", line 96, in __enter__\n",
      "    return self._semlock.__enter__()\n",
      "  File \"/home/iprovilkov/data/p3.5/lib/python3.5/multiprocessing/process.py\", line 252, in _bootstrap\n",
      "    self.run()\n",
      "  File \"/home/iprovilkov/data/p3.5/lib/python3.5/multiprocessing/process.py\", line 252, in _bootstrap\n",
      "    self.run()\n",
      "  File \"/home/iprovilkov/data/p3.5/lib/python3.5/multiprocessing/process.py\", line 252, in _bootstrap\n",
      "    self.run()\n",
      "  File \"/home/iprovilkov/data/p3.5/lib/python3.5/multiprocessing/process.py\", line 252, in _bootstrap\n",
      "    self.run()\n",
      "  File \"/home/iprovilkov/data/p3.5/lib/python3.5/multiprocessing/process.py\", line 252, in _bootstrap\n",
      "    self.run()\n",
      "KeyboardInterrupt\n",
      "  File \"/home/iprovilkov/data/p3.5/lib/python3.5/multiprocessing/process.py\", line 93, in run\n",
      "    self._target(*self._args, **self._kwargs)\n",
      "  File \"/home/iprovilkov/data/p3.5/lib/python3.5/multiprocessing/process.py\", line 93, in run\n",
      "    self._target(*self._args, **self._kwargs)\n",
      "  File \"/home/iprovilkov/data/p3.5/lib/python3.5/multiprocessing/process.py\", line 93, in run\n",
      "    self._target(*self._args, **self._kwargs)\n",
      "  File \"/home/iprovilkov/data/p3.5/lib/python3.5/multiprocessing/process.py\", line 93, in run\n",
      "    self._target(*self._args, **self._kwargs)\n",
      "  File \"/home/iprovilkov/data/p3.5/lib/python3.5/multiprocessing/process.py\", line 93, in run\n",
      "    self._target(*self._args, **self._kwargs)\n",
      "  File \"/home/iprovilkov/data/p3.5/lib/python3.5/multiprocessing/pool.py\", line 108, in worker\n",
      "    task = get()\n",
      "  File \"/home/iprovilkov/data/p3.5/lib/python3.5/multiprocessing/pool.py\", line 108, in worker\n",
      "    task = get()\n",
      "  File \"/home/iprovilkov/data/p3.5/lib/python3.5/multiprocessing/pool.py\", line 108, in worker\n",
      "    task = get()\n",
      "  File \"/home/iprovilkov/data/p3.5/lib/python3.5/multiprocessing/pool.py\", line 108, in worker\n",
      "    task = get()\n",
      "  File \"/home/iprovilkov/data/p3.5/lib/python3.5/multiprocessing/pool.py\", line 108, in worker\n",
      "    task = get()\n",
      "  File \"/home/iprovilkov/data/p3.5/lib/python3.5/multiprocessing/queues.py\", line 334, in get\n",
      "    with self._rlock:\n",
      "  File \"/home/iprovilkov/data/p3.5/lib/python3.5/multiprocessing/queues.py\", line 335, in get\n",
      "    res = self._reader.recv_bytes()\n",
      "  File \"/home/iprovilkov/data/p3.5/lib/python3.5/multiprocessing/queues.py\", line 334, in get\n",
      "    with self._rlock:\n",
      "  File \"/home/iprovilkov/data/p3.5/lib/python3.5/multiprocessing/queues.py\", line 334, in get\n",
      "    with self._rlock:\n",
      "  File \"/home/iprovilkov/data/p3.5/lib/python3.5/multiprocessing/queues.py\", line 334, in get\n",
      "    with self._rlock:\n",
      "  File \"/home/iprovilkov/data/p3.5/lib/python3.5/multiprocessing/synchronize.py\", line 96, in __enter__\n",
      "    return self._semlock.__enter__()\n",
      "  File \"/home/iprovilkov/data/p3.5/lib/python3.5/multiprocessing/connection.py\", line 216, in recv_bytes\n",
      "    buf = self._recv_bytes(maxlength)\n",
      "  File \"/home/iprovilkov/data/p3.5/lib/python3.5/multiprocessing/synchronize.py\", line 96, in __enter__\n",
      "    return self._semlock.__enter__()\n",
      "  File \"/home/iprovilkov/data/p3.5/lib/python3.5/multiprocessing/synchronize.py\", line 96, in __enter__\n",
      "    return self._semlock.__enter__()\n",
      "  File \"/home/iprovilkov/data/p3.5/lib/python3.5/multiprocessing/synchronize.py\", line 96, in __enter__\n",
      "    return self._semlock.__enter__()\n",
      "KeyboardInterrupt\n",
      "  File \"/home/iprovilkov/data/p3.5/lib/python3.5/multiprocessing/connection.py\", line 407, in _recv_bytes\n",
      "    buf = self._recv(4)\n",
      "KeyboardInterrupt\n",
      "KeyboardInterrupt\n",
      "KeyboardInterrupt\n",
      "  File \"/home/iprovilkov/data/p3.5/lib/python3.5/multiprocessing/connection.py\", line 379, in _recv\n",
      "    chunk = read(handle, remaining)\n",
      "KeyboardInterrupt\n"
     ]
    }
   ],
   "source": [
    "model.fit_generator(generator=training_generator,\n",
    "                    validation_data=(X_test, y_test),\n",
    "                    use_multiprocessing=True,\n",
    "                    workers=6,\n",
    "                    callbacks=[csv_logger, reduce_lr],\n",
    "                   epochs=4*5)"
   ]
  },
  {
   "cell_type": "code",
   "execution_count": 56,
   "metadata": {},
   "outputs": [
    {
     "data": {
      "text/plain": [
       "(0, 0.3)"
      ]
     },
     "execution_count": 56,
     "metadata": {},
     "output_type": "execute_result"
    },
    {
     "data": {
      "image/png": "[encoded data removed]",
      "text/plain": [
       "<Figure size 432x288 with 1 Axes>"
      ]
     },
     "metadata": {
      "needs_background": "light"
     },
     "output_type": "display_data"
    }
   ],
   "source": [
    "cs = pd.read_csv(logdir, sep=';')\n",
    "plt.scatter(np.arange(0, cs.shape[0]), cs['val_loss'].values)\n",
    "plt.ylim(0,0.3)"
   ]
  },
  {
   "cell_type": "code",
   "execution_count": 57,
   "metadata": {},
   "outputs": [],
   "source": [
    "from sklearn.metrics.pairwise import paired_euclidean_distances\n",
    "from sklearn.metrics import mean_squared_error"
   ]
  },
  {
   "cell_type": "code",
   "execution_count": 58,
   "metadata": {},
   "outputs": [],
   "source": [
    "preds = np.maximum(model.predict(X_test), 0)\n",
    "test_resultsE = mean_squared_error(preds[:,0], y_test[:,0])"
   ]
  },
  {
   "cell_type": "code",
   "execution_count": 59,
   "metadata": {},
   "outputs": [
    {
     "data": {
      "text/plain": [
       "0.010702079030239502"
      ]
     },
     "execution_count": 59,
     "metadata": {},
     "output_type": "execute_result"
    }
   ],
   "source": [
    "test_resultsE.mean()"
   ]
  },
  {
   "cell_type": "code",
   "execution_count": 60,
   "metadata": {},
   "outputs": [],
   "source": [
    "from tqdm import tqdm"
   ]
  },
  {
   "cell_type": "code",
   "execution_count": 61,
   "metadata": {},
   "outputs": [],
   "source": [
    "root_data_path = '/mnt/iprovilkov/data_dir/0MeV_lpmt_hits.h5'"
   ]
  },
  {
   "cell_type": "code",
   "execution_count": 75,
   "metadata": {},
   "outputs": [],
   "source": [
    "def test_sigmas(model, test_dir='/mnt/iprovilkov/data_dir/', test_column='E', MAXR=MAXR, \n",
    "                time=False, recompute=False):\n",
    "    sigmas = {}\n",
    "    MSEs = {}\n",
    "    predictions = {}\n",
    "    CONST = 1.022\n",
    "    for energy in tqdm(range(10)):\n",
    "        try:\n",
    "            if recompute:\n",
    "                raise Exception(\"Recompute\")\n",
    "            if time:\n",
    "                data_lpmt = np.load(test_dir + str(energy) + 'data_lpmt_without_noise_sin.npy')\n",
    "            else:\n",
    "                data_lpmt = np.load(test_dir + str(energy) + 'data_lpmt_without_noise_sin.npy')\n",
    "            true_info = pd.read_csv(TRAIN_DIR + str(energy)+'MeV_'+'true_info.csv')\n",
    "        except: \n",
    "            lpmt_hits = pd.read_hdf(test_dir + str(energy)+'MeV_'+ 'lpmt_hits.h5', mode='r') \n",
    "            spmt_hits = pd.read_hdf(test_dir + str(energy)+'MeV_'+'spmt_hits.h5', mode='r')\n",
    "            lpmt_hits = lpmt_hits[lpmt_hits.isDN==False]\n",
    "            spmt_hits = spmt_hits[spmt_hits.isDN==False]\n",
    "            pos = pd.read_csv(TRAIN_DIR + str(energy)+'MeV_'+'lpmt_pos.csv') \n",
    "            spmt_pos = pd.read_csv(TRAIN_DIR + str(energy)+'MeV_'+'spmt_pos.csv') \n",
    "            true_info = pd.read_csv(TRAIN_DIR + str(energy)+'MeV_'+'true_info.csv')\n",
    "            if time:\n",
    "                print(\"Compute...\")\n",
    "                data_lpmt, event_to_id = get_data_2dprojection(lpmt_hits,\n",
    "                                                None,\n",
    "                                                pos,\n",
    "                                                true_info,\n",
    "                                                edge_size0=226,\n",
    "                                                edge_size1=112,\n",
    "                                                use_spmt=False,\n",
    "                                                time='min',\n",
    "                                                )\n",
    "                np.save(test_dir+str(energy)+'data_lpmt_without_noise_sin', data_lpmt)\n",
    "            else:\n",
    "                pass\n",
    "            \n",
    "        mask = (true_info.R<=MAXR)\n",
    "        data_lpmt = data_lpmt[mask]\n",
    "        true_info = true_info[mask]\n",
    "        y_test = true_info[test_column]\n",
    "        scaler(data_lpmt, y_test)\n",
    "        preds = np.maximum(model.predict(data_lpmt), 0)\n",
    "        print(y_test.mean())\n",
    "        predictions[energy] = preds\n",
    "        MSEs[energy] = mean_squared_error(preds, y_test)\n",
    "        # in percents\n",
    "        sigmas[energy] = np.std(preds - y_test.mean()) / (energy + CONST)\n",
    "    print(\"+\")\n",
    "    return sigmas, MSEs, predictions"
   ]
  },
  {
   "cell_type": "code",
   "execution_count": null,
   "metadata": {},
   "outputs": [],
   "source": []
  },
  {
   "cell_type": "code",
   "execution_count": 76,
   "metadata": {
    "scrolled": true
   },
   "outputs": [
    {
     "name": "stderr",
     "output_type": "stream",
     "text": [
      "\r",
      "  0%|          | 0/10 [00:00<?, ?it/s]"
     ]
    },
    {
     "name": "stdout",
     "output_type": "stream",
     "text": [
      "Compute...\n",
      "Starting cycle...\n"
     ]
    },
    {
     "data": {
      "application/vnd.jupyter.widget-view+json": {
       "model_id": "dbc9c24f9d854cadb4e4e76990a91135",
       "version_major": 2,
       "version_minor": 0
      },
      "text/plain": [
       "HBox(children=(IntProgress(value=1, bar_style='info', max=1), HTML(value='')))"
      ]
     },
     "metadata": {},
     "output_type": "display_data"
    },
    {
     "name": "stderr",
     "output_type": "stream",
     "text": [
      "\r",
      " 10%|█         | 1/10 [00:30<04:37, 30.84s/it]"
     ]
    },
    {
     "name": "stdout",
     "output_type": "stream",
     "text": [
      "0.5109988999999999\n",
      "Compute...\n",
      "Starting cycle...\n"
     ]
    },
    {
     "data": {
      "application/vnd.jupyter.widget-view+json": {
       "model_id": "7555e071eebb4f62aa73c9bba2425e57",
       "version_major": 2,
       "version_minor": 0
      },
      "text/plain": [
       "HBox(children=(IntProgress(value=1, bar_style='info', max=1), HTML(value='')))"
      ]
     },
     "metadata": {},
     "output_type": "display_data"
    },
    {
     "name": "stderr",
     "output_type": "stream",
     "text": [
      "\r",
      " 20%|██        | 2/10 [01:28<05:11, 38.98s/it]"
     ]
    },
    {
     "name": "stdout",
     "output_type": "stream",
     "text": [
      "1.5109988697622994\n",
      "Compute...\n",
      "Starting cycle...\n"
     ]
    },
    {
     "data": {
      "application/vnd.jupyter.widget-view+json": {
       "model_id": "3e7e1d9dc8254de7a4dc53ac967f4a38",
       "version_major": 2,
       "version_minor": 0
      },
      "text/plain": [
       "HBox(children=(IntProgress(value=1, bar_style='info', max=1), HTML(value='')))"
      ]
     },
     "metadata": {},
     "output_type": "display_data"
    },
    {
     "name": "stderr",
     "output_type": "stream",
     "text": [
      "\r",
      " 30%|███       | 3/10 [03:02<06:28, 55.52s/it]"
     ]
    },
    {
     "name": "stdout",
     "output_type": "stream",
     "text": [
      "2.5109990065502177\n",
      "Compute...\n",
      "Starting cycle...\n"
     ]
    },
    {
     "data": {
      "application/vnd.jupyter.widget-view+json": {
       "model_id": "dba264674aac4ff58aa9cfd561647c5e",
       "version_major": 2,
       "version_minor": 0
      },
      "text/plain": [
       "HBox(children=(IntProgress(value=1, bar_style='info', max=1), HTML(value='')))"
      ]
     },
     "metadata": {},
     "output_type": "display_data"
    },
    {
     "name": "stderr",
     "output_type": "stream",
     "text": [
      "\r",
      " 40%|████      | 4/10 [05:07<07:36, 76.11s/it]"
     ]
    },
    {
     "name": "stdout",
     "output_type": "stream",
     "text": [
      "3.5109988987951803\n",
      "Compute...\n",
      "Starting cycle...\n"
     ]
    },
    {
     "data": {
      "application/vnd.jupyter.widget-view+json": {
       "model_id": "b24a89ec168e4c09b6577f7d488b6ce2",
       "version_major": 2,
       "version_minor": 0
      },
      "text/plain": [
       "HBox(children=(IntProgress(value=1, bar_style='info', max=1), HTML(value='')))"
      ]
     },
     "metadata": {},
     "output_type": "display_data"
    },
    {
     "name": "stderr",
     "output_type": "stream",
     "text": [
      "\r",
      " 50%|█████     | 5/10 [07:44<08:22, 100.44s/it]"
     ]
    },
    {
     "name": "stdout",
     "output_type": "stream",
     "text": [
      "4.510998806956522\n",
      "Compute...\n",
      "Starting cycle...\n"
     ]
    },
    {
     "data": {
      "application/vnd.jupyter.widget-view+json": {
       "model_id": "a44a493e091c4a61820d48843e9274a0",
       "version_major": 2,
       "version_minor": 0
      },
      "text/plain": [
       "HBox(children=(IntProgress(value=1, bar_style='info', max=1), HTML(value='')))"
      ]
     },
     "metadata": {},
     "output_type": "display_data"
    },
    {
     "name": "stderr",
     "output_type": "stream",
     "text": [
      "\r",
      " 60%|██████    | 6/10 [10:56<08:32, 128.12s/it]"
     ]
    },
    {
     "name": "stdout",
     "output_type": "stream",
     "text": [
      "5.510998686870312\n",
      "Compute...\n",
      "Starting cycle...\n"
     ]
    },
    {
     "data": {
      "application/vnd.jupyter.widget-view+json": {
       "model_id": "a85fbe4e7fb84e13bcbbe26b2989ec77",
       "version_major": 2,
       "version_minor": 0
      },
      "text/plain": [
       "HBox(children=(IntProgress(value=1, bar_style='info', max=1), HTML(value='')))"
      ]
     },
     "metadata": {},
     "output_type": "display_data"
    },
    {
     "name": "stderr",
     "output_type": "stream",
     "text": [
      "\r",
      " 70%|███████   | 7/10 [14:21<07:33, 151.15s/it]"
     ]
    },
    {
     "name": "stdout",
     "output_type": "stream",
     "text": [
      "6.510998666593649\n",
      "Compute...\n",
      "Starting cycle...\n"
     ]
    },
    {
     "data": {
      "application/vnd.jupyter.widget-view+json": {
       "model_id": "71f46411b65c467c93bdbb45e95b8277",
       "version_major": 2,
       "version_minor": 0
      },
      "text/plain": [
       "HBox(children=(IntProgress(value=1, bar_style='info', max=1), HTML(value='')))"
      ]
     },
     "metadata": {},
     "output_type": "display_data"
    },
    {
     "name": "stderr",
     "output_type": "stream",
     "text": [
      "\r",
      " 80%|████████  | 8/10 [18:16<05:52, 176.13s/it]"
     ]
    },
    {
     "name": "stdout",
     "output_type": "stream",
     "text": [
      "7.510998798899285\n",
      "Compute...\n",
      "Starting cycle...\n"
     ]
    },
    {
     "data": {
      "application/vnd.jupyter.widget-view+json": {
       "model_id": "23adbe8f99bc47ba868574fc015d2e85",
       "version_major": 2,
       "version_minor": 0
      },
      "text/plain": [
       "HBox(children=(IntProgress(value=1, bar_style='info', max=1), HTML(value='')))"
      ]
     },
     "metadata": {},
     "output_type": "display_data"
    },
    {
     "name": "stderr",
     "output_type": "stream",
     "text": [
      "\r",
      " 90%|█████████ | 9/10 [22:48<03:24, 204.91s/it]"
     ]
    },
    {
     "name": "stdout",
     "output_type": "stream",
     "text": [
      "8.510999212171052\n",
      "Compute...\n",
      "Starting cycle...\n"
     ]
    },
    {
     "data": {
      "application/vnd.jupyter.widget-view+json": {
       "model_id": "a56f66cdd04845a787cca484960c650c",
       "version_major": 2,
       "version_minor": 0
      },
      "text/plain": [
       "HBox(children=(IntProgress(value=1, bar_style='info', max=1), HTML(value='')))"
      ]
     },
     "metadata": {},
     "output_type": "display_data"
    },
    {
     "name": "stderr",
     "output_type": "stream",
     "text": [
      "\r",
      "100%|██████████| 10/10 [27:41<00:00, 231.43s/it]"
     ]
    },
    {
     "name": "stdout",
     "output_type": "stream",
     "text": [
      "9.510998837121212\n",
      "+\n"
     ]
    },
    {
     "name": "stderr",
     "output_type": "stream",
     "text": [
      "\n"
     ]
    }
   ],
   "source": [
    "sigmas, MSEs, predictions = test_sigmas(model, time=True, recompute=True)"
   ]
  },
  {
   "cell_type": "code",
   "execution_count": 77,
   "metadata": {},
   "outputs": [
    {
     "data": {
      "text/plain": [
       "({0: 0.024079820851990386,\n",
       "  1: 0.024835007038597534,\n",
       "  2: 0.019611874601448077,\n",
       "  3: 0.02172752318247108,\n",
       "  4: 0.015774901254582526,\n",
       "  5: 0.015055333279328106,\n",
       "  6: 0.01854246216464063,\n",
       "  7: 0.013577445089534701,\n",
       "  8: 0.012812208168735474,\n",
       "  9: 0.014192902549396515},\n",
       " {0: 0.0022814918422442085,\n",
       "  1: 0.002546112486784013,\n",
       "  2: 0.0035131338211720096,\n",
       "  3: 0.0076379231223810806,\n",
       "  4: 0.006276280850690025,\n",
       "  5: 0.008232087348100678,\n",
       "  6: 0.016967584156795085,\n",
       "  7: 0.011865632738039159,\n",
       "  8: 0.013592314283908013,\n",
       "  9: 0.020233368509410543})"
      ]
     },
     "execution_count": 77,
     "metadata": {},
     "output_type": "execute_result"
    }
   ],
   "source": [
    "sigmas, MSEs"
   ]
  },
  {
   "cell_type": "code",
   "execution_count": 78,
   "metadata": {},
   "outputs": [],
   "source": [
    "a = 2.8\n",
    "b=0.59\n",
    "c=0"
   ]
  },
  {
   "cell_type": "code",
   "execution_count": 79,
   "metadata": {},
   "outputs": [
    {
     "data": {
      "text/plain": [
       "<matplotlib.legend.Legend at 0x7f41601d9630>"
      ]
     },
     "execution_count": 79,
     "metadata": {},
     "output_type": "execute_result"
    },
    {
     "data": {
      "image/png": "[encoded data removed]",
      "text/plain": [
       "<Figure size 720x720 with 1 Axes>"
      ]
     },
     "metadata": {
      "needs_background": "light"
     },
     "output_type": "display_data"
    }
   ],
   "source": [
    "# Plot sigmas\n",
    "Evis = np.array([en + 1.022  for en in range(10)])\n",
    "Perc_sigmas = [sigmas[en] for en in range(10)]\n",
    "perc_3_sqrt_E = [0.03 / np.sqrt(en) for en in Evis]\n",
    "fig = plt.figure(figsize=(10,10))\n",
    "plt.scatter(Evis, Perc_sigmas, label='Our sigma')\n",
    "plt.scatter(Evis, perc_3_sqrt_E, label=r'$\\frac{0.03}{\\sqrt{E}}$')\n",
    "plt.scatter(Evis, 0.01*np.sqrt((a/np.sqrt(Evis))**2 + b**2 + (c/Evis)**2), label=r'$abc$')\n",
    "plt.ylabel(\"std in per cent\")\n",
    "plt.xlabel(\"E visual\")\n",
    "plt.legend(fontsize=15)"
   ]
  },
  {
   "cell_type": "code",
   "execution_count": null,
   "metadata": {},
   "outputs": [],
   "source": []
  }
 ],
 "metadata": {
  "kernelspec": {
   "display_name": "Python 3",
   "language": "python",
   "name": "python3"
  },
  "language_info": {
   "codemirror_mode": {
    "name": "ipython",
    "version": 3
   },
   "file_extension": ".py",
   "mimetype": "text/x-python",
   "name": "python",
   "nbconvert_exporter": "python",
   "pygments_lexer": "ipython3",
   "version": "3.5.6"
  }
 },
 "nbformat": 4,
 "nbformat_minor": 2
}
