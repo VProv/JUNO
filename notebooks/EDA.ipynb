{
 "cells": [
  {
   "cell_type": "code",
   "execution_count": 1,
   "metadata": {},
   "outputs": [],
   "source": [
    "import numpy as np\n",
    "import pandas as pd\n",
    "from mpl_toolkits.mplot3d import Axes3D\n",
    "import matplotlib.pyplot as plt\n",
    "import tables\n",
    "from random import shuffle\n",
    "from IPython.display import clear_output\n",
    "from sklearn import metrics\n",
    "from tqdm import tqdm\n",
    "import time\n",
    "import seaborn as sns\n",
    "%matplotlib inline\n",
    "\n",
    "from ipywidgets import interact, interactive, fixed, interact_manual\n",
    "import ipywidgets as widgets"
   ]
  },
  {
   "cell_type": "markdown",
   "metadata": {},
   "source": [
    "**Меня в основном интересует задача регрессии, поэтому я буду оставлять только не шумовые ивенты в некоторых частях кода.**"
   ]
  },
  {
   "cell_type": "code",
   "execution_count": 27,
   "metadata": {},
   "outputs": [],
   "source": [
    "from tqdm import tqdm_notebook"
   ]
  },
  {
   "cell_type": "code",
   "execution_count": 2,
   "metadata": {},
   "outputs": [],
   "source": [
    "DATA_DIR = '/storage/home/vprov/JUNO/JUNO_students/data/'\n",
    "lpmt_hits = pd.read_hdf(DATA_DIR + 'train/train_lpmt_hits.h5', mode='r') "
   ]
  },
  {
   "cell_type": "code",
   "execution_count": 3,
   "metadata": {},
   "outputs": [],
   "source": [
    "spmt_hits = pd.read_hdf(DATA_DIR + 'train/train_spmt_hits.h5', mode='r')\n",
    "lpmt_pos = pd.read_csv(DATA_DIR + 'train/lpmt_pos.csv') \n",
    "spmt_pos = pd.read_csv(DATA_DIR + 'train/spmt_pos.csv') "
   ]
  },
  {
   "cell_type": "code",
   "execution_count": 4,
   "metadata": {},
   "outputs": [],
   "source": [
    "train_info = pd.read_csv(DATA_DIR + 'train/train_info.csv')"
   ]
  },
  {
   "cell_type": "code",
   "execution_count": 11,
   "metadata": {},
   "outputs": [],
   "source": [
    "lpmt_energy = lpmt_hits.merge(train_info, left_on='event', right_on='evtID')"
   ]
  },
  {
   "cell_type": "code",
   "execution_count": 12,
   "metadata": {},
   "outputs": [
    {
     "data": {
      "text/html": [
       "<div>\n",
       "<style scoped>\n",
       "    .dataframe tbody tr th:only-of-type {\n",
       "        vertical-align: middle;\n",
       "    }\n",
       "\n",
       "    .dataframe tbody tr th {\n",
       "        vertical-align: top;\n",
       "    }\n",
       "\n",
       "    .dataframe thead th {\n",
       "        text-align: right;\n",
       "    }\n",
       "</style>\n",
       "<table border=\"1\" class=\"dataframe\">\n",
       "  <thead>\n",
       "    <tr style=\"text-align: right;\">\n",
       "      <th></th>\n",
       "      <th>event</th>\n",
       "      <th>hitTime</th>\n",
       "      <th>isDN</th>\n",
       "      <th>pmtID</th>\n",
       "      <th>E</th>\n",
       "      <th>R</th>\n",
       "      <th>evtID</th>\n",
       "      <th>x</th>\n",
       "      <th>y</th>\n",
       "      <th>z</th>\n",
       "    </tr>\n",
       "  </thead>\n",
       "  <tbody>\n",
       "    <tr>\n",
       "      <th>0</th>\n",
       "      <td>0</td>\n",
       "      <td>249.992615</td>\n",
       "      <td>False</td>\n",
       "      <td>14175</td>\n",
       "      <td>4.747791</td>\n",
       "      <td>14610.378</td>\n",
       "      <td>0</td>\n",
       "      <td>8290.779</td>\n",
       "      <td>11995.618</td>\n",
       "      <td>911.74286</td>\n",
       "    </tr>\n",
       "    <tr>\n",
       "      <th>1</th>\n",
       "      <td>0</td>\n",
       "      <td>40.010311</td>\n",
       "      <td>False</td>\n",
       "      <td>17319</td>\n",
       "      <td>4.747791</td>\n",
       "      <td>14610.378</td>\n",
       "      <td>0</td>\n",
       "      <td>8290.779</td>\n",
       "      <td>11995.618</td>\n",
       "      <td>911.74286</td>\n",
       "    </tr>\n",
       "    <tr>\n",
       "      <th>2</th>\n",
       "      <td>0</td>\n",
       "      <td>162.123199</td>\n",
       "      <td>False</td>\n",
       "      <td>16882</td>\n",
       "      <td>4.747791</td>\n",
       "      <td>14610.378</td>\n",
       "      <td>0</td>\n",
       "      <td>8290.779</td>\n",
       "      <td>11995.618</td>\n",
       "      <td>911.74286</td>\n",
       "    </tr>\n",
       "    <tr>\n",
       "      <th>3</th>\n",
       "      <td>0</td>\n",
       "      <td>51.875614</td>\n",
       "      <td>False</td>\n",
       "      <td>14951</td>\n",
       "      <td>4.747791</td>\n",
       "      <td>14610.378</td>\n",
       "      <td>0</td>\n",
       "      <td>8290.779</td>\n",
       "      <td>11995.618</td>\n",
       "      <td>911.74286</td>\n",
       "    </tr>\n",
       "  </tbody>\n",
       "</table>\n",
       "</div>"
      ],
      "text/plain": [
       "   event     hitTime   isDN  pmtID         E          R  evtID         x  \\\n",
       "0      0  249.992615  False  14175  4.747791  14610.378      0  8290.779   \n",
       "1      0   40.010311  False  17319  4.747791  14610.378      0  8290.779   \n",
       "2      0  162.123199  False  16882  4.747791  14610.378      0  8290.779   \n",
       "3      0   51.875614  False  14951  4.747791  14610.378      0  8290.779   \n",
       "\n",
       "           y          z  \n",
       "0  11995.618  911.74286  \n",
       "1  11995.618  911.74286  \n",
       "2  11995.618  911.74286  \n",
       "3  11995.618  911.74286  "
      ]
     },
     "execution_count": 12,
     "metadata": {},
     "output_type": "execute_result"
    }
   ],
   "source": [
    "lpmt_energy[:4]"
   ]
  },
  {
   "cell_type": "code",
   "execution_count": 13,
   "metadata": {},
   "outputs": [],
   "source": [
    "lpmt_energy.drop('evtID', axis=1, inplace=True)"
   ]
  },
  {
   "cell_type": "code",
   "execution_count": 17,
   "metadata": {},
   "outputs": [],
   "source": [
    "lpmt_energy = lpmt_energy[lpmt_energy['isDN'] == False]"
   ]
  },
  {
   "cell_type": "markdown",
   "metadata": {},
   "source": [
    "**Получим времена начала детектирования каждого события.**"
   ]
  },
  {
   "cell_type": "code",
   "execution_count": 9,
   "metadata": {},
   "outputs": [],
   "source": [
    "event = lpmt_energy.groupby('event')['hitTime'].min()"
   ]
  },
  {
   "cell_type": "code",
   "execution_count": 33,
   "metadata": {},
   "outputs": [
    {
     "data": {
      "text/plain": [
       "13927"
      ]
     },
     "execution_count": 33,
     "metadata": {},
     "output_type": "execute_result"
    }
   ],
   "source": [
    "import gc\n",
    "gc.collect()"
   ]
  },
  {
   "cell_type": "code",
   "execution_count": 32,
   "metadata": {
    "scrolled": true
   },
   "outputs": [],
   "source": [
    "event = pd.DataFrame(event)"
   ]
  },
  {
   "cell_type": "code",
   "execution_count": 38,
   "metadata": {},
   "outputs": [],
   "source": [
    "event['event_id'] = event.index"
   ]
  },
  {
   "cell_type": "code",
   "execution_count": 40,
   "metadata": {},
   "outputs": [
    {
     "data": {
      "text/html": [
       "<div>\n",
       "<style scoped>\n",
       "    .dataframe tbody tr th:only-of-type {\n",
       "        vertical-align: middle;\n",
       "    }\n",
       "\n",
       "    .dataframe tbody tr th {\n",
       "        vertical-align: top;\n",
       "    }\n",
       "\n",
       "    .dataframe thead th {\n",
       "        text-align: right;\n",
       "    }\n",
       "</style>\n",
       "<table border=\"1\" class=\"dataframe\">\n",
       "  <thead>\n",
       "    <tr style=\"text-align: right;\">\n",
       "      <th></th>\n",
       "      <th>hitTime</th>\n",
       "      <th>event_id</th>\n",
       "    </tr>\n",
       "    <tr>\n",
       "      <th>event</th>\n",
       "      <th></th>\n",
       "      <th></th>\n",
       "    </tr>\n",
       "  </thead>\n",
       "  <tbody>\n",
       "    <tr>\n",
       "      <th>0</th>\n",
       "      <td>-97.5732</td>\n",
       "      <td>0</td>\n",
       "    </tr>\n",
       "    <tr>\n",
       "      <th>1</th>\n",
       "      <td>-99.279</td>\n",
       "      <td>1</td>\n",
       "    </tr>\n",
       "    <tr>\n",
       "      <th>3</th>\n",
       "      <td>-98.6184</td>\n",
       "      <td>3</td>\n",
       "    </tr>\n",
       "  </tbody>\n",
       "</table>\n",
       "</div>"
      ],
      "text/plain": [
       "       hitTime event_id\n",
       "event                  \n",
       "0     -97.5732        0\n",
       "1      -99.279        1\n",
       "3     -98.6184        3"
      ]
     },
     "execution_count": 40,
     "metadata": {},
     "output_type": "execute_result"
    }
   ],
   "source": [
    "event[:3]"
   ]
  },
  {
   "cell_type": "code",
   "execution_count": 46,
   "metadata": {},
   "outputs": [
    {
     "data": {
      "text/plain": [
       "hitTime     False\n",
       "event_id    False\n",
       "dtype: bool"
      ]
     },
     "execution_count": 46,
     "metadata": {},
     "output_type": "execute_result"
    }
   ],
   "source": [
    "event.isnull().any()"
   ]
  },
  {
   "cell_type": "code",
   "execution_count": 55,
   "metadata": {},
   "outputs": [],
   "source": [
    "event['event_id'] = event['event_id'].astype(int)"
   ]
  },
  {
   "cell_type": "code",
   "execution_count": 56,
   "metadata": {},
   "outputs": [],
   "source": [
    "event['hitTime'] = event['hitTime'].astype(float)"
   ]
  },
  {
   "cell_type": "code",
   "execution_count": 59,
   "metadata": {},
   "outputs": [
    {
     "data": {
      "text/plain": [
       "hitTime     float64\n",
       "event_id      int64\n",
       "dtype: object"
      ]
     },
     "execution_count": 59,
     "metadata": {},
     "output_type": "execute_result"
    }
   ],
   "source": [
    "event.dtypes"
   ]
  },
  {
   "cell_type": "markdown",
   "metadata": {},
   "source": [
    "**Получим распределение времен, через которые детекторы детектируют событие по сравнению с первым детектором.**"
   ]
  },
  {
   "cell_type": "code",
   "execution_count": 60,
   "metadata": {},
   "outputs": [],
   "source": [
    "lpmt_energy = lpmt_energy.merge(event, left_on='event', right_on='event_id')"
   ]
  },
  {
   "cell_type": "code",
   "execution_count": 65,
   "metadata": {},
   "outputs": [
    {
     "data": {
      "text/plain": [
       "7"
      ]
     },
     "execution_count": 65,
     "metadata": {},
     "output_type": "execute_result"
    }
   ],
   "source": [
    "gc.collect()"
   ]
  },
  {
   "cell_type": "code",
   "execution_count": 64,
   "metadata": {},
   "outputs": [],
   "source": [
    "lpmt_energy.drop('event_id', axis=1, inplace=True)"
   ]
  },
  {
   "cell_type": "code",
   "execution_count": 66,
   "metadata": {},
   "outputs": [
    {
     "data": {
      "text/html": [
       "<div>\n",
       "<style scoped>\n",
       "    .dataframe tbody tr th:only-of-type {\n",
       "        vertical-align: middle;\n",
       "    }\n",
       "\n",
       "    .dataframe tbody tr th {\n",
       "        vertical-align: top;\n",
       "    }\n",
       "\n",
       "    .dataframe thead th {\n",
       "        text-align: right;\n",
       "    }\n",
       "</style>\n",
       "<table border=\"1\" class=\"dataframe\">\n",
       "  <thead>\n",
       "    <tr style=\"text-align: right;\">\n",
       "      <th></th>\n",
       "      <th>event</th>\n",
       "      <th>hitTime_x</th>\n",
       "      <th>isDN</th>\n",
       "      <th>pmtID</th>\n",
       "      <th>E</th>\n",
       "      <th>R</th>\n",
       "      <th>x</th>\n",
       "      <th>y</th>\n",
       "      <th>z</th>\n",
       "      <th>hitTime_y</th>\n",
       "    </tr>\n",
       "  </thead>\n",
       "  <tbody>\n",
       "    <tr>\n",
       "      <th>0</th>\n",
       "      <td>0</td>\n",
       "      <td>249.992615</td>\n",
       "      <td>False</td>\n",
       "      <td>14175</td>\n",
       "      <td>4.747791</td>\n",
       "      <td>14610.378</td>\n",
       "      <td>8290.779</td>\n",
       "      <td>11995.618</td>\n",
       "      <td>911.74286</td>\n",
       "      <td>-97.573189</td>\n",
       "    </tr>\n",
       "    <tr>\n",
       "      <th>1</th>\n",
       "      <td>0</td>\n",
       "      <td>40.010311</td>\n",
       "      <td>False</td>\n",
       "      <td>17319</td>\n",
       "      <td>4.747791</td>\n",
       "      <td>14610.378</td>\n",
       "      <td>8290.779</td>\n",
       "      <td>11995.618</td>\n",
       "      <td>911.74286</td>\n",
       "      <td>-97.573189</td>\n",
       "    </tr>\n",
       "    <tr>\n",
       "      <th>2</th>\n",
       "      <td>0</td>\n",
       "      <td>162.123199</td>\n",
       "      <td>False</td>\n",
       "      <td>16882</td>\n",
       "      <td>4.747791</td>\n",
       "      <td>14610.378</td>\n",
       "      <td>8290.779</td>\n",
       "      <td>11995.618</td>\n",
       "      <td>911.74286</td>\n",
       "      <td>-97.573189</td>\n",
       "    </tr>\n",
       "  </tbody>\n",
       "</table>\n",
       "</div>"
      ],
      "text/plain": [
       "   event   hitTime_x   isDN  pmtID         E          R         x          y  \\\n",
       "0      0  249.992615  False  14175  4.747791  14610.378  8290.779  11995.618   \n",
       "1      0   40.010311  False  17319  4.747791  14610.378  8290.779  11995.618   \n",
       "2      0  162.123199  False  16882  4.747791  14610.378  8290.779  11995.618   \n",
       "\n",
       "           z  hitTime_y  \n",
       "0  911.74286 -97.573189  \n",
       "1  911.74286 -97.573189  \n",
       "2  911.74286 -97.573189  "
      ]
     },
     "execution_count": 66,
     "metadata": {},
     "output_type": "execute_result"
    }
   ],
   "source": [
    "lpmt_energy[:3]"
   ]
  },
  {
   "cell_type": "code",
   "execution_count": 71,
   "metadata": {},
   "outputs": [
    {
     "data": {
      "text/plain": [
       "1407"
      ]
     },
     "execution_count": 71,
     "metadata": {},
     "output_type": "execute_result"
    }
   ],
   "source": [
    "gc.collect()"
   ]
  },
  {
   "cell_type": "code",
   "execution_count": 69,
   "metadata": {},
   "outputs": [],
   "source": [
    "time_difference = lpmt_energy['hitTime_x'] - lpmt_energy['hitTime_y']"
   ]
  },
  {
   "cell_type": "code",
   "execution_count": 81,
   "metadata": {},
   "outputs": [
    {
     "name": "stdout",
     "output_type": "stream",
     "text": [
      "CPU times: user 2.78 s, sys: 384 ms, total: 3.16 s\n",
      "Wall time: 1.79 s\n"
     ]
    },
    {
     "data": {
      "image/png": "[encoded data removed]",
      "text/plain": [
       "<Figure size 720x720 with 1 Axes>"
      ]
     },
     "metadata": {
      "needs_background": "light"
     },
     "output_type": "display_data"
    }
   ],
   "source": [
    "%%time\n",
    "time_difference.hist(bins=150, figsize=(10,10))\n",
    "plt.xlabel(\"Time difference\")\n",
    "plt.ylabel(\"Number of detections\")\n",
    "plt.xlim(0,800)"
   ]
  },
  {
   "cell_type": "markdown",
   "metadata": {},
   "source": [
    "**Среди больших детекторов при регистрации, большинство детекторов регистрирует ивент уже с большой задержкой 50-200. Затем идет быстрый экспоненциальный спад. Предположение: начиная с какого-то радиуса (предположительно радиус эффекта Вавилова-Черенкова от конкретного удара) начинается экспоненциальный спад попавших в детектор фотонов. При этом есть определенная небольшая зона, в которую сигнал идет быстрее чем в остальные, чем это обусловленно не понятно. Возможно это как-то связано с чем-то еще.**"
   ]
  },
  {
   "cell_type": "markdown",
   "metadata": {},
   "source": [
    "**Проверим так же ли обстоят дела в маленьких детекторах**"
   ]
  },
  {
   "cell_type": "code",
   "execution_count": 83,
   "metadata": {},
   "outputs": [
    {
     "data": {
      "text/plain": [
       "30937"
      ]
     },
     "execution_count": 83,
     "metadata": {},
     "output_type": "execute_result"
    }
   ],
   "source": [
    "gc.collect()"
   ]
  },
  {
   "cell_type": "code",
   "execution_count": 85,
   "metadata": {},
   "outputs": [],
   "source": [
    "spmt_energy = spmt_hits.merge(train_info, left_on='event', right_on='evtID')\n",
    "spmt_energy.drop('evtID', axis=1, inplace=True)\n",
    "spmt_energy = spmt_energy[spmt_energy['isDN'] == False]"
   ]
  },
  {
   "cell_type": "code",
   "execution_count": 87,
   "metadata": {},
   "outputs": [],
   "source": [
    "sevent = pd.DataFrame(spmt_energy.groupby('event')['hitTime'].min())"
   ]
  },
  {
   "cell_type": "code",
   "execution_count": 88,
   "metadata": {},
   "outputs": [],
   "source": [
    "sevent['event_id'] = sevent.index"
   ]
  },
  {
   "cell_type": "code",
   "execution_count": 89,
   "metadata": {},
   "outputs": [
    {
     "data": {
      "text/plain": [
       "hitTime     float32\n",
       "event_id      int64\n",
       "dtype: object"
      ]
     },
     "execution_count": 89,
     "metadata": {},
     "output_type": "execute_result"
    }
   ],
   "source": [
    "sevent.dtypes"
   ]
  },
  {
   "cell_type": "code",
   "execution_count": 90,
   "metadata": {},
   "outputs": [],
   "source": [
    "spmt_energy = spmt_energy.merge(sevent, left_on='event', right_on='event_id')"
   ]
  },
  {
   "cell_type": "code",
   "execution_count": 91,
   "metadata": {},
   "outputs": [],
   "source": [
    "spmt_energy.drop('event_id', axis=1, inplace=True)"
   ]
  },
  {
   "cell_type": "code",
   "execution_count": 94,
   "metadata": {
    "scrolled": true
   },
   "outputs": [
    {
     "data": {
      "text/html": [
       "<div>\n",
       "<style scoped>\n",
       "    .dataframe tbody tr th:only-of-type {\n",
       "        vertical-align: middle;\n",
       "    }\n",
       "\n",
       "    .dataframe tbody tr th {\n",
       "        vertical-align: top;\n",
       "    }\n",
       "\n",
       "    .dataframe thead th {\n",
       "        text-align: right;\n",
       "    }\n",
       "</style>\n",
       "<table border=\"1\" class=\"dataframe\">\n",
       "  <thead>\n",
       "    <tr style=\"text-align: right;\">\n",
       "      <th></th>\n",
       "      <th>event</th>\n",
       "      <th>hitTime_x</th>\n",
       "      <th>isDN</th>\n",
       "      <th>pmtID</th>\n",
       "      <th>E</th>\n",
       "      <th>R</th>\n",
       "      <th>x</th>\n",
       "      <th>y</th>\n",
       "      <th>z</th>\n",
       "      <th>hitTime_y</th>\n",
       "    </tr>\n",
       "  </thead>\n",
       "  <tbody>\n",
       "    <tr>\n",
       "      <th>0</th>\n",
       "      <td>0</td>\n",
       "      <td>238.278091</td>\n",
       "      <td>False</td>\n",
       "      <td>311819</td>\n",
       "      <td>4.747791</td>\n",
       "      <td>14610.378</td>\n",
       "      <td>8290.779</td>\n",
       "      <td>11995.618</td>\n",
       "      <td>911.74286</td>\n",
       "      <td>24.623285</td>\n",
       "    </tr>\n",
       "    <tr>\n",
       "      <th>1</th>\n",
       "      <td>0</td>\n",
       "      <td>103.316055</td>\n",
       "      <td>False</td>\n",
       "      <td>307244</td>\n",
       "      <td>4.747791</td>\n",
       "      <td>14610.378</td>\n",
       "      <td>8290.779</td>\n",
       "      <td>11995.618</td>\n",
       "      <td>911.74286</td>\n",
       "      <td>24.623285</td>\n",
       "    </tr>\n",
       "    <tr>\n",
       "      <th>2</th>\n",
       "      <td>0</td>\n",
       "      <td>108.034225</td>\n",
       "      <td>False</td>\n",
       "      <td>323230</td>\n",
       "      <td>4.747791</td>\n",
       "      <td>14610.378</td>\n",
       "      <td>8290.779</td>\n",
       "      <td>11995.618</td>\n",
       "      <td>911.74286</td>\n",
       "      <td>24.623285</td>\n",
       "    </tr>\n",
       "  </tbody>\n",
       "</table>\n",
       "</div>"
      ],
      "text/plain": [
       "   event   hitTime_x   isDN   pmtID         E          R         x          y  \\\n",
       "0      0  238.278091  False  311819  4.747791  14610.378  8290.779  11995.618   \n",
       "1      0  103.316055  False  307244  4.747791  14610.378  8290.779  11995.618   \n",
       "2      0  108.034225  False  323230  4.747791  14610.378  8290.779  11995.618   \n",
       "\n",
       "           z  hitTime_y  \n",
       "0  911.74286  24.623285  \n",
       "1  911.74286  24.623285  \n",
       "2  911.74286  24.623285  "
      ]
     },
     "execution_count": 94,
     "metadata": {},
     "output_type": "execute_result"
    }
   ],
   "source": [
    "spmt_energy[:3]"
   ]
  },
  {
   "cell_type": "code",
   "execution_count": 92,
   "metadata": {},
   "outputs": [],
   "source": [
    "stime_difference = spmt_energy['hitTime_x'] - spmt_energy['hitTime_y']"
   ]
  },
  {
   "cell_type": "code",
   "execution_count": 93,
   "metadata": {},
   "outputs": [
    {
     "name": "stdout",
     "output_type": "stream",
     "text": [
      "CPU times: user 540 ms, sys: 4 ms, total: 544 ms\n",
      "Wall time: 148 ms\n"
     ]
    },
    {
     "data": {
      "image/png": "[encoded data removed]",
      "text/plain": [
       "<Figure size 720x720 with 1 Axes>"
      ]
     },
     "metadata": {
      "needs_background": "light"
     },
     "output_type": "display_data"
    }
   ],
   "source": [
    "%%time\n",
    "stime_difference.hist(bins=150, figsize=(10,10))\n",
    "plt.xlabel(\"Time difference\")\n",
    "plt.ylabel(\"Number of detections\")\n",
    "plt.xlim(0,800)"
   ]
  },
  {
   "cell_type": "markdown",
   "metadata": {},
   "source": [
    "**Как видим у маленьких детекторов все выглядит естественнее. Примерно экспоненциальный спад до разницы в 50, затем линейная полоса почти до 200, а потом опять экспоненциальный спад. Нету области, в которую сигнал доходит быстрее. Интересно почему.**"
   ]
  },
  {
   "cell_type": "code",
   "execution_count": null,
   "metadata": {},
   "outputs": [],
   "source": []
  },
  {
   "cell_type": "code",
   "execution_count": null,
   "metadata": {},
   "outputs": [],
   "source": []
  },
  {
   "cell_type": "code",
   "execution_count": null,
   "metadata": {},
   "outputs": [],
   "source": []
  },
  {
   "cell_type": "code",
   "execution_count": null,
   "metadata": {},
   "outputs": [],
   "source": []
  },
  {
   "cell_type": "code",
   "execution_count": null,
   "metadata": {},
   "outputs": [],
   "source": []
  },
  {
   "cell_type": "code",
   "execution_count": null,
   "metadata": {},
   "outputs": [],
   "source": []
  }
 ],
 "metadata": {
  "kernelspec": {
   "display_name": "Python 3",
   "language": "python",
   "name": "python3"
  },
  "language_info": {
   "codemirror_mode": {
    "name": "ipython",
    "version": 3
   },
   "file_extension": ".py",
   "mimetype": "text/x-python",
   "name": "python",
   "nbconvert_exporter": "python",
   "pygments_lexer": "ipython3",
   "version": "3.6.7"
  }
 },
 "nbformat": 4,
 "nbformat_minor": 2
}
