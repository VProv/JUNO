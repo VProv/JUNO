{
 "cells": [
  {
   "cell_type": "code",
   "execution_count": 1,
   "metadata": {},
   "outputs": [],
   "source": [
    "# Preprocessing\n",
    "import pandas as pd\n",
    "import tables\n",
    "import time\n",
    "import numpy as np\n",
    "import gc\n",
    "from tqdm import tqdm_notebook\n",
    "from data_processing import get_data_2dprojection\n",
    "import os"
   ]
  },
  {
   "cell_type": "code",
   "execution_count": 2,
   "metadata": {},
   "outputs": [],
   "source": [
    "#DATA_DIR = '/storage/home/vprov/JUNO/JUNO_students/data/'\n",
    "#TRAIN_DIR = '/srv/hd5/data/vprov/data/phase_1/train/'\n",
    "TRAIN_DIR = '~/data/data_dir/'\n",
    "tr_lpmt_hits = pd.read_hdf(TRAIN_DIR + 'lpmt_hits.h5', mode='r') \n",
    "tr_spmt_hits = pd.read_hdf(TRAIN_DIR + 'spmt_hits.h5', mode='r')\n",
    "tr_pos = pd.read_csv(TRAIN_DIR + 'lpmt_pos.csv') \n",
    "tr_spmt_pos = pd.read_csv(TRAIN_DIR + 'spmt_pos.csv') \n",
    "tr_true_info = pd.read_csv(TRAIN_DIR + 'true_info.csv')"
   ]
  },
  {
   "cell_type": "code",
   "execution_count": 4,
   "metadata": {},
   "outputs": [],
   "source": [
    "tr_pos = pd.concat([tr_pos, tr_spmt_pos])"
   ]
  },
  {
   "cell_type": "code",
   "execution_count": 10,
   "metadata": {},
   "outputs": [],
   "source": [
    "#data_lpmt, event_to_id = get_data_2dprojection(tr_lpmt_hits[:10000], \n",
    "#                                                        tr_spmt_hits[:10000], \n",
    "#                                                        tr_pos, \n",
    "#                                                        tr_true_info,\n",
    "#                                                        use_spmt=True)"
   ]
  },
  {
   "cell_type": "code",
   "execution_count": 17,
   "metadata": {},
   "outputs": [],
   "source": [
    "events = tr_lpmt_hits['event'].unique()"
   ]
  },
  {
   "cell_type": "code",
   "execution_count": 91,
   "metadata": {},
   "outputs": [],
   "source": [
    "rg = np.arange(0,100000,30000)"
   ]
  },
  {
   "cell_type": "code",
   "execution_count": 6,
   "metadata": {},
   "outputs": [],
   "source": [
    "LTRAIN = '/mnt/iprovilkov/data_dir/npdata/'"
   ]
  },
  {
   "cell_type": "code",
   "execution_count": 49,
   "metadata": {
    "scrolled": true
   },
   "outputs": [
    {
     "name": "stdout",
     "output_type": "stream",
     "text": [
      "Make projection\n",
      "Starting cycle...\n"
     ]
    },
    {
     "data": {
      "application/vnd.jupyter.widget-view+json": {
       "model_id": "9c30db4f22f74f23a87e17eb41b4bb41",
       "version_major": 2,
       "version_minor": 0
      },
      "text/plain": [
       "HBox(children=(IntProgress(value=1, bar_style='info', max=1), HTML(value='')))"
      ]
     },
     "metadata": {},
     "output_type": "display_data"
    },
    {
     "name": "stdout",
     "output_type": "stream",
     "text": [
      "\n",
      "Make projection\n",
      "Starting cycle...\n"
     ]
    },
    {
     "data": {
      "application/vnd.jupyter.widget-view+json": {
       "model_id": "9e450b4c32a8423cbd9991fce93b31ed",
       "version_major": 2,
       "version_minor": 0
      },
      "text/plain": [
       "HBox(children=(IntProgress(value=1, bar_style='info', max=1), HTML(value='')))"
      ]
     },
     "metadata": {},
     "output_type": "display_data"
    },
    {
     "name": "stdout",
     "output_type": "stream",
     "text": [
      "\n"
     ]
    }
   ],
   "source": [
    "for start, end  in zip(rg[:-1], rg[1:]):\n",
    "    data_lpmt, event_to_id = get_data_2dprojection(tr_lpmt_hits[(tr_lpmt_hits['event'] > start) & (tr_lpmt_hits['event'] < end)], \n",
    "                                                tr_spmt_hits[(tr_spmt_hits['event'] > start) & (tr_spmt_hits['event'] < end)], \n",
    "                                                tr_pos, \n",
    "                                                tr_true_info[(tr_true_info['evtID'] > start) & (tr_true_info['evtID'] < end)],\n",
    "                                                use_spmt=True)\n",
    "    np.save(LTRAIN + '1_' + str(start), data_lpmt)"
   ]
  },
  {
   "cell_type": "code",
   "execution_count": 92,
   "metadata": {},
   "outputs": [
    {
     "data": {
      "text/plain": [
       "array([    0, 30000, 60000, 90000])"
      ]
     },
     "execution_count": 92,
     "metadata": {},
     "output_type": "execute_result"
    }
   ],
   "source": [
    "rg"
   ]
  },
  {
   "cell_type": "code",
   "execution_count": 52,
   "metadata": {},
   "outputs": [],
   "source": [
    "#np.save(TRAIN_DIR + 'lpmt_2d_1802', data_lpmt)"
   ]
  },
  {
   "cell_type": "code",
   "execution_count": 9,
   "metadata": {},
   "outputs": [],
   "source": [
    "data_lpmt = np.load(LTRAIN + '1_' + str(rg[0]) + '.npy')"
   ]
  },
  {
   "cell_type": "code",
   "execution_count": 10,
   "metadata": {},
   "outputs": [],
   "source": [
    "import numpy as np\n",
    "import os\n",
    "from sklearn.model_selection import train_test_split\n",
    "import tensorflow as tf"
   ]
  },
  {
   "cell_type": "code",
   "execution_count": 11,
   "metadata": {},
   "outputs": [],
   "source": [
    "os.environ[\"CUDA_DEVICE_ORDER\"]=\"PCI_BUS_ID\"\n",
    "os.environ[\"CUDA_VISIBLE_DEVICES\"]=\"0\""
   ]
  },
  {
   "cell_type": "code",
   "execution_count": 12,
   "metadata": {},
   "outputs": [
    {
     "data": {
      "text/plain": [
       "[name: \"/device:CPU:0\"\n",
       " device_type: \"CPU\"\n",
       " memory_limit: 268435456\n",
       " locality {\n",
       " }\n",
       " incarnation: 369695406835846233, name: \"/device:GPU:0\"\n",
       " device_type: \"GPU\"\n",
       " memory_limit: 11281429300\n",
       " locality {\n",
       "   bus_id: 1\n",
       "   links {\n",
       "   }\n",
       " }\n",
       " incarnation: 10006528746308054681\n",
       " physical_device_desc: \"device: 0, name: Tesla K80, pci bus id: 0a93:00:00.0, compute capability: 3.7\"]"
      ]
     },
     "execution_count": 12,
     "metadata": {},
     "output_type": "execute_result"
    }
   ],
   "source": [
    "from tensorflow.python.client import device_lib\n",
    "device_lib.list_local_devices()"
   ]
  },
  {
   "cell_type": "code",
   "execution_count": 15,
   "metadata": {},
   "outputs": [],
   "source": [
    "import tensorflow as tf\n",
    "sess = tf.Session(config=tf.ConfigProto(log_device_placement=True))"
   ]
  },
  {
   "cell_type": "code",
   "execution_count": 16,
   "metadata": {},
   "outputs": [],
   "source": [
    "#tr_true_info['id'] = [event_to_id[evtID] for evtID in tr_true_info['evtID']]"
   ]
  },
  {
   "cell_type": "code",
   "execution_count": 17,
   "metadata": {},
   "outputs": [
    {
     "data": {
      "text/html": [
       "<div>\n",
       "<style scoped>\n",
       "    .dataframe tbody tr th:only-of-type {\n",
       "        vertical-align: middle;\n",
       "    }\n",
       "\n",
       "    .dataframe tbody tr th {\n",
       "        vertical-align: top;\n",
       "    }\n",
       "\n",
       "    .dataframe thead th {\n",
       "        text-align: right;\n",
       "    }\n",
       "</style>\n",
       "<table border=\"1\" class=\"dataframe\">\n",
       "  <thead>\n",
       "    <tr style=\"text-align: right;\">\n",
       "      <th></th>\n",
       "      <th>E</th>\n",
       "      <th>R</th>\n",
       "      <th>evtID</th>\n",
       "      <th>x</th>\n",
       "      <th>y</th>\n",
       "      <th>z</th>\n",
       "    </tr>\n",
       "  </thead>\n",
       "  <tbody>\n",
       "    <tr>\n",
       "      <th>0</th>\n",
       "      <td>4.747791</td>\n",
       "      <td>14610.378</td>\n",
       "      <td>0</td>\n",
       "      <td>8290.779</td>\n",
       "      <td>11995.6180</td>\n",
       "      <td>911.74286</td>\n",
       "    </tr>\n",
       "    <tr>\n",
       "      <th>1</th>\n",
       "      <td>3.919721</td>\n",
       "      <td>14630.141</td>\n",
       "      <td>1</td>\n",
       "      <td>11397.632</td>\n",
       "      <td>5407.4497</td>\n",
       "      <td>-7409.08200</td>\n",
       "    </tr>\n",
       "    <tr>\n",
       "      <th>2</th>\n",
       "      <td>6.823932</td>\n",
       "      <td>14573.132</td>\n",
       "      <td>2</td>\n",
       "      <td>14063.338</td>\n",
       "      <td>-3812.8540</td>\n",
       "      <td>246.65280</td>\n",
       "    </tr>\n",
       "  </tbody>\n",
       "</table>\n",
       "</div>"
      ],
      "text/plain": [
       "          E          R  evtID          x           y           z\n",
       "0  4.747791  14610.378      0   8290.779  11995.6180   911.74286\n",
       "1  3.919721  14630.141      1  11397.632   5407.4497 -7409.08200\n",
       "2  6.823932  14573.132      2  14063.338  -3812.8540   246.65280"
      ]
     },
     "execution_count": 17,
     "metadata": {},
     "output_type": "execute_result"
    }
   ],
   "source": [
    "tr_true_info[:3]"
   ]
  },
  {
   "cell_type": "code",
   "execution_count": 18,
   "metadata": {},
   "outputs": [
    {
     "data": {
      "text/plain": [
       "array([    0, 30000, 60000, 90000])"
      ]
     },
     "execution_count": 18,
     "metadata": {},
     "output_type": "execute_result"
    }
   ],
   "source": [
    "rg"
   ]
  },
  {
   "cell_type": "code",
   "execution_count": 19,
   "metadata": {},
   "outputs": [],
   "source": [
    "y_val = tr_true_info[(tr_true_info['evtID'] > rg[0]) & (tr_true_info['evtID'] < rg[1])][['E']].values"
   ]
  },
  {
   "cell_type": "code",
   "execution_count": 21,
   "metadata": {},
   "outputs": [],
   "source": [
    "#y_val = np.load('/srv/hd5/data/vprov/y_val.np.npy')\n",
    "#data_lpmt = np.load('/srv/hd5/data/vprov/lpmt_proj.np.npy')"
   ]
  },
  {
   "cell_type": "code",
   "execution_count": 22,
   "metadata": {},
   "outputs": [
    {
     "data": {
      "text/plain": [
       "(29999, 151, 151, 1)"
      ]
     },
     "execution_count": 22,
     "metadata": {},
     "output_type": "execute_result"
    }
   ],
   "source": [
    "data_lpmt.shape"
   ]
  },
  {
   "cell_type": "code",
   "execution_count": 23,
   "metadata": {},
   "outputs": [],
   "source": [
    "#data_lpmt = data_lpmt.reshape((*data_lpmt.shape, 1))\n",
    "#data_lpmt = data_lpmt.reshape((16000,151,151,1))"
   ]
  },
  {
   "cell_type": "code",
   "execution_count": 24,
   "metadata": {},
   "outputs": [
    {
     "name": "stderr",
     "output_type": "stream",
     "text": [
      "Using TensorFlow backend.\n"
     ]
    }
   ],
   "source": [
    "import keras\n",
    "import keras.layers as L\n",
    "from keras.models import Sequential"
   ]
  },
  {
   "cell_type": "code",
   "execution_count": 25,
   "metadata": {},
   "outputs": [
    {
     "data": {
      "text/plain": [
       "['/job:localhost/replica:0/task:0/device:GPU:0']"
      ]
     },
     "execution_count": 25,
     "metadata": {},
     "output_type": "execute_result"
    }
   ],
   "source": [
    "from keras import backend as K\n",
    "K.tensorflow_backend._get_available_gpus()"
   ]
  },
  {
   "cell_type": "code",
   "execution_count": 97,
   "metadata": {},
   "outputs": [],
   "source": [
    "model = Sequential()\n",
    "model.add(L.Conv2D(filters=128, kernel_size=(3,3),activation='relu'))\n",
    "model.add(L.MaxPool2D())\n",
    "model.add(L.Conv2D(filters=128, kernel_size=(3,3),activation='relu'))\n",
    "model.add(L.MaxPool2D())\n",
    "model.add(L.Conv2D(filters=256, kernel_size=(3,3),activation='relu'))\n",
    "model.add(L.MaxPool2D())\n",
    "model.add(L.Conv2D(filters=256, kernel_size=(3,3),activation='relu'))\n",
    "model.add(L.MaxPool2D())\n",
    "model.add(L.Conv2D(filters=512, kernel_size=(3,3),activation='relu'))\n",
    "#model.add(L.Dropout(0.3))\n",
    "model.add(L.Flatten())\n",
    "model.add(L.Dense(512, activation='relu'))\n",
    "#model.add(L.Dropout(0.3))\n",
    "model.add(L.Dense(256, activation='relu'))\n",
    "model.add(L.Dense(128, activation='relu'))\n",
    "model.add(L.Dense(1))"
   ]
  },
  {
   "cell_type": "code",
   "execution_count": 104,
   "metadata": {},
   "outputs": [],
   "source": [
    "from keras.optimizers import Adam\n",
    "opt = Adam()"
   ]
  },
  {
   "cell_type": "code",
   "execution_count": 105,
   "metadata": {},
   "outputs": [],
   "source": [
    "model.compile(loss='mean_squared_error', optimizer=opt)"
   ]
  },
  {
   "cell_type": "code",
   "execution_count": 106,
   "metadata": {},
   "outputs": [
    {
     "name": "stdout",
     "output_type": "stream",
     "text": [
      "_________________________________________________________________\n",
      "Layer (type)                 Output Shape              Param #   \n",
      "=================================================================\n",
      "conv2d_6 (Conv2D)            (None, 149, 149, 128)     1280      \n",
      "_________________________________________________________________\n",
      "max_pooling2d_5 (MaxPooling2 (None, 74, 74, 128)       0         \n",
      "_________________________________________________________________\n",
      "conv2d_7 (Conv2D)            (None, 72, 72, 128)       147584    \n",
      "_________________________________________________________________\n",
      "max_pooling2d_6 (MaxPooling2 (None, 36, 36, 128)       0         \n",
      "_________________________________________________________________\n",
      "conv2d_8 (Conv2D)            (None, 34, 34, 256)       295168    \n",
      "_________________________________________________________________\n",
      "max_pooling2d_7 (MaxPooling2 (None, 17, 17, 256)       0         \n",
      "_________________________________________________________________\n",
      "conv2d_9 (Conv2D)            (None, 15, 15, 256)       590080    \n",
      "_________________________________________________________________\n",
      "max_pooling2d_8 (MaxPooling2 (None, 7, 7, 256)         0         \n",
      "_________________________________________________________________\n",
      "conv2d_10 (Conv2D)           (None, 5, 5, 512)         1180160   \n",
      "_________________________________________________________________\n",
      "flatten_2 (Flatten)          (None, 12800)             0         \n",
      "_________________________________________________________________\n",
      "dense_5 (Dense)              (None, 512)               6554112   \n",
      "_________________________________________________________________\n",
      "dense_6 (Dense)              (None, 256)               131328    \n",
      "_________________________________________________________________\n",
      "dense_7 (Dense)              (None, 128)               32896     \n",
      "_________________________________________________________________\n",
      "dense_8 (Dense)              (None, 1)                 129       \n",
      "=================================================================\n",
      "Total params: 8,932,737\n",
      "Trainable params: 8,932,737\n",
      "Non-trainable params: 0\n",
      "_________________________________________________________________\n"
     ]
    }
   ],
   "source": [
    "model.build(input_shape=(None, 151,151,1))\n",
    "model.summary()"
   ]
  },
  {
   "cell_type": "code",
   "execution_count": 107,
   "metadata": {},
   "outputs": [],
   "source": [
    "#X_train, X_test, y_train, y_test = train_test_split(data_lpmt, y_val, test_size=0.2, random_state=45)"
   ]
  },
  {
   "cell_type": "code",
   "execution_count": 108,
   "metadata": {},
   "outputs": [],
   "source": [
    "logdir = 'log_1603E.csv'"
   ]
  },
  {
   "cell_type": "code",
   "execution_count": 109,
   "metadata": {},
   "outputs": [
    {
     "name": "stdout",
     "output_type": "stream",
     "text": [
      "rm: cannot remove 'log_1603E.csv': No such file or directory\r\n"
     ]
    }
   ],
   "source": [
    "!rm log_1603E.csv"
   ]
  },
  {
   "cell_type": "code",
   "execution_count": 110,
   "metadata": {},
   "outputs": [],
   "source": [
    "from keras.callbacks import CSVLogger\n",
    "\n",
    "csv_logger = CSVLogger(logdir, append=True, separator=';')"
   ]
  },
  {
   "cell_type": "code",
   "execution_count": 111,
   "metadata": {},
   "outputs": [],
   "source": [
    "from keras.callbacks import ReduceLROnPlateau\n",
    "reduce_lr = ReduceLROnPlateau(monitor='val_loss', factor=0.2,\n",
    "                              patience=5, min_lr=0.00001)"
   ]
  },
  {
   "cell_type": "code",
   "execution_count": 112,
   "metadata": {},
   "outputs": [],
   "source": [
    "#out = model.fit(X_train, y_train, batch_size=32, \n",
    "#                epochs=30, \n",
    "#                callbacks=[csv_logger, reduce_lr], \n",
    "#                validation_data=(X_test, y_test))"
   ]
  },
  {
   "cell_type": "code",
   "execution_count": null,
   "metadata": {
    "scrolled": true
   },
   "outputs": [
    {
     "name": "stdout",
     "output_type": "stream",
     "text": [
      "Train on 23999 samples, validate on 6000 samples\n",
      "Epoch 1/30\n",
      "23999/23999 [==============================] - 134s 6ms/step - loss: 7.2270 - val_loss: 0.1427\n",
      "Epoch 2/30\n",
      "23999/23999 [==============================] - 134s 6ms/step - loss: 0.1945 - val_loss: 0.0893\n",
      "Epoch 3/30\n",
      "23999/23999 [==============================] - 134s 6ms/step - loss: 0.1661 - val_loss: 0.0996\n",
      "Epoch 4/30\n",
      "23999/23999 [==============================] - 134s 6ms/step - loss: 0.1451 - val_loss: 0.2199\n",
      "Epoch 5/30\n",
      "23999/23999 [==============================] - 134s 6ms/step - loss: 0.1597 - val_loss: 0.2153\n",
      "Epoch 6/30\n",
      "23999/23999 [==============================] - 134s 6ms/step - loss: 0.1442 - val_loss: 0.0691\n",
      "Epoch 7/30\n",
      "23999/23999 [==============================] - 134s 6ms/step - loss: 0.1260 - val_loss: 0.2149\n",
      "Epoch 8/30\n",
      "23999/23999 [==============================] - 134s 6ms/step - loss: 0.1449 - val_loss: 0.0780\n",
      "Epoch 9/30\n",
      "23999/23999 [==============================] - 134s 6ms/step - loss: 0.1337 - val_loss: 0.1059\n",
      "Epoch 10/30\n",
      "23999/23999 [==============================] - 134s 6ms/step - loss: 0.1207 - val_loss: 0.0859\n",
      "Epoch 11/30\n",
      "23999/23999 [==============================] - 134s 6ms/step - loss: 0.1126 - val_loss: 0.0635\n",
      "Epoch 12/30\n",
      "23999/23999 [==============================] - 134s 6ms/step - loss: 0.1129 - val_loss: 0.0643\n",
      "Epoch 13/30\n",
      "23999/23999 [==============================] - 134s 6ms/step - loss: 0.1134 - val_loss: 0.0622\n",
      "Epoch 14/30\n",
      "23999/23999 [==============================] - 134s 6ms/step - loss: 0.1080 - val_loss: 0.0692\n",
      "Epoch 15/30\n",
      "23999/23999 [==============================] - 134s 6ms/step - loss: 0.1093 - val_loss: 0.1001\n",
      "Epoch 16/30\n",
      "23999/23999 [==============================] - 133s 6ms/step - loss: 0.0973 - val_loss: 0.0635\n",
      "Epoch 17/30\n",
      "23999/23999 [==============================] - 133s 6ms/step - loss: 0.0905 - val_loss: 0.0665\n",
      "Epoch 18/30\n",
      "23999/23999 [==============================] - 133s 6ms/step - loss: 0.0867 - val_loss: 0.0862\n",
      "Epoch 19/30\n",
      "23999/23999 [==============================] - 133s 6ms/step - loss: 0.0426 - val_loss: 0.0458\n",
      "Epoch 20/30\n",
      "23999/23999 [==============================] - 133s 6ms/step - loss: 0.0393 - val_loss: 0.0457\n",
      "Epoch 21/30\n",
      "23999/23999 [==============================] - 135s 6ms/step - loss: 0.0367 - val_loss: 0.0466\n",
      "Epoch 22/30\n",
      "23999/23999 [==============================] - 134s 6ms/step - loss: 0.0350 - val_loss: 0.0447\n",
      "Epoch 23/30\n",
      "23999/23999 [==============================] - 134s 6ms/step - loss: 0.0338 - val_loss: 0.0549\n",
      "Epoch 24/30\n",
      "23999/23999 [==============================] - 134s 6ms/step - loss: 0.0315 - val_loss: 0.0496\n",
      "Epoch 25/30\n",
      "23999/23999 [==============================] - 135s 6ms/step - loss: 0.0303 - val_loss: 0.0465\n",
      "Epoch 26/30\n",
      "23999/23999 [==============================] - 135s 6ms/step - loss: 0.0281 - val_loss: 0.0523\n",
      "Epoch 27/30\n",
      "23999/23999 [==============================] - 135s 6ms/step - loss: 0.0281 - val_loss: 0.0456\n",
      "Epoch 28/30\n",
      "23999/23999 [==============================] - 134s 6ms/step - loss: 0.0192 - val_loss: 0.0419\n",
      "Epoch 29/30\n",
      "23999/23999 [==============================] - 134s 6ms/step - loss: 0.0183 - val_loss: 0.0413\n",
      "Epoch 30/30\n",
      "23999/23999 [==============================] - 134s 6ms/step - loss: 0.0176 - val_loss: 0.0427\n",
      "Train on 23999 samples, validate on 6000 samples\n",
      "Epoch 1/30\n",
      "23999/23999 [==============================] - 133s 6ms/step - loss: 0.0759 - val_loss: 0.0818\n",
      "Epoch 2/30\n",
      "23999/23999 [==============================] - 134s 6ms/step - loss: 0.0698 - val_loss: 0.0809\n",
      "Epoch 3/30\n",
      "23999/23999 [==============================] - 133s 6ms/step - loss: 0.0656 - val_loss: 0.0800\n",
      "Epoch 4/30\n",
      "23999/23999 [==============================] - 133s 6ms/step - loss: 0.0619 - val_loss: 0.0807\n",
      "Epoch 5/30\n",
      "23999/23999 [==============================] - 133s 6ms/step - loss: 0.0588 - val_loss: 0.0806\n",
      "Epoch 6/30\n",
      "23999/23999 [==============================] - 134s 6ms/step - loss: 0.0557 - val_loss: 0.0822\n",
      "Epoch 7/30\n",
      "23999/23999 [==============================] - 134s 6ms/step - loss: 0.0527 - val_loss: 0.0797\n",
      "Epoch 8/30\n",
      "23999/23999 [==============================] - 133s 6ms/step - loss: 0.0497 - val_loss: 0.0792\n",
      "Epoch 9/30\n",
      "23999/23999 [==============================] - 134s 6ms/step - loss: 0.0470 - val_loss: 0.0842\n",
      "Epoch 10/30\n",
      "23999/23999 [==============================] - 134s 6ms/step - loss: 0.0449 - val_loss: 0.0821\n",
      "Epoch 11/30\n",
      "23999/23999 [==============================] - 134s 6ms/step - loss: 0.0426 - val_loss: 0.0812\n",
      "Epoch 12/30\n",
      "23999/23999 [==============================] - 134s 6ms/step - loss: 0.0405 - val_loss: 0.0817\n",
      "Epoch 13/30\n",
      "23999/23999 [==============================] - 134s 6ms/step - loss: 0.0383 - val_loss: 0.0810\n",
      "Epoch 14/30\n",
      "23999/23999 [==============================] - 134s 6ms/step - loss: 0.0342 - val_loss: 0.0817\n",
      "Epoch 15/30\n",
      "23999/23999 [==============================] - 134s 6ms/step - loss: 0.0334 - val_loss: 0.0817\n",
      "Epoch 16/30\n",
      "23999/23999 [==============================] - 134s 6ms/step - loss: 0.0328 - val_loss: 0.0814\n",
      "Epoch 17/30\n",
      "23999/23999 [==============================] - 134s 6ms/step - loss: 0.0321 - val_loss: 0.0817\n",
      "Epoch 18/30\n",
      "23999/23999 [==============================] - 134s 6ms/step - loss: 0.0315 - val_loss: 0.0819\n",
      "Epoch 19/30\n",
      "23999/23999 [==============================] - 134s 6ms/step - loss: 0.0310 - val_loss: 0.0823\n",
      "Epoch 20/30\n",
      "23999/23999 [==============================] - 134s 6ms/step - loss: 0.0303 - val_loss: 0.0827\n",
      "Epoch 21/30\n",
      "23999/23999 [==============================] - 134s 6ms/step - loss: 0.0296 - val_loss: 0.0822\n",
      "Epoch 22/30\n",
      "23999/23999 [==============================] - 134s 6ms/step - loss: 0.0291 - val_loss: 0.0827\n",
      "Epoch 23/30\n",
      "23999/23999 [==============================] - 134s 6ms/step - loss: 0.0284 - val_loss: 0.0831\n",
      "Epoch 24/30\n",
      "23999/23999 [==============================] - 134s 6ms/step - loss: 0.0280 - val_loss: 0.0830\n",
      "Epoch 25/30\n",
      "23999/23999 [==============================] - 134s 6ms/step - loss: 0.0274 - val_loss: 0.0828\n",
      "Epoch 26/30\n",
      "23999/23999 [==============================] - 134s 6ms/step - loss: 0.0267 - val_loss: 0.0831\n",
      "Epoch 27/30\n",
      "23999/23999 [==============================] - 134s 6ms/step - loss: 0.0260 - val_loss: 0.0829\n",
      "Epoch 28/30\n",
      "23999/23999 [==============================] - 136s 6ms/step - loss: 0.0255 - val_loss: 0.0838\n",
      "Epoch 29/30\n",
      "23999/23999 [==============================] - 137s 6ms/step - loss: 0.0249 - val_loss: 0.0831\n",
      "Epoch 30/30\n",
      "23999/23999 [==============================] - 134s 6ms/step - loss: 0.0243 - val_loss: 0.0837\n",
      "Train on 23999 samples, validate on 6000 samples\n",
      "Epoch 1/30\n",
      "23999/23999 [==============================] - 134s 6ms/step - loss: 0.0664 - val_loss: 0.0657\n",
      "Epoch 2/30\n",
      "23999/23999 [==============================] - 134s 6ms/step - loss: 0.0619 - val_loss: 0.0644\n",
      "Epoch 3/30\n",
      "23999/23999 [==============================] - 134s 6ms/step - loss: 0.0599 - val_loss: 0.0640\n",
      "Epoch 4/30\n",
      "23999/23999 [==============================] - 134s 6ms/step - loss: 0.0583 - val_loss: 0.0637\n",
      "Epoch 5/30\n",
      "23999/23999 [==============================] - 134s 6ms/step - loss: 0.0570 - val_loss: 0.0626\n",
      "Epoch 6/30\n",
      "23999/23999 [==============================] - 134s 6ms/step - loss: 0.0557 - val_loss: 0.0627\n",
      "Epoch 7/30\n",
      "23999/23999 [==============================] - 134s 6ms/step - loss: 0.0545 - val_loss: 0.0625\n",
      "Epoch 8/30\n",
      "23999/23999 [==============================] - 134s 6ms/step - loss: 0.0533 - val_loss: 0.0618\n",
      "Epoch 9/30\n",
      "23999/23999 [==============================] - 134s 6ms/step - loss: 0.0523 - val_loss: 0.0618\n",
      "Epoch 10/30\n",
      "23999/23999 [==============================] - 134s 6ms/step - loss: 0.0513 - val_loss: 0.0620\n",
      "Epoch 11/30\n",
      "23999/23999 [==============================] - 134s 6ms/step - loss: 0.0503 - val_loss: 0.0617\n",
      "Epoch 12/30\n",
      "23999/23999 [==============================] - 134s 6ms/step - loss: 0.0494 - val_loss: 0.0618\n",
      "Epoch 13/30\n",
      "23999/23999 [==============================] - 134s 6ms/step - loss: 0.0485 - val_loss: 0.0615\n",
      "Epoch 14/30\n",
      "23999/23999 [==============================] - 134s 6ms/step - loss: 0.0476 - val_loss: 0.0614\n",
      "Epoch 15/30\n",
      "23999/23999 [==============================] - 134s 6ms/step - loss: 0.0466 - val_loss: 0.0612\n",
      "Epoch 16/30\n",
      "23999/23999 [==============================] - 134s 6ms/step - loss: 0.0459 - val_loss: 0.0611\n",
      "Epoch 17/30\n",
      "23999/23999 [==============================] - 134s 6ms/step - loss: 0.0449 - val_loss: 0.0612\n",
      "Epoch 18/30\n",
      "23999/23999 [==============================] - 134s 6ms/step - loss: 0.0441 - val_loss: 0.0613\n",
      "Epoch 19/30\n",
      "23999/23999 [==============================] - 134s 6ms/step - loss: 0.0434 - val_loss: 0.0617\n",
      "Epoch 20/30\n",
      "23999/23999 [==============================] - 134s 6ms/step - loss: 0.0425 - val_loss: 0.0618\n",
      "Epoch 21/30\n",
      "23999/23999 [==============================] - 134s 6ms/step - loss: 0.0418 - val_loss: 0.0614\n",
      "Epoch 22/30\n",
      "23999/23999 [==============================] - 134s 6ms/step - loss: 0.0410 - val_loss: 0.0614\n",
      "Epoch 23/30\n",
      "23999/23999 [==============================] - 134s 6ms/step - loss: 0.0403 - val_loss: 0.0607\n",
      "Epoch 24/30\n",
      "23999/23999 [==============================] - 134s 6ms/step - loss: 0.0394 - val_loss: 0.0610\n",
      "Epoch 25/30\n",
      "23999/23999 [==============================] - 134s 6ms/step - loss: 0.0389 - val_loss: 0.0612\n",
      "Epoch 26/30\n",
      "23999/23999 [==============================] - 134s 6ms/step - loss: 0.0381 - val_loss: 0.0623\n",
      "Epoch 27/30\n",
      "23999/23999 [==============================] - 134s 6ms/step - loss: 0.0374 - val_loss: 0.0617\n",
      "Epoch 28/30\n",
      "23999/23999 [==============================] - 134s 6ms/step - loss: 0.0367 - val_loss: 0.0611\n",
      "Epoch 29/30\n",
      "23999/23999 [==============================] - 134s 6ms/step - loss: 0.0361 - val_loss: 0.0614\n",
      "Epoch 30/30\n",
      "23999/23999 [==============================] - 134s 6ms/step - loss: 0.0353 - val_loss: 0.0627\n",
      "Train on 23999 samples, validate on 6000 samples\n",
      "Epoch 1/30\n",
      "23999/23999 [==============================] - 136s 6ms/step - loss: 0.0279 - val_loss: 0.0386\n",
      "Epoch 2/30\n",
      "23999/23999 [==============================] - 135s 6ms/step - loss: 0.0239 - val_loss: 0.0393\n",
      "Epoch 3/30\n",
      "23999/23999 [==============================] - 135s 6ms/step - loss: 0.0224 - val_loss: 0.0384\n",
      "Epoch 4/30\n",
      "23999/23999 [==============================] - 135s 6ms/step - loss: 0.0211 - val_loss: 0.0387\n",
      "Epoch 5/30\n",
      "23999/23999 [==============================] - 135s 6ms/step - loss: 0.0202 - val_loss: 0.0390\n",
      "Epoch 6/30\n",
      "23999/23999 [==============================] - 135s 6ms/step - loss: 0.0194 - val_loss: 0.0387\n",
      "Epoch 7/30\n",
      "23999/23999 [==============================] - 135s 6ms/step - loss: 0.0189 - val_loss: 0.0402\n",
      "Epoch 8/30\n",
      "23999/23999 [==============================] - 135s 6ms/step - loss: 0.0183 - val_loss: 0.0387\n",
      "Epoch 9/30\n",
      "23999/23999 [==============================] - 134s 6ms/step - loss: 0.0178 - val_loss: 0.0405\n",
      "Epoch 10/30\n",
      "23999/23999 [==============================] - 134s 6ms/step - loss: 0.0174 - val_loss: 0.0390\n",
      "Epoch 11/30\n",
      "23999/23999 [==============================] - 134s 6ms/step - loss: 0.0169 - val_loss: 0.0394\n",
      "Epoch 12/30\n",
      "23999/23999 [==============================] - 134s 6ms/step - loss: 0.0165 - val_loss: 0.0392\n",
      "Epoch 13/30\n",
      "23999/23999 [==============================] - 134s 6ms/step - loss: 0.0162 - val_loss: 0.0385\n",
      "Epoch 14/30\n",
      "23999/23999 [==============================] - 134s 6ms/step - loss: 0.0159 - val_loss: 0.0405\n",
      "Epoch 15/30\n",
      "23999/23999 [==============================] - 134s 6ms/step - loss: 0.0156 - val_loss: 0.0390\n",
      "Epoch 16/30\n",
      "23999/23999 [==============================] - 134s 6ms/step - loss: 0.0152 - val_loss: 0.0394\n",
      "Epoch 17/30\n",
      "23999/23999 [==============================] - 134s 6ms/step - loss: 0.0149 - val_loss: 0.0394\n",
      "Epoch 18/30\n",
      "23999/23999 [==============================] - 134s 6ms/step - loss: 0.0147 - val_loss: 0.0396\n",
      "Epoch 19/30\n",
      "23999/23999 [==============================] - 134s 6ms/step - loss: 0.0144 - val_loss: 0.0399\n",
      "Epoch 20/30\n",
      "23999/23999 [==============================] - 134s 6ms/step - loss: 0.0142 - val_loss: 0.0403\n",
      "Epoch 21/30\n",
      "23999/23999 [==============================] - 134s 6ms/step - loss: 0.0140 - val_loss: 0.0392\n",
      "Epoch 22/30\n",
      "23999/23999 [==============================] - 134s 6ms/step - loss: 0.0137 - val_loss: 0.0400\n",
      "Epoch 23/30\n",
      "23999/23999 [==============================] - 134s 6ms/step - loss: 0.0135 - val_loss: 0.0399\n",
      "Epoch 24/30\n",
      "23999/23999 [==============================] - 134s 6ms/step - loss: 0.0133 - val_loss: 0.0396\n",
      "Epoch 25/30\n",
      "23999/23999 [==============================] - 134s 6ms/step - loss: 0.0131 - val_loss: 0.0395\n",
      "Epoch 26/30\n",
      "23999/23999 [==============================] - 134s 6ms/step - loss: 0.0129 - val_loss: 0.0396\n",
      "Epoch 27/30\n",
      "23999/23999 [==============================] - 134s 6ms/step - loss: 0.0127 - val_loss: 0.0402\n",
      "Epoch 28/30\n",
      "23999/23999 [==============================] - 134s 6ms/step - loss: 0.0125 - val_loss: 0.0405\n",
      "Epoch 29/30\n",
      "23999/23999 [==============================] - 134s 6ms/step - loss: 0.0123 - val_loss: 0.0398\n",
      "Epoch 30/30\n",
      "23999/23999 [==============================] - 134s 6ms/step - loss: 0.0121 - val_loss: 0.0395\n",
      "Train on 23999 samples, validate on 6000 samples\n",
      "Epoch 1/30\n",
      "23999/23999 [==============================] - 134s 6ms/step - loss: 0.0374 - val_loss: 0.0800\n",
      "Epoch 2/30\n",
      "23999/23999 [==============================] - 136s 6ms/step - loss: 0.0319 - val_loss: 0.0809\n",
      "Epoch 3/30\n",
      "23999/23999 [==============================] - 134s 6ms/step - loss: 0.0295 - val_loss: 0.0806\n",
      "Epoch 4/30\n",
      "23999/23999 [==============================] - 134s 6ms/step - loss: 0.0277 - val_loss: 0.0827\n",
      "Epoch 5/30\n",
      "23999/23999 [==============================] - 134s 6ms/step - loss: 0.0262 - val_loss: 0.0821\n",
      "Epoch 6/30\n",
      "23999/23999 [==============================] - 134s 6ms/step - loss: 0.0252 - val_loss: 0.0805\n",
      "Epoch 7/30\n",
      "23999/23999 [==============================] - 134s 6ms/step - loss: 0.0240 - val_loss: 0.0810\n",
      "Epoch 8/30\n",
      "23999/23999 [==============================] - 134s 6ms/step - loss: 0.0229 - val_loss: 0.0810\n",
      "Epoch 9/30\n",
      "23999/23999 [==============================] - 134s 6ms/step - loss: 0.0220 - val_loss: 0.0824\n",
      "Epoch 10/30\n",
      "23999/23999 [==============================] - 134s 6ms/step - loss: 0.0211 - val_loss: 0.0819\n",
      "Epoch 11/30\n",
      "23999/23999 [==============================] - 134s 6ms/step - loss: 0.0204 - val_loss: 0.0845\n",
      "Epoch 12/30\n",
      "23999/23999 [==============================] - 134s 6ms/step - loss: 0.0196 - val_loss: 0.0823\n",
      "Epoch 13/30\n",
      "23999/23999 [==============================] - 134s 6ms/step - loss: 0.0190 - val_loss: 0.0838\n",
      "Epoch 14/30\n",
      "23999/23999 [==============================] - 134s 6ms/step - loss: 0.0185 - val_loss: 0.0833\n",
      "Epoch 15/30\n",
      "23999/23999 [==============================] - 134s 6ms/step - loss: 0.0179 - val_loss: 0.0830\n",
      "Epoch 16/30\n",
      "23999/23999 [==============================] - 134s 6ms/step - loss: 0.0174 - val_loss: 0.0835\n",
      "Epoch 17/30\n",
      "23999/23999 [==============================] - 134s 6ms/step - loss: 0.0168 - val_loss: 0.0842\n",
      "Epoch 18/30\n",
      "23999/23999 [==============================] - 134s 6ms/step - loss: 0.0164 - val_loss: 0.0840\n",
      "Epoch 19/30\n",
      "23999/23999 [==============================] - 134s 6ms/step - loss: 0.0159 - val_loss: 0.0839\n",
      "Epoch 20/30\n",
      "23999/23999 [==============================] - 134s 6ms/step - loss: 0.0155 - val_loss: 0.0834\n",
      "Epoch 21/30\n",
      "23999/23999 [==============================] - 134s 6ms/step - loss: 0.0152 - val_loss: 0.0830\n",
      "Epoch 22/30\n",
      "23999/23999 [==============================] - 134s 6ms/step - loss: 0.0148 - val_loss: 0.0839\n",
      "Epoch 23/30\n",
      "23999/23999 [==============================] - 134s 6ms/step - loss: 0.0144 - val_loss: 0.0842\n",
      "Epoch 24/30\n",
      "23999/23999 [==============================] - 134s 6ms/step - loss: 0.0140 - val_loss: 0.0839\n",
      "Epoch 25/30\n",
      "23999/23999 [==============================] - 134s 6ms/step - loss: 0.0137 - val_loss: 0.0851\n",
      "Epoch 26/30\n",
      "23999/23999 [==============================] - 134s 6ms/step - loss: 0.0135 - val_loss: 0.0851\n",
      "Epoch 27/30\n",
      "23999/23999 [==============================] - 134s 6ms/step - loss: 0.0132 - val_loss: 0.0856\n",
      "Epoch 28/30\n",
      "23999/23999 [==============================] - 134s 6ms/step - loss: 0.0129 - val_loss: 0.0844\n",
      "Epoch 29/30\n",
      "23999/23999 [==============================] - 134s 6ms/step - loss: 0.0126 - val_loss: 0.0856\n",
      "Epoch 30/30\n",
      "23999/23999 [==============================] - 135s 6ms/step - loss: 0.0124 - val_loss: 0.0867\n",
      "Train on 23999 samples, validate on 6000 samples\n",
      "Epoch 1/30\n"
     ]
    },
    {
     "name": "stdout",
     "output_type": "stream",
     "text": [
      "23999/23999 [==============================] - 136s 6ms/step - loss: 0.0462 - val_loss: 0.0648\n",
      "Epoch 2/30\n",
      "23999/23999 [==============================] - 136s 6ms/step - loss: 0.0407 - val_loss: 0.0647\n",
      "Epoch 3/30\n",
      "23999/23999 [==============================] - 137s 6ms/step - loss: 0.0382 - val_loss: 0.0642\n",
      "Epoch 4/30\n",
      "23999/23999 [==============================] - 137s 6ms/step - loss: 0.0364 - val_loss: 0.0635\n",
      "Epoch 5/30\n",
      "23999/23999 [==============================] - 139s 6ms/step - loss: 0.0349 - val_loss: 0.0640\n",
      "Epoch 6/30\n",
      "23999/23999 [==============================] - 138s 6ms/step - loss: 0.0336 - val_loss: 0.0640\n",
      "Epoch 7/30\n",
      "23999/23999 [==============================] - 136s 6ms/step - loss: 0.0325 - val_loss: 0.0644\n",
      "Epoch 8/30\n",
      "23999/23999 [==============================] - 137s 6ms/step - loss: 0.0313 - val_loss: 0.0644\n",
      "Epoch 9/30\n",
      "23999/23999 [==============================] - 137s 6ms/step - loss: 0.0303 - val_loss: 0.0648\n",
      "Epoch 10/30\n",
      "23999/23999 [==============================] - 137s 6ms/step - loss: 0.0293 - val_loss: 0.0653\n",
      "Epoch 11/30\n",
      "23999/23999 [==============================] - 137s 6ms/step - loss: 0.0284 - val_loss: 0.0656\n",
      "Epoch 12/30\n",
      "23999/23999 [==============================] - 137s 6ms/step - loss: 0.0275 - val_loss: 0.0655\n",
      "Epoch 13/30\n",
      "23999/23999 [==============================] - 137s 6ms/step - loss: 0.0267 - val_loss: 0.0656\n",
      "Epoch 14/30\n",
      "23999/23999 [==============================] - 137s 6ms/step - loss: 0.0259 - val_loss: 0.0662\n",
      "Epoch 15/30\n",
      "23999/23999 [==============================] - 137s 6ms/step - loss: 0.0251 - val_loss: 0.0661\n",
      "Epoch 16/30\n",
      "23999/23999 [==============================] - 137s 6ms/step - loss: 0.0243 - val_loss: 0.0661\n",
      "Epoch 17/30\n",
      "23999/23999 [==============================] - 137s 6ms/step - loss: 0.0235 - val_loss: 0.0661\n",
      "Epoch 18/30\n",
      "23999/23999 [==============================] - 137s 6ms/step - loss: 0.0228 - val_loss: 0.0666\n",
      "Epoch 19/30\n",
      "23999/23999 [==============================] - 137s 6ms/step - loss: 0.0222 - val_loss: 0.0659\n",
      "Epoch 20/30\n",
      "23999/23999 [==============================] - 137s 6ms/step - loss: 0.0215 - val_loss: 0.0684\n",
      "Epoch 21/30\n",
      "23999/23999 [==============================] - 137s 6ms/step - loss: 0.0209 - val_loss: 0.0672\n",
      "Epoch 22/30\n",
      "23999/23999 [==============================] - 137s 6ms/step - loss: 0.0202 - val_loss: 0.0674\n",
      "Epoch 23/30\n",
      "23999/23999 [==============================] - 137s 6ms/step - loss: 0.0196 - val_loss: 0.0672\n",
      "Epoch 24/30\n",
      "23999/23999 [==============================] - 138s 6ms/step - loss: 0.0192 - val_loss: 0.0682\n",
      "Epoch 25/30\n",
      "23999/23999 [==============================] - 139s 6ms/step - loss: 0.0186 - val_loss: 0.0672\n",
      "Epoch 26/30\n",
      "23999/23999 [==============================] - 138s 6ms/step - loss: 0.0180 - val_loss: 0.0677\n",
      "Epoch 27/30\n",
      "23999/23999 [==============================] - 138s 6ms/step - loss: 0.0176 - val_loss: 0.0682\n",
      "Epoch 28/30\n",
      "23999/23999 [==============================] - 138s 6ms/step - loss: 0.0172 - val_loss: 0.0680\n",
      "Epoch 29/30\n",
      "23999/23999 [==============================] - 138s 6ms/step - loss: 0.0167 - val_loss: 0.0688\n",
      "Epoch 30/30\n",
      "23999/23999 [==============================] - 138s 6ms/step - loss: 0.0162 - val_loss: 0.0681\n",
      "Train on 23999 samples, validate on 6000 samples\n",
      "Epoch 1/30\n",
      "23999/23999 [==============================] - 138s 6ms/step - loss: 0.0212 - val_loss: 0.0413\n",
      "Epoch 2/30\n",
      "23999/23999 [==============================] - 140s 6ms/step - loss: 0.0179 - val_loss: 0.0416\n",
      "Epoch 3/30\n",
      "23999/23999 [==============================] - 139s 6ms/step - loss: 0.0163 - val_loss: 0.0410\n",
      "Epoch 4/30\n",
      "23999/23999 [==============================] - 138s 6ms/step - loss: 0.0152 - val_loss: 0.0407\n",
      "Epoch 5/30\n",
      " 3040/23999 [==>...........................] - ETA: 1:50 - loss: 0.0117"
     ]
    }
   ],
   "source": [
    "import gc\n",
    "for i in range(5):\n",
    "    for start, end in zip(rg[:-1], rg[1:]):\n",
    "        data_lpmt = np.load(LTRAIN + '1_' + str(start) + '.npy')\n",
    "        y_val = tr_true_info[(tr_true_info['evtID'] > start) & (tr_true_info['evtID'] < end)][['E']].values\n",
    "        X_train, X_test, y_train, y_test = train_test_split(data_lpmt, y_val, test_size=0.2, random_state=45)\n",
    "        out = model.fit(X_train, y_train, batch_size=32, \n",
    "                epochs=30,\n",
    "                callbacks=[csv_logger, reduce_lr],\n",
    "                validation_data=(X_test, y_test))\n",
    "    gc.collect()"
   ]
  },
  {
   "cell_type": "code",
   "execution_count": 116,
   "metadata": {},
   "outputs": [],
   "source": [
    "import pandas as pd\n",
    "import matplotlib.pyplot as plt"
   ]
  },
  {
   "cell_type": "code",
   "execution_count": 117,
   "metadata": {},
   "outputs": [],
   "source": [
    "cs = pd.read_csv(logdir, sep=';')"
   ]
  },
  {
   "cell_type": "code",
   "execution_count": 118,
   "metadata": {},
   "outputs": [
    {
     "data": {
      "text/plain": [
       "[<matplotlib.lines.Line2D at 0x7f470760e668>]"
      ]
     },
     "execution_count": 118,
     "metadata": {},
     "output_type": "execute_result"
    },
    {
     "data": {
      "image/png": "[encoded data removed]",
      "text/plain": [
       "<Figure size 432x288 with 1 Axes>"
      ]
     },
     "metadata": {
      "needs_background": "light"
     },
     "output_type": "display_data"
    }
   ],
   "source": [
    "plt.plot(cs['epoch'].values, cs['val_loss'].values)"
   ]
  },
  {
   "cell_type": "code",
   "execution_count": 119,
   "metadata": {},
   "outputs": [
    {
     "data": {
      "text/plain": [
       "[<matplotlib.lines.Line2D at 0x7f470762ba58>]"
      ]
     },
     "execution_count": 119,
     "metadata": {},
     "output_type": "execute_result"
    },
    {
     "data": {
      "image/png": "[encoded data removed]",
      "text/plain": [
       "<Figure size 432x288 with 1 Axes>"
      ]
     },
     "metadata": {
      "needs_background": "light"
     },
     "output_type": "display_data"
    }
   ],
   "source": [
    "plt.plot(cs['epoch'].values, cs['loss'].values)"
   ]
  },
  {
   "cell_type": "code",
   "execution_count": 48,
   "metadata": {},
   "outputs": [],
   "source": [
    "#cs.plot(x='epoch',y='val_loss')\n",
    "#plt.ylim((0, 100000))"
   ]
  },
  {
   "cell_type": "code",
   "execution_count": 120,
   "metadata": {},
   "outputs": [],
   "source": [
    "model.save_weights('16_03_E.h5')"
   ]
  },
  {
   "cell_type": "code",
   "execution_count": 33,
   "metadata": {},
   "outputs": [],
   "source": [
    "model.load_weights('18_02_E.h5')"
   ]
  },
  {
   "cell_type": "code",
   "execution_count": null,
   "metadata": {},
   "outputs": [],
   "source": [
    "print(\"+\")"
   ]
  },
  {
   "cell_type": "code",
   "execution_count": 50,
   "metadata": {},
   "outputs": [],
   "source": [
    "with open(\"16_03_E.json\", \"w\") as json_file:\n",
    "    json_file.write(model.to_json())"
   ]
  },
  {
   "cell_type": "code",
   "execution_count": 121,
   "metadata": {},
   "outputs": [],
   "source": [
    "from sklearn.metrics.pairwise import paired_euclidean_distances"
   ]
  },
  {
   "cell_type": "code",
   "execution_count": 122,
   "metadata": {},
   "outputs": [],
   "source": [
    "from sklearn.metrics import mean_squared_error"
   ]
  },
  {
   "cell_type": "code",
   "execution_count": 123,
   "metadata": {},
   "outputs": [],
   "source": [
    "# in mm\n",
    "#test_results = paired_euclidean_distances(model.predict(X_test), y_test)"
   ]
  },
  {
   "cell_type": "code",
   "execution_count": 124,
   "metadata": {},
   "outputs": [],
   "source": [
    "preds = np.maximum(model.predict(X_test), 0)\n",
    "test_resultsE = mean_squared_error(preds[:,0], y_test[:,0])\n",
    "#test_resultsR = mean_squared_error(preds[:,1], y_test[:,1])"
   ]
  },
  {
   "cell_type": "code",
   "execution_count": 125,
   "metadata": {},
   "outputs": [
    {
     "data": {
      "text/plain": [
       "0.07138068793407519"
      ]
     },
     "execution_count": 125,
     "metadata": {},
     "output_type": "execute_result"
    }
   ],
   "source": [
    "test_resultsE.mean()"
   ]
  },
  {
   "cell_type": "code",
   "execution_count": 50,
   "metadata": {},
   "outputs": [
    {
     "data": {
      "text/plain": [
       "(-1, 1)"
      ]
     },
     "execution_count": 50,
     "metadata": {},
     "output_type": "execute_result"
    },
    {
     "data": {
      "image/png": "[encoded data removed]",
      "text/plain": [
       "<Figure size 432x288 with 1 Axes>"
      ]
     },
     "metadata": {},
     "output_type": "display_data"
    }
   ],
   "source": [
    "plt.hist((preds[:,0] - y_test[:,0])/y_test[:,0], bins=100)\n",
    "plt.xlim((-1,1))"
   ]
  },
  {
   "cell_type": "code",
   "execution_count": 126,
   "metadata": {},
   "outputs": [],
   "source": [
    "%run root_reader.py"
   ]
  },
  {
   "cell_type": "code",
   "execution_count": 128,
   "metadata": {},
   "outputs": [],
   "source": [
    "# Sigma tests:\n",
    "#from root_reader import convert_from_root"
   ]
  },
  {
   "cell_type": "code",
   "execution_count": 129,
   "metadata": {},
   "outputs": [],
   "source": [
    "root_data_path = '/mnt/iprovilkov/data_dir/0MeV_lpmt_hits.h5'"
   ]
  },
  {
   "cell_type": "code",
   "execution_count": 170,
   "metadata": {},
   "outputs": [],
   "source": [
    "def test_sigmas(model, test_dir='/mnt/iprovilkov/data_dir/', test_column='E'):\n",
    "    sigmas = {}\n",
    "    MSEs = {}\n",
    "    predictions = {}\n",
    "    for energy in tqdm(range(10)):\n",
    "        try:\n",
    "            data_lpmt = np.load(test_dir + str(energy) + 'data_lpmt.npy')\n",
    "            true_info = pd.read_csv(TRAIN_DIR + str(energy)+'MeV_'+'true_info.csv')\n",
    "        except: \n",
    "            lpmt_hits = pd.read_hdf(test_dir + str(energy)+'MeV_'+ 'lpmt_hits.h5', mode='r') \n",
    "            spmt_hits = pd.read_hdf(test_dir + str(energy)+'MeV_'+'spmt_hits.h5', mode='r')\n",
    "            pos = pd.read_csv(TRAIN_DIR + str(energy)+'MeV_'+'lpmt_pos.csv') \n",
    "            spmt_pos = pd.read_csv(TRAIN_DIR + str(energy)+'MeV_'+'spmt_pos.csv') \n",
    "            true_info = pd.read_csv(TRAIN_DIR + str(energy)+'MeV_'+'true_info.csv')\n",
    "            data_lpmt, event_to_id = get_data_2dprojection(lpmt_hits, \n",
    "                                    spmt_hits, \n",
    "                                    pos, \n",
    "                                    true_info,\n",
    "                                    use_spmt=True)\n",
    "            np.save(test_dir+str(energy)+'data_lpmt', data_lpmt)\n",
    "        preds = np.maximum(model.predict(data_lpmt), 0)\n",
    "        y_test = true_info[test_column]\n",
    "        \n",
    "        predictions[energy] = preds\n",
    "        MSEs[energy] = mean_squared_error(preds, y_test)\n",
    "        \n",
    "        sigmas[energy] = np.var(preds - preds.mean())\n",
    "    print(\"+\")\n",
    "    return sigmas, MSEs, predictions"
   ]
  },
  {
   "cell_type": "code",
   "execution_count": 171,
   "metadata": {},
   "outputs": [
    {
     "name": "stderr",
     "output_type": "stream",
     "text": [
      "100%|██████████| 10/10 [00:37<00:00,  3.76s/it]"
     ]
    },
    {
     "name": "stdout",
     "output_type": "stream",
     "text": [
      "+\n"
     ]
    },
    {
     "name": "stderr",
     "output_type": "stream",
     "text": [
      "\n"
     ]
    }
   ],
   "source": [
    "sigmas, MSEs, predictions = test_sigmas(model)"
   ]
  },
  {
   "cell_type": "code",
   "execution_count": 173,
   "metadata": {},
   "outputs": [
    {
     "data": {
      "text/plain": [
       "{0: 0.02895837,\n",
       " 1: 0.029570192,\n",
       " 2: 0.031224858,\n",
       " 3: 0.033373803,\n",
       " 4: 0.037357513,\n",
       " 5: 0.042868596,\n",
       " 6: 0.08647771,\n",
       " 7: 0.12399483,\n",
       " 8: 0.12814525,\n",
       " 9: 0.110840105}"
      ]
     },
     "execution_count": 173,
     "metadata": {},
     "output_type": "execute_result"
    }
   ],
   "source": [
    "sigmas"
   ]
  },
  {
   "cell_type": "code",
   "execution_count": 174,
   "metadata": {},
   "outputs": [
    {
     "data": {
      "text/plain": [
       "<matplotlib.collections.PathCollection at 0x7f4705814a58>"
      ]
     },
     "execution_count": 174,
     "metadata": {},
     "output_type": "execute_result"
    },
    {
     "data": {
      "image/png": "[encoded data removed]",
      "text/plain": [
       "<Figure size 432x288 with 1 Axes>"
      ]
     },
     "metadata": {
      "needs_background": "light"
     },
     "output_type": "display_data"
    }
   ],
   "source": [
    "plt.scatter(sigmas.keys(), sigmas.values())"
   ]
  },
  {
   "cell_type": "code",
   "execution_count": null,
   "metadata": {},
   "outputs": [],
   "source": []
  },
  {
   "cell_type": "code",
   "execution_count": 157,
   "metadata": {},
   "outputs": [
    {
     "data": {
      "text/plain": [
       "{0: 0.17017159,\n",
       " 1: 0.17195986,\n",
       " 2: 0.17670557,\n",
       " 3: 0.18268499,\n",
       " 4: 0.19328092,\n",
       " 5: 0.20704733,\n",
       " 6: 0.29407093,\n",
       " 7: 0.35212898,\n",
       " 8: 0.3579738,\n",
       " 9: 0.33292657}"
      ]
     },
     "execution_count": 157,
     "metadata": {},
     "output_type": "execute_result"
    }
   ],
   "source": [
    "sigmas"
   ]
  },
  {
   "cell_type": "code",
   "execution_count": 156,
   "metadata": {},
   "outputs": [
    {
     "data": {
      "text/plain": [
       "{0: 0.03796871097615623,\n",
       " 1: 0.030383979658258297,\n",
       " 2: 0.031718544577242117,\n",
       " 3: 0.033721130120994,\n",
       " 4: 0.03756203330641611,\n",
       " 5: 0.04311261195163359,\n",
       " 6: 0.08648203742928379,\n",
       " 7: 0.12410257893058468,\n",
       " 8: 0.12817486926491023,\n",
       " 9: 0.1111514193277844}"
      ]
     },
     "execution_count": 156,
     "metadata": {},
     "output_type": "execute_result"
    }
   ],
   "source": [
    "MSEs"
   ]
  },
  {
   "cell_type": "code",
   "execution_count": 146,
   "metadata": {},
   "outputs": [],
   "source": [
    "import matplotlib.pyplot as plt\n",
    "import seaborn as sns\n",
    "from scipy import stats"
   ]
  },
  {
   "cell_type": "code",
   "execution_count": 149,
   "metadata": {},
   "outputs": [
    {
     "data": {
      "text/plain": [
       "<matplotlib.axes._subplots.AxesSubplot at 0x7f4705a10f28>"
      ]
     },
     "execution_count": 149,
     "metadata": {},
     "output_type": "execute_result"
    },
    {
     "data": {
      "image/png": "[encoded data removed]",
      "text/plain": [
       "<Figure size 432x288 with 1 Axes>"
      ]
     },
     "metadata": {
      "needs_background": "light"
     },
     "output_type": "display_data"
    }
   ],
   "source": [
    "sns.distplot(predictions[1] - predictions[1].mean(), kde=False, fit=stats.laplace, bins=300)"
   ]
  },
  {
   "cell_type": "code",
   "execution_count": 69,
   "metadata": {},
   "outputs": [
    {
     "ename": "NameError",
     "evalue": "name 'diff' is not defined",
     "output_type": "error",
     "traceback": [
      "\u001b[0;31m---------------------------------------------------------------------------\u001b[0m",
      "\u001b[0;31mNameError\u001b[0m                                 Traceback (most recent call last)",
      "\u001b[0;32m<ipython-input-69-659f96c4039b>\u001b[0m in \u001b[0;36m<module>\u001b[0;34m\u001b[0m\n\u001b[0;32m----> 1\u001b[0;31m \u001b[0manti_ejection_mask\u001b[0m \u001b[0;34m=\u001b[0m \u001b[0;34m(\u001b[0m\u001b[0mabs\u001b[0m\u001b[0;34m(\u001b[0m\u001b[0mdiff\u001b[0m\u001b[0;34m)\u001b[0m\u001b[0;34m<\u001b[0m\u001b[0;36m0.3\u001b[0m\u001b[0;34m)\u001b[0m \u001b[0;34m&\u001b[0m \u001b[0;34m(\u001b[0m\u001b[0my_test\u001b[0m\u001b[0;34m[\u001b[0m\u001b[0;34m:\u001b[0m\u001b[0;34m,\u001b[0m\u001b[0;36m0\u001b[0m\u001b[0;34m]\u001b[0m \u001b[0;34m<\u001b[0m \u001b[0;36m1.5\u001b[0m\u001b[0;34m)\u001b[0m \u001b[0;34m&\u001b[0m \u001b[0;34m(\u001b[0m\u001b[0my_test\u001b[0m\u001b[0;34m[\u001b[0m\u001b[0;34m:\u001b[0m\u001b[0;34m,\u001b[0m\u001b[0;36m0\u001b[0m\u001b[0;34m]\u001b[0m \u001b[0;34m>\u001b[0m \u001b[0;36m0.5\u001b[0m\u001b[0;34m)\u001b[0m\u001b[0;34m\u001b[0m\u001b[0m\n\u001b[0m",
      "\u001b[0;31mNameError\u001b[0m: name 'diff' is not defined"
     ]
    }
   ],
   "source": [
    "anti_ejection_mask = (abs(diff)<0.3) & (y_test[:,0] < 1.5) & (y_test[:,0] > 0.5)"
   ]
  },
  {
   "cell_type": "code",
   "execution_count": 70,
   "metadata": {},
   "outputs": [
    {
     "ename": "NameError",
     "evalue": "name 'anti_ejection_mask' is not defined",
     "output_type": "error",
     "traceback": [
      "\u001b[0;31m---------------------------------------------------------------------------\u001b[0m",
      "\u001b[0;31mNameError\u001b[0m                                 Traceback (most recent call last)",
      "\u001b[0;32m<ipython-input-70-3745311a9e45>\u001b[0m in \u001b[0;36m<module>\u001b[0;34m\u001b[0m\n\u001b[0;32m----> 1\u001b[0;31m \u001b[0mplt\u001b[0m\u001b[0;34m.\u001b[0m\u001b[0mscatter\u001b[0m\u001b[0;34m(\u001b[0m\u001b[0my_test\u001b[0m\u001b[0;34m[\u001b[0m\u001b[0;34m:\u001b[0m\u001b[0;34m,\u001b[0m\u001b[0;36m0\u001b[0m\u001b[0;34m]\u001b[0m\u001b[0;34m[\u001b[0m\u001b[0manti_ejection_mask\u001b[0m\u001b[0;34m]\u001b[0m\u001b[0;34m,\u001b[0m \u001b[0mpreds\u001b[0m\u001b[0;34m[\u001b[0m\u001b[0;34m:\u001b[0m\u001b[0;34m,\u001b[0m\u001b[0;36m0\u001b[0m\u001b[0;34m]\u001b[0m\u001b[0;34m[\u001b[0m\u001b[0manti_ejection_mask\u001b[0m\u001b[0;34m]\u001b[0m\u001b[0;34m)\u001b[0m\u001b[0;34m\u001b[0m\u001b[0m\n\u001b[0m",
      "\u001b[0;31mNameError\u001b[0m: name 'anti_ejection_mask' is not defined"
     ]
    }
   ],
   "source": [
    "plt.scatter(y_test[:,0][anti_ejection_mask], preds[:,0][anti_ejection_mask])"
   ]
  },
  {
   "cell_type": "code",
   "execution_count": 71,
   "metadata": {},
   "outputs": [
    {
     "data": {
      "text/plain": [
       "0.11789867748896025"
      ]
     },
     "execution_count": 71,
     "metadata": {},
     "output_type": "execute_result"
    }
   ],
   "source": [
    "np.std((preds[:,0][anti_ejection_mask] - y_test[:,0][anti_ejection_mask])/y_test[:,0][anti_ejection_mask])"
   ]
  },
  {
   "cell_type": "code",
   "execution_count": 76,
   "metadata": {},
   "outputs": [
    {
     "data": {
      "text/plain": [
       "101617.658293631"
      ]
     },
     "execution_count": 76,
     "metadata": {},
     "output_type": "execute_result"
    }
   ],
   "source": [
    "#test_resultsR.mean()"
   ]
  },
  {
   "cell_type": "code",
   "execution_count": 97,
   "metadata": {},
   "outputs": [],
   "source": [
    "#test_resultsR.mean() /100000 + test_resultsE.mean() * 100"
   ]
  },
  {
   "cell_type": "code",
   "execution_count": 98,
   "metadata": {},
   "outputs": [],
   "source": [
    "# Make a submission\n",
    "TEST_DIR = '/srv/hd5/data/vprov/data/phase_1/test/'\n",
    "te_lpmt_hits = pd.read_hdf(TEST_DIR + 'test_l_hits.h5', mode='r')\n",
    "te_spmt_hits = pd.read_hdf(TEST_DIR + 'test_s_hits.h5', mode='r')"
   ]
  },
  {
   "cell_type": "code",
   "execution_count": 99,
   "metadata": {},
   "outputs": [
    {
     "data": {
      "text/plain": [
       "5000"
      ]
     },
     "execution_count": 99,
     "metadata": {},
     "output_type": "execute_result"
    }
   ],
   "source": [
    "len(te_lpmt_hits['event'].unique())"
   ]
  },
  {
   "cell_type": "code",
   "execution_count": 101,
   "metadata": {},
   "outputs": [
    {
     "name": "stdout",
     "output_type": "stream",
     "text": [
      "Make projection\n",
      "Starting cycle...\n"
     ]
    },
    {
     "data": {
      "application/vnd.jupyter.widget-view+json": {
       "model_id": "b39ee2c8a9c94e6da12dcdfef09ba21e",
       "version_major": 2,
       "version_minor": 0
      },
      "text/plain": [
       "HBox(children=(IntProgress(value=1, bar_style='info', max=1), HTML(value='')))"
      ]
     },
     "metadata": {},
     "output_type": "display_data"
    },
    {
     "name": "stdout",
     "output_type": "stream",
     "text": [
      "\n"
     ]
    }
   ],
   "source": [
    "te_data_lpmt, te_event_to_id = get_data_2dprojection(te_lpmt_hits, \n",
    "                                                              te_spmt_hits, \n",
    "                                                              tr_pos, \n",
    "                                                              tr_true_info,\n",
    "                                                              use_spmt=True, time=True)"
   ]
  },
  {
   "cell_type": "code",
   "execution_count": 102,
   "metadata": {},
   "outputs": [
    {
     "data": {
      "text/plain": [
       "(5000, 151, 151, 3)"
      ]
     },
     "execution_count": 102,
     "metadata": {},
     "output_type": "execute_result"
    }
   ],
   "source": [
    "te_data_lpmt.shape"
   ]
  },
  {
   "cell_type": "code",
   "execution_count": 91,
   "metadata": {},
   "outputs": [],
   "source": [
    "#te_data_lpmt = te_data_lpmt.reshape((*te_data_lpmt.shape, 1))"
   ]
  },
  {
   "cell_type": "code",
   "execution_count": 103,
   "metadata": {},
   "outputs": [],
   "source": [
    "test_answer = model.predict(te_data_lpmt)"
   ]
  },
  {
   "cell_type": "code",
   "execution_count": 104,
   "metadata": {},
   "outputs": [],
   "source": [
    "test_answer = np.maximum(test_answer, 0)"
   ]
  },
  {
   "cell_type": "code",
   "execution_count": 105,
   "metadata": {},
   "outputs": [
    {
     "data": {
      "text/plain": [
       "array([[3.1486816],\n",
       "       [6.8654876],\n",
       "       [2.4813795]], dtype=float32)"
      ]
     },
     "execution_count": 105,
     "metadata": {},
     "output_type": "execute_result"
    }
   ],
   "source": [
    "test_answer[:3]"
   ]
  },
  {
   "cell_type": "code",
   "execution_count": 111,
   "metadata": {},
   "outputs": [],
   "source": [
    "forR = pd.read_csv('./submissions/03_02_mix.csv')"
   ]
  },
  {
   "cell_type": "code",
   "execution_count": 112,
   "metadata": {},
   "outputs": [
    {
     "data": {
      "text/html": [
       "<div>\n",
       "<style scoped>\n",
       "    .dataframe tbody tr th:only-of-type {\n",
       "        vertical-align: middle;\n",
       "    }\n",
       "\n",
       "    .dataframe tbody tr th {\n",
       "        vertical-align: top;\n",
       "    }\n",
       "\n",
       "    .dataframe thead th {\n",
       "        text-align: right;\n",
       "    }\n",
       "</style>\n",
       "<table border=\"1\" class=\"dataframe\">\n",
       "  <thead>\n",
       "    <tr style=\"text-align: right;\">\n",
       "      <th></th>\n",
       "      <th>E</th>\n",
       "      <th>R</th>\n",
       "      <th>evtID</th>\n",
       "    </tr>\n",
       "  </thead>\n",
       "  <tbody>\n",
       "    <tr>\n",
       "      <th>0</th>\n",
       "      <td>13554.038</td>\n",
       "      <td>13554.038</td>\n",
       "      <td>16000</td>\n",
       "    </tr>\n",
       "    <tr>\n",
       "      <th>1</th>\n",
       "      <td>15458.701</td>\n",
       "      <td>15458.701</td>\n",
       "      <td>16001</td>\n",
       "    </tr>\n",
       "    <tr>\n",
       "      <th>2</th>\n",
       "      <td>8600.067</td>\n",
       "      <td>8600.067</td>\n",
       "      <td>16002</td>\n",
       "    </tr>\n",
       "  </tbody>\n",
       "</table>\n",
       "</div>"
      ],
      "text/plain": [
       "           E          R  evtID\n",
       "0  13554.038  13554.038  16000\n",
       "1  15458.701  15458.701  16001\n",
       "2   8600.067   8600.067  16002"
      ]
     },
     "execution_count": 112,
     "metadata": {},
     "output_type": "execute_result"
    }
   ],
   "source": [
    "forR[:3]"
   ]
  },
  {
   "cell_type": "code",
   "execution_count": 113,
   "metadata": {},
   "outputs": [],
   "source": [
    "x = te_lpmt_hits[\"event\"].unique()\n",
    "pred = pd.DataFrame({\n",
    "            \"evtID\": x,\n",
    "            \"R\": forR['R'],\n",
    "            \"E\": test_answer[:,0]\n",
    "    })"
   ]
  },
  {
   "cell_type": "code",
   "execution_count": 114,
   "metadata": {},
   "outputs": [
    {
     "data": {
      "text/html": [
       "<div>\n",
       "<style scoped>\n",
       "    .dataframe tbody tr th:only-of-type {\n",
       "        vertical-align: middle;\n",
       "    }\n",
       "\n",
       "    .dataframe tbody tr th {\n",
       "        vertical-align: top;\n",
       "    }\n",
       "\n",
       "    .dataframe thead th {\n",
       "        text-align: right;\n",
       "    }\n",
       "</style>\n",
       "<table border=\"1\" class=\"dataframe\">\n",
       "  <thead>\n",
       "    <tr style=\"text-align: right;\">\n",
       "      <th></th>\n",
       "      <th>E</th>\n",
       "      <th>R</th>\n",
       "      <th>evtID</th>\n",
       "    </tr>\n",
       "  </thead>\n",
       "  <tbody>\n",
       "    <tr>\n",
       "      <th>0</th>\n",
       "      <td>3.148682</td>\n",
       "      <td>13554.038</td>\n",
       "      <td>16000</td>\n",
       "    </tr>\n",
       "    <tr>\n",
       "      <th>1</th>\n",
       "      <td>6.865488</td>\n",
       "      <td>15458.701</td>\n",
       "      <td>16001</td>\n",
       "    </tr>\n",
       "    <tr>\n",
       "      <th>2</th>\n",
       "      <td>2.481380</td>\n",
       "      <td>8600.067</td>\n",
       "      <td>16002</td>\n",
       "    </tr>\n",
       "  </tbody>\n",
       "</table>\n",
       "</div>"
      ],
      "text/plain": [
       "          E          R  evtID\n",
       "0  3.148682  13554.038  16000\n",
       "1  6.865488  15458.701  16001\n",
       "2  2.481380   8600.067  16002"
      ]
     },
     "execution_count": 114,
     "metadata": {},
     "output_type": "execute_result"
    }
   ],
   "source": [
    "pred[:3]"
   ]
  },
  {
   "cell_type": "code",
   "execution_count": 115,
   "metadata": {},
   "outputs": [],
   "source": [
    "pred.to_csv('./submissions/03_02_mix.csv', index=None)"
   ]
  },
  {
   "cell_type": "code",
   "execution_count": 109,
   "metadata": {},
   "outputs": [
    {
     "data": {
      "text/plain": [
       "0.10578900484730176"
      ]
     },
     "execution_count": 109,
     "metadata": {},
     "output_type": "execute_result"
    }
   ],
   "source": [
    "test_resultsE"
   ]
  },
  {
   "cell_type": "code",
   "execution_count": 112,
   "metadata": {},
   "outputs": [
    {
     "data": {
      "text/plain": [
       "array([ 0.07827002,  0.16265111,  0.09557195, ...,  0.29406197,\n",
       "        0.4023328 , -0.02289935])"
      ]
     },
     "execution_count": 112,
     "metadata": {},
     "output_type": "execute_result"
    }
   ],
   "source": [
    "np.maximum(preds[:,0], 0) - y_test[:,0]"
   ]
  },
  {
   "cell_type": "code",
   "execution_count": 119,
   "metadata": {},
   "outputs": [
    {
     "data": {
      "text/plain": [
       "Text(0.5,0,'Energy error, mEv')"
      ]
     },
     "execution_count": 119,
     "metadata": {},
     "output_type": "execute_result"
    },
    {
     "data": {
      "image/png": "[encoded data removed]",
      "text/plain": [
       "<Figure size 432x288 with 1 Axes>"
      ]
     },
     "metadata": {},
     "output_type": "display_data"
    }
   ],
   "source": [
    "sns.distplot(np.maximum(preds[:,0], 0) - y_test[:,0], kde=False, fit=stats.norm, bins=300)\n",
    "plt.xlim((-2,2))\n",
    "plt.xlabel(\"Energy error, mEv\")"
   ]
  },
  {
   "cell_type": "code",
   "execution_count": 122,
   "metadata": {},
   "outputs": [
    {
     "data": {
      "text/plain": [
       "0.012328221320621629"
      ]
     },
     "execution_count": 122,
     "metadata": {},
     "output_type": "execute_result"
    }
   ],
   "source": [
    "(preds-y_test).mean() / y_test.mean()"
   ]
  },
  {
   "cell_type": "code",
   "execution_count": 49,
   "metadata": {},
   "outputs": [
    {
     "data": {
      "text/plain": [
       "40.478805095559686"
      ]
     },
     "execution_count": 49,
     "metadata": {},
     "output_type": "execute_result"
    }
   ],
   "source": [
    "test_results.mean() / 10"
   ]
  },
  {
   "cell_type": "code",
   "execution_count": 53,
   "metadata": {},
   "outputs": [],
   "source": [
    "results = model.predict(X_test)"
   ]
  },
  {
   "cell_type": "code",
   "execution_count": 54,
   "metadata": {},
   "outputs": [],
   "source": [
    "xs = results[:,0] - y_test[:,0]"
   ]
  },
  {
   "cell_type": "code",
   "execution_count": 57,
   "metadata": {},
   "outputs": [
    {
     "data": {
      "text/plain": [
       "(-1000, 1000)"
      ]
     },
     "execution_count": 57,
     "metadata": {},
     "output_type": "execute_result"
    },
    {
     "data": {
      "image/png": "[encoded data removed]",
      "text/plain": [
       "<Figure size 432x288 with 1 Axes>"
      ]
     },
     "metadata": {},
     "output_type": "display_data"
    }
   ],
   "source": [
    "sns.distplot(xs, kde=False, fit=stats.norm, bins=100)\n",
    "plt.xlim(-1000,1000)"
   ]
  },
  {
   "cell_type": "code",
   "execution_count": 59,
   "metadata": {},
   "outputs": [
    {
     "data": {
      "text/plain": [
       "21.422522304369796"
      ]
     },
     "execution_count": 59,
     "metadata": {},
     "output_type": "execute_result"
    }
   ],
   "source": [
    "abs(xs).mean()/10"
   ]
  },
  {
   "cell_type": "code",
   "execution_count": null,
   "metadata": {},
   "outputs": [],
   "source": [
    "#json_file = open('model.json', 'r')\n",
    "#loaded_model_json = json_file.read()\n",
    "#json_file.close()\n",
    "#loaded_model = model_from_json(loaded_model_json)\n",
    "## load weights into new model\n",
    "#loaded_model.load_weights(\"model.h5\")\n",
    "#print(\"Loaded model from disk\")\n",
    "# \n",
    "## evaluate loaded model on test data\n",
    "#loaded_model.compile(loss='binary_crossentropy', optimizer='rmsprop', metrics=['accuracy'])\n",
    "#score = loaded_model.evaluate(X, Y, verbose=0)"
   ]
  },
  {
   "cell_type": "code",
   "execution_count": null,
   "metadata": {},
   "outputs": [],
   "source": [
    "# Adversarial example с нормальным текстом\n",
    "# Кэширование перевода\n",
    "# Bert в телефоне"
   ]
  }
 ],
 "metadata": {
  "kernelspec": {
   "display_name": "Python 3",
   "language": "python",
   "name": "python3"
  },
  "language_info": {
   "codemirror_mode": {
    "name": "ipython",
    "version": 3
   },
   "file_extension": ".py",
   "mimetype": "text/x-python",
   "name": "python",
   "nbconvert_exporter": "python",
   "pygments_lexer": "ipython3",
   "version": "3.5.6"
  }
 },
 "nbformat": 4,
 "nbformat_minor": 2
}
